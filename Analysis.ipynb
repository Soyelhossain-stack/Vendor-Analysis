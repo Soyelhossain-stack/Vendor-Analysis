{
 "cells": [
  {
   "cell_type": "markdown",
   "id": "ac67aa38",
   "metadata": {},
   "source": [
    "### Exploratory Data Analysis"
   ]
  },
  {
   "cell_type": "code",
   "execution_count": null,
   "id": "b9f9b868",
   "metadata": {},
   "outputs": [],
   "source": [
    "import pandas as pd\n",
    "import sqlite3\n",
    "import logging\n",
    "\n",
    "logging.basicConfig(\n",
    "    filename= 'logs/vendor_summary.log',\n",
    "    level= logging.DEBUG,\n",
    "    format= \" %(asctime)s - %(levelname)s - %(message)s \",\n",
    "    filemode= 'a'\n",
    ")"
   ]
  },
  {
   "cell_type": "code",
   "execution_count": 2,
   "id": "c331faab",
   "metadata": {},
   "outputs": [],
   "source": [
    "# Creating Database connection\n",
    "conn = sqlite3.connect('inventory.db')"
   ]
  },
  {
   "cell_type": "code",
   "execution_count": 3,
   "id": "e0cd1dc6",
   "metadata": {},
   "outputs": [
    {
     "data": {
      "text/html": [
       "<div>\n",
       "<style scoped>\n",
       "    .dataframe tbody tr th:only-of-type {\n",
       "        vertical-align: middle;\n",
       "    }\n",
       "\n",
       "    .dataframe tbody tr th {\n",
       "        vertical-align: top;\n",
       "    }\n",
       "\n",
       "    .dataframe thead th {\n",
       "        text-align: right;\n",
       "    }\n",
       "</style>\n",
       "<table border=\"1\" class=\"dataframe\">\n",
       "  <thead>\n",
       "    <tr style=\"text-align: right;\">\n",
       "      <th></th>\n",
       "      <th>name</th>\n",
       "    </tr>\n",
       "  </thead>\n",
       "  <tbody>\n",
       "    <tr>\n",
       "      <th>0</th>\n",
       "      <td>begin_inventory</td>\n",
       "    </tr>\n",
       "    <tr>\n",
       "      <th>1</th>\n",
       "      <td>end_inventory</td>\n",
       "    </tr>\n",
       "    <tr>\n",
       "      <th>2</th>\n",
       "      <td>purchases</td>\n",
       "    </tr>\n",
       "    <tr>\n",
       "      <th>3</th>\n",
       "      <td>purchase_prices</td>\n",
       "    </tr>\n",
       "    <tr>\n",
       "      <th>4</th>\n",
       "      <td>sales</td>\n",
       "    </tr>\n",
       "    <tr>\n",
       "      <th>5</th>\n",
       "      <td>vendor_invoice</td>\n",
       "    </tr>\n",
       "  </tbody>\n",
       "</table>\n",
       "</div>"
      ],
      "text/plain": [
       "              name\n",
       "0  begin_inventory\n",
       "1    end_inventory\n",
       "2        purchases\n",
       "3  purchase_prices\n",
       "4            sales\n",
       "5   vendor_invoice"
      ]
     },
     "execution_count": 3,
     "metadata": {},
     "output_type": "execute_result"
    }
   ],
   "source": [
    "tables= pd.read_sql_query(\"SELECT name FROM sqlite_master WHERE TYPE = 'table'\", conn)\n",
    "tables"
   ]
  },
  {
   "cell_type": "code",
   "execution_count": 4,
   "id": "11aab8a8",
   "metadata": {},
   "outputs": [
    {
     "name": "stdout",
     "output_type": "stream",
     "text": [
      "-------------------------------------------------- begin_inventory --------------------------------------------------\n",
      "Count of records: 206529\n"
     ]
    },
    {
     "data": {
      "text/html": [
       "<div>\n",
       "<style scoped>\n",
       "    .dataframe tbody tr th:only-of-type {\n",
       "        vertical-align: middle;\n",
       "    }\n",
       "\n",
       "    .dataframe tbody tr th {\n",
       "        vertical-align: top;\n",
       "    }\n",
       "\n",
       "    .dataframe thead th {\n",
       "        text-align: right;\n",
       "    }\n",
       "</style>\n",
       "<table border=\"1\" class=\"dataframe\">\n",
       "  <thead>\n",
       "    <tr style=\"text-align: right;\">\n",
       "      <th></th>\n",
       "      <th>InventoryId</th>\n",
       "      <th>Store</th>\n",
       "      <th>City</th>\n",
       "      <th>Brand</th>\n",
       "      <th>Description</th>\n",
       "      <th>Size</th>\n",
       "      <th>onHand</th>\n",
       "      <th>Price</th>\n",
       "      <th>startDate</th>\n",
       "    </tr>\n",
       "  </thead>\n",
       "  <tbody>\n",
       "    <tr>\n",
       "      <th>0</th>\n",
       "      <td>1_HARDERSFIELD_58</td>\n",
       "      <td>1</td>\n",
       "      <td>HARDERSFIELD</td>\n",
       "      <td>58</td>\n",
       "      <td>Gekkeikan Black &amp; Gold Sake</td>\n",
       "      <td>750mL</td>\n",
       "      <td>8</td>\n",
       "      <td>12.99</td>\n",
       "      <td>2024-01-01</td>\n",
       "    </tr>\n",
       "    <tr>\n",
       "      <th>1</th>\n",
       "      <td>1_HARDERSFIELD_60</td>\n",
       "      <td>1</td>\n",
       "      <td>HARDERSFIELD</td>\n",
       "      <td>60</td>\n",
       "      <td>Canadian Club 1858 VAP</td>\n",
       "      <td>750mL</td>\n",
       "      <td>7</td>\n",
       "      <td>10.99</td>\n",
       "      <td>2024-01-01</td>\n",
       "    </tr>\n",
       "    <tr>\n",
       "      <th>2</th>\n",
       "      <td>1_HARDERSFIELD_62</td>\n",
       "      <td>1</td>\n",
       "      <td>HARDERSFIELD</td>\n",
       "      <td>62</td>\n",
       "      <td>Herradura Silver Tequila</td>\n",
       "      <td>750mL</td>\n",
       "      <td>6</td>\n",
       "      <td>36.99</td>\n",
       "      <td>2024-01-01</td>\n",
       "    </tr>\n",
       "    <tr>\n",
       "      <th>3</th>\n",
       "      <td>1_HARDERSFIELD_63</td>\n",
       "      <td>1</td>\n",
       "      <td>HARDERSFIELD</td>\n",
       "      <td>63</td>\n",
       "      <td>Herradura Reposado Tequila</td>\n",
       "      <td>750mL</td>\n",
       "      <td>3</td>\n",
       "      <td>38.99</td>\n",
       "      <td>2024-01-01</td>\n",
       "    </tr>\n",
       "    <tr>\n",
       "      <th>4</th>\n",
       "      <td>1_HARDERSFIELD_72</td>\n",
       "      <td>1</td>\n",
       "      <td>HARDERSFIELD</td>\n",
       "      <td>72</td>\n",
       "      <td>No. 3 London Dry Gin</td>\n",
       "      <td>750mL</td>\n",
       "      <td>6</td>\n",
       "      <td>34.99</td>\n",
       "      <td>2024-01-01</td>\n",
       "    </tr>\n",
       "  </tbody>\n",
       "</table>\n",
       "</div>"
      ],
      "text/plain": [
       "         InventoryId  Store          City  Brand                  Description  \\\n",
       "0  1_HARDERSFIELD_58      1  HARDERSFIELD     58  Gekkeikan Black & Gold Sake   \n",
       "1  1_HARDERSFIELD_60      1  HARDERSFIELD     60       Canadian Club 1858 VAP   \n",
       "2  1_HARDERSFIELD_62      1  HARDERSFIELD     62     Herradura Silver Tequila   \n",
       "3  1_HARDERSFIELD_63      1  HARDERSFIELD     63   Herradura Reposado Tequila   \n",
       "4  1_HARDERSFIELD_72      1  HARDERSFIELD     72         No. 3 London Dry Gin   \n",
       "\n",
       "    Size  onHand  Price   startDate  \n",
       "0  750mL       8  12.99  2024-01-01  \n",
       "1  750mL       7  10.99  2024-01-01  \n",
       "2  750mL       6  36.99  2024-01-01  \n",
       "3  750mL       3  38.99  2024-01-01  \n",
       "4  750mL       6  34.99  2024-01-01  "
      ]
     },
     "metadata": {},
     "output_type": "display_data"
    },
    {
     "name": "stdout",
     "output_type": "stream",
     "text": [
      "-------------------------------------------------- end_inventory --------------------------------------------------\n",
      "Count of records: 224489\n"
     ]
    },
    {
     "data": {
      "text/html": [
       "<div>\n",
       "<style scoped>\n",
       "    .dataframe tbody tr th:only-of-type {\n",
       "        vertical-align: middle;\n",
       "    }\n",
       "\n",
       "    .dataframe tbody tr th {\n",
       "        vertical-align: top;\n",
       "    }\n",
       "\n",
       "    .dataframe thead th {\n",
       "        text-align: right;\n",
       "    }\n",
       "</style>\n",
       "<table border=\"1\" class=\"dataframe\">\n",
       "  <thead>\n",
       "    <tr style=\"text-align: right;\">\n",
       "      <th></th>\n",
       "      <th>InventoryId</th>\n",
       "      <th>Store</th>\n",
       "      <th>City</th>\n",
       "      <th>Brand</th>\n",
       "      <th>Description</th>\n",
       "      <th>Size</th>\n",
       "      <th>onHand</th>\n",
       "      <th>Price</th>\n",
       "      <th>endDate</th>\n",
       "    </tr>\n",
       "  </thead>\n",
       "  <tbody>\n",
       "    <tr>\n",
       "      <th>0</th>\n",
       "      <td>1_HARDERSFIELD_58</td>\n",
       "      <td>1</td>\n",
       "      <td>HARDERSFIELD</td>\n",
       "      <td>58</td>\n",
       "      <td>Gekkeikan Black &amp; Gold Sake</td>\n",
       "      <td>750mL</td>\n",
       "      <td>11</td>\n",
       "      <td>12.99</td>\n",
       "      <td>2024-12-31</td>\n",
       "    </tr>\n",
       "    <tr>\n",
       "      <th>1</th>\n",
       "      <td>1_HARDERSFIELD_62</td>\n",
       "      <td>1</td>\n",
       "      <td>HARDERSFIELD</td>\n",
       "      <td>62</td>\n",
       "      <td>Herradura Silver Tequila</td>\n",
       "      <td>750mL</td>\n",
       "      <td>7</td>\n",
       "      <td>36.99</td>\n",
       "      <td>2024-12-31</td>\n",
       "    </tr>\n",
       "    <tr>\n",
       "      <th>2</th>\n",
       "      <td>1_HARDERSFIELD_63</td>\n",
       "      <td>1</td>\n",
       "      <td>HARDERSFIELD</td>\n",
       "      <td>63</td>\n",
       "      <td>Herradura Reposado Tequila</td>\n",
       "      <td>750mL</td>\n",
       "      <td>7</td>\n",
       "      <td>38.99</td>\n",
       "      <td>2024-12-31</td>\n",
       "    </tr>\n",
       "    <tr>\n",
       "      <th>3</th>\n",
       "      <td>1_HARDERSFIELD_72</td>\n",
       "      <td>1</td>\n",
       "      <td>HARDERSFIELD</td>\n",
       "      <td>72</td>\n",
       "      <td>No. 3 London Dry Gin</td>\n",
       "      <td>750mL</td>\n",
       "      <td>4</td>\n",
       "      <td>34.99</td>\n",
       "      <td>2024-12-31</td>\n",
       "    </tr>\n",
       "    <tr>\n",
       "      <th>4</th>\n",
       "      <td>1_HARDERSFIELD_75</td>\n",
       "      <td>1</td>\n",
       "      <td>HARDERSFIELD</td>\n",
       "      <td>75</td>\n",
       "      <td>Three Olives Tomato Vodka</td>\n",
       "      <td>750mL</td>\n",
       "      <td>7</td>\n",
       "      <td>14.99</td>\n",
       "      <td>2024-12-31</td>\n",
       "    </tr>\n",
       "  </tbody>\n",
       "</table>\n",
       "</div>"
      ],
      "text/plain": [
       "         InventoryId  Store          City  Brand                  Description  \\\n",
       "0  1_HARDERSFIELD_58      1  HARDERSFIELD     58  Gekkeikan Black & Gold Sake   \n",
       "1  1_HARDERSFIELD_62      1  HARDERSFIELD     62     Herradura Silver Tequila   \n",
       "2  1_HARDERSFIELD_63      1  HARDERSFIELD     63   Herradura Reposado Tequila   \n",
       "3  1_HARDERSFIELD_72      1  HARDERSFIELD     72         No. 3 London Dry Gin   \n",
       "4  1_HARDERSFIELD_75      1  HARDERSFIELD     75    Three Olives Tomato Vodka   \n",
       "\n",
       "    Size  onHand  Price     endDate  \n",
       "0  750mL      11  12.99  2024-12-31  \n",
       "1  750mL       7  36.99  2024-12-31  \n",
       "2  750mL       7  38.99  2024-12-31  \n",
       "3  750mL       4  34.99  2024-12-31  \n",
       "4  750mL       7  14.99  2024-12-31  "
      ]
     },
     "metadata": {},
     "output_type": "display_data"
    },
    {
     "name": "stdout",
     "output_type": "stream",
     "text": [
      "-------------------------------------------------- purchases --------------------------------------------------\n",
      "Count of records: 2372474\n"
     ]
    },
    {
     "data": {
      "text/html": [
       "<div>\n",
       "<style scoped>\n",
       "    .dataframe tbody tr th:only-of-type {\n",
       "        vertical-align: middle;\n",
       "    }\n",
       "\n",
       "    .dataframe tbody tr th {\n",
       "        vertical-align: top;\n",
       "    }\n",
       "\n",
       "    .dataframe thead th {\n",
       "        text-align: right;\n",
       "    }\n",
       "</style>\n",
       "<table border=\"1\" class=\"dataframe\">\n",
       "  <thead>\n",
       "    <tr style=\"text-align: right;\">\n",
       "      <th></th>\n",
       "      <th>InventoryId</th>\n",
       "      <th>Store</th>\n",
       "      <th>Brand</th>\n",
       "      <th>Description</th>\n",
       "      <th>Size</th>\n",
       "      <th>VendorNumber</th>\n",
       "      <th>VendorName</th>\n",
       "      <th>PONumber</th>\n",
       "      <th>PODate</th>\n",
       "      <th>ReceivingDate</th>\n",
       "      <th>InvoiceDate</th>\n",
       "      <th>PayDate</th>\n",
       "      <th>PurchasePrice</th>\n",
       "      <th>Quantity</th>\n",
       "      <th>Dollars</th>\n",
       "      <th>Classification</th>\n",
       "    </tr>\n",
       "  </thead>\n",
       "  <tbody>\n",
       "    <tr>\n",
       "      <th>0</th>\n",
       "      <td>69_MOUNTMEND_8412</td>\n",
       "      <td>69</td>\n",
       "      <td>8412</td>\n",
       "      <td>Tequila Ocho Plata Fresno</td>\n",
       "      <td>750mL</td>\n",
       "      <td>105</td>\n",
       "      <td>ALTAMAR BRANDS LLC</td>\n",
       "      <td>8124</td>\n",
       "      <td>2023-12-21</td>\n",
       "      <td>2024-01-02</td>\n",
       "      <td>2024-01-04</td>\n",
       "      <td>2024-02-16</td>\n",
       "      <td>35.71</td>\n",
       "      <td>6</td>\n",
       "      <td>214.26</td>\n",
       "      <td>1</td>\n",
       "    </tr>\n",
       "    <tr>\n",
       "      <th>1</th>\n",
       "      <td>30_CULCHETH_5255</td>\n",
       "      <td>30</td>\n",
       "      <td>5255</td>\n",
       "      <td>TGI Fridays Ultimte Mudslide</td>\n",
       "      <td>1.75L</td>\n",
       "      <td>4466</td>\n",
       "      <td>AMERICAN VINTAGE BEVERAGE</td>\n",
       "      <td>8137</td>\n",
       "      <td>2023-12-22</td>\n",
       "      <td>2024-01-01</td>\n",
       "      <td>2024-01-07</td>\n",
       "      <td>2024-02-21</td>\n",
       "      <td>9.35</td>\n",
       "      <td>4</td>\n",
       "      <td>37.40</td>\n",
       "      <td>1</td>\n",
       "    </tr>\n",
       "    <tr>\n",
       "      <th>2</th>\n",
       "      <td>34_PITMERDEN_5215</td>\n",
       "      <td>34</td>\n",
       "      <td>5215</td>\n",
       "      <td>TGI Fridays Long Island Iced</td>\n",
       "      <td>1.75L</td>\n",
       "      <td>4466</td>\n",
       "      <td>AMERICAN VINTAGE BEVERAGE</td>\n",
       "      <td>8137</td>\n",
       "      <td>2023-12-22</td>\n",
       "      <td>2024-01-02</td>\n",
       "      <td>2024-01-07</td>\n",
       "      <td>2024-02-21</td>\n",
       "      <td>9.41</td>\n",
       "      <td>5</td>\n",
       "      <td>47.05</td>\n",
       "      <td>1</td>\n",
       "    </tr>\n",
       "    <tr>\n",
       "      <th>3</th>\n",
       "      <td>1_HARDERSFIELD_5255</td>\n",
       "      <td>1</td>\n",
       "      <td>5255</td>\n",
       "      <td>TGI Fridays Ultimte Mudslide</td>\n",
       "      <td>1.75L</td>\n",
       "      <td>4466</td>\n",
       "      <td>AMERICAN VINTAGE BEVERAGE</td>\n",
       "      <td>8137</td>\n",
       "      <td>2023-12-22</td>\n",
       "      <td>2024-01-01</td>\n",
       "      <td>2024-01-07</td>\n",
       "      <td>2024-02-21</td>\n",
       "      <td>9.35</td>\n",
       "      <td>6</td>\n",
       "      <td>56.10</td>\n",
       "      <td>1</td>\n",
       "    </tr>\n",
       "    <tr>\n",
       "      <th>4</th>\n",
       "      <td>76_DONCASTER_2034</td>\n",
       "      <td>76</td>\n",
       "      <td>2034</td>\n",
       "      <td>Glendalough Double Barrel</td>\n",
       "      <td>750mL</td>\n",
       "      <td>388</td>\n",
       "      <td>ATLANTIC IMPORTING COMPANY</td>\n",
       "      <td>8169</td>\n",
       "      <td>2023-12-24</td>\n",
       "      <td>2024-01-02</td>\n",
       "      <td>2024-01-09</td>\n",
       "      <td>2024-02-16</td>\n",
       "      <td>21.32</td>\n",
       "      <td>5</td>\n",
       "      <td>106.60</td>\n",
       "      <td>1</td>\n",
       "    </tr>\n",
       "  </tbody>\n",
       "</table>\n",
       "</div>"
      ],
      "text/plain": [
       "           InventoryId  Store  Brand                   Description   Size  \\\n",
       "0    69_MOUNTMEND_8412     69   8412     Tequila Ocho Plata Fresno  750mL   \n",
       "1     30_CULCHETH_5255     30   5255  TGI Fridays Ultimte Mudslide  1.75L   \n",
       "2    34_PITMERDEN_5215     34   5215  TGI Fridays Long Island Iced  1.75L   \n",
       "3  1_HARDERSFIELD_5255      1   5255  TGI Fridays Ultimte Mudslide  1.75L   \n",
       "4    76_DONCASTER_2034     76   2034     Glendalough Double Barrel  750mL   \n",
       "\n",
       "   VendorNumber                   VendorName  PONumber      PODate  \\\n",
       "0           105  ALTAMAR BRANDS LLC               8124  2023-12-21   \n",
       "1          4466  AMERICAN VINTAGE BEVERAGE        8137  2023-12-22   \n",
       "2          4466  AMERICAN VINTAGE BEVERAGE        8137  2023-12-22   \n",
       "3          4466  AMERICAN VINTAGE BEVERAGE        8137  2023-12-22   \n",
       "4           388  ATLANTIC IMPORTING COMPANY       8169  2023-12-24   \n",
       "\n",
       "  ReceivingDate InvoiceDate     PayDate  PurchasePrice  Quantity  Dollars  \\\n",
       "0    2024-01-02  2024-01-04  2024-02-16          35.71         6   214.26   \n",
       "1    2024-01-01  2024-01-07  2024-02-21           9.35         4    37.40   \n",
       "2    2024-01-02  2024-01-07  2024-02-21           9.41         5    47.05   \n",
       "3    2024-01-01  2024-01-07  2024-02-21           9.35         6    56.10   \n",
       "4    2024-01-02  2024-01-09  2024-02-16          21.32         5   106.60   \n",
       "\n",
       "   Classification  \n",
       "0               1  \n",
       "1               1  \n",
       "2               1  \n",
       "3               1  \n",
       "4               1  "
      ]
     },
     "metadata": {},
     "output_type": "display_data"
    },
    {
     "name": "stdout",
     "output_type": "stream",
     "text": [
      "-------------------------------------------------- purchase_prices --------------------------------------------------\n",
      "Count of records: 12261\n"
     ]
    },
    {
     "data": {
      "text/html": [
       "<div>\n",
       "<style scoped>\n",
       "    .dataframe tbody tr th:only-of-type {\n",
       "        vertical-align: middle;\n",
       "    }\n",
       "\n",
       "    .dataframe tbody tr th {\n",
       "        vertical-align: top;\n",
       "    }\n",
       "\n",
       "    .dataframe thead th {\n",
       "        text-align: right;\n",
       "    }\n",
       "</style>\n",
       "<table border=\"1\" class=\"dataframe\">\n",
       "  <thead>\n",
       "    <tr style=\"text-align: right;\">\n",
       "      <th></th>\n",
       "      <th>Brand</th>\n",
       "      <th>Description</th>\n",
       "      <th>Price</th>\n",
       "      <th>Size</th>\n",
       "      <th>Volume</th>\n",
       "      <th>Classification</th>\n",
       "      <th>PurchasePrice</th>\n",
       "      <th>VendorNumber</th>\n",
       "      <th>VendorName</th>\n",
       "    </tr>\n",
       "  </thead>\n",
       "  <tbody>\n",
       "    <tr>\n",
       "      <th>0</th>\n",
       "      <td>58</td>\n",
       "      <td>Gekkeikan Black &amp; Gold Sake</td>\n",
       "      <td>12.99</td>\n",
       "      <td>750mL</td>\n",
       "      <td>750</td>\n",
       "      <td>1</td>\n",
       "      <td>9.28</td>\n",
       "      <td>8320</td>\n",
       "      <td>SHAW ROSS INT L IMP LTD</td>\n",
       "    </tr>\n",
       "    <tr>\n",
       "      <th>1</th>\n",
       "      <td>62</td>\n",
       "      <td>Herradura Silver Tequila</td>\n",
       "      <td>36.99</td>\n",
       "      <td>750mL</td>\n",
       "      <td>750</td>\n",
       "      <td>1</td>\n",
       "      <td>28.67</td>\n",
       "      <td>1128</td>\n",
       "      <td>BROWN-FORMAN CORP</td>\n",
       "    </tr>\n",
       "    <tr>\n",
       "      <th>2</th>\n",
       "      <td>63</td>\n",
       "      <td>Herradura Reposado Tequila</td>\n",
       "      <td>38.99</td>\n",
       "      <td>750mL</td>\n",
       "      <td>750</td>\n",
       "      <td>1</td>\n",
       "      <td>30.46</td>\n",
       "      <td>1128</td>\n",
       "      <td>BROWN-FORMAN CORP</td>\n",
       "    </tr>\n",
       "    <tr>\n",
       "      <th>3</th>\n",
       "      <td>72</td>\n",
       "      <td>No. 3 London Dry Gin</td>\n",
       "      <td>34.99</td>\n",
       "      <td>750mL</td>\n",
       "      <td>750</td>\n",
       "      <td>1</td>\n",
       "      <td>26.11</td>\n",
       "      <td>9165</td>\n",
       "      <td>ULTRA BEVERAGE COMPANY LLP</td>\n",
       "    </tr>\n",
       "    <tr>\n",
       "      <th>4</th>\n",
       "      <td>75</td>\n",
       "      <td>Three Olives Tomato Vodka</td>\n",
       "      <td>14.99</td>\n",
       "      <td>750mL</td>\n",
       "      <td>750</td>\n",
       "      <td>1</td>\n",
       "      <td>10.94</td>\n",
       "      <td>7245</td>\n",
       "      <td>PROXIMO SPIRITS INC.</td>\n",
       "    </tr>\n",
       "  </tbody>\n",
       "</table>\n",
       "</div>"
      ],
      "text/plain": [
       "   Brand                  Description  Price   Size Volume  Classification  \\\n",
       "0     58  Gekkeikan Black & Gold Sake  12.99  750mL    750               1   \n",
       "1     62     Herradura Silver Tequila  36.99  750mL    750               1   \n",
       "2     63   Herradura Reposado Tequila  38.99  750mL    750               1   \n",
       "3     72         No. 3 London Dry Gin  34.99  750mL    750               1   \n",
       "4     75    Three Olives Tomato Vodka  14.99  750mL    750               1   \n",
       "\n",
       "   PurchasePrice  VendorNumber                   VendorName  \n",
       "0           9.28          8320  SHAW ROSS INT L IMP LTD      \n",
       "1          28.67          1128  BROWN-FORMAN CORP            \n",
       "2          30.46          1128  BROWN-FORMAN CORP            \n",
       "3          26.11          9165  ULTRA BEVERAGE COMPANY LLP   \n",
       "4          10.94          7245  PROXIMO SPIRITS INC.         "
      ]
     },
     "metadata": {},
     "output_type": "display_data"
    },
    {
     "name": "stdout",
     "output_type": "stream",
     "text": [
      "-------------------------------------------------- sales --------------------------------------------------\n",
      "Count of records: 12825363\n"
     ]
    },
    {
     "data": {
      "text/html": [
       "<div>\n",
       "<style scoped>\n",
       "    .dataframe tbody tr th:only-of-type {\n",
       "        vertical-align: middle;\n",
       "    }\n",
       "\n",
       "    .dataframe tbody tr th {\n",
       "        vertical-align: top;\n",
       "    }\n",
       "\n",
       "    .dataframe thead th {\n",
       "        text-align: right;\n",
       "    }\n",
       "</style>\n",
       "<table border=\"1\" class=\"dataframe\">\n",
       "  <thead>\n",
       "    <tr style=\"text-align: right;\">\n",
       "      <th></th>\n",
       "      <th>InventoryId</th>\n",
       "      <th>Store</th>\n",
       "      <th>Brand</th>\n",
       "      <th>Description</th>\n",
       "      <th>Size</th>\n",
       "      <th>SalesQuantity</th>\n",
       "      <th>SalesDollars</th>\n",
       "      <th>SalesPrice</th>\n",
       "      <th>SalesDate</th>\n",
       "      <th>Volume</th>\n",
       "      <th>Classification</th>\n",
       "      <th>ExciseTax</th>\n",
       "      <th>VendorNo</th>\n",
       "      <th>VendorName</th>\n",
       "    </tr>\n",
       "  </thead>\n",
       "  <tbody>\n",
       "    <tr>\n",
       "      <th>0</th>\n",
       "      <td>1_HARDERSFIELD_1004</td>\n",
       "      <td>1</td>\n",
       "      <td>1004</td>\n",
       "      <td>Jim Beam w/2 Rocks Glasses</td>\n",
       "      <td>750mL</td>\n",
       "      <td>1</td>\n",
       "      <td>16.49</td>\n",
       "      <td>16.49</td>\n",
       "      <td>2024-01-01</td>\n",
       "      <td>750.0</td>\n",
       "      <td>1</td>\n",
       "      <td>0.79</td>\n",
       "      <td>12546</td>\n",
       "      <td>JIM BEAM BRANDS COMPANY</td>\n",
       "    </tr>\n",
       "    <tr>\n",
       "      <th>1</th>\n",
       "      <td>1_HARDERSFIELD_1004</td>\n",
       "      <td>1</td>\n",
       "      <td>1004</td>\n",
       "      <td>Jim Beam w/2 Rocks Glasses</td>\n",
       "      <td>750mL</td>\n",
       "      <td>2</td>\n",
       "      <td>32.98</td>\n",
       "      <td>16.49</td>\n",
       "      <td>2024-01-02</td>\n",
       "      <td>750.0</td>\n",
       "      <td>1</td>\n",
       "      <td>1.57</td>\n",
       "      <td>12546</td>\n",
       "      <td>JIM BEAM BRANDS COMPANY</td>\n",
       "    </tr>\n",
       "    <tr>\n",
       "      <th>2</th>\n",
       "      <td>1_HARDERSFIELD_1004</td>\n",
       "      <td>1</td>\n",
       "      <td>1004</td>\n",
       "      <td>Jim Beam w/2 Rocks Glasses</td>\n",
       "      <td>750mL</td>\n",
       "      <td>1</td>\n",
       "      <td>16.49</td>\n",
       "      <td>16.49</td>\n",
       "      <td>2024-01-03</td>\n",
       "      <td>750.0</td>\n",
       "      <td>1</td>\n",
       "      <td>0.79</td>\n",
       "      <td>12546</td>\n",
       "      <td>JIM BEAM BRANDS COMPANY</td>\n",
       "    </tr>\n",
       "    <tr>\n",
       "      <th>3</th>\n",
       "      <td>1_HARDERSFIELD_1004</td>\n",
       "      <td>1</td>\n",
       "      <td>1004</td>\n",
       "      <td>Jim Beam w/2 Rocks Glasses</td>\n",
       "      <td>750mL</td>\n",
       "      <td>1</td>\n",
       "      <td>14.49</td>\n",
       "      <td>14.49</td>\n",
       "      <td>2024-01-08</td>\n",
       "      <td>750.0</td>\n",
       "      <td>1</td>\n",
       "      <td>0.79</td>\n",
       "      <td>12546</td>\n",
       "      <td>JIM BEAM BRANDS COMPANY</td>\n",
       "    </tr>\n",
       "    <tr>\n",
       "      <th>4</th>\n",
       "      <td>1_HARDERSFIELD_1005</td>\n",
       "      <td>1</td>\n",
       "      <td>1005</td>\n",
       "      <td>Maker's Mark Combo Pack</td>\n",
       "      <td>375mL 2 Pk</td>\n",
       "      <td>2</td>\n",
       "      <td>69.98</td>\n",
       "      <td>34.99</td>\n",
       "      <td>2024-01-09</td>\n",
       "      <td>375.0</td>\n",
       "      <td>1</td>\n",
       "      <td>0.79</td>\n",
       "      <td>12546</td>\n",
       "      <td>JIM BEAM BRANDS COMPANY</td>\n",
       "    </tr>\n",
       "  </tbody>\n",
       "</table>\n",
       "</div>"
      ],
      "text/plain": [
       "           InventoryId  Store  Brand                 Description        Size  \\\n",
       "0  1_HARDERSFIELD_1004      1   1004  Jim Beam w/2 Rocks Glasses       750mL   \n",
       "1  1_HARDERSFIELD_1004      1   1004  Jim Beam w/2 Rocks Glasses       750mL   \n",
       "2  1_HARDERSFIELD_1004      1   1004  Jim Beam w/2 Rocks Glasses       750mL   \n",
       "3  1_HARDERSFIELD_1004      1   1004  Jim Beam w/2 Rocks Glasses       750mL   \n",
       "4  1_HARDERSFIELD_1005      1   1005     Maker's Mark Combo Pack  375mL 2 Pk   \n",
       "\n",
       "   SalesQuantity  SalesDollars  SalesPrice   SalesDate  Volume  \\\n",
       "0              1         16.49       16.49  2024-01-01   750.0   \n",
       "1              2         32.98       16.49  2024-01-02   750.0   \n",
       "2              1         16.49       16.49  2024-01-03   750.0   \n",
       "3              1         14.49       14.49  2024-01-08   750.0   \n",
       "4              2         69.98       34.99  2024-01-09   375.0   \n",
       "\n",
       "   Classification  ExciseTax  VendorNo                   VendorName  \n",
       "0               1       0.79     12546  JIM BEAM BRANDS COMPANY      \n",
       "1               1       1.57     12546  JIM BEAM BRANDS COMPANY      \n",
       "2               1       0.79     12546  JIM BEAM BRANDS COMPANY      \n",
       "3               1       0.79     12546  JIM BEAM BRANDS COMPANY      \n",
       "4               1       0.79     12546  JIM BEAM BRANDS COMPANY      "
      ]
     },
     "metadata": {},
     "output_type": "display_data"
    },
    {
     "name": "stdout",
     "output_type": "stream",
     "text": [
      "-------------------------------------------------- vendor_invoice --------------------------------------------------\n",
      "Count of records: 5543\n"
     ]
    },
    {
     "data": {
      "text/html": [
       "<div>\n",
       "<style scoped>\n",
       "    .dataframe tbody tr th:only-of-type {\n",
       "        vertical-align: middle;\n",
       "    }\n",
       "\n",
       "    .dataframe tbody tr th {\n",
       "        vertical-align: top;\n",
       "    }\n",
       "\n",
       "    .dataframe thead th {\n",
       "        text-align: right;\n",
       "    }\n",
       "</style>\n",
       "<table border=\"1\" class=\"dataframe\">\n",
       "  <thead>\n",
       "    <tr style=\"text-align: right;\">\n",
       "      <th></th>\n",
       "      <th>VendorNumber</th>\n",
       "      <th>VendorName</th>\n",
       "      <th>InvoiceDate</th>\n",
       "      <th>PONumber</th>\n",
       "      <th>PODate</th>\n",
       "      <th>PayDate</th>\n",
       "      <th>Quantity</th>\n",
       "      <th>Dollars</th>\n",
       "      <th>Freight</th>\n",
       "      <th>Approval</th>\n",
       "    </tr>\n",
       "  </thead>\n",
       "  <tbody>\n",
       "    <tr>\n",
       "      <th>0</th>\n",
       "      <td>105</td>\n",
       "      <td>ALTAMAR BRANDS LLC</td>\n",
       "      <td>2024-01-04</td>\n",
       "      <td>8124</td>\n",
       "      <td>2023-12-21</td>\n",
       "      <td>2024-02-16</td>\n",
       "      <td>6</td>\n",
       "      <td>214.26</td>\n",
       "      <td>3.47</td>\n",
       "      <td>None</td>\n",
       "    </tr>\n",
       "    <tr>\n",
       "      <th>1</th>\n",
       "      <td>4466</td>\n",
       "      <td>AMERICAN VINTAGE BEVERAGE</td>\n",
       "      <td>2024-01-07</td>\n",
       "      <td>8137</td>\n",
       "      <td>2023-12-22</td>\n",
       "      <td>2024-02-21</td>\n",
       "      <td>15</td>\n",
       "      <td>140.55</td>\n",
       "      <td>8.57</td>\n",
       "      <td>None</td>\n",
       "    </tr>\n",
       "    <tr>\n",
       "      <th>2</th>\n",
       "      <td>388</td>\n",
       "      <td>ATLANTIC IMPORTING COMPANY</td>\n",
       "      <td>2024-01-09</td>\n",
       "      <td>8169</td>\n",
       "      <td>2023-12-24</td>\n",
       "      <td>2024-02-16</td>\n",
       "      <td>5</td>\n",
       "      <td>106.60</td>\n",
       "      <td>4.61</td>\n",
       "      <td>None</td>\n",
       "    </tr>\n",
       "    <tr>\n",
       "      <th>3</th>\n",
       "      <td>480</td>\n",
       "      <td>BACARDI USA INC</td>\n",
       "      <td>2024-01-12</td>\n",
       "      <td>8106</td>\n",
       "      <td>2023-12-20</td>\n",
       "      <td>2024-02-05</td>\n",
       "      <td>10100</td>\n",
       "      <td>137483.78</td>\n",
       "      <td>2935.20</td>\n",
       "      <td>None</td>\n",
       "    </tr>\n",
       "    <tr>\n",
       "      <th>4</th>\n",
       "      <td>516</td>\n",
       "      <td>BANFI PRODUCTS CORP</td>\n",
       "      <td>2024-01-07</td>\n",
       "      <td>8170</td>\n",
       "      <td>2023-12-24</td>\n",
       "      <td>2024-02-12</td>\n",
       "      <td>1935</td>\n",
       "      <td>15527.25</td>\n",
       "      <td>429.20</td>\n",
       "      <td>None</td>\n",
       "    </tr>\n",
       "  </tbody>\n",
       "</table>\n",
       "</div>"
      ],
      "text/plain": [
       "   VendorNumber                   VendorName InvoiceDate  PONumber  \\\n",
       "0           105  ALTAMAR BRANDS LLC           2024-01-04      8124   \n",
       "1          4466  AMERICAN VINTAGE BEVERAGE    2024-01-07      8137   \n",
       "2           388  ATLANTIC IMPORTING COMPANY   2024-01-09      8169   \n",
       "3           480  BACARDI USA INC              2024-01-12      8106   \n",
       "4           516  BANFI PRODUCTS CORP          2024-01-07      8170   \n",
       "\n",
       "       PODate     PayDate  Quantity    Dollars  Freight Approval  \n",
       "0  2023-12-21  2024-02-16         6     214.26     3.47     None  \n",
       "1  2023-12-22  2024-02-21        15     140.55     8.57     None  \n",
       "2  2023-12-24  2024-02-16         5     106.60     4.61     None  \n",
       "3  2023-12-20  2024-02-05     10100  137483.78  2935.20     None  \n",
       "4  2023-12-24  2024-02-12      1935   15527.25   429.20     None  "
      ]
     },
     "metadata": {},
     "output_type": "display_data"
    }
   ],
   "source": [
    "for table in tables['name']:\n",
    "    print('-'*50, f'{table}', '-'*50)\n",
    "    print('Count of records:', pd.read_sql(f\"SELECT count(*) as count FROM {table}\", conn)['count'].values[0])\n",
    "    display(pd.read_sql(f\"SELECT * FROM {table} LIMIT 5\", conn))"
   ]
  },
  {
   "cell_type": "markdown",
   "id": "4425fb9a",
   "metadata": {},
   "source": [
    "##### Let's take One vendor to explore the data. We'll se how the vendor records are stored in the tables.\n",
    "\n",
    "In this Case we'll explore the vendor no `4466`\n"
   ]
  },
  {
   "cell_type": "code",
   "execution_count": 5,
   "id": "dcb9abc3",
   "metadata": {},
   "outputs": [
    {
     "data": {
      "text/html": [
       "<div>\n",
       "<style scoped>\n",
       "    .dataframe tbody tr th:only-of-type {\n",
       "        vertical-align: middle;\n",
       "    }\n",
       "\n",
       "    .dataframe tbody tr th {\n",
       "        vertical-align: top;\n",
       "    }\n",
       "\n",
       "    .dataframe thead th {\n",
       "        text-align: right;\n",
       "    }\n",
       "</style>\n",
       "<table border=\"1\" class=\"dataframe\">\n",
       "  <thead>\n",
       "    <tr style=\"text-align: right;\">\n",
       "      <th></th>\n",
       "      <th>InventoryId</th>\n",
       "      <th>Store</th>\n",
       "      <th>Brand</th>\n",
       "      <th>Description</th>\n",
       "      <th>Size</th>\n",
       "      <th>VendorNumber</th>\n",
       "      <th>VendorName</th>\n",
       "      <th>PONumber</th>\n",
       "      <th>PODate</th>\n",
       "      <th>ReceivingDate</th>\n",
       "      <th>InvoiceDate</th>\n",
       "      <th>PayDate</th>\n",
       "      <th>PurchasePrice</th>\n",
       "      <th>Quantity</th>\n",
       "      <th>Dollars</th>\n",
       "      <th>Classification</th>\n",
       "    </tr>\n",
       "  </thead>\n",
       "  <tbody>\n",
       "    <tr>\n",
       "      <th>0</th>\n",
       "      <td>30_CULCHETH_5255</td>\n",
       "      <td>30</td>\n",
       "      <td>5255</td>\n",
       "      <td>TGI Fridays Ultimte Mudslide</td>\n",
       "      <td>1.75L</td>\n",
       "      <td>4466</td>\n",
       "      <td>AMERICAN VINTAGE BEVERAGE</td>\n",
       "      <td>8137</td>\n",
       "      <td>2023-12-22</td>\n",
       "      <td>2024-01-01</td>\n",
       "      <td>2024-01-07</td>\n",
       "      <td>2024-02-21</td>\n",
       "      <td>9.35</td>\n",
       "      <td>4</td>\n",
       "      <td>37.40</td>\n",
       "      <td>1</td>\n",
       "    </tr>\n",
       "    <tr>\n",
       "      <th>1</th>\n",
       "      <td>34_PITMERDEN_5215</td>\n",
       "      <td>34</td>\n",
       "      <td>5215</td>\n",
       "      <td>TGI Fridays Long Island Iced</td>\n",
       "      <td>1.75L</td>\n",
       "      <td>4466</td>\n",
       "      <td>AMERICAN VINTAGE BEVERAGE</td>\n",
       "      <td>8137</td>\n",
       "      <td>2023-12-22</td>\n",
       "      <td>2024-01-02</td>\n",
       "      <td>2024-01-07</td>\n",
       "      <td>2024-02-21</td>\n",
       "      <td>9.41</td>\n",
       "      <td>5</td>\n",
       "      <td>47.05</td>\n",
       "      <td>1</td>\n",
       "    </tr>\n",
       "    <tr>\n",
       "      <th>2</th>\n",
       "      <td>1_HARDERSFIELD_5255</td>\n",
       "      <td>1</td>\n",
       "      <td>5255</td>\n",
       "      <td>TGI Fridays Ultimte Mudslide</td>\n",
       "      <td>1.75L</td>\n",
       "      <td>4466</td>\n",
       "      <td>AMERICAN VINTAGE BEVERAGE</td>\n",
       "      <td>8137</td>\n",
       "      <td>2023-12-22</td>\n",
       "      <td>2024-01-01</td>\n",
       "      <td>2024-01-07</td>\n",
       "      <td>2024-02-21</td>\n",
       "      <td>9.35</td>\n",
       "      <td>6</td>\n",
       "      <td>56.10</td>\n",
       "      <td>1</td>\n",
       "    </tr>\n",
       "    <tr>\n",
       "      <th>3</th>\n",
       "      <td>38_GOULCREST_5215</td>\n",
       "      <td>38</td>\n",
       "      <td>5215</td>\n",
       "      <td>TGI Fridays Long Island Iced</td>\n",
       "      <td>1.75L</td>\n",
       "      <td>4466</td>\n",
       "      <td>AMERICAN VINTAGE BEVERAGE</td>\n",
       "      <td>8207</td>\n",
       "      <td>2023-12-27</td>\n",
       "      <td>2024-01-07</td>\n",
       "      <td>2024-01-19</td>\n",
       "      <td>2024-02-26</td>\n",
       "      <td>9.41</td>\n",
       "      <td>6</td>\n",
       "      <td>56.46</td>\n",
       "      <td>1</td>\n",
       "    </tr>\n",
       "    <tr>\n",
       "      <th>4</th>\n",
       "      <td>59_CLAETHORPES_5215</td>\n",
       "      <td>59</td>\n",
       "      <td>5215</td>\n",
       "      <td>TGI Fridays Long Island Iced</td>\n",
       "      <td>1.75L</td>\n",
       "      <td>4466</td>\n",
       "      <td>AMERICAN VINTAGE BEVERAGE</td>\n",
       "      <td>8207</td>\n",
       "      <td>2023-12-27</td>\n",
       "      <td>2024-01-05</td>\n",
       "      <td>2024-01-19</td>\n",
       "      <td>2024-02-26</td>\n",
       "      <td>9.41</td>\n",
       "      <td>6</td>\n",
       "      <td>56.46</td>\n",
       "      <td>1</td>\n",
       "    </tr>\n",
       "    <tr>\n",
       "      <th>...</th>\n",
       "      <td>...</td>\n",
       "      <td>...</td>\n",
       "      <td>...</td>\n",
       "      <td>...</td>\n",
       "      <td>...</td>\n",
       "      <td>...</td>\n",
       "      <td>...</td>\n",
       "      <td>...</td>\n",
       "      <td>...</td>\n",
       "      <td>...</td>\n",
       "      <td>...</td>\n",
       "      <td>...</td>\n",
       "      <td>...</td>\n",
       "      <td>...</td>\n",
       "      <td>...</td>\n",
       "      <td>...</td>\n",
       "    </tr>\n",
       "    <tr>\n",
       "      <th>2187</th>\n",
       "      <td>81_PEMBROKE_5215</td>\n",
       "      <td>81</td>\n",
       "      <td>5215</td>\n",
       "      <td>TGI Fridays Long Island Iced</td>\n",
       "      <td>1.75L</td>\n",
       "      <td>4466</td>\n",
       "      <td>AMERICAN VINTAGE BEVERAGE</td>\n",
       "      <td>13595</td>\n",
       "      <td>2024-12-20</td>\n",
       "      <td>2024-12-29</td>\n",
       "      <td>2025-01-04</td>\n",
       "      <td>2025-02-10</td>\n",
       "      <td>9.41</td>\n",
       "      <td>6</td>\n",
       "      <td>56.46</td>\n",
       "      <td>1</td>\n",
       "    </tr>\n",
       "    <tr>\n",
       "      <th>2188</th>\n",
       "      <td>62_KILMARNOCK_5255</td>\n",
       "      <td>62</td>\n",
       "      <td>5255</td>\n",
       "      <td>TGI Fridays Ultimte Mudslide</td>\n",
       "      <td>1.75L</td>\n",
       "      <td>4466</td>\n",
       "      <td>AMERICAN VINTAGE BEVERAGE</td>\n",
       "      <td>13595</td>\n",
       "      <td>2024-12-20</td>\n",
       "      <td>2024-12-28</td>\n",
       "      <td>2025-01-04</td>\n",
       "      <td>2025-02-10</td>\n",
       "      <td>9.35</td>\n",
       "      <td>5</td>\n",
       "      <td>46.75</td>\n",
       "      <td>1</td>\n",
       "    </tr>\n",
       "    <tr>\n",
       "      <th>2189</th>\n",
       "      <td>34_PITMERDEN_5215</td>\n",
       "      <td>34</td>\n",
       "      <td>5215</td>\n",
       "      <td>TGI Fridays Long Island Iced</td>\n",
       "      <td>1.75L</td>\n",
       "      <td>4466</td>\n",
       "      <td>AMERICAN VINTAGE BEVERAGE</td>\n",
       "      <td>13595</td>\n",
       "      <td>2024-12-20</td>\n",
       "      <td>2024-12-28</td>\n",
       "      <td>2025-01-04</td>\n",
       "      <td>2025-02-10</td>\n",
       "      <td>9.41</td>\n",
       "      <td>5</td>\n",
       "      <td>47.05</td>\n",
       "      <td>1</td>\n",
       "    </tr>\n",
       "    <tr>\n",
       "      <th>2190</th>\n",
       "      <td>6_GOULCREST_5215</td>\n",
       "      <td>6</td>\n",
       "      <td>5215</td>\n",
       "      <td>TGI Fridays Long Island Iced</td>\n",
       "      <td>1.75L</td>\n",
       "      <td>4466</td>\n",
       "      <td>AMERICAN VINTAGE BEVERAGE</td>\n",
       "      <td>13595</td>\n",
       "      <td>2024-12-20</td>\n",
       "      <td>2024-12-31</td>\n",
       "      <td>2025-01-04</td>\n",
       "      <td>2025-02-10</td>\n",
       "      <td>9.41</td>\n",
       "      <td>6</td>\n",
       "      <td>56.46</td>\n",
       "      <td>1</td>\n",
       "    </tr>\n",
       "    <tr>\n",
       "      <th>2191</th>\n",
       "      <td>35_HALIVAARA_5255</td>\n",
       "      <td>35</td>\n",
       "      <td>5255</td>\n",
       "      <td>TGI Fridays Ultimte Mudslide</td>\n",
       "      <td>1.75L</td>\n",
       "      <td>4466</td>\n",
       "      <td>AMERICAN VINTAGE BEVERAGE</td>\n",
       "      <td>13595</td>\n",
       "      <td>2024-12-20</td>\n",
       "      <td>2024-12-27</td>\n",
       "      <td>2025-01-04</td>\n",
       "      <td>2025-02-10</td>\n",
       "      <td>9.35</td>\n",
       "      <td>5</td>\n",
       "      <td>46.75</td>\n",
       "      <td>1</td>\n",
       "    </tr>\n",
       "  </tbody>\n",
       "</table>\n",
       "<p>2192 rows × 16 columns</p>\n",
       "</div>"
      ],
      "text/plain": [
       "              InventoryId  Store  Brand                   Description   Size  \\\n",
       "0        30_CULCHETH_5255     30   5255  TGI Fridays Ultimte Mudslide  1.75L   \n",
       "1       34_PITMERDEN_5215     34   5215  TGI Fridays Long Island Iced  1.75L   \n",
       "2     1_HARDERSFIELD_5255      1   5255  TGI Fridays Ultimte Mudslide  1.75L   \n",
       "3       38_GOULCREST_5215     38   5215  TGI Fridays Long Island Iced  1.75L   \n",
       "4     59_CLAETHORPES_5215     59   5215  TGI Fridays Long Island Iced  1.75L   \n",
       "...                   ...    ...    ...                           ...    ...   \n",
       "2187     81_PEMBROKE_5215     81   5215  TGI Fridays Long Island Iced  1.75L   \n",
       "2188   62_KILMARNOCK_5255     62   5255  TGI Fridays Ultimte Mudslide  1.75L   \n",
       "2189    34_PITMERDEN_5215     34   5215  TGI Fridays Long Island Iced  1.75L   \n",
       "2190     6_GOULCREST_5215      6   5215  TGI Fridays Long Island Iced  1.75L   \n",
       "2191    35_HALIVAARA_5255     35   5255  TGI Fridays Ultimte Mudslide  1.75L   \n",
       "\n",
       "      VendorNumber                   VendorName  PONumber      PODate  \\\n",
       "0             4466  AMERICAN VINTAGE BEVERAGE        8137  2023-12-22   \n",
       "1             4466  AMERICAN VINTAGE BEVERAGE        8137  2023-12-22   \n",
       "2             4466  AMERICAN VINTAGE BEVERAGE        8137  2023-12-22   \n",
       "3             4466  AMERICAN VINTAGE BEVERAGE        8207  2023-12-27   \n",
       "4             4466  AMERICAN VINTAGE BEVERAGE        8207  2023-12-27   \n",
       "...            ...                          ...       ...         ...   \n",
       "2187          4466  AMERICAN VINTAGE BEVERAGE       13595  2024-12-20   \n",
       "2188          4466  AMERICAN VINTAGE BEVERAGE       13595  2024-12-20   \n",
       "2189          4466  AMERICAN VINTAGE BEVERAGE       13595  2024-12-20   \n",
       "2190          4466  AMERICAN VINTAGE BEVERAGE       13595  2024-12-20   \n",
       "2191          4466  AMERICAN VINTAGE BEVERAGE       13595  2024-12-20   \n",
       "\n",
       "     ReceivingDate InvoiceDate     PayDate  PurchasePrice  Quantity  Dollars  \\\n",
       "0       2024-01-01  2024-01-07  2024-02-21           9.35         4    37.40   \n",
       "1       2024-01-02  2024-01-07  2024-02-21           9.41         5    47.05   \n",
       "2       2024-01-01  2024-01-07  2024-02-21           9.35         6    56.10   \n",
       "3       2024-01-07  2024-01-19  2024-02-26           9.41         6    56.46   \n",
       "4       2024-01-05  2024-01-19  2024-02-26           9.41         6    56.46   \n",
       "...            ...         ...         ...            ...       ...      ...   \n",
       "2187    2024-12-29  2025-01-04  2025-02-10           9.41         6    56.46   \n",
       "2188    2024-12-28  2025-01-04  2025-02-10           9.35         5    46.75   \n",
       "2189    2024-12-28  2025-01-04  2025-02-10           9.41         5    47.05   \n",
       "2190    2024-12-31  2025-01-04  2025-02-10           9.41         6    56.46   \n",
       "2191    2024-12-27  2025-01-04  2025-02-10           9.35         5    46.75   \n",
       "\n",
       "      Classification  \n",
       "0                  1  \n",
       "1                  1  \n",
       "2                  1  \n",
       "3                  1  \n",
       "4                  1  \n",
       "...              ...  \n",
       "2187               1  \n",
       "2188               1  \n",
       "2189               1  \n",
       "2190               1  \n",
       "2191               1  \n",
       "\n",
       "[2192 rows x 16 columns]"
      ]
     },
     "execution_count": 5,
     "metadata": {},
     "output_type": "execute_result"
    }
   ],
   "source": [
    "# Filtering the purchases table only for VendorNumber 4466\n",
    "purchases = pd.read_sql_query(\"SELECT * FROM purchases WHERE VendorNumber= 4466\", conn)\n",
    "purchases"
   ]
  },
  {
   "cell_type": "code",
   "execution_count": 6,
   "id": "c068fea4",
   "metadata": {},
   "outputs": [
    {
     "data": {
      "text/html": [
       "<div>\n",
       "<style scoped>\n",
       "    .dataframe tbody tr th:only-of-type {\n",
       "        vertical-align: middle;\n",
       "    }\n",
       "\n",
       "    .dataframe tbody tr th {\n",
       "        vertical-align: top;\n",
       "    }\n",
       "\n",
       "    .dataframe thead th {\n",
       "        text-align: right;\n",
       "    }\n",
       "</style>\n",
       "<table border=\"1\" class=\"dataframe\">\n",
       "  <thead>\n",
       "    <tr style=\"text-align: right;\">\n",
       "      <th></th>\n",
       "      <th>Brand</th>\n",
       "      <th>Description</th>\n",
       "      <th>Price</th>\n",
       "      <th>Size</th>\n",
       "      <th>Volume</th>\n",
       "      <th>Classification</th>\n",
       "      <th>PurchasePrice</th>\n",
       "      <th>VendorNumber</th>\n",
       "      <th>VendorName</th>\n",
       "    </tr>\n",
       "  </thead>\n",
       "  <tbody>\n",
       "    <tr>\n",
       "      <th>0</th>\n",
       "      <td>5215</td>\n",
       "      <td>TGI Fridays Long Island Iced</td>\n",
       "      <td>12.99</td>\n",
       "      <td>1750mL</td>\n",
       "      <td>1750</td>\n",
       "      <td>1</td>\n",
       "      <td>9.41</td>\n",
       "      <td>4466</td>\n",
       "      <td>AMERICAN VINTAGE BEVERAGE</td>\n",
       "    </tr>\n",
       "    <tr>\n",
       "      <th>1</th>\n",
       "      <td>5255</td>\n",
       "      <td>TGI Fridays Ultimte Mudslide</td>\n",
       "      <td>12.99</td>\n",
       "      <td>1750mL</td>\n",
       "      <td>1750</td>\n",
       "      <td>1</td>\n",
       "      <td>9.35</td>\n",
       "      <td>4466</td>\n",
       "      <td>AMERICAN VINTAGE BEVERAGE</td>\n",
       "    </tr>\n",
       "    <tr>\n",
       "      <th>2</th>\n",
       "      <td>3140</td>\n",
       "      <td>TGI Fridays Orange Dream</td>\n",
       "      <td>14.99</td>\n",
       "      <td>1750mL</td>\n",
       "      <td>1750</td>\n",
       "      <td>1</td>\n",
       "      <td>11.19</td>\n",
       "      <td>4466</td>\n",
       "      <td>AMERICAN VINTAGE BEVERAGE</td>\n",
       "    </tr>\n",
       "  </tbody>\n",
       "</table>\n",
       "</div>"
      ],
      "text/plain": [
       "   Brand                   Description  Price    Size Volume  Classification  \\\n",
       "0   5215  TGI Fridays Long Island Iced  12.99  1750mL   1750               1   \n",
       "1   5255  TGI Fridays Ultimte Mudslide  12.99  1750mL   1750               1   \n",
       "2   3140      TGI Fridays Orange Dream  14.99  1750mL   1750               1   \n",
       "\n",
       "   PurchasePrice  VendorNumber                   VendorName  \n",
       "0           9.41          4466  AMERICAN VINTAGE BEVERAGE    \n",
       "1           9.35          4466  AMERICAN VINTAGE BEVERAGE    \n",
       "2          11.19          4466  AMERICAN VINTAGE BEVERAGE    "
      ]
     },
     "execution_count": 6,
     "metadata": {},
     "output_type": "execute_result"
    }
   ],
   "source": [
    "# Filtering the purchase_prices table only for VendorNumber 4466\n",
    "purchase_prices = pd.read_sql_query(\"SELECT * FROM purchase_prices  WHERE VendorNumber= 4466\", conn)\n",
    "purchase_prices "
   ]
  },
  {
   "cell_type": "code",
   "execution_count": 7,
   "id": "36661112",
   "metadata": {},
   "outputs": [
    {
     "data": {
      "text/html": [
       "<div>\n",
       "<style scoped>\n",
       "    .dataframe tbody tr th:only-of-type {\n",
       "        vertical-align: middle;\n",
       "    }\n",
       "\n",
       "    .dataframe tbody tr th {\n",
       "        vertical-align: top;\n",
       "    }\n",
       "\n",
       "    .dataframe thead th {\n",
       "        text-align: right;\n",
       "    }\n",
       "</style>\n",
       "<table border=\"1\" class=\"dataframe\">\n",
       "  <thead>\n",
       "    <tr style=\"text-align: right;\">\n",
       "      <th></th>\n",
       "      <th>VendorNumber</th>\n",
       "      <th>VendorName</th>\n",
       "      <th>InvoiceDate</th>\n",
       "      <th>PONumber</th>\n",
       "      <th>PODate</th>\n",
       "      <th>PayDate</th>\n",
       "      <th>Quantity</th>\n",
       "      <th>Dollars</th>\n",
       "      <th>Freight</th>\n",
       "      <th>Approval</th>\n",
       "    </tr>\n",
       "  </thead>\n",
       "  <tbody>\n",
       "    <tr>\n",
       "      <th>0</th>\n",
       "      <td>4466</td>\n",
       "      <td>AMERICAN VINTAGE BEVERAGE</td>\n",
       "      <td>2024-01-07</td>\n",
       "      <td>8137</td>\n",
       "      <td>2023-12-22</td>\n",
       "      <td>2024-02-21</td>\n",
       "      <td>15</td>\n",
       "      <td>140.55</td>\n",
       "      <td>8.57</td>\n",
       "      <td>None</td>\n",
       "    </tr>\n",
       "    <tr>\n",
       "      <th>1</th>\n",
       "      <td>4466</td>\n",
       "      <td>AMERICAN VINTAGE BEVERAGE</td>\n",
       "      <td>2024-01-19</td>\n",
       "      <td>8207</td>\n",
       "      <td>2023-12-27</td>\n",
       "      <td>2024-02-26</td>\n",
       "      <td>335</td>\n",
       "      <td>3142.33</td>\n",
       "      <td>16.97</td>\n",
       "      <td>None</td>\n",
       "    </tr>\n",
       "    <tr>\n",
       "      <th>2</th>\n",
       "      <td>4466</td>\n",
       "      <td>AMERICAN VINTAGE BEVERAGE</td>\n",
       "      <td>2024-01-18</td>\n",
       "      <td>8307</td>\n",
       "      <td>2024-01-03</td>\n",
       "      <td>2024-02-18</td>\n",
       "      <td>41</td>\n",
       "      <td>383.35</td>\n",
       "      <td>1.99</td>\n",
       "      <td>None</td>\n",
       "    </tr>\n",
       "    <tr>\n",
       "      <th>3</th>\n",
       "      <td>4466</td>\n",
       "      <td>AMERICAN VINTAGE BEVERAGE</td>\n",
       "      <td>2024-01-27</td>\n",
       "      <td>8469</td>\n",
       "      <td>2024-01-14</td>\n",
       "      <td>2024-03-11</td>\n",
       "      <td>72</td>\n",
       "      <td>673.20</td>\n",
       "      <td>3.30</td>\n",
       "      <td>None</td>\n",
       "    </tr>\n",
       "    <tr>\n",
       "      <th>4</th>\n",
       "      <td>4466</td>\n",
       "      <td>AMERICAN VINTAGE BEVERAGE</td>\n",
       "      <td>2024-02-04</td>\n",
       "      <td>8532</td>\n",
       "      <td>2024-01-19</td>\n",
       "      <td>2024-03-15</td>\n",
       "      <td>79</td>\n",
       "      <td>740.21</td>\n",
       "      <td>3.48</td>\n",
       "      <td>None</td>\n",
       "    </tr>\n",
       "  </tbody>\n",
       "</table>\n",
       "</div>"
      ],
      "text/plain": [
       "   VendorNumber                   VendorName InvoiceDate  PONumber  \\\n",
       "0          4466  AMERICAN VINTAGE BEVERAGE    2024-01-07      8137   \n",
       "1          4466  AMERICAN VINTAGE BEVERAGE    2024-01-19      8207   \n",
       "2          4466  AMERICAN VINTAGE BEVERAGE    2024-01-18      8307   \n",
       "3          4466  AMERICAN VINTAGE BEVERAGE    2024-01-27      8469   \n",
       "4          4466  AMERICAN VINTAGE BEVERAGE    2024-02-04      8532   \n",
       "\n",
       "       PODate     PayDate  Quantity  Dollars  Freight Approval  \n",
       "0  2023-12-22  2024-02-21        15   140.55     8.57     None  \n",
       "1  2023-12-27  2024-02-26       335  3142.33    16.97     None  \n",
       "2  2024-01-03  2024-02-18        41   383.35     1.99     None  \n",
       "3  2024-01-14  2024-03-11        72   673.20     3.30     None  \n",
       "4  2024-01-19  2024-03-15        79   740.21     3.48     None  "
      ]
     },
     "execution_count": 7,
     "metadata": {},
     "output_type": "execute_result"
    }
   ],
   "source": [
    "# Filtering the vendor_invoice table only for VendorNumber 4466\n",
    "vendor_invoice  = pd.read_sql_query(\"SELECT * FROM vendor_invoice   WHERE VendorNumber= 4466\", conn)\n",
    "vendor_invoice .head()"
   ]
  },
  {
   "cell_type": "code",
   "execution_count": 8,
   "id": "c497f2eb",
   "metadata": {},
   "outputs": [
    {
     "data": {
      "text/html": [
       "<div>\n",
       "<style scoped>\n",
       "    .dataframe tbody tr th:only-of-type {\n",
       "        vertical-align: middle;\n",
       "    }\n",
       "\n",
       "    .dataframe tbody tr th {\n",
       "        vertical-align: top;\n",
       "    }\n",
       "\n",
       "    .dataframe thead th {\n",
       "        text-align: right;\n",
       "    }\n",
       "</style>\n",
       "<table border=\"1\" class=\"dataframe\">\n",
       "  <thead>\n",
       "    <tr style=\"text-align: right;\">\n",
       "      <th></th>\n",
       "      <th>InventoryId</th>\n",
       "      <th>Store</th>\n",
       "      <th>Brand</th>\n",
       "      <th>Description</th>\n",
       "      <th>Size</th>\n",
       "      <th>SalesQuantity</th>\n",
       "      <th>SalesDollars</th>\n",
       "      <th>SalesPrice</th>\n",
       "      <th>SalesDate</th>\n",
       "      <th>Volume</th>\n",
       "      <th>Classification</th>\n",
       "      <th>ExciseTax</th>\n",
       "      <th>VendorNo</th>\n",
       "      <th>VendorName</th>\n",
       "    </tr>\n",
       "  </thead>\n",
       "  <tbody>\n",
       "    <tr>\n",
       "      <th>0</th>\n",
       "      <td>1_HARDERSFIELD_5215</td>\n",
       "      <td>1</td>\n",
       "      <td>5215</td>\n",
       "      <td>TGI Fridays Long Island Iced</td>\n",
       "      <td>1.75L</td>\n",
       "      <td>1</td>\n",
       "      <td>12.99</td>\n",
       "      <td>12.99</td>\n",
       "      <td>2024-01-09</td>\n",
       "      <td>1750.0</td>\n",
       "      <td>1</td>\n",
       "      <td>1.84</td>\n",
       "      <td>4466</td>\n",
       "      <td>AMERICAN VINTAGE BEVERAGE</td>\n",
       "    </tr>\n",
       "    <tr>\n",
       "      <th>1</th>\n",
       "      <td>1_HARDERSFIELD_5215</td>\n",
       "      <td>1</td>\n",
       "      <td>5215</td>\n",
       "      <td>TGI Fridays Long Island Iced</td>\n",
       "      <td>1.75L</td>\n",
       "      <td>1</td>\n",
       "      <td>12.99</td>\n",
       "      <td>12.99</td>\n",
       "      <td>2024-01-12</td>\n",
       "      <td>1750.0</td>\n",
       "      <td>1</td>\n",
       "      <td>1.84</td>\n",
       "      <td>4466</td>\n",
       "      <td>AMERICAN VINTAGE BEVERAGE</td>\n",
       "    </tr>\n",
       "    <tr>\n",
       "      <th>2</th>\n",
       "      <td>1_HARDERSFIELD_5215</td>\n",
       "      <td>1</td>\n",
       "      <td>5215</td>\n",
       "      <td>TGI Fridays Long Island Iced</td>\n",
       "      <td>1.75L</td>\n",
       "      <td>1</td>\n",
       "      <td>12.99</td>\n",
       "      <td>12.99</td>\n",
       "      <td>2024-01-15</td>\n",
       "      <td>1750.0</td>\n",
       "      <td>1</td>\n",
       "      <td>1.84</td>\n",
       "      <td>4466</td>\n",
       "      <td>AMERICAN VINTAGE BEVERAGE</td>\n",
       "    </tr>\n",
       "    <tr>\n",
       "      <th>3</th>\n",
       "      <td>1_HARDERSFIELD_5215</td>\n",
       "      <td>1</td>\n",
       "      <td>5215</td>\n",
       "      <td>TGI Fridays Long Island Iced</td>\n",
       "      <td>1.75L</td>\n",
       "      <td>1</td>\n",
       "      <td>12.99</td>\n",
       "      <td>12.99</td>\n",
       "      <td>2024-01-21</td>\n",
       "      <td>1750.0</td>\n",
       "      <td>1</td>\n",
       "      <td>1.84</td>\n",
       "      <td>4466</td>\n",
       "      <td>AMERICAN VINTAGE BEVERAGE</td>\n",
       "    </tr>\n",
       "    <tr>\n",
       "      <th>4</th>\n",
       "      <td>1_HARDERSFIELD_5215</td>\n",
       "      <td>1</td>\n",
       "      <td>5215</td>\n",
       "      <td>TGI Fridays Long Island Iced</td>\n",
       "      <td>1.75L</td>\n",
       "      <td>1</td>\n",
       "      <td>12.99</td>\n",
       "      <td>12.99</td>\n",
       "      <td>2024-01-23</td>\n",
       "      <td>1750.0</td>\n",
       "      <td>1</td>\n",
       "      <td>1.84</td>\n",
       "      <td>4466</td>\n",
       "      <td>AMERICAN VINTAGE BEVERAGE</td>\n",
       "    </tr>\n",
       "    <tr>\n",
       "      <th>...</th>\n",
       "      <td>...</td>\n",
       "      <td>...</td>\n",
       "      <td>...</td>\n",
       "      <td>...</td>\n",
       "      <td>...</td>\n",
       "      <td>...</td>\n",
       "      <td>...</td>\n",
       "      <td>...</td>\n",
       "      <td>...</td>\n",
       "      <td>...</td>\n",
       "      <td>...</td>\n",
       "      <td>...</td>\n",
       "      <td>...</td>\n",
       "      <td>...</td>\n",
       "    </tr>\n",
       "    <tr>\n",
       "      <th>9448</th>\n",
       "      <td>9_BLACKPOOL_5215</td>\n",
       "      <td>9</td>\n",
       "      <td>5215</td>\n",
       "      <td>TGI Fridays Long Island Iced</td>\n",
       "      <td>1.75L</td>\n",
       "      <td>1</td>\n",
       "      <td>12.99</td>\n",
       "      <td>12.99</td>\n",
       "      <td>2024-12-21</td>\n",
       "      <td>1750.0</td>\n",
       "      <td>1</td>\n",
       "      <td>1.84</td>\n",
       "      <td>4466</td>\n",
       "      <td>AMERICAN VINTAGE BEVERAGE</td>\n",
       "    </tr>\n",
       "    <tr>\n",
       "      <th>9449</th>\n",
       "      <td>9_BLACKPOOL_5255</td>\n",
       "      <td>9</td>\n",
       "      <td>5255</td>\n",
       "      <td>TGI Fridays Ultimte Mudslide</td>\n",
       "      <td>1.75L</td>\n",
       "      <td>1</td>\n",
       "      <td>12.99</td>\n",
       "      <td>12.99</td>\n",
       "      <td>2024-12-02</td>\n",
       "      <td>1750.0</td>\n",
       "      <td>1</td>\n",
       "      <td>1.84</td>\n",
       "      <td>4466</td>\n",
       "      <td>AMERICAN VINTAGE BEVERAGE</td>\n",
       "    </tr>\n",
       "    <tr>\n",
       "      <th>9450</th>\n",
       "      <td>9_BLACKPOOL_5255</td>\n",
       "      <td>9</td>\n",
       "      <td>5255</td>\n",
       "      <td>TGI Fridays Ultimte Mudslide</td>\n",
       "      <td>1.75L</td>\n",
       "      <td>1</td>\n",
       "      <td>12.99</td>\n",
       "      <td>12.99</td>\n",
       "      <td>2024-12-09</td>\n",
       "      <td>1750.0</td>\n",
       "      <td>1</td>\n",
       "      <td>1.84</td>\n",
       "      <td>4466</td>\n",
       "      <td>AMERICAN VINTAGE BEVERAGE</td>\n",
       "    </tr>\n",
       "    <tr>\n",
       "      <th>9451</th>\n",
       "      <td>9_BLACKPOOL_5255</td>\n",
       "      <td>9</td>\n",
       "      <td>5255</td>\n",
       "      <td>TGI Fridays Ultimte Mudslide</td>\n",
       "      <td>1.75L</td>\n",
       "      <td>1</td>\n",
       "      <td>12.99</td>\n",
       "      <td>12.99</td>\n",
       "      <td>2024-12-23</td>\n",
       "      <td>1750.0</td>\n",
       "      <td>1</td>\n",
       "      <td>1.84</td>\n",
       "      <td>4466</td>\n",
       "      <td>AMERICAN VINTAGE BEVERAGE</td>\n",
       "    </tr>\n",
       "    <tr>\n",
       "      <th>9452</th>\n",
       "      <td>9_BLACKPOOL_5255</td>\n",
       "      <td>9</td>\n",
       "      <td>5255</td>\n",
       "      <td>TGI Fridays Ultimte Mudslide</td>\n",
       "      <td>1.75L</td>\n",
       "      <td>1</td>\n",
       "      <td>12.99</td>\n",
       "      <td>12.99</td>\n",
       "      <td>2024-12-31</td>\n",
       "      <td>1750.0</td>\n",
       "      <td>1</td>\n",
       "      <td>1.84</td>\n",
       "      <td>4466</td>\n",
       "      <td>AMERICAN VINTAGE BEVERAGE</td>\n",
       "    </tr>\n",
       "  </tbody>\n",
       "</table>\n",
       "<p>9453 rows × 14 columns</p>\n",
       "</div>"
      ],
      "text/plain": [
       "              InventoryId  Store  Brand                   Description   Size  \\\n",
       "0     1_HARDERSFIELD_5215      1   5215  TGI Fridays Long Island Iced  1.75L   \n",
       "1     1_HARDERSFIELD_5215      1   5215  TGI Fridays Long Island Iced  1.75L   \n",
       "2     1_HARDERSFIELD_5215      1   5215  TGI Fridays Long Island Iced  1.75L   \n",
       "3     1_HARDERSFIELD_5215      1   5215  TGI Fridays Long Island Iced  1.75L   \n",
       "4     1_HARDERSFIELD_5215      1   5215  TGI Fridays Long Island Iced  1.75L   \n",
       "...                   ...    ...    ...                           ...    ...   \n",
       "9448     9_BLACKPOOL_5215      9   5215  TGI Fridays Long Island Iced  1.75L   \n",
       "9449     9_BLACKPOOL_5255      9   5255  TGI Fridays Ultimte Mudslide  1.75L   \n",
       "9450     9_BLACKPOOL_5255      9   5255  TGI Fridays Ultimte Mudslide  1.75L   \n",
       "9451     9_BLACKPOOL_5255      9   5255  TGI Fridays Ultimte Mudslide  1.75L   \n",
       "9452     9_BLACKPOOL_5255      9   5255  TGI Fridays Ultimte Mudslide  1.75L   \n",
       "\n",
       "      SalesQuantity  SalesDollars  SalesPrice   SalesDate  Volume  \\\n",
       "0                 1         12.99       12.99  2024-01-09  1750.0   \n",
       "1                 1         12.99       12.99  2024-01-12  1750.0   \n",
       "2                 1         12.99       12.99  2024-01-15  1750.0   \n",
       "3                 1         12.99       12.99  2024-01-21  1750.0   \n",
       "4                 1         12.99       12.99  2024-01-23  1750.0   \n",
       "...             ...           ...         ...         ...     ...   \n",
       "9448              1         12.99       12.99  2024-12-21  1750.0   \n",
       "9449              1         12.99       12.99  2024-12-02  1750.0   \n",
       "9450              1         12.99       12.99  2024-12-09  1750.0   \n",
       "9451              1         12.99       12.99  2024-12-23  1750.0   \n",
       "9452              1         12.99       12.99  2024-12-31  1750.0   \n",
       "\n",
       "      Classification  ExciseTax  VendorNo                   VendorName  \n",
       "0                  1       1.84      4466  AMERICAN VINTAGE BEVERAGE    \n",
       "1                  1       1.84      4466  AMERICAN VINTAGE BEVERAGE    \n",
       "2                  1       1.84      4466  AMERICAN VINTAGE BEVERAGE    \n",
       "3                  1       1.84      4466  AMERICAN VINTAGE BEVERAGE    \n",
       "4                  1       1.84      4466  AMERICAN VINTAGE BEVERAGE    \n",
       "...              ...        ...       ...                          ...  \n",
       "9448               1       1.84      4466  AMERICAN VINTAGE BEVERAGE    \n",
       "9449               1       1.84      4466  AMERICAN VINTAGE BEVERAGE    \n",
       "9450               1       1.84      4466  AMERICAN VINTAGE BEVERAGE    \n",
       "9451               1       1.84      4466  AMERICAN VINTAGE BEVERAGE    \n",
       "9452               1       1.84      4466  AMERICAN VINTAGE BEVERAGE    \n",
       "\n",
       "[9453 rows x 14 columns]"
      ]
     },
     "execution_count": 8,
     "metadata": {},
     "output_type": "execute_result"
    }
   ],
   "source": [
    "# Filtering the sales table only for VendorNumber 4466\n",
    "sales = pd.read_sql_query(\"SELECT * FROM sales   WHERE VendorNo= 4466\", conn)\n",
    "sales   "
   ]
  },
  {
   "cell_type": "code",
   "execution_count": 9,
   "id": "cb7563ab",
   "metadata": {},
   "outputs": [
    {
     "data": {
      "text/html": [
       "<div>\n",
       "<style scoped>\n",
       "    .dataframe tbody tr th:only-of-type {\n",
       "        vertical-align: middle;\n",
       "    }\n",
       "\n",
       "    .dataframe tbody tr th {\n",
       "        vertical-align: top;\n",
       "    }\n",
       "\n",
       "    .dataframe thead th {\n",
       "        text-align: right;\n",
       "    }\n",
       "</style>\n",
       "<table border=\"1\" class=\"dataframe\">\n",
       "  <thead>\n",
       "    <tr style=\"text-align: right;\">\n",
       "      <th></th>\n",
       "      <th></th>\n",
       "      <th>Quantity</th>\n",
       "      <th>Dollars</th>\n",
       "    </tr>\n",
       "    <tr>\n",
       "      <th>Brand</th>\n",
       "      <th>PurchasePrice</th>\n",
       "      <th></th>\n",
       "      <th></th>\n",
       "    </tr>\n",
       "  </thead>\n",
       "  <tbody>\n",
       "    <tr>\n",
       "      <th>3140</th>\n",
       "      <th>11.19</th>\n",
       "      <td>4640</td>\n",
       "      <td>51921.60</td>\n",
       "    </tr>\n",
       "    <tr>\n",
       "      <th>5215</th>\n",
       "      <th>9.41</th>\n",
       "      <td>4923</td>\n",
       "      <td>46325.43</td>\n",
       "    </tr>\n",
       "    <tr>\n",
       "      <th>5255</th>\n",
       "      <th>9.35</th>\n",
       "      <td>6215</td>\n",
       "      <td>58110.25</td>\n",
       "    </tr>\n",
       "  </tbody>\n",
       "</table>\n",
       "</div>"
      ],
      "text/plain": [
       "                     Quantity   Dollars\n",
       "Brand PurchasePrice                    \n",
       "3140  11.19              4640  51921.60\n",
       "5215  9.41               4923  46325.43\n",
       "5255  9.35               6215  58110.25"
      ]
     },
     "execution_count": 9,
     "metadata": {},
     "output_type": "execute_result"
    }
   ],
   "source": [
    "purchases.groupby(['Brand', 'PurchasePrice'])[['Quantity', 'Dollars']].sum()"
   ]
  },
  {
   "cell_type": "code",
   "execution_count": 10,
   "id": "8614b2a3",
   "metadata": {},
   "outputs": [
    {
     "data": {
      "text/html": [
       "<div>\n",
       "<style scoped>\n",
       "    .dataframe tbody tr th:only-of-type {\n",
       "        vertical-align: middle;\n",
       "    }\n",
       "\n",
       "    .dataframe tbody tr th {\n",
       "        vertical-align: top;\n",
       "    }\n",
       "\n",
       "    .dataframe thead th {\n",
       "        text-align: right;\n",
       "    }\n",
       "</style>\n",
       "<table border=\"1\" class=\"dataframe\">\n",
       "  <thead>\n",
       "    <tr style=\"text-align: right;\">\n",
       "      <th></th>\n",
       "      <th>Brand</th>\n",
       "      <th>Description</th>\n",
       "      <th>Price</th>\n",
       "      <th>Size</th>\n",
       "      <th>Volume</th>\n",
       "      <th>Classification</th>\n",
       "      <th>PurchasePrice</th>\n",
       "      <th>VendorNumber</th>\n",
       "      <th>VendorName</th>\n",
       "    </tr>\n",
       "  </thead>\n",
       "  <tbody>\n",
       "    <tr>\n",
       "      <th>0</th>\n",
       "      <td>5215</td>\n",
       "      <td>TGI Fridays Long Island Iced</td>\n",
       "      <td>12.99</td>\n",
       "      <td>1750mL</td>\n",
       "      <td>1750</td>\n",
       "      <td>1</td>\n",
       "      <td>9.41</td>\n",
       "      <td>4466</td>\n",
       "      <td>AMERICAN VINTAGE BEVERAGE</td>\n",
       "    </tr>\n",
       "    <tr>\n",
       "      <th>1</th>\n",
       "      <td>5255</td>\n",
       "      <td>TGI Fridays Ultimte Mudslide</td>\n",
       "      <td>12.99</td>\n",
       "      <td>1750mL</td>\n",
       "      <td>1750</td>\n",
       "      <td>1</td>\n",
       "      <td>9.35</td>\n",
       "      <td>4466</td>\n",
       "      <td>AMERICAN VINTAGE BEVERAGE</td>\n",
       "    </tr>\n",
       "    <tr>\n",
       "      <th>2</th>\n",
       "      <td>3140</td>\n",
       "      <td>TGI Fridays Orange Dream</td>\n",
       "      <td>14.99</td>\n",
       "      <td>1750mL</td>\n",
       "      <td>1750</td>\n",
       "      <td>1</td>\n",
       "      <td>11.19</td>\n",
       "      <td>4466</td>\n",
       "      <td>AMERICAN VINTAGE BEVERAGE</td>\n",
       "    </tr>\n",
       "  </tbody>\n",
       "</table>\n",
       "</div>"
      ],
      "text/plain": [
       "   Brand                   Description  Price    Size Volume  Classification  \\\n",
       "0   5215  TGI Fridays Long Island Iced  12.99  1750mL   1750               1   \n",
       "1   5255  TGI Fridays Ultimte Mudslide  12.99  1750mL   1750               1   \n",
       "2   3140      TGI Fridays Orange Dream  14.99  1750mL   1750               1   \n",
       "\n",
       "   PurchasePrice  VendorNumber                   VendorName  \n",
       "0           9.41          4466  AMERICAN VINTAGE BEVERAGE    \n",
       "1           9.35          4466  AMERICAN VINTAGE BEVERAGE    \n",
       "2          11.19          4466  AMERICAN VINTAGE BEVERAGE    "
      ]
     },
     "execution_count": 10,
     "metadata": {},
     "output_type": "execute_result"
    }
   ],
   "source": [
    "purchase_prices"
   ]
  },
  {
   "cell_type": "code",
   "execution_count": 11,
   "id": "2c0e8c68",
   "metadata": {},
   "outputs": [
    {
     "data": {
      "text/plain": [
       "(55, 10)"
      ]
     },
     "execution_count": 11,
     "metadata": {},
     "output_type": "execute_result"
    }
   ],
   "source": [
    "vendor_invoice.shape"
   ]
  },
  {
   "cell_type": "code",
   "execution_count": 12,
   "id": "b83ce45a",
   "metadata": {},
   "outputs": [
    {
     "data": {
      "text/plain": [
       "55"
      ]
     },
     "execution_count": 12,
     "metadata": {},
     "output_type": "execute_result"
    }
   ],
   "source": [
    "# Checking if the 'PONumber' column in the table is unique or not \n",
    "vendor_invoice['PONumber'].nunique()"
   ]
  },
  {
   "cell_type": "code",
   "execution_count": 13,
   "id": "c260b94c",
   "metadata": {},
   "outputs": [
    {
     "data": {
      "text/plain": [
       "Index(['VendorNumber', 'VendorName', 'InvoiceDate', 'PONumber', 'PODate',\n",
       "       'PayDate', 'Quantity', 'Dollars', 'Freight', 'Approval'],\n",
       "      dtype='object')"
      ]
     },
     "execution_count": 13,
     "metadata": {},
     "output_type": "execute_result"
    }
   ],
   "source": [
    "vendor_invoice.columns"
   ]
  },
  {
   "cell_type": "code",
   "execution_count": 14,
   "id": "67dfa2b3",
   "metadata": {},
   "outputs": [
    {
     "data": {
      "text/html": [
       "<div>\n",
       "<style scoped>\n",
       "    .dataframe tbody tr th:only-of-type {\n",
       "        vertical-align: middle;\n",
       "    }\n",
       "\n",
       "    .dataframe tbody tr th {\n",
       "        vertical-align: top;\n",
       "    }\n",
       "\n",
       "    .dataframe thead th {\n",
       "        text-align: right;\n",
       "    }\n",
       "</style>\n",
       "<table border=\"1\" class=\"dataframe\">\n",
       "  <thead>\n",
       "    <tr style=\"text-align: right;\">\n",
       "      <th></th>\n",
       "      <th>InventoryId</th>\n",
       "      <th>Store</th>\n",
       "      <th>Brand</th>\n",
       "      <th>Description</th>\n",
       "      <th>Size</th>\n",
       "      <th>VendorNumber</th>\n",
       "      <th>VendorName</th>\n",
       "      <th>PONumber</th>\n",
       "      <th>PODate</th>\n",
       "      <th>ReceivingDate</th>\n",
       "      <th>InvoiceDate</th>\n",
       "      <th>PayDate</th>\n",
       "      <th>PurchasePrice</th>\n",
       "      <th>Quantity</th>\n",
       "      <th>Dollars</th>\n",
       "      <th>Classification</th>\n",
       "    </tr>\n",
       "  </thead>\n",
       "  <tbody>\n",
       "    <tr>\n",
       "      <th>0</th>\n",
       "      <td>30_CULCHETH_5255</td>\n",
       "      <td>30</td>\n",
       "      <td>5255</td>\n",
       "      <td>TGI Fridays Ultimte Mudslide</td>\n",
       "      <td>1.75L</td>\n",
       "      <td>4466</td>\n",
       "      <td>AMERICAN VINTAGE BEVERAGE</td>\n",
       "      <td>8137</td>\n",
       "      <td>2023-12-22</td>\n",
       "      <td>2024-01-01</td>\n",
       "      <td>2024-01-07</td>\n",
       "      <td>2024-02-21</td>\n",
       "      <td>9.35</td>\n",
       "      <td>4</td>\n",
       "      <td>37.40</td>\n",
       "      <td>1</td>\n",
       "    </tr>\n",
       "    <tr>\n",
       "      <th>1</th>\n",
       "      <td>34_PITMERDEN_5215</td>\n",
       "      <td>34</td>\n",
       "      <td>5215</td>\n",
       "      <td>TGI Fridays Long Island Iced</td>\n",
       "      <td>1.75L</td>\n",
       "      <td>4466</td>\n",
       "      <td>AMERICAN VINTAGE BEVERAGE</td>\n",
       "      <td>8137</td>\n",
       "      <td>2023-12-22</td>\n",
       "      <td>2024-01-02</td>\n",
       "      <td>2024-01-07</td>\n",
       "      <td>2024-02-21</td>\n",
       "      <td>9.41</td>\n",
       "      <td>5</td>\n",
       "      <td>47.05</td>\n",
       "      <td>1</td>\n",
       "    </tr>\n",
       "    <tr>\n",
       "      <th>2</th>\n",
       "      <td>1_HARDERSFIELD_5255</td>\n",
       "      <td>1</td>\n",
       "      <td>5255</td>\n",
       "      <td>TGI Fridays Ultimte Mudslide</td>\n",
       "      <td>1.75L</td>\n",
       "      <td>4466</td>\n",
       "      <td>AMERICAN VINTAGE BEVERAGE</td>\n",
       "      <td>8137</td>\n",
       "      <td>2023-12-22</td>\n",
       "      <td>2024-01-01</td>\n",
       "      <td>2024-01-07</td>\n",
       "      <td>2024-02-21</td>\n",
       "      <td>9.35</td>\n",
       "      <td>6</td>\n",
       "      <td>56.10</td>\n",
       "      <td>1</td>\n",
       "    </tr>\n",
       "    <tr>\n",
       "      <th>3</th>\n",
       "      <td>38_GOULCREST_5215</td>\n",
       "      <td>38</td>\n",
       "      <td>5215</td>\n",
       "      <td>TGI Fridays Long Island Iced</td>\n",
       "      <td>1.75L</td>\n",
       "      <td>4466</td>\n",
       "      <td>AMERICAN VINTAGE BEVERAGE</td>\n",
       "      <td>8207</td>\n",
       "      <td>2023-12-27</td>\n",
       "      <td>2024-01-07</td>\n",
       "      <td>2024-01-19</td>\n",
       "      <td>2024-02-26</td>\n",
       "      <td>9.41</td>\n",
       "      <td>6</td>\n",
       "      <td>56.46</td>\n",
       "      <td>1</td>\n",
       "    </tr>\n",
       "    <tr>\n",
       "      <th>4</th>\n",
       "      <td>59_CLAETHORPES_5215</td>\n",
       "      <td>59</td>\n",
       "      <td>5215</td>\n",
       "      <td>TGI Fridays Long Island Iced</td>\n",
       "      <td>1.75L</td>\n",
       "      <td>4466</td>\n",
       "      <td>AMERICAN VINTAGE BEVERAGE</td>\n",
       "      <td>8207</td>\n",
       "      <td>2023-12-27</td>\n",
       "      <td>2024-01-05</td>\n",
       "      <td>2024-01-19</td>\n",
       "      <td>2024-02-26</td>\n",
       "      <td>9.41</td>\n",
       "      <td>6</td>\n",
       "      <td>56.46</td>\n",
       "      <td>1</td>\n",
       "    </tr>\n",
       "    <tr>\n",
       "      <th>...</th>\n",
       "      <td>...</td>\n",
       "      <td>...</td>\n",
       "      <td>...</td>\n",
       "      <td>...</td>\n",
       "      <td>...</td>\n",
       "      <td>...</td>\n",
       "      <td>...</td>\n",
       "      <td>...</td>\n",
       "      <td>...</td>\n",
       "      <td>...</td>\n",
       "      <td>...</td>\n",
       "      <td>...</td>\n",
       "      <td>...</td>\n",
       "      <td>...</td>\n",
       "      <td>...</td>\n",
       "      <td>...</td>\n",
       "    </tr>\n",
       "    <tr>\n",
       "      <th>2187</th>\n",
       "      <td>81_PEMBROKE_5215</td>\n",
       "      <td>81</td>\n",
       "      <td>5215</td>\n",
       "      <td>TGI Fridays Long Island Iced</td>\n",
       "      <td>1.75L</td>\n",
       "      <td>4466</td>\n",
       "      <td>AMERICAN VINTAGE BEVERAGE</td>\n",
       "      <td>13595</td>\n",
       "      <td>2024-12-20</td>\n",
       "      <td>2024-12-29</td>\n",
       "      <td>2025-01-04</td>\n",
       "      <td>2025-02-10</td>\n",
       "      <td>9.41</td>\n",
       "      <td>6</td>\n",
       "      <td>56.46</td>\n",
       "      <td>1</td>\n",
       "    </tr>\n",
       "    <tr>\n",
       "      <th>2188</th>\n",
       "      <td>62_KILMARNOCK_5255</td>\n",
       "      <td>62</td>\n",
       "      <td>5255</td>\n",
       "      <td>TGI Fridays Ultimte Mudslide</td>\n",
       "      <td>1.75L</td>\n",
       "      <td>4466</td>\n",
       "      <td>AMERICAN VINTAGE BEVERAGE</td>\n",
       "      <td>13595</td>\n",
       "      <td>2024-12-20</td>\n",
       "      <td>2024-12-28</td>\n",
       "      <td>2025-01-04</td>\n",
       "      <td>2025-02-10</td>\n",
       "      <td>9.35</td>\n",
       "      <td>5</td>\n",
       "      <td>46.75</td>\n",
       "      <td>1</td>\n",
       "    </tr>\n",
       "    <tr>\n",
       "      <th>2189</th>\n",
       "      <td>34_PITMERDEN_5215</td>\n",
       "      <td>34</td>\n",
       "      <td>5215</td>\n",
       "      <td>TGI Fridays Long Island Iced</td>\n",
       "      <td>1.75L</td>\n",
       "      <td>4466</td>\n",
       "      <td>AMERICAN VINTAGE BEVERAGE</td>\n",
       "      <td>13595</td>\n",
       "      <td>2024-12-20</td>\n",
       "      <td>2024-12-28</td>\n",
       "      <td>2025-01-04</td>\n",
       "      <td>2025-02-10</td>\n",
       "      <td>9.41</td>\n",
       "      <td>5</td>\n",
       "      <td>47.05</td>\n",
       "      <td>1</td>\n",
       "    </tr>\n",
       "    <tr>\n",
       "      <th>2190</th>\n",
       "      <td>6_GOULCREST_5215</td>\n",
       "      <td>6</td>\n",
       "      <td>5215</td>\n",
       "      <td>TGI Fridays Long Island Iced</td>\n",
       "      <td>1.75L</td>\n",
       "      <td>4466</td>\n",
       "      <td>AMERICAN VINTAGE BEVERAGE</td>\n",
       "      <td>13595</td>\n",
       "      <td>2024-12-20</td>\n",
       "      <td>2024-12-31</td>\n",
       "      <td>2025-01-04</td>\n",
       "      <td>2025-02-10</td>\n",
       "      <td>9.41</td>\n",
       "      <td>6</td>\n",
       "      <td>56.46</td>\n",
       "      <td>1</td>\n",
       "    </tr>\n",
       "    <tr>\n",
       "      <th>2191</th>\n",
       "      <td>35_HALIVAARA_5255</td>\n",
       "      <td>35</td>\n",
       "      <td>5255</td>\n",
       "      <td>TGI Fridays Ultimte Mudslide</td>\n",
       "      <td>1.75L</td>\n",
       "      <td>4466</td>\n",
       "      <td>AMERICAN VINTAGE BEVERAGE</td>\n",
       "      <td>13595</td>\n",
       "      <td>2024-12-20</td>\n",
       "      <td>2024-12-27</td>\n",
       "      <td>2025-01-04</td>\n",
       "      <td>2025-02-10</td>\n",
       "      <td>9.35</td>\n",
       "      <td>5</td>\n",
       "      <td>46.75</td>\n",
       "      <td>1</td>\n",
       "    </tr>\n",
       "  </tbody>\n",
       "</table>\n",
       "<p>2192 rows × 16 columns</p>\n",
       "</div>"
      ],
      "text/plain": [
       "              InventoryId  Store  Brand                   Description   Size  \\\n",
       "0        30_CULCHETH_5255     30   5255  TGI Fridays Ultimte Mudslide  1.75L   \n",
       "1       34_PITMERDEN_5215     34   5215  TGI Fridays Long Island Iced  1.75L   \n",
       "2     1_HARDERSFIELD_5255      1   5255  TGI Fridays Ultimte Mudslide  1.75L   \n",
       "3       38_GOULCREST_5215     38   5215  TGI Fridays Long Island Iced  1.75L   \n",
       "4     59_CLAETHORPES_5215     59   5215  TGI Fridays Long Island Iced  1.75L   \n",
       "...                   ...    ...    ...                           ...    ...   \n",
       "2187     81_PEMBROKE_5215     81   5215  TGI Fridays Long Island Iced  1.75L   \n",
       "2188   62_KILMARNOCK_5255     62   5255  TGI Fridays Ultimte Mudslide  1.75L   \n",
       "2189    34_PITMERDEN_5215     34   5215  TGI Fridays Long Island Iced  1.75L   \n",
       "2190     6_GOULCREST_5215      6   5215  TGI Fridays Long Island Iced  1.75L   \n",
       "2191    35_HALIVAARA_5255     35   5255  TGI Fridays Ultimte Mudslide  1.75L   \n",
       "\n",
       "      VendorNumber                   VendorName  PONumber      PODate  \\\n",
       "0             4466  AMERICAN VINTAGE BEVERAGE        8137  2023-12-22   \n",
       "1             4466  AMERICAN VINTAGE BEVERAGE        8137  2023-12-22   \n",
       "2             4466  AMERICAN VINTAGE BEVERAGE        8137  2023-12-22   \n",
       "3             4466  AMERICAN VINTAGE BEVERAGE        8207  2023-12-27   \n",
       "4             4466  AMERICAN VINTAGE BEVERAGE        8207  2023-12-27   \n",
       "...            ...                          ...       ...         ...   \n",
       "2187          4466  AMERICAN VINTAGE BEVERAGE       13595  2024-12-20   \n",
       "2188          4466  AMERICAN VINTAGE BEVERAGE       13595  2024-12-20   \n",
       "2189          4466  AMERICAN VINTAGE BEVERAGE       13595  2024-12-20   \n",
       "2190          4466  AMERICAN VINTAGE BEVERAGE       13595  2024-12-20   \n",
       "2191          4466  AMERICAN VINTAGE BEVERAGE       13595  2024-12-20   \n",
       "\n",
       "     ReceivingDate InvoiceDate     PayDate  PurchasePrice  Quantity  Dollars  \\\n",
       "0       2024-01-01  2024-01-07  2024-02-21           9.35         4    37.40   \n",
       "1       2024-01-02  2024-01-07  2024-02-21           9.41         5    47.05   \n",
       "2       2024-01-01  2024-01-07  2024-02-21           9.35         6    56.10   \n",
       "3       2024-01-07  2024-01-19  2024-02-26           9.41         6    56.46   \n",
       "4       2024-01-05  2024-01-19  2024-02-26           9.41         6    56.46   \n",
       "...            ...         ...         ...            ...       ...      ...   \n",
       "2187    2024-12-29  2025-01-04  2025-02-10           9.41         6    56.46   \n",
       "2188    2024-12-28  2025-01-04  2025-02-10           9.35         5    46.75   \n",
       "2189    2024-12-28  2025-01-04  2025-02-10           9.41         5    47.05   \n",
       "2190    2024-12-31  2025-01-04  2025-02-10           9.41         6    56.46   \n",
       "2191    2024-12-27  2025-01-04  2025-02-10           9.35         5    46.75   \n",
       "\n",
       "      Classification  \n",
       "0                  1  \n",
       "1                  1  \n",
       "2                  1  \n",
       "3                  1  \n",
       "4                  1  \n",
       "...              ...  \n",
       "2187               1  \n",
       "2188               1  \n",
       "2189               1  \n",
       "2190               1  \n",
       "2191               1  \n",
       "\n",
       "[2192 rows x 16 columns]"
      ]
     },
     "execution_count": 14,
     "metadata": {},
     "output_type": "execute_result"
    }
   ],
   "source": [
    "purchases"
   ]
  },
  {
   "cell_type": "markdown",
   "id": "29174d0f",
   "metadata": {},
   "source": [
    "From the columns of the `vendor_invoices` table and `purchase_prices` we get the table `purchases`"
   ]
  },
  {
   "cell_type": "code",
   "execution_count": 15,
   "id": "d166b0ce",
   "metadata": {},
   "outputs": [
    {
     "data": {
      "text/html": [
       "<div>\n",
       "<style scoped>\n",
       "    .dataframe tbody tr th:only-of-type {\n",
       "        vertical-align: middle;\n",
       "    }\n",
       "\n",
       "    .dataframe tbody tr th {\n",
       "        vertical-align: top;\n",
       "    }\n",
       "\n",
       "    .dataframe thead th {\n",
       "        text-align: right;\n",
       "    }\n",
       "</style>\n",
       "<table border=\"1\" class=\"dataframe\">\n",
       "  <thead>\n",
       "    <tr style=\"text-align: right;\">\n",
       "      <th></th>\n",
       "      <th>SalesQuantity</th>\n",
       "      <th>SalesDollars</th>\n",
       "      <th>SalesPrice</th>\n",
       "    </tr>\n",
       "    <tr>\n",
       "      <th>Brand</th>\n",
       "      <th></th>\n",
       "      <th></th>\n",
       "      <th></th>\n",
       "    </tr>\n",
       "  </thead>\n",
       "  <tbody>\n",
       "    <tr>\n",
       "      <th>3140</th>\n",
       "      <td>3890</td>\n",
       "      <td>50531.10</td>\n",
       "      <td>30071.85</td>\n",
       "    </tr>\n",
       "    <tr>\n",
       "      <th>5215</th>\n",
       "      <td>4651</td>\n",
       "      <td>60416.49</td>\n",
       "      <td>41542.02</td>\n",
       "    </tr>\n",
       "    <tr>\n",
       "      <th>5255</th>\n",
       "      <td>6096</td>\n",
       "      <td>79187.04</td>\n",
       "      <td>51180.60</td>\n",
       "    </tr>\n",
       "  </tbody>\n",
       "</table>\n",
       "</div>"
      ],
      "text/plain": [
       "       SalesQuantity  SalesDollars  SalesPrice\n",
       "Brand                                         \n",
       "3140            3890      50531.10    30071.85\n",
       "5215            4651      60416.49    41542.02\n",
       "5255            6096      79187.04    51180.60"
      ]
     },
     "execution_count": 15,
     "metadata": {},
     "output_type": "execute_result"
    }
   ],
   "source": [
    "sales.groupby('Brand')[['SalesQuantity', 'SalesDollars', 'SalesPrice']].sum()"
   ]
  },
  {
   "cell_type": "markdown",
   "id": "946edef4",
   "metadata": {},
   "source": [
    "### `Describing the dataset`"
   ]
  },
  {
   "cell_type": "markdown",
   "id": "ae264b64",
   "metadata": {},
   "source": [
    "- The `purchase` table contains actual purchase data, including the data of purchase, products purchased by vendors, the amount paid in dollars and the quantity of the purchase.\n",
    "\n",
    "- The `purchase_price` column is derived from `purchase_prices` table, which provides product-wise actual and purchase prices. The combination of vendor and and brand is unique in the table.\n",
    "\n",
    "- The `vendor_invoice` table aggregates data from the `purchases` table, summarizing the quantity and dollar amounts, along with an additional column for freight. This table uniqueness based on vendor and PONumber.\n",
    "\n",
    "- The `sales` table captures actual sales transactions, detailing the brands purchased bt the vendors, the quantity sold, the selling price and the revenue earned. "
   ]
  },
  {
   "cell_type": "markdown",
   "id": "454a39e7",
   "metadata": {},
   "source": [
    "#### As data we need for the analysis is distributed in different tables, we need to create a summary table containing :  \n",
    "- Purchase transactions made by the vendors.  \n",
    "- Sales transaction date.  \n",
    "- Freight cost for each vendor."
   ]
  },
  {
   "cell_type": "code",
   "execution_count": 16,
   "id": "ec3f9541",
   "metadata": {},
   "outputs": [
    {
     "data": {
      "text/plain": [
       "Index(['VendorNumber', 'VendorName', 'InvoiceDate', 'PONumber', 'PODate',\n",
       "       'PayDate', 'Quantity', 'Dollars', 'Freight', 'Approval'],\n",
       "      dtype='object')"
      ]
     },
     "execution_count": 16,
     "metadata": {},
     "output_type": "execute_result"
    }
   ],
   "source": [
    "vendor_invoice.columns"
   ]
  },
  {
   "cell_type": "code",
   "execution_count": 17,
   "id": "712938a0",
   "metadata": {},
   "outputs": [
    {
     "data": {
      "text/html": [
       "<div>\n",
       "<style scoped>\n",
       "    .dataframe tbody tr th:only-of-type {\n",
       "        vertical-align: middle;\n",
       "    }\n",
       "\n",
       "    .dataframe tbody tr th {\n",
       "        vertical-align: top;\n",
       "    }\n",
       "\n",
       "    .dataframe thead th {\n",
       "        text-align: right;\n",
       "    }\n",
       "</style>\n",
       "<table border=\"1\" class=\"dataframe\">\n",
       "  <thead>\n",
       "    <tr style=\"text-align: right;\">\n",
       "      <th></th>\n",
       "      <th>VendorNumber</th>\n",
       "      <th>FreightCost</th>\n",
       "    </tr>\n",
       "  </thead>\n",
       "  <tbody>\n",
       "    <tr>\n",
       "      <th>0</th>\n",
       "      <td>2</td>\n",
       "      <td>27.08</td>\n",
       "    </tr>\n",
       "    <tr>\n",
       "      <th>1</th>\n",
       "      <td>54</td>\n",
       "      <td>0.48</td>\n",
       "    </tr>\n",
       "    <tr>\n",
       "      <th>2</th>\n",
       "      <td>60</td>\n",
       "      <td>367.52</td>\n",
       "    </tr>\n",
       "    <tr>\n",
       "      <th>3</th>\n",
       "      <td>105</td>\n",
       "      <td>62.39</td>\n",
       "    </tr>\n",
       "    <tr>\n",
       "      <th>4</th>\n",
       "      <td>200</td>\n",
       "      <td>6.19</td>\n",
       "    </tr>\n",
       "    <tr>\n",
       "      <th>...</th>\n",
       "      <td>...</td>\n",
       "      <td>...</td>\n",
       "    </tr>\n",
       "    <tr>\n",
       "      <th>121</th>\n",
       "      <td>98450</td>\n",
       "      <td>856.02</td>\n",
       "    </tr>\n",
       "    <tr>\n",
       "      <th>122</th>\n",
       "      <td>99166</td>\n",
       "      <td>130.09</td>\n",
       "    </tr>\n",
       "    <tr>\n",
       "      <th>123</th>\n",
       "      <td>172662</td>\n",
       "      <td>178.34</td>\n",
       "    </tr>\n",
       "    <tr>\n",
       "      <th>124</th>\n",
       "      <td>173357</td>\n",
       "      <td>202.50</td>\n",
       "    </tr>\n",
       "    <tr>\n",
       "      <th>125</th>\n",
       "      <td>201359</td>\n",
       "      <td>0.09</td>\n",
       "    </tr>\n",
       "  </tbody>\n",
       "</table>\n",
       "<p>126 rows × 2 columns</p>\n",
       "</div>"
      ],
      "text/plain": [
       "     VendorNumber  FreightCost\n",
       "0               2        27.08\n",
       "1              54         0.48\n",
       "2              60       367.52\n",
       "3             105        62.39\n",
       "4             200         6.19\n",
       "..            ...          ...\n",
       "121         98450       856.02\n",
       "122         99166       130.09\n",
       "123        172662       178.34\n",
       "124        173357       202.50\n",
       "125        201359         0.09\n",
       "\n",
       "[126 rows x 2 columns]"
      ]
     },
     "execution_count": 17,
     "metadata": {},
     "output_type": "execute_result"
    }
   ],
   "source": [
    "freight_summary= pd.read_sql_query(\"\"\"SELECT VendorNumber, sum(Freight) as FreightCost\n",
    "                                   FROM vendor_invoice\n",
    "                                   GROUP BY VendorNumber\"\"\", conn)\n",
    "freight_summary"
   ]
  },
  {
   "cell_type": "code",
   "execution_count": 18,
   "id": "eedbe4ab",
   "metadata": {},
   "outputs": [
    {
     "data": {
      "text/plain": [
       "Index(['InventoryId', 'Store', 'Brand', 'Description', 'Size', 'VendorNumber',\n",
       "       'VendorName', 'PONumber', 'PODate', 'ReceivingDate', 'InvoiceDate',\n",
       "       'PayDate', 'PurchasePrice', 'Quantity', 'Dollars', 'Classification'],\n",
       "      dtype='object')"
      ]
     },
     "execution_count": 18,
     "metadata": {},
     "output_type": "execute_result"
    }
   ],
   "source": [
    "purchases.columns"
   ]
  },
  {
   "cell_type": "code",
   "execution_count": 19,
   "id": "1d5befc7",
   "metadata": {},
   "outputs": [
    {
     "data": {
      "text/plain": [
       "Index(['Brand', 'Description', 'Price', 'Size', 'Volume', 'Classification',\n",
       "       'PurchasePrice', 'VendorNumber', 'VendorName'],\n",
       "      dtype='object')"
      ]
     },
     "execution_count": 19,
     "metadata": {},
     "output_type": "execute_result"
    }
   ],
   "source": [
    "purchase_prices.columns"
   ]
  },
  {
   "cell_type": "code",
   "execution_count": 20,
   "id": "4a591c76",
   "metadata": {},
   "outputs": [
    {
     "data": {
      "text/html": [
       "<div>\n",
       "<style scoped>\n",
       "    .dataframe tbody tr th:only-of-type {\n",
       "        vertical-align: middle;\n",
       "    }\n",
       "\n",
       "    .dataframe tbody tr th {\n",
       "        vertical-align: top;\n",
       "    }\n",
       "\n",
       "    .dataframe thead th {\n",
       "        text-align: right;\n",
       "    }\n",
       "</style>\n",
       "<table border=\"1\" class=\"dataframe\">\n",
       "  <thead>\n",
       "    <tr style=\"text-align: right;\">\n",
       "      <th></th>\n",
       "      <th>VendorNumber</th>\n",
       "      <th>VendorName</th>\n",
       "      <th>Brand</th>\n",
       "      <th>PurchasePrice</th>\n",
       "      <th>TotalPurchasePrice</th>\n",
       "      <th>TotalPurchaseQuantity</th>\n",
       "      <th>Volume</th>\n",
       "      <th>ActualPrice</th>\n",
       "    </tr>\n",
       "  </thead>\n",
       "  <tbody>\n",
       "    <tr>\n",
       "      <th>0</th>\n",
       "      <td>8004</td>\n",
       "      <td>SAZERAC CO INC</td>\n",
       "      <td>5683</td>\n",
       "      <td>0.39</td>\n",
       "      <td>0.39</td>\n",
       "      <td>6</td>\n",
       "      <td>50</td>\n",
       "      <td>0.49</td>\n",
       "    </tr>\n",
       "    <tr>\n",
       "      <th>1</th>\n",
       "      <td>10754</td>\n",
       "      <td>PERFECTA WINES</td>\n",
       "      <td>902</td>\n",
       "      <td>0.64</td>\n",
       "      <td>0.64</td>\n",
       "      <td>24</td>\n",
       "      <td>375</td>\n",
       "      <td>0.99</td>\n",
       "    </tr>\n",
       "    <tr>\n",
       "      <th>2</th>\n",
       "      <td>7245</td>\n",
       "      <td>PROXIMO SPIRITS INC.</td>\n",
       "      <td>3065</td>\n",
       "      <td>0.71</td>\n",
       "      <td>0.71</td>\n",
       "      <td>1</td>\n",
       "      <td>50</td>\n",
       "      <td>0.99</td>\n",
       "    </tr>\n",
       "    <tr>\n",
       "      <th>3</th>\n",
       "      <td>9552</td>\n",
       "      <td>M S WALKER INC</td>\n",
       "      <td>8151</td>\n",
       "      <td>0.71</td>\n",
       "      <td>0.71</td>\n",
       "      <td>8</td>\n",
       "      <td>50</td>\n",
       "      <td>0.99</td>\n",
       "    </tr>\n",
       "    <tr>\n",
       "      <th>4</th>\n",
       "      <td>11567</td>\n",
       "      <td>CAMPARI AMERICA</td>\n",
       "      <td>3371</td>\n",
       "      <td>0.71</td>\n",
       "      <td>0.71</td>\n",
       "      <td>40</td>\n",
       "      <td>50</td>\n",
       "      <td>0.99</td>\n",
       "    </tr>\n",
       "    <tr>\n",
       "      <th>...</th>\n",
       "      <td>...</td>\n",
       "      <td>...</td>\n",
       "      <td>...</td>\n",
       "      <td>...</td>\n",
       "      <td>...</td>\n",
       "      <td>...</td>\n",
       "      <td>...</td>\n",
       "      <td>...</td>\n",
       "    </tr>\n",
       "    <tr>\n",
       "      <th>10687</th>\n",
       "      <td>17035</td>\n",
       "      <td>PERNOD RICARD USA</td>\n",
       "      <td>2589</td>\n",
       "      <td>30.76</td>\n",
       "      <td>135220.96</td>\n",
       "      <td>70783</td>\n",
       "      <td>1750</td>\n",
       "      <td>39.99</td>\n",
       "    </tr>\n",
       "    <tr>\n",
       "      <th>10688</th>\n",
       "      <td>3960</td>\n",
       "      <td>DIAGEO NORTH AMERICA INC</td>\n",
       "      <td>8680</td>\n",
       "      <td>28.88</td>\n",
       "      <td>137439.92</td>\n",
       "      <td>47546</td>\n",
       "      <td>1750</td>\n",
       "      <td>39.99</td>\n",
       "    </tr>\n",
       "    <tr>\n",
       "      <th>10689</th>\n",
       "      <td>3960</td>\n",
       "      <td>DIAGEO NORTH AMERICA INC</td>\n",
       "      <td>3545</td>\n",
       "      <td>21.89</td>\n",
       "      <td>138476.14</td>\n",
       "      <td>138109</td>\n",
       "      <td>1750</td>\n",
       "      <td>29.99</td>\n",
       "    </tr>\n",
       "    <tr>\n",
       "      <th>10690</th>\n",
       "      <td>4425</td>\n",
       "      <td>MARTIGNETTI COMPANIES</td>\n",
       "      <td>3405</td>\n",
       "      <td>23.19</td>\n",
       "      <td>150874.14</td>\n",
       "      <td>164038</td>\n",
       "      <td>1750</td>\n",
       "      <td>28.99</td>\n",
       "    </tr>\n",
       "    <tr>\n",
       "      <th>10691</th>\n",
       "      <td>1128</td>\n",
       "      <td>BROWN-FORMAN CORP</td>\n",
       "      <td>1233</td>\n",
       "      <td>26.27</td>\n",
       "      <td>172961.68</td>\n",
       "      <td>145080</td>\n",
       "      <td>1750</td>\n",
       "      <td>36.99</td>\n",
       "    </tr>\n",
       "  </tbody>\n",
       "</table>\n",
       "<p>10692 rows × 8 columns</p>\n",
       "</div>"
      ],
      "text/plain": [
       "       VendorNumber                   VendorName  Brand  PurchasePrice  \\\n",
       "0              8004  SAZERAC CO INC                5683           0.39   \n",
       "1             10754  PERFECTA WINES                 902           0.64   \n",
       "2              7245  PROXIMO SPIRITS INC.          3065           0.71   \n",
       "3              9552  M S WALKER INC                8151           0.71   \n",
       "4             11567  CAMPARI AMERICA               3371           0.71   \n",
       "...             ...                          ...    ...            ...   \n",
       "10687         17035  PERNOD RICARD USA             2589          30.76   \n",
       "10688          3960  DIAGEO NORTH AMERICA INC      8680          28.88   \n",
       "10689          3960  DIAGEO NORTH AMERICA INC      3545          21.89   \n",
       "10690          4425        MARTIGNETTI COMPANIES   3405          23.19   \n",
       "10691          1128  BROWN-FORMAN CORP             1233          26.27   \n",
       "\n",
       "       TotalPurchasePrice  TotalPurchaseQuantity Volume  ActualPrice  \n",
       "0                    0.39                      6     50         0.49  \n",
       "1                    0.64                     24    375         0.99  \n",
       "2                    0.71                      1     50         0.99  \n",
       "3                    0.71                      8     50         0.99  \n",
       "4                    0.71                     40     50         0.99  \n",
       "...                   ...                    ...    ...          ...  \n",
       "10687           135220.96                  70783   1750        39.99  \n",
       "10688           137439.92                  47546   1750        39.99  \n",
       "10689           138476.14                 138109   1750        29.99  \n",
       "10690           150874.14                 164038   1750        28.99  \n",
       "10691           172961.68                 145080   1750        36.99  \n",
       "\n",
       "[10692 rows x 8 columns]"
      ]
     },
     "execution_count": 20,
     "metadata": {},
     "output_type": "execute_result"
    }
   ],
   "source": [
    "pd.read_sql_query(\"\"\"SELECT \n",
    "                  p.VendorNumber,\n",
    "                  p.VendorName,\n",
    "                  p.Brand,\n",
    "                  p.PurchasePrice,\n",
    "                  SUM(p.PurchasePrice) as TotalPurchasePrice,\n",
    "                  SUM(p.Quantity) as TotalPurchaseQuantity,\n",
    "                  pp.Volume,\n",
    "                  pp.Price as ActualPrice\n",
    "                  FROM purchases as p\n",
    "                  JOIN purchase_prices as pp\n",
    "                  ON p.Brand = pp.Brand\n",
    "                  WHERE p.PurchasePrice > 0\n",
    "                  GROUP BY p.VendorNumber, p.VendorName, p.Brand\n",
    "                  ORDER BY TotalPurchasePrice\"\"\", conn)"
   ]
  },
  {
   "cell_type": "code",
   "execution_count": 21,
   "id": "2cacf02c",
   "metadata": {},
   "outputs": [
    {
     "data": {
      "text/plain": [
       "Index(['InventoryId', 'Store', 'Brand', 'Description', 'Size', 'SalesQuantity',\n",
       "       'SalesDollars', 'SalesPrice', 'SalesDate', 'Volume', 'Classification',\n",
       "       'ExciseTax', 'VendorNo', 'VendorName'],\n",
       "      dtype='object')"
      ]
     },
     "execution_count": 21,
     "metadata": {},
     "output_type": "execute_result"
    }
   ],
   "source": [
    "sales.columns"
   ]
  },
  {
   "cell_type": "code",
   "execution_count": 22,
   "id": "a9dbb90f",
   "metadata": {},
   "outputs": [
    {
     "data": {
      "text/html": [
       "<div>\n",
       "<style scoped>\n",
       "    .dataframe tbody tr th:only-of-type {\n",
       "        vertical-align: middle;\n",
       "    }\n",
       "\n",
       "    .dataframe tbody tr th {\n",
       "        vertical-align: top;\n",
       "    }\n",
       "\n",
       "    .dataframe thead th {\n",
       "        text-align: right;\n",
       "    }\n",
       "</style>\n",
       "<table border=\"1\" class=\"dataframe\">\n",
       "  <thead>\n",
       "    <tr style=\"text-align: right;\">\n",
       "      <th></th>\n",
       "      <th>VendorNo</th>\n",
       "      <th>Brand</th>\n",
       "      <th>TotalSalesQuantity</th>\n",
       "      <th>TotalSalesDollar</th>\n",
       "      <th>TotalSalesPrice</th>\n",
       "      <th>TotalExciseTax</th>\n",
       "    </tr>\n",
       "  </thead>\n",
       "  <tbody>\n",
       "    <tr>\n",
       "      <th>0</th>\n",
       "      <td>516</td>\n",
       "      <td>18807</td>\n",
       "      <td>1</td>\n",
       "      <td>11.99</td>\n",
       "      <td>11.99</td>\n",
       "      <td>0.11</td>\n",
       "    </tr>\n",
       "    <tr>\n",
       "      <th>1</th>\n",
       "      <td>653</td>\n",
       "      <td>2581</td>\n",
       "      <td>1</td>\n",
       "      <td>49.99</td>\n",
       "      <td>49.99</td>\n",
       "      <td>0.79</td>\n",
       "    </tr>\n",
       "    <tr>\n",
       "      <th>2</th>\n",
       "      <td>653</td>\n",
       "      <td>8058</td>\n",
       "      <td>1</td>\n",
       "      <td>31.99</td>\n",
       "      <td>31.99</td>\n",
       "      <td>0.79</td>\n",
       "    </tr>\n",
       "    <tr>\n",
       "      <th>3</th>\n",
       "      <td>653</td>\n",
       "      <td>8060</td>\n",
       "      <td>1</td>\n",
       "      <td>21.99</td>\n",
       "      <td>21.99</td>\n",
       "      <td>0.11</td>\n",
       "    </tr>\n",
       "    <tr>\n",
       "      <th>4</th>\n",
       "      <td>653</td>\n",
       "      <td>9373</td>\n",
       "      <td>1</td>\n",
       "      <td>21.99</td>\n",
       "      <td>21.99</td>\n",
       "      <td>0.79</td>\n",
       "    </tr>\n",
       "    <tr>\n",
       "      <th>...</th>\n",
       "      <td>...</td>\n",
       "      <td>...</td>\n",
       "      <td>...</td>\n",
       "      <td>...</td>\n",
       "      <td>...</td>\n",
       "      <td>...</td>\n",
       "    </tr>\n",
       "    <tr>\n",
       "      <th>11267</th>\n",
       "      <td>10000</td>\n",
       "      <td>6570</td>\n",
       "      <td>214238</td>\n",
       "      <td>2326007.78</td>\n",
       "      <td>189608.96</td>\n",
       "      <td>24083.77</td>\n",
       "    </tr>\n",
       "    <tr>\n",
       "      <th>11268</th>\n",
       "      <td>3960</td>\n",
       "      <td>3606</td>\n",
       "      <td>225741</td>\n",
       "      <td>223483.59</td>\n",
       "      <td>21764.16</td>\n",
       "      <td>11842.95</td>\n",
       "    </tr>\n",
       "    <tr>\n",
       "      <th>11269</th>\n",
       "      <td>8004</td>\n",
       "      <td>5111</td>\n",
       "      <td>241963</td>\n",
       "      <td>239543.37</td>\n",
       "      <td>20941.47</td>\n",
       "      <td>12692.41</td>\n",
       "    </tr>\n",
       "    <tr>\n",
       "      <th>11270</th>\n",
       "      <td>3960</td>\n",
       "      <td>1892</td>\n",
       "      <td>253371</td>\n",
       "      <td>250837.29</td>\n",
       "      <td>20741.49</td>\n",
       "      <td>13295.86</td>\n",
       "    </tr>\n",
       "    <tr>\n",
       "      <th>11271</th>\n",
       "      <td>3960</td>\n",
       "      <td>8111</td>\n",
       "      <td>334939</td>\n",
       "      <td>331589.61</td>\n",
       "      <td>21424.59</td>\n",
       "      <td>17579.29</td>\n",
       "    </tr>\n",
       "  </tbody>\n",
       "</table>\n",
       "<p>11272 rows × 6 columns</p>\n",
       "</div>"
      ],
      "text/plain": [
       "       VendorNo  Brand  TotalSalesQuantity  TotalSalesDollar  TotalSalesPrice  \\\n",
       "0           516  18807                   1             11.99            11.99   \n",
       "1           653   2581                   1             49.99            49.99   \n",
       "2           653   8058                   1             31.99            31.99   \n",
       "3           653   8060                   1             21.99            21.99   \n",
       "4           653   9373                   1             21.99            21.99   \n",
       "...         ...    ...                 ...               ...              ...   \n",
       "11267     10000   6570              214238        2326007.78        189608.96   \n",
       "11268      3960   3606              225741         223483.59         21764.16   \n",
       "11269      8004   5111              241963         239543.37         20941.47   \n",
       "11270      3960   1892              253371         250837.29         20741.49   \n",
       "11271      3960   8111              334939         331589.61         21424.59   \n",
       "\n",
       "       TotalExciseTax  \n",
       "0                0.11  \n",
       "1                0.79  \n",
       "2                0.79  \n",
       "3                0.11  \n",
       "4                0.79  \n",
       "...               ...  \n",
       "11267        24083.77  \n",
       "11268        11842.95  \n",
       "11269        12692.41  \n",
       "11270        13295.86  \n",
       "11271        17579.29  \n",
       "\n",
       "[11272 rows x 6 columns]"
      ]
     },
     "execution_count": 22,
     "metadata": {},
     "output_type": "execute_result"
    }
   ],
   "source": [
    "pd.read_sql_query(\"\"\"SELECT \n",
    "                  VendorNo,\n",
    "                  Brand,\n",
    "                  sum(SalesQuantity) as TotalSalesQuantity,\n",
    "                  sum(SalesDollars) as TotalSalesDollar,\n",
    "                  sum(SalesPrice) as TotalSalesPrice,\n",
    "                  sum(ExciseTax) as TotalExciseTax\n",
    "                  FROM sales\n",
    "                  GROUP BY \n",
    "                  VendorNo,\n",
    "                  Brand\n",
    "                  ORDER BY TotalSalesQuantity\"\"\", conn)"
   ]
  },
  {
   "cell_type": "markdown",
   "id": "d6a48b08",
   "metadata": {},
   "source": [
    "### Final Table For our Analysis"
   ]
  },
  {
   "cell_type": "code",
   "execution_count": 23,
   "id": "20a6f093",
   "metadata": {},
   "outputs": [],
   "source": [
    "Vendor_Sales_Summary = pd.read_sql_query(\"\"\"\n",
    "with FreightSummary as (\n",
    "    SELECT \n",
    "        VendorNumber, \n",
    "        sum(Freight) as FreightCost\n",
    "    FROM vendor_invoice\n",
    "    GROUP BY VendorNumber                                         \n",
    "),\n",
    "PurchaseSummary as (\n",
    "    SELECT \n",
    "        p.VendorNumber,\n",
    "        p.VendorName,\n",
    "        p.Brand,\n",
    "        p.Description,\n",
    "        p.PurchasePrice,\n",
    "        SUM(p.Dollars) as TotalPurchaseDollars,\n",
    "        SUM(p.Quantity) as TotalPurchaseQuantity,\n",
    "        pp.Volume,\n",
    "        pp.Price as ActualPrice\n",
    "        FROM purchases as p\n",
    "        JOIN purchase_prices as pp\n",
    "        ON p.Brand = pp.Brand\n",
    "        WHERE p.PurchasePrice > 0\n",
    "        GROUP BY p.VendorNumber, p.VendorName, p.Brand                                   \n",
    "),\n",
    "SalesSummary as (\n",
    "    SELECT \n",
    "    VendorNo,\n",
    "    Brand,\n",
    "    sum(SalesQuantity) as TotalSalesQuantity,\n",
    "    sum(SalesDollars) as TotalSalesDollar,\n",
    "    sum(SalesPrice) as TotalSalesPrice,\n",
    "    sum(ExciseTax) as TotalExciseTax\n",
    "    FROM sales\n",
    "    GROUP BY \n",
    "    VendorNo,\n",
    "    Brand\n",
    ")\n",
    "SELECT\n",
    "    ps.VendorNumber,\n",
    "    ps.VendorName,\n",
    "    ps.Brand,\n",
    "    ps.Description,\n",
    "    ps.PurchasePrice,\n",
    "    ps.ActualPrice,\n",
    "    ps.Volume,\n",
    "    ps.TotalPurchaseQuantity,\n",
    "    ps.TotalPurchaseDollars,\n",
    "    ss.TotalSalesQuantity,\n",
    "    ss.TotalSalesDollar,\n",
    "    ss.TotalSalesPrice,\n",
    "    ss.TotalExciseTax,\n",
    "    fs.FreightCost       \n",
    "FROM PurchaseSummary as ps\n",
    "LEFT JOIN SalesSummary as ss\n",
    "    ON ps.VendorNumber = ss.VendorNo\n",
    "    AND ps.Brand = ss.Brand\n",
    "LEFT JOIN FreightSummary as  fs\n",
    "    ON ps.VendorNumber = fs.VendorNumber\n",
    "\"\"\", conn)\n"
   ]
  },
  {
   "cell_type": "code",
   "execution_count": 24,
   "id": "6c850f41",
   "metadata": {},
   "outputs": [
    {
     "data": {
      "text/html": [
       "<div>\n",
       "<style scoped>\n",
       "    .dataframe tbody tr th:only-of-type {\n",
       "        vertical-align: middle;\n",
       "    }\n",
       "\n",
       "    .dataframe tbody tr th {\n",
       "        vertical-align: top;\n",
       "    }\n",
       "\n",
       "    .dataframe thead th {\n",
       "        text-align: right;\n",
       "    }\n",
       "</style>\n",
       "<table border=\"1\" class=\"dataframe\">\n",
       "  <thead>\n",
       "    <tr style=\"text-align: right;\">\n",
       "      <th></th>\n",
       "      <th>VendorNumber</th>\n",
       "      <th>VendorName</th>\n",
       "      <th>Brand</th>\n",
       "      <th>Description</th>\n",
       "      <th>PurchasePrice</th>\n",
       "      <th>ActualPrice</th>\n",
       "      <th>Volume</th>\n",
       "      <th>TotalPurchaseQuantity</th>\n",
       "      <th>TotalPurchaseDollars</th>\n",
       "      <th>TotalSalesQuantity</th>\n",
       "      <th>TotalSalesDollar</th>\n",
       "      <th>TotalSalesPrice</th>\n",
       "      <th>TotalExciseTax</th>\n",
       "      <th>FreightCost</th>\n",
       "    </tr>\n",
       "  </thead>\n",
       "  <tbody>\n",
       "    <tr>\n",
       "      <th>0</th>\n",
       "      <td>2</td>\n",
       "      <td>IRA GOLDMAN AND WILLIAMS, LLP</td>\n",
       "      <td>90085</td>\n",
       "      <td>Ch Lilian 09 Ladouys St Este</td>\n",
       "      <td>23.86</td>\n",
       "      <td>36.99</td>\n",
       "      <td>750</td>\n",
       "      <td>8</td>\n",
       "      <td>190.88</td>\n",
       "      <td>18.0</td>\n",
       "      <td>665.82</td>\n",
       "      <td>295.92</td>\n",
       "      <td>2.00</td>\n",
       "      <td>27.08</td>\n",
       "    </tr>\n",
       "    <tr>\n",
       "      <th>1</th>\n",
       "      <td>2</td>\n",
       "      <td>IRA GOLDMAN AND WILLIAMS, LLP</td>\n",
       "      <td>90609</td>\n",
       "      <td>Flavor Essence Variety 5 Pak</td>\n",
       "      <td>17.00</td>\n",
       "      <td>24.99</td>\n",
       "      <td>162.5</td>\n",
       "      <td>320</td>\n",
       "      <td>5440.00</td>\n",
       "      <td>24.0</td>\n",
       "      <td>599.76</td>\n",
       "      <td>449.82</td>\n",
       "      <td>0.52</td>\n",
       "      <td>27.08</td>\n",
       "    </tr>\n",
       "    <tr>\n",
       "      <th>2</th>\n",
       "      <td>54</td>\n",
       "      <td>AAPER ALCOHOL &amp; CHEMICAL CO</td>\n",
       "      <td>990</td>\n",
       "      <td>Ethyl Alcohol 200 Proof</td>\n",
       "      <td>105.07</td>\n",
       "      <td>134.49</td>\n",
       "      <td>3750</td>\n",
       "      <td>1</td>\n",
       "      <td>105.07</td>\n",
       "      <td>NaN</td>\n",
       "      <td>NaN</td>\n",
       "      <td>NaN</td>\n",
       "      <td>NaN</td>\n",
       "      <td>0.48</td>\n",
       "    </tr>\n",
       "    <tr>\n",
       "      <th>3</th>\n",
       "      <td>60</td>\n",
       "      <td>ADAMBA IMPORTS INTL INC</td>\n",
       "      <td>771</td>\n",
       "      <td>Bak's Krupnik Honey Liqueur</td>\n",
       "      <td>11.44</td>\n",
       "      <td>14.99</td>\n",
       "      <td>750</td>\n",
       "      <td>39</td>\n",
       "      <td>446.16</td>\n",
       "      <td>47.0</td>\n",
       "      <td>704.53</td>\n",
       "      <td>494.67</td>\n",
       "      <td>37.01</td>\n",
       "      <td>367.52</td>\n",
       "    </tr>\n",
       "    <tr>\n",
       "      <th>4</th>\n",
       "      <td>60</td>\n",
       "      <td>ADAMBA IMPORTS INTL INC</td>\n",
       "      <td>3401</td>\n",
       "      <td>Vesica Vodka</td>\n",
       "      <td>11.10</td>\n",
       "      <td>14.99</td>\n",
       "      <td>1750</td>\n",
       "      <td>6</td>\n",
       "      <td>66.60</td>\n",
       "      <td>NaN</td>\n",
       "      <td>NaN</td>\n",
       "      <td>NaN</td>\n",
       "      <td>NaN</td>\n",
       "      <td>367.52</td>\n",
       "    </tr>\n",
       "  </tbody>\n",
       "</table>\n",
       "</div>"
      ],
      "text/plain": [
       "   VendorNumber                               VendorName  Brand  \\\n",
       "0             2  IRA GOLDMAN AND WILLIAMS, LLP            90085   \n",
       "1             2  IRA GOLDMAN AND WILLIAMS, LLP            90609   \n",
       "2            54              AAPER ALCOHOL & CHEMICAL CO    990   \n",
       "3            60              ADAMBA IMPORTS INTL INC        771   \n",
       "4            60              ADAMBA IMPORTS INTL INC       3401   \n",
       "\n",
       "                    Description  PurchasePrice  ActualPrice Volume  \\\n",
       "0  Ch Lilian 09 Ladouys St Este          23.86        36.99    750   \n",
       "1  Flavor Essence Variety 5 Pak          17.00        24.99  162.5   \n",
       "2       Ethyl Alcohol 200 Proof         105.07       134.49   3750   \n",
       "3   Bak's Krupnik Honey Liqueur          11.44        14.99    750   \n",
       "4                  Vesica Vodka          11.10        14.99   1750   \n",
       "\n",
       "   TotalPurchaseQuantity  TotalPurchaseDollars  TotalSalesQuantity  \\\n",
       "0                      8                190.88                18.0   \n",
       "1                    320               5440.00                24.0   \n",
       "2                      1                105.07                 NaN   \n",
       "3                     39                446.16                47.0   \n",
       "4                      6                 66.60                 NaN   \n",
       "\n",
       "   TotalSalesDollar  TotalSalesPrice  TotalExciseTax  FreightCost  \n",
       "0            665.82           295.92            2.00        27.08  \n",
       "1            599.76           449.82            0.52        27.08  \n",
       "2               NaN              NaN             NaN         0.48  \n",
       "3            704.53           494.67           37.01       367.52  \n",
       "4               NaN              NaN             NaN       367.52  "
      ]
     },
     "execution_count": 24,
     "metadata": {},
     "output_type": "execute_result"
    }
   ],
   "source": [
    "Vendor_Sales_Summary.head()"
   ]
  },
  {
   "cell_type": "markdown",
   "id": "0e30e062",
   "metadata": {},
   "source": [
    "This query generates a vendor-wise sales and purchase summary, which is valuable for:  \n",
    "\n",
    "#### *Performance  Optimization:*  \n",
    "- The query involves heavy joins and aggregations on large datasets like sales and purchases.\n",
    "- Storing the pre-aggregated results avoid repeated expensive cumputations.\n",
    "- Helps in analyzing sales, purchases and pricing for different vendors and brands.\n",
    "- Future benefits of storing this data for faster Dashboarding & reporting.\n",
    "- Instead of running expensive queries each time, dashboards can fetch data quickly from `vendor_sales_summary` table. "
   ]
  },
  {
   "cell_type": "markdown",
   "id": "2ffd2d8d",
   "metadata": {},
   "source": [
    "### Data Cleaning and Analysis Of the Final Table `vendor_sales_summary`"
   ]
  },
  {
   "cell_type": "code",
   "execution_count": 25,
   "id": "a8660138",
   "metadata": {},
   "outputs": [
    {
     "data": {
      "text/plain": [
       "VendorNumber               int64\n",
       "VendorName                object\n",
       "Brand                      int64\n",
       "Description               object\n",
       "PurchasePrice            float64\n",
       "ActualPrice              float64\n",
       "Volume                    object\n",
       "TotalPurchaseQuantity      int64\n",
       "TotalPurchaseDollars     float64\n",
       "TotalSalesQuantity       float64\n",
       "TotalSalesDollar         float64\n",
       "TotalSalesPrice          float64\n",
       "TotalExciseTax           float64\n",
       "FreightCost              float64\n",
       "dtype: object"
      ]
     },
     "execution_count": 25,
     "metadata": {},
     "output_type": "execute_result"
    }
   ],
   "source": [
    "Vendor_Sales_Summary.dtypes"
   ]
  },
  {
   "cell_type": "markdown",
   "id": "4bdaaeba",
   "metadata": {},
   "source": [
    "The data type of  column `Volume`  should be int."
   ]
  },
  {
   "cell_type": "code",
   "execution_count": 26,
   "id": "8dd75ed8",
   "metadata": {},
   "outputs": [
    {
     "data": {
      "text/plain": [
       "VendorNumber               0\n",
       "VendorName                 0\n",
       "Brand                      0\n",
       "Description                0\n",
       "PurchasePrice              0\n",
       "ActualPrice                0\n",
       "Volume                     0\n",
       "TotalPurchaseQuantity      0\n",
       "TotalPurchaseDollars       0\n",
       "TotalSalesQuantity       178\n",
       "TotalSalesDollar         178\n",
       "TotalSalesPrice          178\n",
       "TotalExciseTax           178\n",
       "FreightCost                0\n",
       "dtype: int64"
      ]
     },
     "execution_count": 26,
     "metadata": {},
     "output_type": "execute_result"
    }
   ],
   "source": [
    "Vendor_Sales_Summary.isnull().sum()"
   ]
  },
  {
   "cell_type": "markdown",
   "id": "e9c650c3",
   "metadata": {},
   "source": [
    "The nulls in the `TotalSalesQuantity`, `TotalSalesDollar`, `TotalSalesPrice` & `TotalExciseTax` tells us that some vendors have purchased the item but never sold them."
   ]
  },
  {
   "cell_type": "code",
   "execution_count": 27,
   "id": "a5c4a6a7",
   "metadata": {},
   "outputs": [
    {
     "data": {
      "text/plain": [
       "array(['IRA GOLDMAN AND WILLIAMS, LLP          ',\n",
       "       'AAPER ALCOHOL & CHEMICAL CO', 'ADAMBA IMPORTS INTL INC    ',\n",
       "       'ALTAMAR BRANDS LLC         ', 'AMERICAN SPIRITS EXCHANGE  ',\n",
       "       'APPOLO VINEYARDS LLC       ', 'ATLANTIC IMPORTING COMPANY ',\n",
       "       'BACARDI USA INC            ', 'BANFI PRODUCTS CORP        ',\n",
       "       'STATE WINE & SPIRITS   ', 'SAZERAC NORTH AMERICA INC. ',\n",
       "       'BRONCO WINE COMPANY        ', 'BROWN-FORMAN CORP          ',\n",
       "       'BULLY BOY DISTILLERS       ', 'BLACK ROCK SPIRITS LLC     ',\n",
       "       'CALEDONIA SPIRITS INC      ', 'CONSTELLATION BRANDS INC   ',\n",
       "       'CAPSTONE INTERNATIONAL     ', 'CASTLE BRANDS CORP.        ',\n",
       "       'VINEYARD BRANDS INC        ', 'VINEYARD BRANDS LLC        ',\n",
       "       'DIAGEO CHATEAU ESTATE WINES', 'VRANKEN AMERICA            ',\n",
       "       'Circa Wines                ', 'FABRIZIA SPIRITS LLC       ',\n",
       "       'ALISA CARR BEVERAGES           ', 'SOUTHERN GLAZERS W&S OF NE ',\n",
       "       'SOUTHERN WINE & SPIRITS NE ', 'DELICATO VINEYARDS INC     ',\n",
       "       'BLACK PRINCE DISTILLERY INC', 'DJINN SPIRITS LLC          ',\n",
       "       'DUGGANS DISTILLED PRODUCTS ', 'DISARONNO INTERNATIONAL LLC',\n",
       "       'EDRINGTON AMERICAS         ', 'CENTEUR IMPORTS LLC        ',\n",
       "       'SIDNEY FRANK IMPORTING CO  ', 'E & J GALLO WINERY         ',\n",
       "       'GILMANTON WINERY & VINEYARD', 'WILLIAM GRANT & SONS INC   ',\n",
       "       'HEAVEN HILL DISTILLERIES   ', 'HOOD RIVER DISTILLERS, Inc.',\n",
       "       'HIGHLAND WINE MERCHANTS LLC', 'DIAGEO NORTH AMERICA INC   ',\n",
       "       'CHARLES JACQUIN ET CIE INC ', 'MARTIGNETTI COMPANIES',\n",
       "       'MARTIGNETTI COMPANIES ', 'AMERICAN VINTAGE BEVERAGE  ',\n",
       "       'KLIN SPIRITS LLC           ', 'KOBRAND CORPORATION        ',\n",
       "       'LAIRD & CO                 ', 'LAUREATE IMPORTS CO        ',\n",
       "       'LATITUDE BEVERAGE COMPANY  ', 'LOYAL DOG WINERY           ',\n",
       "       'MANGO BOTTLING INC         ', 'MARSALLE COMPANY           ',\n",
       "       'MILTONS DISTRIBUTING CO    ', 'MCCORMICK DISTILLING CO    ',\n",
       "       'MHW LTD                    ', 'MOONLIGHT MEADERY          ',\n",
       "       'UNCORKED       ', 'NICHE W & S                ',\n",
       "       'OLE SMOKY DISTILLERY LLC   ', 'PALM BAY INTERNATIONAL INC ',\n",
       "       'PARK STREET IMPORTS LLC    ', 'PINE STATE TRADING CO      ',\n",
       "       'PREMIER DISTRIBUTORS       ', 'REMY COINTREAU USA INC     ',\n",
       "       'PREMIUM PORT WINES, INC.   ', 'PROXIMO SPIRITS INC.       ',\n",
       "       'PSP WINES ', 'R.P.IMPORTS INC            ',\n",
       "       'SAZERAC CO INC             ', 'MOET HENNESSY USA INC      ',\n",
       "       'SEA HAGG DISTILLERY LLC    ', 'SHAW ROSS INT L IMP LTD    ',\n",
       "       'LUXCO INC                  ', 'STAR INDUSTRIES INC.       ',\n",
       "       'STOLI GROUP,(USA) LLC      ', 'STE MICHELLE WINE ESTATES  ',\n",
       "       'SURVILLE ENTERPRISES CORP  ', 'TRINCHERO FAMILY ESTATES   ',\n",
       "       'TAKARA SAKE USA INC        ', 'TRUETT HURST               ',\n",
       "       'ULTRA BEVERAGE COMPANY LLP ', 'PHILLIPS PRODUCTS CO.      ',\n",
       "       'TY KU LLC                  ', 'M S WALKER INC             ',\n",
       "       'WEIN BAUER INC             ', 'WESTERN SPIRITS BEVERAGE CO',\n",
       "       'FREDERICK WILDMAN & SONS   ', 'VINEDREA WINES LLC         ',\n",
       "       'WINE GROUP INC             ', 'TREASURY WINE ESTATES      ',\n",
       "       'MAJESTIC FINE WINES        ', 'Russian Standard Vodka     ',\n",
       "       'PERFECTA WINES             ', 'CAMPARI AMERICA            ',\n",
       "       'STELLAR IMPORTING CO LLC   ', 'JIM BEAM BRANDS COMPANY    ',\n",
       "       'FLAG HILL WINERY & VINEYARD', 'JEWELL TOWNE VINEYARDS     ',\n",
       "       'SEA BREEZE CELLARS LLC     ', 'PERNOD RICARD USA          ',\n",
       "       'Dunn Wine Brokers          ', 'SMOKY QUARTZ DISTILLERY LLC',\n",
       "       'TALL SHIP DISTILLERY LLC   ', 'VINEXTRA INC               ',\n",
       "       'FORTUNE WINE BROKERS LLC   ', 'THE IMPORTED GRAPE LLC     ',\n",
       "       'VINILANDIA USA             ', 'SILVER MOUNTAIN CIDERS     ',\n",
       "       'POVERTY LANE ORCHARDS      ', 'LABELLE VYDS AND WINERY    ',\n",
       "       'FANTASY FINE WINES CORP    ', 'THE PIERPONT GROUP LLC     ',\n",
       "       'CANDIA VINEYARDS           ', 'CRUSH WINES                ',\n",
       "       'FULCHINO VINEYARD INC      ', 'HAUNTING WHISPER VYDS      ',\n",
       "       'INCREDIBREW INC            ', 'SWEET BABY VINEYARD        ',\n",
       "       'WALPOLE MTN VIEW WINERY    ', 'ZORVINO VINEYARDS          ',\n",
       "       'BLACK COVE BEVERAGES       ', 'Serralles Usa LLC          ',\n",
       "       'STARK BREWING COMPANY      ', 'SWEETWATER FARM         ',\n",
       "       'TAMWORTH DISTILLING        ', 'FLAVOR ESSENCE INC         '],\n",
       "      dtype=object)"
      ]
     },
     "execution_count": 27,
     "metadata": {},
     "output_type": "execute_result"
    }
   ],
   "source": [
    "# We can see the irrelevent white spaces in the VendorName column data\n",
    "Vendor_Sales_Summary['VendorName'].unique()"
   ]
  },
  {
   "cell_type": "markdown",
   "id": "90449e58",
   "metadata": {},
   "source": [
    "We have to remove extra spaces from the data of column `VendorName`"
   ]
  },
  {
   "cell_type": "markdown",
   "id": "75583381",
   "metadata": {},
   "source": [
    "#### So we have to clean the data for the following columns:\n",
    "\n",
    "- We have to change datatype of `Volume` column (Object -> Float)  \n",
    "- We have to clean unwanted spaces from the `VendorName` column.\n",
    "- We have fill the `null` values of the whole dashboard with 0."
   ]
  },
  {
   "cell_type": "code",
   "execution_count": 28,
   "id": "29ec5584",
   "metadata": {},
   "outputs": [
    {
     "data": {
      "text/plain": [
       "dtype('float64')"
      ]
     },
     "execution_count": 28,
     "metadata": {},
     "output_type": "execute_result"
    }
   ],
   "source": [
    "# Changing datatype of VendorName column\n",
    "Vendor_Sales_Summary['Volume'] = Vendor_Sales_Summary['Volume'].astype('float64')\n",
    "Vendor_Sales_Summary['Volume'].dtype"
   ]
  },
  {
   "cell_type": "code",
   "execution_count": 29,
   "id": "9bdb2792",
   "metadata": {},
   "outputs": [
    {
     "data": {
      "text/plain": [
       "VendorNumber             0\n",
       "VendorName               0\n",
       "Brand                    0\n",
       "Description              0\n",
       "PurchasePrice            0\n",
       "ActualPrice              0\n",
       "Volume                   0\n",
       "TotalPurchaseQuantity    0\n",
       "TotalPurchaseDollars     0\n",
       "TotalSalesQuantity       0\n",
       "TotalSalesDollar         0\n",
       "TotalSalesPrice          0\n",
       "TotalExciseTax           0\n",
       "FreightCost              0\n",
       "dtype: int64"
      ]
     },
     "execution_count": 29,
     "metadata": {},
     "output_type": "execute_result"
    }
   ],
   "source": [
    "# Filling the null values with Zero\n",
    "Vendor_Sales_Summary.fillna(0, inplace= True)\n",
    "Vendor_Sales_Summary.isnull().sum()"
   ]
  },
  {
   "cell_type": "code",
   "execution_count": 30,
   "id": "47e80cf4",
   "metadata": {},
   "outputs": [
    {
     "data": {
      "text/plain": [
       "array(['IRA GOLDMAN AND WILLIAMS, LLP', 'AAPER ALCOHOL & CHEMICAL CO',\n",
       "       'ADAMBA IMPORTS INTL INC', 'ALTAMAR BRANDS LLC',\n",
       "       'AMERICAN SPIRITS EXCHANGE', 'APPOLO VINEYARDS LLC',\n",
       "       'ATLANTIC IMPORTING COMPANY', 'BACARDI USA INC',\n",
       "       'BANFI PRODUCTS CORP', 'STATE WINE & SPIRITS',\n",
       "       'SAZERAC NORTH AMERICA INC.', 'BRONCO WINE COMPANY',\n",
       "       'BROWN-FORMAN CORP', 'BULLY BOY DISTILLERS',\n",
       "       'BLACK ROCK SPIRITS LLC', 'CALEDONIA SPIRITS INC',\n",
       "       'CONSTELLATION BRANDS INC', 'CAPSTONE INTERNATIONAL',\n",
       "       'CASTLE BRANDS CORP.', 'VINEYARD BRANDS INC',\n",
       "       'VINEYARD BRANDS LLC', 'DIAGEO CHATEAU ESTATE WINES',\n",
       "       'VRANKEN AMERICA', 'Circa Wines', 'FABRIZIA SPIRITS LLC',\n",
       "       'ALISA CARR BEVERAGES', 'SOUTHERN GLAZERS W&S OF NE',\n",
       "       'SOUTHERN WINE & SPIRITS NE', 'DELICATO VINEYARDS INC',\n",
       "       'BLACK PRINCE DISTILLERY INC', 'DJINN SPIRITS LLC',\n",
       "       'DUGGANS DISTILLED PRODUCTS', 'DISARONNO INTERNATIONAL LLC',\n",
       "       'EDRINGTON AMERICAS', 'CENTEUR IMPORTS LLC',\n",
       "       'SIDNEY FRANK IMPORTING CO', 'E & J GALLO WINERY',\n",
       "       'GILMANTON WINERY & VINEYARD', 'WILLIAM GRANT & SONS INC',\n",
       "       'HEAVEN HILL DISTILLERIES', 'HOOD RIVER DISTILLERS, Inc.',\n",
       "       'HIGHLAND WINE MERCHANTS LLC', 'DIAGEO NORTH AMERICA INC',\n",
       "       'CHARLES JACQUIN ET CIE INC', 'MARTIGNETTI COMPANIES',\n",
       "       'AMERICAN VINTAGE BEVERAGE', 'KLIN SPIRITS LLC',\n",
       "       'KOBRAND CORPORATION', 'LAIRD & CO', 'LAUREATE IMPORTS CO',\n",
       "       'LATITUDE BEVERAGE COMPANY', 'LOYAL DOG WINERY',\n",
       "       'MANGO BOTTLING INC', 'MARSALLE COMPANY',\n",
       "       'MILTONS DISTRIBUTING CO', 'MCCORMICK DISTILLING CO', 'MHW LTD',\n",
       "       'MOONLIGHT MEADERY', 'UNCORKED', 'NICHE W & S',\n",
       "       'OLE SMOKY DISTILLERY LLC', 'PALM BAY INTERNATIONAL INC',\n",
       "       'PARK STREET IMPORTS LLC', 'PINE STATE TRADING CO',\n",
       "       'PREMIER DISTRIBUTORS', 'REMY COINTREAU USA INC',\n",
       "       'PREMIUM PORT WINES, INC.', 'PROXIMO SPIRITS INC.', 'PSP WINES',\n",
       "       'R.P.IMPORTS INC', 'SAZERAC CO INC', 'MOET HENNESSY USA INC',\n",
       "       'SEA HAGG DISTILLERY LLC', 'SHAW ROSS INT L IMP LTD', 'LUXCO INC',\n",
       "       'STAR INDUSTRIES INC.', 'STOLI GROUP,(USA) LLC',\n",
       "       'STE MICHELLE WINE ESTATES', 'SURVILLE ENTERPRISES CORP',\n",
       "       'TRINCHERO FAMILY ESTATES', 'TAKARA SAKE USA INC', 'TRUETT HURST',\n",
       "       'ULTRA BEVERAGE COMPANY LLP', 'PHILLIPS PRODUCTS CO.', 'TY KU LLC',\n",
       "       'M S WALKER INC', 'WEIN BAUER INC', 'WESTERN SPIRITS BEVERAGE CO',\n",
       "       'FREDERICK WILDMAN & SONS', 'VINEDREA WINES LLC', 'WINE GROUP INC',\n",
       "       'TREASURY WINE ESTATES', 'MAJESTIC FINE WINES',\n",
       "       'Russian Standard Vodka', 'PERFECTA WINES', 'CAMPARI AMERICA',\n",
       "       'STELLAR IMPORTING CO LLC', 'JIM BEAM BRANDS COMPANY',\n",
       "       'FLAG HILL WINERY & VINEYARD', 'JEWELL TOWNE VINEYARDS',\n",
       "       'SEA BREEZE CELLARS LLC', 'PERNOD RICARD USA', 'Dunn Wine Brokers',\n",
       "       'SMOKY QUARTZ DISTILLERY LLC', 'TALL SHIP DISTILLERY LLC',\n",
       "       'VINEXTRA INC', 'FORTUNE WINE BROKERS LLC',\n",
       "       'THE IMPORTED GRAPE LLC', 'VINILANDIA USA',\n",
       "       'SILVER MOUNTAIN CIDERS', 'POVERTY LANE ORCHARDS',\n",
       "       'LABELLE VYDS AND WINERY', 'FANTASY FINE WINES CORP',\n",
       "       'THE PIERPONT GROUP LLC', 'CANDIA VINEYARDS', 'CRUSH WINES',\n",
       "       'FULCHINO VINEYARD INC', 'HAUNTING WHISPER VYDS',\n",
       "       'INCREDIBREW INC', 'SWEET BABY VINEYARD',\n",
       "       'WALPOLE MTN VIEW WINERY', 'ZORVINO VINEYARDS',\n",
       "       'BLACK COVE BEVERAGES', 'Serralles Usa LLC',\n",
       "       'STARK BREWING COMPANY', 'SWEETWATER FARM', 'TAMWORTH DISTILLING',\n",
       "       'FLAVOR ESSENCE INC'], dtype=object)"
      ]
     },
     "execution_count": 30,
     "metadata": {},
     "output_type": "execute_result"
    }
   ],
   "source": [
    "# Removing unwanted spaces from the VendorName column\n",
    "Vendor_Sales_Summary['VendorName'] = Vendor_Sales_Summary['VendorName'].str.strip()\n",
    "Vendor_Sales_Summary['VendorName'].unique()"
   ]
  },
  {
   "cell_type": "markdown",
   "id": "ba5e4a85",
   "metadata": {},
   "source": [
    "#### As we removed all the inconsistencies from our data, we can perfor verious analysis on our data. These analysis will provide valuable insights and help to take data-driven-decisions. "
   ]
  },
  {
   "cell_type": "code",
   "execution_count": 79,
   "id": "d7c1515b",
   "metadata": {},
   "outputs": [
    {
     "data": {
      "text/html": [
       "<div>\n",
       "<style scoped>\n",
       "    .dataframe tbody tr th:only-of-type {\n",
       "        vertical-align: middle;\n",
       "    }\n",
       "\n",
       "    .dataframe tbody tr th {\n",
       "        vertical-align: top;\n",
       "    }\n",
       "\n",
       "    .dataframe thead th {\n",
       "        text-align: right;\n",
       "    }\n",
       "</style>\n",
       "<table border=\"1\" class=\"dataframe\">\n",
       "  <thead>\n",
       "    <tr style=\"text-align: right;\">\n",
       "      <th></th>\n",
       "      <th>VendorNumber</th>\n",
       "      <th>VendorName</th>\n",
       "      <th>Brand</th>\n",
       "      <th>Description</th>\n",
       "      <th>PurchasePrice</th>\n",
       "      <th>ActualPrice</th>\n",
       "      <th>Volume</th>\n",
       "      <th>TotalPurchaseQuantity</th>\n",
       "      <th>TotalPurchaseDollars</th>\n",
       "      <th>TotalSalesQuantity</th>\n",
       "      <th>TotalSalesDollars</th>\n",
       "      <th>TotalSalesPrice</th>\n",
       "      <th>TotalExciseTax</th>\n",
       "      <th>FreightCost</th>\n",
       "      <th>GrossProfit</th>\n",
       "      <th>ProfitMargin</th>\n",
       "      <th>StockTurnover</th>\n",
       "      <th>SalesPurchaseRatio</th>\n",
       "    </tr>\n",
       "  </thead>\n",
       "  <tbody>\n",
       "    <tr>\n",
       "      <th>0</th>\n",
       "      <td>2</td>\n",
       "      <td>IRA GOLDMAN AND WILLIAMS, LLP</td>\n",
       "      <td>90085</td>\n",
       "      <td>Ch Lilian 09 Ladouys St Este</td>\n",
       "      <td>23.86</td>\n",
       "      <td>36.99</td>\n",
       "      <td>750.0</td>\n",
       "      <td>8</td>\n",
       "      <td>190.88</td>\n",
       "      <td>18.0</td>\n",
       "      <td>665.82</td>\n",
       "      <td>295.92</td>\n",
       "      <td>2.00</td>\n",
       "      <td>27.08</td>\n",
       "      <td>474.94</td>\n",
       "      <td>71.331591</td>\n",
       "      <td>2.250000</td>\n",
       "      <td>3.488160</td>\n",
       "    </tr>\n",
       "    <tr>\n",
       "      <th>1</th>\n",
       "      <td>2</td>\n",
       "      <td>IRA GOLDMAN AND WILLIAMS, LLP</td>\n",
       "      <td>90609</td>\n",
       "      <td>Flavor Essence Variety 5 Pak</td>\n",
       "      <td>17.00</td>\n",
       "      <td>24.99</td>\n",
       "      <td>162.5</td>\n",
       "      <td>320</td>\n",
       "      <td>5440.00</td>\n",
       "      <td>24.0</td>\n",
       "      <td>599.76</td>\n",
       "      <td>449.82</td>\n",
       "      <td>0.52</td>\n",
       "      <td>27.08</td>\n",
       "      <td>-4840.24</td>\n",
       "      <td>-807.029478</td>\n",
       "      <td>0.075000</td>\n",
       "      <td>0.110250</td>\n",
       "    </tr>\n",
       "    <tr>\n",
       "      <th>2</th>\n",
       "      <td>54</td>\n",
       "      <td>AAPER ALCOHOL &amp; CHEMICAL CO</td>\n",
       "      <td>990</td>\n",
       "      <td>Ethyl Alcohol 200 Proof</td>\n",
       "      <td>105.07</td>\n",
       "      <td>134.49</td>\n",
       "      <td>3750.0</td>\n",
       "      <td>1</td>\n",
       "      <td>105.07</td>\n",
       "      <td>0.0</td>\n",
       "      <td>0.00</td>\n",
       "      <td>0.00</td>\n",
       "      <td>0.00</td>\n",
       "      <td>0.48</td>\n",
       "      <td>-105.07</td>\n",
       "      <td>-inf</td>\n",
       "      <td>0.000000</td>\n",
       "      <td>0.000000</td>\n",
       "    </tr>\n",
       "    <tr>\n",
       "      <th>3</th>\n",
       "      <td>60</td>\n",
       "      <td>ADAMBA IMPORTS INTL INC</td>\n",
       "      <td>771</td>\n",
       "      <td>Bak's Krupnik Honey Liqueur</td>\n",
       "      <td>11.44</td>\n",
       "      <td>14.99</td>\n",
       "      <td>750.0</td>\n",
       "      <td>39</td>\n",
       "      <td>446.16</td>\n",
       "      <td>47.0</td>\n",
       "      <td>704.53</td>\n",
       "      <td>494.67</td>\n",
       "      <td>37.01</td>\n",
       "      <td>367.52</td>\n",
       "      <td>258.37</td>\n",
       "      <td>36.672675</td>\n",
       "      <td>1.205128</td>\n",
       "      <td>1.579097</td>\n",
       "    </tr>\n",
       "    <tr>\n",
       "      <th>4</th>\n",
       "      <td>60</td>\n",
       "      <td>ADAMBA IMPORTS INTL INC</td>\n",
       "      <td>3401</td>\n",
       "      <td>Vesica Vodka</td>\n",
       "      <td>11.10</td>\n",
       "      <td>14.99</td>\n",
       "      <td>1750.0</td>\n",
       "      <td>6</td>\n",
       "      <td>66.60</td>\n",
       "      <td>0.0</td>\n",
       "      <td>0.00</td>\n",
       "      <td>0.00</td>\n",
       "      <td>0.00</td>\n",
       "      <td>367.52</td>\n",
       "      <td>-66.60</td>\n",
       "      <td>-inf</td>\n",
       "      <td>0.000000</td>\n",
       "      <td>0.000000</td>\n",
       "    </tr>\n",
       "    <tr>\n",
       "      <th>...</th>\n",
       "      <td>...</td>\n",
       "      <td>...</td>\n",
       "      <td>...</td>\n",
       "      <td>...</td>\n",
       "      <td>...</td>\n",
       "      <td>...</td>\n",
       "      <td>...</td>\n",
       "      <td>...</td>\n",
       "      <td>...</td>\n",
       "      <td>...</td>\n",
       "      <td>...</td>\n",
       "      <td>...</td>\n",
       "      <td>...</td>\n",
       "      <td>...</td>\n",
       "      <td>...</td>\n",
       "      <td>...</td>\n",
       "      <td>...</td>\n",
       "      <td>...</td>\n",
       "    </tr>\n",
       "    <tr>\n",
       "      <th>10687</th>\n",
       "      <td>173357</td>\n",
       "      <td>TAMWORTH DISTILLING</td>\n",
       "      <td>2804</td>\n",
       "      <td>Camp Robber Whiskey</td>\n",
       "      <td>32.14</td>\n",
       "      <td>44.99</td>\n",
       "      <td>750.0</td>\n",
       "      <td>210</td>\n",
       "      <td>6749.40</td>\n",
       "      <td>140.0</td>\n",
       "      <td>6298.60</td>\n",
       "      <td>3194.29</td>\n",
       "      <td>110.33</td>\n",
       "      <td>202.50</td>\n",
       "      <td>-450.80</td>\n",
       "      <td>-7.157146</td>\n",
       "      <td>0.666667</td>\n",
       "      <td>0.933209</td>\n",
       "    </tr>\n",
       "    <tr>\n",
       "      <th>10688</th>\n",
       "      <td>173357</td>\n",
       "      <td>TAMWORTH DISTILLING</td>\n",
       "      <td>3666</td>\n",
       "      <td>Art in the Age Chicory Root</td>\n",
       "      <td>18.79</td>\n",
       "      <td>24.99</td>\n",
       "      <td>375.0</td>\n",
       "      <td>520</td>\n",
       "      <td>9770.80</td>\n",
       "      <td>360.0</td>\n",
       "      <td>8996.40</td>\n",
       "      <td>4873.05</td>\n",
       "      <td>141.19</td>\n",
       "      <td>202.50</td>\n",
       "      <td>-774.40</td>\n",
       "      <td>-8.607888</td>\n",
       "      <td>0.692308</td>\n",
       "      <td>0.920743</td>\n",
       "    </tr>\n",
       "    <tr>\n",
       "      <th>10689</th>\n",
       "      <td>173357</td>\n",
       "      <td>TAMWORTH DISTILLING</td>\n",
       "      <td>3848</td>\n",
       "      <td>Chicory Root Vodka</td>\n",
       "      <td>23.30</td>\n",
       "      <td>30.99</td>\n",
       "      <td>750.0</td>\n",
       "      <td>28</td>\n",
       "      <td>652.40</td>\n",
       "      <td>6.0</td>\n",
       "      <td>185.94</td>\n",
       "      <td>92.97</td>\n",
       "      <td>4.71</td>\n",
       "      <td>202.50</td>\n",
       "      <td>-466.46</td>\n",
       "      <td>-250.865871</td>\n",
       "      <td>0.214286</td>\n",
       "      <td>0.285009</td>\n",
       "    </tr>\n",
       "    <tr>\n",
       "      <th>10690</th>\n",
       "      <td>173357</td>\n",
       "      <td>TAMWORTH DISTILLING</td>\n",
       "      <td>3909</td>\n",
       "      <td>White Mountain Vodka</td>\n",
       "      <td>19.37</td>\n",
       "      <td>24.99</td>\n",
       "      <td>750.0</td>\n",
       "      <td>1232</td>\n",
       "      <td>23863.84</td>\n",
       "      <td>982.0</td>\n",
       "      <td>24540.18</td>\n",
       "      <td>14469.21</td>\n",
       "      <td>773.87</td>\n",
       "      <td>202.50</td>\n",
       "      <td>676.34</td>\n",
       "      <td>2.756052</td>\n",
       "      <td>0.797078</td>\n",
       "      <td>1.028342</td>\n",
       "    </tr>\n",
       "    <tr>\n",
       "      <th>10691</th>\n",
       "      <td>201359</td>\n",
       "      <td>FLAVOR ESSENCE INC</td>\n",
       "      <td>90609</td>\n",
       "      <td>Flavor Essence Variety 5 Pak</td>\n",
       "      <td>17.00</td>\n",
       "      <td>24.99</td>\n",
       "      <td>162.5</td>\n",
       "      <td>1</td>\n",
       "      <td>17.00</td>\n",
       "      <td>59.0</td>\n",
       "      <td>1474.41</td>\n",
       "      <td>1324.47</td>\n",
       "      <td>1.24</td>\n",
       "      <td>0.09</td>\n",
       "      <td>1457.41</td>\n",
       "      <td>98.846996</td>\n",
       "      <td>59.000000</td>\n",
       "      <td>86.730000</td>\n",
       "    </tr>\n",
       "  </tbody>\n",
       "</table>\n",
       "<p>10692 rows × 18 columns</p>\n",
       "</div>"
      ],
      "text/plain": [
       "       VendorNumber                     VendorName  Brand  \\\n",
       "0                 2  IRA GOLDMAN AND WILLIAMS, LLP  90085   \n",
       "1                 2  IRA GOLDMAN AND WILLIAMS, LLP  90609   \n",
       "2                54    AAPER ALCOHOL & CHEMICAL CO    990   \n",
       "3                60        ADAMBA IMPORTS INTL INC    771   \n",
       "4                60        ADAMBA IMPORTS INTL INC   3401   \n",
       "...             ...                            ...    ...   \n",
       "10687        173357            TAMWORTH DISTILLING   2804   \n",
       "10688        173357            TAMWORTH DISTILLING   3666   \n",
       "10689        173357            TAMWORTH DISTILLING   3848   \n",
       "10690        173357            TAMWORTH DISTILLING   3909   \n",
       "10691        201359             FLAVOR ESSENCE INC  90609   \n",
       "\n",
       "                        Description  PurchasePrice  ActualPrice  Volume  \\\n",
       "0      Ch Lilian 09 Ladouys St Este          23.86        36.99   750.0   \n",
       "1      Flavor Essence Variety 5 Pak          17.00        24.99   162.5   \n",
       "2           Ethyl Alcohol 200 Proof         105.07       134.49  3750.0   \n",
       "3       Bak's Krupnik Honey Liqueur          11.44        14.99   750.0   \n",
       "4                      Vesica Vodka          11.10        14.99  1750.0   \n",
       "...                             ...            ...          ...     ...   \n",
       "10687           Camp Robber Whiskey          32.14        44.99   750.0   \n",
       "10688   Art in the Age Chicory Root          18.79        24.99   375.0   \n",
       "10689            Chicory Root Vodka          23.30        30.99   750.0   \n",
       "10690          White Mountain Vodka          19.37        24.99   750.0   \n",
       "10691  Flavor Essence Variety 5 Pak          17.00        24.99   162.5   \n",
       "\n",
       "       TotalPurchaseQuantity  TotalPurchaseDollars  TotalSalesQuantity  \\\n",
       "0                          8                190.88                18.0   \n",
       "1                        320               5440.00                24.0   \n",
       "2                          1                105.07                 0.0   \n",
       "3                         39                446.16                47.0   \n",
       "4                          6                 66.60                 0.0   \n",
       "...                      ...                   ...                 ...   \n",
       "10687                    210               6749.40               140.0   \n",
       "10688                    520               9770.80               360.0   \n",
       "10689                     28                652.40                 6.0   \n",
       "10690                   1232              23863.84               982.0   \n",
       "10691                      1                 17.00                59.0   \n",
       "\n",
       "       TotalSalesDollars  TotalSalesPrice  TotalExciseTax  FreightCost  \\\n",
       "0                 665.82           295.92            2.00        27.08   \n",
       "1                 599.76           449.82            0.52        27.08   \n",
       "2                   0.00             0.00            0.00         0.48   \n",
       "3                 704.53           494.67           37.01       367.52   \n",
       "4                   0.00             0.00            0.00       367.52   \n",
       "...                  ...              ...             ...          ...   \n",
       "10687            6298.60          3194.29          110.33       202.50   \n",
       "10688            8996.40          4873.05          141.19       202.50   \n",
       "10689             185.94            92.97            4.71       202.50   \n",
       "10690           24540.18         14469.21          773.87       202.50   \n",
       "10691            1474.41          1324.47            1.24         0.09   \n",
       "\n",
       "       GrossProfit  ProfitMargin  StockTurnover  SalesPurchaseRatio  \n",
       "0           474.94     71.331591       2.250000            3.488160  \n",
       "1         -4840.24   -807.029478       0.075000            0.110250  \n",
       "2          -105.07          -inf       0.000000            0.000000  \n",
       "3           258.37     36.672675       1.205128            1.579097  \n",
       "4           -66.60          -inf       0.000000            0.000000  \n",
       "...            ...           ...            ...                 ...  \n",
       "10687      -450.80     -7.157146       0.666667            0.933209  \n",
       "10688      -774.40     -8.607888       0.692308            0.920743  \n",
       "10689      -466.46   -250.865871       0.214286            0.285009  \n",
       "10690       676.34      2.756052       0.797078            1.028342  \n",
       "10691      1457.41     98.846996      59.000000           86.730000  \n",
       "\n",
       "[10692 rows x 18 columns]"
      ]
     },
     "execution_count": 79,
     "metadata": {},
     "output_type": "execute_result"
    }
   ],
   "source": [
    "df = Vendor_Sales_Summary\n",
    "df.head()\n",
    "\n",
    "df = df.rename(columns={\"TotalSalesDollar\": \"TotalSalesDollars\"})\n",
    "\n",
    "df.head()\n",
    "Vendor_Sales_Summary"
   ]
  },
  {
   "cell_type": "code",
   "execution_count": 55,
   "id": "3c375cd2",
   "metadata": {},
   "outputs": [],
   "source": [
    "Vendor_Sales_Summary['GrossProfit'] = Vendor_Sales_Summary['TotalSalesDollar'] - Vendor_Sales_Summary['TotalPurchaseDollars'] "
   ]
  },
  {
   "cell_type": "code",
   "execution_count": 56,
   "id": "c0ea8b50",
   "metadata": {},
   "outputs": [],
   "source": [
    "Vendor_Sales_Summary['ProfitMargin'] = (Vendor_Sales_Summary['GrossProfit'] / Vendor_Sales_Summary['TotalSalesDollar'] ) * 100"
   ]
  },
  {
   "cell_type": "code",
   "execution_count": 57,
   "id": "75bf4051",
   "metadata": {},
   "outputs": [],
   "source": [
    "Vendor_Sales_Summary['StockTurnover'] = Vendor_Sales_Summary['TotalSalesQuantity'] / Vendor_Sales_Summary['TotalPurchaseQuantity']"
   ]
  },
  {
   "cell_type": "code",
   "execution_count": 59,
   "id": "fe2df44d",
   "metadata": {},
   "outputs": [],
   "source": [
    "Vendor_Sales_Summary['SalesPurchaseRatio'] = Vendor_Sales_Summary['TotalSalesDollar'] / Vendor_Sales_Summary['TotalPurchaseDollars']"
   ]
  },
  {
   "cell_type": "code",
   "execution_count": 62,
   "id": "85c798a8",
   "metadata": {},
   "outputs": [
    {
     "data": {
      "text/html": [
       "<div>\n",
       "<style scoped>\n",
       "    .dataframe tbody tr th:only-of-type {\n",
       "        vertical-align: middle;\n",
       "    }\n",
       "\n",
       "    .dataframe tbody tr th {\n",
       "        vertical-align: top;\n",
       "    }\n",
       "\n",
       "    .dataframe thead th {\n",
       "        text-align: right;\n",
       "    }\n",
       "</style>\n",
       "<table border=\"1\" class=\"dataframe\">\n",
       "  <thead>\n",
       "    <tr style=\"text-align: right;\">\n",
       "      <th></th>\n",
       "      <th>VendorNumber</th>\n",
       "      <th>VendorName</th>\n",
       "      <th>Brand</th>\n",
       "      <th>Description</th>\n",
       "      <th>PurchasePrice</th>\n",
       "      <th>ActualPrice</th>\n",
       "      <th>Volume</th>\n",
       "      <th>TotalPurchaseQuantity</th>\n",
       "      <th>TotalPurchaseDollars</th>\n",
       "      <th>TotalSalesQuantity</th>\n",
       "      <th>TotalSalesDollars</th>\n",
       "      <th>TotalSalesPrice</th>\n",
       "      <th>TotalExciseTax</th>\n",
       "      <th>FreightCost</th>\n",
       "      <th>Markup</th>\n",
       "      <th>MarkupPct</th>\n",
       "      <th>GrossProfit</th>\n",
       "      <th>ProfitMargin</th>\n",
       "      <th>StockTurnover</th>\n",
       "      <th>SalesPurchaseRatio</th>\n",
       "    </tr>\n",
       "  </thead>\n",
       "  <tbody>\n",
       "    <tr>\n",
       "      <th>0</th>\n",
       "      <td>2</td>\n",
       "      <td>IRA GOLDMAN AND WILLIAMS, LLP</td>\n",
       "      <td>90085</td>\n",
       "      <td>Ch Lilian 09 Ladouys St Este</td>\n",
       "      <td>23.86</td>\n",
       "      <td>36.99</td>\n",
       "      <td>750.0</td>\n",
       "      <td>8</td>\n",
       "      <td>190.88</td>\n",
       "      <td>18.0</td>\n",
       "      <td>665.82</td>\n",
       "      <td>295.92</td>\n",
       "      <td>2.00</td>\n",
       "      <td>27.08</td>\n",
       "      <td>13.13</td>\n",
       "      <td>55.029338</td>\n",
       "      <td>474.94</td>\n",
       "      <td>71.331591</td>\n",
       "      <td>2.250000</td>\n",
       "      <td>3.488160</td>\n",
       "    </tr>\n",
       "    <tr>\n",
       "      <th>1</th>\n",
       "      <td>2</td>\n",
       "      <td>IRA GOLDMAN AND WILLIAMS, LLP</td>\n",
       "      <td>90609</td>\n",
       "      <td>Flavor Essence Variety 5 Pak</td>\n",
       "      <td>17.00</td>\n",
       "      <td>24.99</td>\n",
       "      <td>162.5</td>\n",
       "      <td>320</td>\n",
       "      <td>5440.00</td>\n",
       "      <td>24.0</td>\n",
       "      <td>599.76</td>\n",
       "      <td>449.82</td>\n",
       "      <td>0.52</td>\n",
       "      <td>27.08</td>\n",
       "      <td>7.99</td>\n",
       "      <td>47.000000</td>\n",
       "      <td>-4840.24</td>\n",
       "      <td>-807.029478</td>\n",
       "      <td>0.075000</td>\n",
       "      <td>0.110250</td>\n",
       "    </tr>\n",
       "    <tr>\n",
       "      <th>2</th>\n",
       "      <td>54</td>\n",
       "      <td>AAPER ALCOHOL &amp; CHEMICAL CO</td>\n",
       "      <td>990</td>\n",
       "      <td>Ethyl Alcohol 200 Proof</td>\n",
       "      <td>105.07</td>\n",
       "      <td>134.49</td>\n",
       "      <td>3750.0</td>\n",
       "      <td>1</td>\n",
       "      <td>105.07</td>\n",
       "      <td>0.0</td>\n",
       "      <td>0.00</td>\n",
       "      <td>0.00</td>\n",
       "      <td>0.00</td>\n",
       "      <td>0.48</td>\n",
       "      <td>29.42</td>\n",
       "      <td>28.000381</td>\n",
       "      <td>-105.07</td>\n",
       "      <td>-inf</td>\n",
       "      <td>0.000000</td>\n",
       "      <td>0.000000</td>\n",
       "    </tr>\n",
       "    <tr>\n",
       "      <th>3</th>\n",
       "      <td>60</td>\n",
       "      <td>ADAMBA IMPORTS INTL INC</td>\n",
       "      <td>771</td>\n",
       "      <td>Bak's Krupnik Honey Liqueur</td>\n",
       "      <td>11.44</td>\n",
       "      <td>14.99</td>\n",
       "      <td>750.0</td>\n",
       "      <td>39</td>\n",
       "      <td>446.16</td>\n",
       "      <td>47.0</td>\n",
       "      <td>704.53</td>\n",
       "      <td>494.67</td>\n",
       "      <td>37.01</td>\n",
       "      <td>367.52</td>\n",
       "      <td>3.55</td>\n",
       "      <td>31.031469</td>\n",
       "      <td>258.37</td>\n",
       "      <td>36.672675</td>\n",
       "      <td>1.205128</td>\n",
       "      <td>1.579097</td>\n",
       "    </tr>\n",
       "    <tr>\n",
       "      <th>4</th>\n",
       "      <td>60</td>\n",
       "      <td>ADAMBA IMPORTS INTL INC</td>\n",
       "      <td>3401</td>\n",
       "      <td>Vesica Vodka</td>\n",
       "      <td>11.10</td>\n",
       "      <td>14.99</td>\n",
       "      <td>1750.0</td>\n",
       "      <td>6</td>\n",
       "      <td>66.60</td>\n",
       "      <td>0.0</td>\n",
       "      <td>0.00</td>\n",
       "      <td>0.00</td>\n",
       "      <td>0.00</td>\n",
       "      <td>367.52</td>\n",
       "      <td>3.89</td>\n",
       "      <td>35.045045</td>\n",
       "      <td>-66.60</td>\n",
       "      <td>-inf</td>\n",
       "      <td>0.000000</td>\n",
       "      <td>0.000000</td>\n",
       "    </tr>\n",
       "  </tbody>\n",
       "</table>\n",
       "</div>"
      ],
      "text/plain": [
       "   VendorNumber                     VendorName  Brand  \\\n",
       "0             2  IRA GOLDMAN AND WILLIAMS, LLP  90085   \n",
       "1             2  IRA GOLDMAN AND WILLIAMS, LLP  90609   \n",
       "2            54    AAPER ALCOHOL & CHEMICAL CO    990   \n",
       "3            60        ADAMBA IMPORTS INTL INC    771   \n",
       "4            60        ADAMBA IMPORTS INTL INC   3401   \n",
       "\n",
       "                    Description  PurchasePrice  ActualPrice  Volume  \\\n",
       "0  Ch Lilian 09 Ladouys St Este          23.86        36.99   750.0   \n",
       "1  Flavor Essence Variety 5 Pak          17.00        24.99   162.5   \n",
       "2       Ethyl Alcohol 200 Proof         105.07       134.49  3750.0   \n",
       "3   Bak's Krupnik Honey Liqueur          11.44        14.99   750.0   \n",
       "4                  Vesica Vodka          11.10        14.99  1750.0   \n",
       "\n",
       "   TotalPurchaseQuantity  TotalPurchaseDollars  TotalSalesQuantity  \\\n",
       "0                      8                190.88                18.0   \n",
       "1                    320               5440.00                24.0   \n",
       "2                      1                105.07                 0.0   \n",
       "3                     39                446.16                47.0   \n",
       "4                      6                 66.60                 0.0   \n",
       "\n",
       "   TotalSalesDollars  TotalSalesPrice  TotalExciseTax  FreightCost  Markup  \\\n",
       "0             665.82           295.92            2.00        27.08   13.13   \n",
       "1             599.76           449.82            0.52        27.08    7.99   \n",
       "2               0.00             0.00            0.00         0.48   29.42   \n",
       "3             704.53           494.67           37.01       367.52    3.55   \n",
       "4               0.00             0.00            0.00       367.52    3.89   \n",
       "\n",
       "   MarkupPct  GrossProfit  ProfitMargin  StockTurnover  SalesPurchaseRatio  \n",
       "0  55.029338       474.94     71.331591       2.250000            3.488160  \n",
       "1  47.000000     -4840.24   -807.029478       0.075000            0.110250  \n",
       "2  28.000381      -105.07          -inf       0.000000            0.000000  \n",
       "3  31.031469       258.37     36.672675       1.205128            1.579097  \n",
       "4  35.045045       -66.60          -inf       0.000000            0.000000  "
      ]
     },
     "execution_count": 62,
     "metadata": {},
     "output_type": "execute_result"
    }
   ],
   "source": [
    "Vendor_Sales_Summary= Vendor_Sales_Summary.rename(columns={\"TotalSalesDollar\": \"TotalSalesDollars\"})\n",
    "Vendor_Sales_Summary.head()"
   ]
  },
  {
   "cell_type": "code",
   "execution_count": 71,
   "id": "4c7fc7ae",
   "metadata": {},
   "outputs": [
    {
     "data": {
      "text/plain": [
       "Index(['VendorNumber', 'VendorName', 'Brand', 'Description', 'PurchasePrice',\n",
       "       'ActualPrice', 'Volume', 'TotalPurchaseQuantity',\n",
       "       'TotalPurchaseDollars', 'TotalSalesQuantity', 'TotalSalesDollars',\n",
       "       'TotalSalesPrice', 'TotalExciseTax', 'FreightCost', 'GrossProfit',\n",
       "       'ProfitMargin', 'StockTurnover', 'SalesPurchaseRatio'],\n",
       "      dtype='object')"
      ]
     },
     "execution_count": 71,
     "metadata": {},
     "output_type": "execute_result"
    }
   ],
   "source": [
    "Vendor_Sales_Summary.columns\n"
   ]
  },
  {
   "cell_type": "code",
   "execution_count": 73,
   "id": "bd99674a",
   "metadata": {},
   "outputs": [],
   "source": [
    "cursor = conn.cursor()"
   ]
  },
  {
   "cell_type": "code",
   "execution_count": 75,
   "id": "4766e071",
   "metadata": {},
   "outputs": [
    {
     "data": {
      "text/plain": [
       "<sqlite3.Cursor at 0x206c7e3e340>"
      ]
     },
     "execution_count": 75,
     "metadata": {},
     "output_type": "execute_result"
    }
   ],
   "source": [
    "cursor.execute(\"\"\"\n",
    "CREATE TABLE vendor_sales_summary (\n",
    "        VendorNumber INT,\n",
    "        VendorName VARCHAR(100),\n",
    "        Brand INT,\n",
    "        Description VARCHAR(100),\n",
    "        PurchasePrice DECIMAL(10,2),\n",
    "        ActualPrice DECIMAL(10,2),\n",
    "        Volume DECIMAL(10,20),\n",
    "        TotalPurchaseQuantity INT,\n",
    "        TotalPurchaseDollars DECIMAL(15,2),\n",
    "        TotalSalesQuantity INT,\n",
    "        TotalSalesDollars DECIMAL(15,2),\n",
    "        TotalSalesPrice DECIMAL(15,2),\n",
    "        TotalExciseTax DECIMAL(15,2),\n",
    "        FreightCost DECIMAL(15,2),\n",
    "        GrossProfit DECIMAL(15,2),\n",
    "        ProfitMargin DECIMAL(15,2),\n",
    "        StockTurnover DECIMAL(15,2),\n",
    "        SalesPurchaseRatio DECIMAL(15,2),\n",
    "        PRIMARY KEY (VendorName, Brand) \n",
    ");              \n",
    "\"\"\")"
   ]
  },
  {
   "cell_type": "code",
   "execution_count": 78,
   "id": "6b660fd7",
   "metadata": {},
   "outputs": [
    {
     "data": {
      "text/html": [
       "<div>\n",
       "<style scoped>\n",
       "    .dataframe tbody tr th:only-of-type {\n",
       "        vertical-align: middle;\n",
       "    }\n",
       "\n",
       "    .dataframe tbody tr th {\n",
       "        vertical-align: top;\n",
       "    }\n",
       "\n",
       "    .dataframe thead th {\n",
       "        text-align: right;\n",
       "    }\n",
       "</style>\n",
       "<table border=\"1\" class=\"dataframe\">\n",
       "  <thead>\n",
       "    <tr style=\"text-align: right;\">\n",
       "      <th></th>\n",
       "      <th>VendorNumber</th>\n",
       "      <th>VendorName</th>\n",
       "      <th>Brand</th>\n",
       "      <th>Description</th>\n",
       "      <th>PurchasePrice</th>\n",
       "      <th>ActualPrice</th>\n",
       "      <th>Volume</th>\n",
       "      <th>TotalPurchaseQuantity</th>\n",
       "      <th>TotalPurchaseDollars</th>\n",
       "      <th>TotalSalesQuantity</th>\n",
       "      <th>TotalSalesDollars</th>\n",
       "      <th>TotalSalesPrice</th>\n",
       "      <th>TotalExciseTax</th>\n",
       "      <th>FreightCost</th>\n",
       "      <th>GrossProfit</th>\n",
       "      <th>ProfitMargin</th>\n",
       "      <th>StockTurnover</th>\n",
       "      <th>SalesPurchaseRatio</th>\n",
       "    </tr>\n",
       "  </thead>\n",
       "  <tbody>\n",
       "    <tr>\n",
       "      <th>0</th>\n",
       "      <td>2</td>\n",
       "      <td>IRA GOLDMAN AND WILLIAMS, LLP</td>\n",
       "      <td>90085</td>\n",
       "      <td>Ch Lilian 09 Ladouys St Este</td>\n",
       "      <td>23.86</td>\n",
       "      <td>36.99</td>\n",
       "      <td>750.0</td>\n",
       "      <td>8</td>\n",
       "      <td>190.88</td>\n",
       "      <td>18.0</td>\n",
       "      <td>665.82</td>\n",
       "      <td>295.92</td>\n",
       "      <td>2.00</td>\n",
       "      <td>27.08</td>\n",
       "      <td>474.94</td>\n",
       "      <td>71.331591</td>\n",
       "      <td>2.250000</td>\n",
       "      <td>3.488160</td>\n",
       "    </tr>\n",
       "    <tr>\n",
       "      <th>1</th>\n",
       "      <td>2</td>\n",
       "      <td>IRA GOLDMAN AND WILLIAMS, LLP</td>\n",
       "      <td>90609</td>\n",
       "      <td>Flavor Essence Variety 5 Pak</td>\n",
       "      <td>17.00</td>\n",
       "      <td>24.99</td>\n",
       "      <td>162.5</td>\n",
       "      <td>320</td>\n",
       "      <td>5440.00</td>\n",
       "      <td>24.0</td>\n",
       "      <td>599.76</td>\n",
       "      <td>449.82</td>\n",
       "      <td>0.52</td>\n",
       "      <td>27.08</td>\n",
       "      <td>-4840.24</td>\n",
       "      <td>-807.029478</td>\n",
       "      <td>0.075000</td>\n",
       "      <td>0.110250</td>\n",
       "    </tr>\n",
       "    <tr>\n",
       "      <th>2</th>\n",
       "      <td>54</td>\n",
       "      <td>AAPER ALCOHOL &amp; CHEMICAL CO</td>\n",
       "      <td>990</td>\n",
       "      <td>Ethyl Alcohol 200 Proof</td>\n",
       "      <td>105.07</td>\n",
       "      <td>134.49</td>\n",
       "      <td>3750.0</td>\n",
       "      <td>1</td>\n",
       "      <td>105.07</td>\n",
       "      <td>0.0</td>\n",
       "      <td>0.00</td>\n",
       "      <td>0.00</td>\n",
       "      <td>0.00</td>\n",
       "      <td>0.48</td>\n",
       "      <td>-105.07</td>\n",
       "      <td>-inf</td>\n",
       "      <td>0.000000</td>\n",
       "      <td>0.000000</td>\n",
       "    </tr>\n",
       "    <tr>\n",
       "      <th>3</th>\n",
       "      <td>60</td>\n",
       "      <td>ADAMBA IMPORTS INTL INC</td>\n",
       "      <td>771</td>\n",
       "      <td>Bak's Krupnik Honey Liqueur</td>\n",
       "      <td>11.44</td>\n",
       "      <td>14.99</td>\n",
       "      <td>750.0</td>\n",
       "      <td>39</td>\n",
       "      <td>446.16</td>\n",
       "      <td>47.0</td>\n",
       "      <td>704.53</td>\n",
       "      <td>494.67</td>\n",
       "      <td>37.01</td>\n",
       "      <td>367.52</td>\n",
       "      <td>258.37</td>\n",
       "      <td>36.672675</td>\n",
       "      <td>1.205128</td>\n",
       "      <td>1.579097</td>\n",
       "    </tr>\n",
       "    <tr>\n",
       "      <th>4</th>\n",
       "      <td>60</td>\n",
       "      <td>ADAMBA IMPORTS INTL INC</td>\n",
       "      <td>3401</td>\n",
       "      <td>Vesica Vodka</td>\n",
       "      <td>11.10</td>\n",
       "      <td>14.99</td>\n",
       "      <td>1750.0</td>\n",
       "      <td>6</td>\n",
       "      <td>66.60</td>\n",
       "      <td>0.0</td>\n",
       "      <td>0.00</td>\n",
       "      <td>0.00</td>\n",
       "      <td>0.00</td>\n",
       "      <td>367.52</td>\n",
       "      <td>-66.60</td>\n",
       "      <td>-inf</td>\n",
       "      <td>0.000000</td>\n",
       "      <td>0.000000</td>\n",
       "    </tr>\n",
       "    <tr>\n",
       "      <th>...</th>\n",
       "      <td>...</td>\n",
       "      <td>...</td>\n",
       "      <td>...</td>\n",
       "      <td>...</td>\n",
       "      <td>...</td>\n",
       "      <td>...</td>\n",
       "      <td>...</td>\n",
       "      <td>...</td>\n",
       "      <td>...</td>\n",
       "      <td>...</td>\n",
       "      <td>...</td>\n",
       "      <td>...</td>\n",
       "      <td>...</td>\n",
       "      <td>...</td>\n",
       "      <td>...</td>\n",
       "      <td>...</td>\n",
       "      <td>...</td>\n",
       "      <td>...</td>\n",
       "    </tr>\n",
       "    <tr>\n",
       "      <th>10687</th>\n",
       "      <td>173357</td>\n",
       "      <td>TAMWORTH DISTILLING</td>\n",
       "      <td>2804</td>\n",
       "      <td>Camp Robber Whiskey</td>\n",
       "      <td>32.14</td>\n",
       "      <td>44.99</td>\n",
       "      <td>750.0</td>\n",
       "      <td>210</td>\n",
       "      <td>6749.40</td>\n",
       "      <td>140.0</td>\n",
       "      <td>6298.60</td>\n",
       "      <td>3194.29</td>\n",
       "      <td>110.33</td>\n",
       "      <td>202.50</td>\n",
       "      <td>-450.80</td>\n",
       "      <td>-7.157146</td>\n",
       "      <td>0.666667</td>\n",
       "      <td>0.933209</td>\n",
       "    </tr>\n",
       "    <tr>\n",
       "      <th>10688</th>\n",
       "      <td>173357</td>\n",
       "      <td>TAMWORTH DISTILLING</td>\n",
       "      <td>3666</td>\n",
       "      <td>Art in the Age Chicory Root</td>\n",
       "      <td>18.79</td>\n",
       "      <td>24.99</td>\n",
       "      <td>375.0</td>\n",
       "      <td>520</td>\n",
       "      <td>9770.80</td>\n",
       "      <td>360.0</td>\n",
       "      <td>8996.40</td>\n",
       "      <td>4873.05</td>\n",
       "      <td>141.19</td>\n",
       "      <td>202.50</td>\n",
       "      <td>-774.40</td>\n",
       "      <td>-8.607888</td>\n",
       "      <td>0.692308</td>\n",
       "      <td>0.920743</td>\n",
       "    </tr>\n",
       "    <tr>\n",
       "      <th>10689</th>\n",
       "      <td>173357</td>\n",
       "      <td>TAMWORTH DISTILLING</td>\n",
       "      <td>3848</td>\n",
       "      <td>Chicory Root Vodka</td>\n",
       "      <td>23.30</td>\n",
       "      <td>30.99</td>\n",
       "      <td>750.0</td>\n",
       "      <td>28</td>\n",
       "      <td>652.40</td>\n",
       "      <td>6.0</td>\n",
       "      <td>185.94</td>\n",
       "      <td>92.97</td>\n",
       "      <td>4.71</td>\n",
       "      <td>202.50</td>\n",
       "      <td>-466.46</td>\n",
       "      <td>-250.865871</td>\n",
       "      <td>0.214286</td>\n",
       "      <td>0.285009</td>\n",
       "    </tr>\n",
       "    <tr>\n",
       "      <th>10690</th>\n",
       "      <td>173357</td>\n",
       "      <td>TAMWORTH DISTILLING</td>\n",
       "      <td>3909</td>\n",
       "      <td>White Mountain Vodka</td>\n",
       "      <td>19.37</td>\n",
       "      <td>24.99</td>\n",
       "      <td>750.0</td>\n",
       "      <td>1232</td>\n",
       "      <td>23863.84</td>\n",
       "      <td>982.0</td>\n",
       "      <td>24540.18</td>\n",
       "      <td>14469.21</td>\n",
       "      <td>773.87</td>\n",
       "      <td>202.50</td>\n",
       "      <td>676.34</td>\n",
       "      <td>2.756052</td>\n",
       "      <td>0.797078</td>\n",
       "      <td>1.028342</td>\n",
       "    </tr>\n",
       "    <tr>\n",
       "      <th>10691</th>\n",
       "      <td>201359</td>\n",
       "      <td>FLAVOR ESSENCE INC</td>\n",
       "      <td>90609</td>\n",
       "      <td>Flavor Essence Variety 5 Pak</td>\n",
       "      <td>17.00</td>\n",
       "      <td>24.99</td>\n",
       "      <td>162.5</td>\n",
       "      <td>1</td>\n",
       "      <td>17.00</td>\n",
       "      <td>59.0</td>\n",
       "      <td>1474.41</td>\n",
       "      <td>1324.47</td>\n",
       "      <td>1.24</td>\n",
       "      <td>0.09</td>\n",
       "      <td>1457.41</td>\n",
       "      <td>98.846996</td>\n",
       "      <td>59.000000</td>\n",
       "      <td>86.730000</td>\n",
       "    </tr>\n",
       "  </tbody>\n",
       "</table>\n",
       "<p>10692 rows × 18 columns</p>\n",
       "</div>"
      ],
      "text/plain": [
       "       VendorNumber                     VendorName  Brand  \\\n",
       "0                 2  IRA GOLDMAN AND WILLIAMS, LLP  90085   \n",
       "1                 2  IRA GOLDMAN AND WILLIAMS, LLP  90609   \n",
       "2                54    AAPER ALCOHOL & CHEMICAL CO    990   \n",
       "3                60        ADAMBA IMPORTS INTL INC    771   \n",
       "4                60        ADAMBA IMPORTS INTL INC   3401   \n",
       "...             ...                            ...    ...   \n",
       "10687        173357            TAMWORTH DISTILLING   2804   \n",
       "10688        173357            TAMWORTH DISTILLING   3666   \n",
       "10689        173357            TAMWORTH DISTILLING   3848   \n",
       "10690        173357            TAMWORTH DISTILLING   3909   \n",
       "10691        201359             FLAVOR ESSENCE INC  90609   \n",
       "\n",
       "                        Description  PurchasePrice  ActualPrice  Volume  \\\n",
       "0      Ch Lilian 09 Ladouys St Este          23.86        36.99   750.0   \n",
       "1      Flavor Essence Variety 5 Pak          17.00        24.99   162.5   \n",
       "2           Ethyl Alcohol 200 Proof         105.07       134.49  3750.0   \n",
       "3       Bak's Krupnik Honey Liqueur          11.44        14.99   750.0   \n",
       "4                      Vesica Vodka          11.10        14.99  1750.0   \n",
       "...                             ...            ...          ...     ...   \n",
       "10687           Camp Robber Whiskey          32.14        44.99   750.0   \n",
       "10688   Art in the Age Chicory Root          18.79        24.99   375.0   \n",
       "10689            Chicory Root Vodka          23.30        30.99   750.0   \n",
       "10690          White Mountain Vodka          19.37        24.99   750.0   \n",
       "10691  Flavor Essence Variety 5 Pak          17.00        24.99   162.5   \n",
       "\n",
       "       TotalPurchaseQuantity  TotalPurchaseDollars  TotalSalesQuantity  \\\n",
       "0                          8                190.88                18.0   \n",
       "1                        320               5440.00                24.0   \n",
       "2                          1                105.07                 0.0   \n",
       "3                         39                446.16                47.0   \n",
       "4                          6                 66.60                 0.0   \n",
       "...                      ...                   ...                 ...   \n",
       "10687                    210               6749.40               140.0   \n",
       "10688                    520               9770.80               360.0   \n",
       "10689                     28                652.40                 6.0   \n",
       "10690                   1232              23863.84               982.0   \n",
       "10691                      1                 17.00                59.0   \n",
       "\n",
       "       TotalSalesDollars  TotalSalesPrice  TotalExciseTax  FreightCost  \\\n",
       "0                 665.82           295.92            2.00        27.08   \n",
       "1                 599.76           449.82            0.52        27.08   \n",
       "2                   0.00             0.00            0.00         0.48   \n",
       "3                 704.53           494.67           37.01       367.52   \n",
       "4                   0.00             0.00            0.00       367.52   \n",
       "...                  ...              ...             ...          ...   \n",
       "10687            6298.60          3194.29          110.33       202.50   \n",
       "10688            8996.40          4873.05          141.19       202.50   \n",
       "10689             185.94            92.97            4.71       202.50   \n",
       "10690           24540.18         14469.21          773.87       202.50   \n",
       "10691            1474.41          1324.47            1.24         0.09   \n",
       "\n",
       "       GrossProfit  ProfitMargin  StockTurnover  SalesPurchaseRatio  \n",
       "0           474.94     71.331591       2.250000            3.488160  \n",
       "1         -4840.24   -807.029478       0.075000            0.110250  \n",
       "2          -105.07          -inf       0.000000            0.000000  \n",
       "3           258.37     36.672675       1.205128            1.579097  \n",
       "4           -66.60          -inf       0.000000            0.000000  \n",
       "...            ...           ...            ...                 ...  \n",
       "10687      -450.80     -7.157146       0.666667            0.933209  \n",
       "10688      -774.40     -8.607888       0.692308            0.920743  \n",
       "10689      -466.46   -250.865871       0.214286            0.285009  \n",
       "10690       676.34      2.756052       0.797078            1.028342  \n",
       "10691      1457.41     98.846996      59.000000           86.730000  \n",
       "\n",
       "[10692 rows x 18 columns]"
      ]
     },
     "execution_count": 78,
     "metadata": {},
     "output_type": "execute_result"
    }
   ],
   "source": [
    "pd.read_sql_query(\"select * from vendor_sales_summary\", conn)"
   ]
  },
  {
   "cell_type": "code",
   "execution_count": 77,
   "id": "465fe69c",
   "metadata": {},
   "outputs": [
    {
     "data": {
      "text/plain": [
       "10692"
      ]
     },
     "execution_count": 77,
     "metadata": {},
     "output_type": "execute_result"
    }
   ],
   "source": [
    "Vendor_Sales_Summary.to_sql('vendor_sales_summary', conn, if_exists= 'replace', index= False)"
   ]
  },
  {
   "cell_type": "markdown",
   "id": "135f2dd5",
   "metadata": {},
   "source": [
    "### Descriptive Analysis & Visualization \n",
    "1. Top `VendorName` by  \n",
    "\n",
    "    - `TotalPerchaseDollar`  \n",
    "\n",
    "    - `TotalSalesDollars`  \n",
    "\n",
    "    - `Volume`  \n",
    "\n",
    "2. Top brands/products by sales or purchase activity.  \n",
    "\n",
    "3. Average purchase vs. sales price per brand/vendor"
   ]
  },
  {
   "cell_type": "code",
   "execution_count": 32,
   "id": "8d05703b",
   "metadata": {},
   "outputs": [],
   "source": [
    "# 1. Take top N vendors (e.g., top 10)\n",
    "top_vendors_purchase = (\n",
    "    df.groupby(\"VendorName\")[\"TotalPurchaseDollars\"]\n",
    "      .sum()\n",
    "      .sort_values(ascending=False)\n",
    "      .head(10)\n",
    "      .reset_index()\n",
    ")\n"
   ]
  },
  {
   "cell_type": "code",
   "execution_count": 33,
   "id": "12674019",
   "metadata": {},
   "outputs": [],
   "source": [
    "# Visualizing the data\n",
    "import plotly.express as px"
   ]
  },
  {
   "cell_type": "code",
   "execution_count": 34,
   "id": "7f75e3c7",
   "metadata": {},
   "outputs": [
    {
     "data": {
      "application/vnd.plotly.v1+json": {
       "config": {
        "plotlyServerURL": "https://plot.ly"
       },
       "data": [
        {
         "hovertemplate": "VendorName=%{x}<br>TotalPurchaseDollars=%{text}<extra></extra>",
         "legendgroup": "",
         "marker": {
          "color": "#636efa",
          "pattern": {
           "shape": ""
          }
         },
         "name": "",
         "orientation": "v",
         "showlegend": false,
         "text": {
          "bdata": "zczMpq1MiEGF61GgK5J6Qc3MzPD4FHdBkML1uKsBd0G4HoWr085wQc3MzLxztG1BKVyPIivOaUFcj8K9fjJpQa5H4QLJcGdBmpmZKcHbZEE=",
          "dtype": "f8"
         },
         "textposition": "auto",
         "type": "bar",
         "x": [
          "DIAGEO NORTH AMERICA INC",
          "MARTIGNETTI COMPANIES",
          "JIM BEAM BRANDS COMPANY",
          "PERNOD RICARD USA",
          "BACARDI USA INC",
          "CONSTELLATION BRANDS INC",
          "BROWN-FORMAN CORP",
          "ULTRA BEVERAGE COMPANY LLP",
          "E & J GALLO WINERY",
          "M S WALKER INC"
         ],
         "xaxis": "x",
         "y": {
          "bdata": "zczMpq1MiEGF61GgK5J6Qc3MzPD4FHdBkML1uKsBd0G4HoWr085wQc3MzLxztG1BKVyPIivOaUFcj8K9fjJpQa5H4QLJcGdBmpmZKcHbZEE=",
          "dtype": "f8"
         },
         "yaxis": "y"
        }
       ],
       "layout": {
        "barmode": "relative",
        "legend": {
         "tracegroupgap": 0
        },
        "template": {
         "data": {
          "bar": [
           {
            "error_x": {
             "color": "#2a3f5f"
            },
            "error_y": {
             "color": "#2a3f5f"
            },
            "marker": {
             "line": {
              "color": "#E5ECF6",
              "width": 0.5
             },
             "pattern": {
              "fillmode": "overlay",
              "size": 10,
              "solidity": 0.2
             }
            },
            "type": "bar"
           }
          ],
          "barpolar": [
           {
            "marker": {
             "line": {
              "color": "#E5ECF6",
              "width": 0.5
             },
             "pattern": {
              "fillmode": "overlay",
              "size": 10,
              "solidity": 0.2
             }
            },
            "type": "barpolar"
           }
          ],
          "carpet": [
           {
            "aaxis": {
             "endlinecolor": "#2a3f5f",
             "gridcolor": "white",
             "linecolor": "white",
             "minorgridcolor": "white",
             "startlinecolor": "#2a3f5f"
            },
            "baxis": {
             "endlinecolor": "#2a3f5f",
             "gridcolor": "white",
             "linecolor": "white",
             "minorgridcolor": "white",
             "startlinecolor": "#2a3f5f"
            },
            "type": "carpet"
           }
          ],
          "choropleth": [
           {
            "colorbar": {
             "outlinewidth": 0,
             "ticks": ""
            },
            "type": "choropleth"
           }
          ],
          "contour": [
           {
            "colorbar": {
             "outlinewidth": 0,
             "ticks": ""
            },
            "colorscale": [
             [
              0,
              "#0d0887"
             ],
             [
              0.1111111111111111,
              "#46039f"
             ],
             [
              0.2222222222222222,
              "#7201a8"
             ],
             [
              0.3333333333333333,
              "#9c179e"
             ],
             [
              0.4444444444444444,
              "#bd3786"
             ],
             [
              0.5555555555555556,
              "#d8576b"
             ],
             [
              0.6666666666666666,
              "#ed7953"
             ],
             [
              0.7777777777777778,
              "#fb9f3a"
             ],
             [
              0.8888888888888888,
              "#fdca26"
             ],
             [
              1,
              "#f0f921"
             ]
            ],
            "type": "contour"
           }
          ],
          "contourcarpet": [
           {
            "colorbar": {
             "outlinewidth": 0,
             "ticks": ""
            },
            "type": "contourcarpet"
           }
          ],
          "heatmap": [
           {
            "colorbar": {
             "outlinewidth": 0,
             "ticks": ""
            },
            "colorscale": [
             [
              0,
              "#0d0887"
             ],
             [
              0.1111111111111111,
              "#46039f"
             ],
             [
              0.2222222222222222,
              "#7201a8"
             ],
             [
              0.3333333333333333,
              "#9c179e"
             ],
             [
              0.4444444444444444,
              "#bd3786"
             ],
             [
              0.5555555555555556,
              "#d8576b"
             ],
             [
              0.6666666666666666,
              "#ed7953"
             ],
             [
              0.7777777777777778,
              "#fb9f3a"
             ],
             [
              0.8888888888888888,
              "#fdca26"
             ],
             [
              1,
              "#f0f921"
             ]
            ],
            "type": "heatmap"
           }
          ],
          "histogram": [
           {
            "marker": {
             "pattern": {
              "fillmode": "overlay",
              "size": 10,
              "solidity": 0.2
             }
            },
            "type": "histogram"
           }
          ],
          "histogram2d": [
           {
            "colorbar": {
             "outlinewidth": 0,
             "ticks": ""
            },
            "colorscale": [
             [
              0,
              "#0d0887"
             ],
             [
              0.1111111111111111,
              "#46039f"
             ],
             [
              0.2222222222222222,
              "#7201a8"
             ],
             [
              0.3333333333333333,
              "#9c179e"
             ],
             [
              0.4444444444444444,
              "#bd3786"
             ],
             [
              0.5555555555555556,
              "#d8576b"
             ],
             [
              0.6666666666666666,
              "#ed7953"
             ],
             [
              0.7777777777777778,
              "#fb9f3a"
             ],
             [
              0.8888888888888888,
              "#fdca26"
             ],
             [
              1,
              "#f0f921"
             ]
            ],
            "type": "histogram2d"
           }
          ],
          "histogram2dcontour": [
           {
            "colorbar": {
             "outlinewidth": 0,
             "ticks": ""
            },
            "colorscale": [
             [
              0,
              "#0d0887"
             ],
             [
              0.1111111111111111,
              "#46039f"
             ],
             [
              0.2222222222222222,
              "#7201a8"
             ],
             [
              0.3333333333333333,
              "#9c179e"
             ],
             [
              0.4444444444444444,
              "#bd3786"
             ],
             [
              0.5555555555555556,
              "#d8576b"
             ],
             [
              0.6666666666666666,
              "#ed7953"
             ],
             [
              0.7777777777777778,
              "#fb9f3a"
             ],
             [
              0.8888888888888888,
              "#fdca26"
             ],
             [
              1,
              "#f0f921"
             ]
            ],
            "type": "histogram2dcontour"
           }
          ],
          "mesh3d": [
           {
            "colorbar": {
             "outlinewidth": 0,
             "ticks": ""
            },
            "type": "mesh3d"
           }
          ],
          "parcoords": [
           {
            "line": {
             "colorbar": {
              "outlinewidth": 0,
              "ticks": ""
             }
            },
            "type": "parcoords"
           }
          ],
          "pie": [
           {
            "automargin": true,
            "type": "pie"
           }
          ],
          "scatter": [
           {
            "fillpattern": {
             "fillmode": "overlay",
             "size": 10,
             "solidity": 0.2
            },
            "type": "scatter"
           }
          ],
          "scatter3d": [
           {
            "line": {
             "colorbar": {
              "outlinewidth": 0,
              "ticks": ""
             }
            },
            "marker": {
             "colorbar": {
              "outlinewidth": 0,
              "ticks": ""
             }
            },
            "type": "scatter3d"
           }
          ],
          "scattercarpet": [
           {
            "marker": {
             "colorbar": {
              "outlinewidth": 0,
              "ticks": ""
             }
            },
            "type": "scattercarpet"
           }
          ],
          "scattergeo": [
           {
            "marker": {
             "colorbar": {
              "outlinewidth": 0,
              "ticks": ""
             }
            },
            "type": "scattergeo"
           }
          ],
          "scattergl": [
           {
            "marker": {
             "colorbar": {
              "outlinewidth": 0,
              "ticks": ""
             }
            },
            "type": "scattergl"
           }
          ],
          "scattermap": [
           {
            "marker": {
             "colorbar": {
              "outlinewidth": 0,
              "ticks": ""
             }
            },
            "type": "scattermap"
           }
          ],
          "scattermapbox": [
           {
            "marker": {
             "colorbar": {
              "outlinewidth": 0,
              "ticks": ""
             }
            },
            "type": "scattermapbox"
           }
          ],
          "scatterpolar": [
           {
            "marker": {
             "colorbar": {
              "outlinewidth": 0,
              "ticks": ""
             }
            },
            "type": "scatterpolar"
           }
          ],
          "scatterpolargl": [
           {
            "marker": {
             "colorbar": {
              "outlinewidth": 0,
              "ticks": ""
             }
            },
            "type": "scatterpolargl"
           }
          ],
          "scatterternary": [
           {
            "marker": {
             "colorbar": {
              "outlinewidth": 0,
              "ticks": ""
             }
            },
            "type": "scatterternary"
           }
          ],
          "surface": [
           {
            "colorbar": {
             "outlinewidth": 0,
             "ticks": ""
            },
            "colorscale": [
             [
              0,
              "#0d0887"
             ],
             [
              0.1111111111111111,
              "#46039f"
             ],
             [
              0.2222222222222222,
              "#7201a8"
             ],
             [
              0.3333333333333333,
              "#9c179e"
             ],
             [
              0.4444444444444444,
              "#bd3786"
             ],
             [
              0.5555555555555556,
              "#d8576b"
             ],
             [
              0.6666666666666666,
              "#ed7953"
             ],
             [
              0.7777777777777778,
              "#fb9f3a"
             ],
             [
              0.8888888888888888,
              "#fdca26"
             ],
             [
              1,
              "#f0f921"
             ]
            ],
            "type": "surface"
           }
          ],
          "table": [
           {
            "cells": {
             "fill": {
              "color": "#EBF0F8"
             },
             "line": {
              "color": "white"
             }
            },
            "header": {
             "fill": {
              "color": "#C8D4E3"
             },
             "line": {
              "color": "white"
             }
            },
            "type": "table"
           }
          ]
         },
         "layout": {
          "annotationdefaults": {
           "arrowcolor": "#2a3f5f",
           "arrowhead": 0,
           "arrowwidth": 1
          },
          "autotypenumbers": "strict",
          "coloraxis": {
           "colorbar": {
            "outlinewidth": 0,
            "ticks": ""
           }
          },
          "colorscale": {
           "diverging": [
            [
             0,
             "#8e0152"
            ],
            [
             0.1,
             "#c51b7d"
            ],
            [
             0.2,
             "#de77ae"
            ],
            [
             0.3,
             "#f1b6da"
            ],
            [
             0.4,
             "#fde0ef"
            ],
            [
             0.5,
             "#f7f7f7"
            ],
            [
             0.6,
             "#e6f5d0"
            ],
            [
             0.7,
             "#b8e186"
            ],
            [
             0.8,
             "#7fbc41"
            ],
            [
             0.9,
             "#4d9221"
            ],
            [
             1,
             "#276419"
            ]
           ],
           "sequential": [
            [
             0,
             "#0d0887"
            ],
            [
             0.1111111111111111,
             "#46039f"
            ],
            [
             0.2222222222222222,
             "#7201a8"
            ],
            [
             0.3333333333333333,
             "#9c179e"
            ],
            [
             0.4444444444444444,
             "#bd3786"
            ],
            [
             0.5555555555555556,
             "#d8576b"
            ],
            [
             0.6666666666666666,
             "#ed7953"
            ],
            [
             0.7777777777777778,
             "#fb9f3a"
            ],
            [
             0.8888888888888888,
             "#fdca26"
            ],
            [
             1,
             "#f0f921"
            ]
           ],
           "sequentialminus": [
            [
             0,
             "#0d0887"
            ],
            [
             0.1111111111111111,
             "#46039f"
            ],
            [
             0.2222222222222222,
             "#7201a8"
            ],
            [
             0.3333333333333333,
             "#9c179e"
            ],
            [
             0.4444444444444444,
             "#bd3786"
            ],
            [
             0.5555555555555556,
             "#d8576b"
            ],
            [
             0.6666666666666666,
             "#ed7953"
            ],
            [
             0.7777777777777778,
             "#fb9f3a"
            ],
            [
             0.8888888888888888,
             "#fdca26"
            ],
            [
             1,
             "#f0f921"
            ]
           ]
          },
          "colorway": [
           "#636efa",
           "#EF553B",
           "#00cc96",
           "#ab63fa",
           "#FFA15A",
           "#19d3f3",
           "#FF6692",
           "#B6E880",
           "#FF97FF",
           "#FECB52"
          ],
          "font": {
           "color": "#2a3f5f"
          },
          "geo": {
           "bgcolor": "white",
           "lakecolor": "white",
           "landcolor": "#E5ECF6",
           "showlakes": true,
           "showland": true,
           "subunitcolor": "white"
          },
          "hoverlabel": {
           "align": "left"
          },
          "hovermode": "closest",
          "mapbox": {
           "style": "light"
          },
          "paper_bgcolor": "white",
          "plot_bgcolor": "#E5ECF6",
          "polar": {
           "angularaxis": {
            "gridcolor": "white",
            "linecolor": "white",
            "ticks": ""
           },
           "bgcolor": "#E5ECF6",
           "radialaxis": {
            "gridcolor": "white",
            "linecolor": "white",
            "ticks": ""
           }
          },
          "scene": {
           "xaxis": {
            "backgroundcolor": "#E5ECF6",
            "gridcolor": "white",
            "gridwidth": 2,
            "linecolor": "white",
            "showbackground": true,
            "ticks": "",
            "zerolinecolor": "white"
           },
           "yaxis": {
            "backgroundcolor": "#E5ECF6",
            "gridcolor": "white",
            "gridwidth": 2,
            "linecolor": "white",
            "showbackground": true,
            "ticks": "",
            "zerolinecolor": "white"
           },
           "zaxis": {
            "backgroundcolor": "#E5ECF6",
            "gridcolor": "white",
            "gridwidth": 2,
            "linecolor": "white",
            "showbackground": true,
            "ticks": "",
            "zerolinecolor": "white"
           }
          },
          "shapedefaults": {
           "line": {
            "color": "#2a3f5f"
           }
          },
          "ternary": {
           "aaxis": {
            "gridcolor": "white",
            "linecolor": "white",
            "ticks": ""
           },
           "baxis": {
            "gridcolor": "white",
            "linecolor": "white",
            "ticks": ""
           },
           "bgcolor": "#E5ECF6",
           "caxis": {
            "gridcolor": "white",
            "linecolor": "white",
            "ticks": ""
           }
          },
          "title": {
           "x": 0.05
          },
          "xaxis": {
           "automargin": true,
           "gridcolor": "white",
           "linecolor": "white",
           "ticks": "",
           "title": {
            "standoff": 15
           },
           "zerolinecolor": "white",
           "zerolinewidth": 2
          },
          "yaxis": {
           "automargin": true,
           "gridcolor": "white",
           "linecolor": "white",
           "ticks": "",
           "title": {
            "standoff": 15
           },
           "zerolinecolor": "white",
           "zerolinewidth": 2
          }
         }
        },
        "title": {
         "text": "Top 10 Vendors by Total Purchase Dollars"
        },
        "xaxis": {
         "anchor": "y",
         "domain": [
          0,
          1
         ],
         "tickangle": -45,
         "title": {
          "text": "Vendor"
         }
        },
        "yaxis": {
         "anchor": "x",
         "domain": [
          0,
          1
         ],
         "title": {
          "text": "Total Purchase ($)"
         }
        }
       }
      }
     },
     "metadata": {},
     "output_type": "display_data"
    }
   ],
   "source": [
    "fig = px.bar(\n",
    "    top_vendors_purchase,\n",
    "    x=\"VendorName\",\n",
    "    y=\"TotalPurchaseDollars\",\n",
    "    title=\"Top 10 Vendors by Total Purchase Dollars\",\n",
    "    text=\"TotalPurchaseDollars\"\n",
    ")\n",
    "\n",
    "fig.update_layout(\n",
    "    xaxis_title=\"Vendor\",\n",
    "    yaxis_title=\"Total Purchase ($)\",\n",
    "    xaxis_tickangle=-45  # rotate labels for readability\n",
    ")\n",
    "\n",
    "fig.show()"
   ]
  },
  {
   "cell_type": "code",
   "execution_count": 35,
   "id": "8499b0bb",
   "metadata": {},
   "outputs": [],
   "source": [
    "#2. Top VendorName by TotalSalesDollar\n",
    "top_vendors_sales = (\n",
    "    df.groupby(\"VendorName\")[\"TotalSalesDollar\"]\n",
    "      .sum()\n",
    "      .sort_values(ascending=False)\n",
    "      .head(10)\n",
    "      .reset_index()\n",
    ")\n"
   ]
  },
  {
   "cell_type": "code",
   "execution_count": 36,
   "id": "62ff1a53",
   "metadata": {},
   "outputs": [
    {
     "data": {
      "application/vnd.plotly.v1+json": {
       "config": {
        "plotlyServerURL": "https://plot.ly"
       },
       "data": [
        {
         "hovertemplate": "VendorName=%{x}<br>TotalSalesDollar=%{text}<extra></extra>",
         "legendgroup": "",
         "marker": {
          "color": "#636efa",
          "pattern": {
           "shape": ""
          }
         },
         "name": "",
         "orientation": "v",
         "showlegend": false,
         "text": {
          "bdata": "rkfh64tjkEEpXI+uA4iDQetRuIK/yH5BKVyP0r9rfkEK16Nc09h3QXsUruNrVXdBKVyP6rqxcUGamZk55J5xQZqZmWFZ+nBBhetRSCRxbUE=",
          "dtype": "f8"
         },
         "textposition": "auto",
         "type": "bar",
         "x": [
          "DIAGEO NORTH AMERICA INC",
          "MARTIGNETTI COMPANIES",
          "PERNOD RICARD USA",
          "JIM BEAM BRANDS COMPANY",
          "BACARDI USA INC",
          "CONSTELLATION BRANDS INC",
          "E & J GALLO WINERY",
          "BROWN-FORMAN CORP",
          "ULTRA BEVERAGE COMPANY LLP",
          "M S WALKER INC"
         ],
         "xaxis": "x",
         "y": {
          "bdata": "rkfh64tjkEEpXI+uA4iDQetRuIK/yH5BKVyP0r9rfkEK16Nc09h3QXsUruNrVXdBKVyP6rqxcUGamZk55J5xQZqZmWFZ+nBBhetRSCRxbUE=",
          "dtype": "f8"
         },
         "yaxis": "y"
        }
       ],
       "layout": {
        "barmode": "relative",
        "legend": {
         "tracegroupgap": 0
        },
        "template": {
         "data": {
          "bar": [
           {
            "error_x": {
             "color": "#2a3f5f"
            },
            "error_y": {
             "color": "#2a3f5f"
            },
            "marker": {
             "line": {
              "color": "#E5ECF6",
              "width": 0.5
             },
             "pattern": {
              "fillmode": "overlay",
              "size": 10,
              "solidity": 0.2
             }
            },
            "type": "bar"
           }
          ],
          "barpolar": [
           {
            "marker": {
             "line": {
              "color": "#E5ECF6",
              "width": 0.5
             },
             "pattern": {
              "fillmode": "overlay",
              "size": 10,
              "solidity": 0.2
             }
            },
            "type": "barpolar"
           }
          ],
          "carpet": [
           {
            "aaxis": {
             "endlinecolor": "#2a3f5f",
             "gridcolor": "white",
             "linecolor": "white",
             "minorgridcolor": "white",
             "startlinecolor": "#2a3f5f"
            },
            "baxis": {
             "endlinecolor": "#2a3f5f",
             "gridcolor": "white",
             "linecolor": "white",
             "minorgridcolor": "white",
             "startlinecolor": "#2a3f5f"
            },
            "type": "carpet"
           }
          ],
          "choropleth": [
           {
            "colorbar": {
             "outlinewidth": 0,
             "ticks": ""
            },
            "type": "choropleth"
           }
          ],
          "contour": [
           {
            "colorbar": {
             "outlinewidth": 0,
             "ticks": ""
            },
            "colorscale": [
             [
              0,
              "#0d0887"
             ],
             [
              0.1111111111111111,
              "#46039f"
             ],
             [
              0.2222222222222222,
              "#7201a8"
             ],
             [
              0.3333333333333333,
              "#9c179e"
             ],
             [
              0.4444444444444444,
              "#bd3786"
             ],
             [
              0.5555555555555556,
              "#d8576b"
             ],
             [
              0.6666666666666666,
              "#ed7953"
             ],
             [
              0.7777777777777778,
              "#fb9f3a"
             ],
             [
              0.8888888888888888,
              "#fdca26"
             ],
             [
              1,
              "#f0f921"
             ]
            ],
            "type": "contour"
           }
          ],
          "contourcarpet": [
           {
            "colorbar": {
             "outlinewidth": 0,
             "ticks": ""
            },
            "type": "contourcarpet"
           }
          ],
          "heatmap": [
           {
            "colorbar": {
             "outlinewidth": 0,
             "ticks": ""
            },
            "colorscale": [
             [
              0,
              "#0d0887"
             ],
             [
              0.1111111111111111,
              "#46039f"
             ],
             [
              0.2222222222222222,
              "#7201a8"
             ],
             [
              0.3333333333333333,
              "#9c179e"
             ],
             [
              0.4444444444444444,
              "#bd3786"
             ],
             [
              0.5555555555555556,
              "#d8576b"
             ],
             [
              0.6666666666666666,
              "#ed7953"
             ],
             [
              0.7777777777777778,
              "#fb9f3a"
             ],
             [
              0.8888888888888888,
              "#fdca26"
             ],
             [
              1,
              "#f0f921"
             ]
            ],
            "type": "heatmap"
           }
          ],
          "histogram": [
           {
            "marker": {
             "pattern": {
              "fillmode": "overlay",
              "size": 10,
              "solidity": 0.2
             }
            },
            "type": "histogram"
           }
          ],
          "histogram2d": [
           {
            "colorbar": {
             "outlinewidth": 0,
             "ticks": ""
            },
            "colorscale": [
             [
              0,
              "#0d0887"
             ],
             [
              0.1111111111111111,
              "#46039f"
             ],
             [
              0.2222222222222222,
              "#7201a8"
             ],
             [
              0.3333333333333333,
              "#9c179e"
             ],
             [
              0.4444444444444444,
              "#bd3786"
             ],
             [
              0.5555555555555556,
              "#d8576b"
             ],
             [
              0.6666666666666666,
              "#ed7953"
             ],
             [
              0.7777777777777778,
              "#fb9f3a"
             ],
             [
              0.8888888888888888,
              "#fdca26"
             ],
             [
              1,
              "#f0f921"
             ]
            ],
            "type": "histogram2d"
           }
          ],
          "histogram2dcontour": [
           {
            "colorbar": {
             "outlinewidth": 0,
             "ticks": ""
            },
            "colorscale": [
             [
              0,
              "#0d0887"
             ],
             [
              0.1111111111111111,
              "#46039f"
             ],
             [
              0.2222222222222222,
              "#7201a8"
             ],
             [
              0.3333333333333333,
              "#9c179e"
             ],
             [
              0.4444444444444444,
              "#bd3786"
             ],
             [
              0.5555555555555556,
              "#d8576b"
             ],
             [
              0.6666666666666666,
              "#ed7953"
             ],
             [
              0.7777777777777778,
              "#fb9f3a"
             ],
             [
              0.8888888888888888,
              "#fdca26"
             ],
             [
              1,
              "#f0f921"
             ]
            ],
            "type": "histogram2dcontour"
           }
          ],
          "mesh3d": [
           {
            "colorbar": {
             "outlinewidth": 0,
             "ticks": ""
            },
            "type": "mesh3d"
           }
          ],
          "parcoords": [
           {
            "line": {
             "colorbar": {
              "outlinewidth": 0,
              "ticks": ""
             }
            },
            "type": "parcoords"
           }
          ],
          "pie": [
           {
            "automargin": true,
            "type": "pie"
           }
          ],
          "scatter": [
           {
            "fillpattern": {
             "fillmode": "overlay",
             "size": 10,
             "solidity": 0.2
            },
            "type": "scatter"
           }
          ],
          "scatter3d": [
           {
            "line": {
             "colorbar": {
              "outlinewidth": 0,
              "ticks": ""
             }
            },
            "marker": {
             "colorbar": {
              "outlinewidth": 0,
              "ticks": ""
             }
            },
            "type": "scatter3d"
           }
          ],
          "scattercarpet": [
           {
            "marker": {
             "colorbar": {
              "outlinewidth": 0,
              "ticks": ""
             }
            },
            "type": "scattercarpet"
           }
          ],
          "scattergeo": [
           {
            "marker": {
             "colorbar": {
              "outlinewidth": 0,
              "ticks": ""
             }
            },
            "type": "scattergeo"
           }
          ],
          "scattergl": [
           {
            "marker": {
             "colorbar": {
              "outlinewidth": 0,
              "ticks": ""
             }
            },
            "type": "scattergl"
           }
          ],
          "scattermap": [
           {
            "marker": {
             "colorbar": {
              "outlinewidth": 0,
              "ticks": ""
             }
            },
            "type": "scattermap"
           }
          ],
          "scattermapbox": [
           {
            "marker": {
             "colorbar": {
              "outlinewidth": 0,
              "ticks": ""
             }
            },
            "type": "scattermapbox"
           }
          ],
          "scatterpolar": [
           {
            "marker": {
             "colorbar": {
              "outlinewidth": 0,
              "ticks": ""
             }
            },
            "type": "scatterpolar"
           }
          ],
          "scatterpolargl": [
           {
            "marker": {
             "colorbar": {
              "outlinewidth": 0,
              "ticks": ""
             }
            },
            "type": "scatterpolargl"
           }
          ],
          "scatterternary": [
           {
            "marker": {
             "colorbar": {
              "outlinewidth": 0,
              "ticks": ""
             }
            },
            "type": "scatterternary"
           }
          ],
          "surface": [
           {
            "colorbar": {
             "outlinewidth": 0,
             "ticks": ""
            },
            "colorscale": [
             [
              0,
              "#0d0887"
             ],
             [
              0.1111111111111111,
              "#46039f"
             ],
             [
              0.2222222222222222,
              "#7201a8"
             ],
             [
              0.3333333333333333,
              "#9c179e"
             ],
             [
              0.4444444444444444,
              "#bd3786"
             ],
             [
              0.5555555555555556,
              "#d8576b"
             ],
             [
              0.6666666666666666,
              "#ed7953"
             ],
             [
              0.7777777777777778,
              "#fb9f3a"
             ],
             [
              0.8888888888888888,
              "#fdca26"
             ],
             [
              1,
              "#f0f921"
             ]
            ],
            "type": "surface"
           }
          ],
          "table": [
           {
            "cells": {
             "fill": {
              "color": "#EBF0F8"
             },
             "line": {
              "color": "white"
             }
            },
            "header": {
             "fill": {
              "color": "#C8D4E3"
             },
             "line": {
              "color": "white"
             }
            },
            "type": "table"
           }
          ]
         },
         "layout": {
          "annotationdefaults": {
           "arrowcolor": "#2a3f5f",
           "arrowhead": 0,
           "arrowwidth": 1
          },
          "autotypenumbers": "strict",
          "coloraxis": {
           "colorbar": {
            "outlinewidth": 0,
            "ticks": ""
           }
          },
          "colorscale": {
           "diverging": [
            [
             0,
             "#8e0152"
            ],
            [
             0.1,
             "#c51b7d"
            ],
            [
             0.2,
             "#de77ae"
            ],
            [
             0.3,
             "#f1b6da"
            ],
            [
             0.4,
             "#fde0ef"
            ],
            [
             0.5,
             "#f7f7f7"
            ],
            [
             0.6,
             "#e6f5d0"
            ],
            [
             0.7,
             "#b8e186"
            ],
            [
             0.8,
             "#7fbc41"
            ],
            [
             0.9,
             "#4d9221"
            ],
            [
             1,
             "#276419"
            ]
           ],
           "sequential": [
            [
             0,
             "#0d0887"
            ],
            [
             0.1111111111111111,
             "#46039f"
            ],
            [
             0.2222222222222222,
             "#7201a8"
            ],
            [
             0.3333333333333333,
             "#9c179e"
            ],
            [
             0.4444444444444444,
             "#bd3786"
            ],
            [
             0.5555555555555556,
             "#d8576b"
            ],
            [
             0.6666666666666666,
             "#ed7953"
            ],
            [
             0.7777777777777778,
             "#fb9f3a"
            ],
            [
             0.8888888888888888,
             "#fdca26"
            ],
            [
             1,
             "#f0f921"
            ]
           ],
           "sequentialminus": [
            [
             0,
             "#0d0887"
            ],
            [
             0.1111111111111111,
             "#46039f"
            ],
            [
             0.2222222222222222,
             "#7201a8"
            ],
            [
             0.3333333333333333,
             "#9c179e"
            ],
            [
             0.4444444444444444,
             "#bd3786"
            ],
            [
             0.5555555555555556,
             "#d8576b"
            ],
            [
             0.6666666666666666,
             "#ed7953"
            ],
            [
             0.7777777777777778,
             "#fb9f3a"
            ],
            [
             0.8888888888888888,
             "#fdca26"
            ],
            [
             1,
             "#f0f921"
            ]
           ]
          },
          "colorway": [
           "#636efa",
           "#EF553B",
           "#00cc96",
           "#ab63fa",
           "#FFA15A",
           "#19d3f3",
           "#FF6692",
           "#B6E880",
           "#FF97FF",
           "#FECB52"
          ],
          "font": {
           "color": "#2a3f5f"
          },
          "geo": {
           "bgcolor": "white",
           "lakecolor": "white",
           "landcolor": "#E5ECF6",
           "showlakes": true,
           "showland": true,
           "subunitcolor": "white"
          },
          "hoverlabel": {
           "align": "left"
          },
          "hovermode": "closest",
          "mapbox": {
           "style": "light"
          },
          "paper_bgcolor": "white",
          "plot_bgcolor": "#E5ECF6",
          "polar": {
           "angularaxis": {
            "gridcolor": "white",
            "linecolor": "white",
            "ticks": ""
           },
           "bgcolor": "#E5ECF6",
           "radialaxis": {
            "gridcolor": "white",
            "linecolor": "white",
            "ticks": ""
           }
          },
          "scene": {
           "xaxis": {
            "backgroundcolor": "#E5ECF6",
            "gridcolor": "white",
            "gridwidth": 2,
            "linecolor": "white",
            "showbackground": true,
            "ticks": "",
            "zerolinecolor": "white"
           },
           "yaxis": {
            "backgroundcolor": "#E5ECF6",
            "gridcolor": "white",
            "gridwidth": 2,
            "linecolor": "white",
            "showbackground": true,
            "ticks": "",
            "zerolinecolor": "white"
           },
           "zaxis": {
            "backgroundcolor": "#E5ECF6",
            "gridcolor": "white",
            "gridwidth": 2,
            "linecolor": "white",
            "showbackground": true,
            "ticks": "",
            "zerolinecolor": "white"
           }
          },
          "shapedefaults": {
           "line": {
            "color": "#2a3f5f"
           }
          },
          "ternary": {
           "aaxis": {
            "gridcolor": "white",
            "linecolor": "white",
            "ticks": ""
           },
           "baxis": {
            "gridcolor": "white",
            "linecolor": "white",
            "ticks": ""
           },
           "bgcolor": "#E5ECF6",
           "caxis": {
            "gridcolor": "white",
            "linecolor": "white",
            "ticks": ""
           }
          },
          "title": {
           "x": 0.05
          },
          "xaxis": {
           "automargin": true,
           "gridcolor": "white",
           "linecolor": "white",
           "ticks": "",
           "title": {
            "standoff": 15
           },
           "zerolinecolor": "white",
           "zerolinewidth": 2
          },
          "yaxis": {
           "automargin": true,
           "gridcolor": "white",
           "linecolor": "white",
           "ticks": "",
           "title": {
            "standoff": 15
           },
           "zerolinecolor": "white",
           "zerolinewidth": 2
          }
         }
        },
        "title": {
         "text": "Top 10 Vendors by Total Sales Dollars"
        },
        "xaxis": {
         "anchor": "y",
         "domain": [
          0,
          1
         ],
         "title": {
          "text": "VendorName"
         }
        },
        "yaxis": {
         "anchor": "x",
         "domain": [
          0,
          1
         ],
         "title": {
          "text": "TotalSalesDollar"
         }
        }
       }
      }
     },
     "metadata": {},
     "output_type": "display_data"
    }
   ],
   "source": [
    "# Plot\n",
    "fig = px.bar(\n",
    "    top_vendors_sales,\n",
    "    x=\"VendorName\",\n",
    "    y=\"TotalSalesDollar\",\n",
    "    title=\"Top 10 Vendors by Total Sales Dollars\",\n",
    "    text=\"TotalSalesDollar\"\n",
    ")\n",
    "\n",
    "fig.show()"
   ]
  },
  {
   "cell_type": "code",
   "execution_count": 37,
   "id": "83057b81",
   "metadata": {},
   "outputs": [],
   "source": [
    "# Take top 10 vendors by volume\n",
    "top_vendors_volume = (\n",
    "    df.groupby(\"VendorName\")[\"Volume\"]\n",
    "      .sum()\n",
    "      .sort_values(ascending=False)\n",
    "      .head(10)\n",
    "      .reset_index()\n",
    ")"
   ]
  },
  {
   "cell_type": "code",
   "execution_count": 38,
   "id": "e2b135db",
   "metadata": {},
   "outputs": [
    {
     "data": {
      "application/vnd.plotly.v1+json": {
       "config": {
        "plotlyServerURL": "https://plot.ly"
       },
       "data": [
        {
         "hovertemplate": "VendorName=%{x}<br>Volume=%{text}<extra></extra>",
         "legendgroup": "",
         "marker": {
          "color": "#636efa",
          "pattern": {
           "shape": ""
          }
         },
         "name": "",
         "orientation": "v",
         "showlegend": false,
         "text": {
          "bdata": "AAAAADyjMEEAAAAAHiUkQQAAAABaaiNBAAAAAGxoIkEAAAAAqEUiQQAAAAA0FBxBAAAAAPSiE0EAAAAALKITQQAAAAB0fRNBAAAAAOQ4E0E=",
          "dtype": "f8"
         },
         "textposition": "auto",
         "type": "bar",
         "x": [
          "MARTIGNETTI COMPANIES",
          "M S WALKER INC",
          "ULTRA BEVERAGE COMPANY LLP",
          "PERFECTA WINES",
          "E & J GALLO WINERY",
          "CONSTELLATION BRANDS INC",
          "PINE STATE TRADING CO",
          "DIAGEO NORTH AMERICA INC",
          "JIM BEAM BRANDS COMPANY",
          "WINE GROUP INC"
         ],
         "xaxis": "x",
         "y": {
          "bdata": "AAAAADyjMEEAAAAAHiUkQQAAAABaaiNBAAAAAGxoIkEAAAAAqEUiQQAAAAA0FBxBAAAAAPSiE0EAAAAALKITQQAAAAB0fRNBAAAAAOQ4E0E=",
          "dtype": "f8"
         },
         "yaxis": "y"
        }
       ],
       "layout": {
        "barmode": "relative",
        "legend": {
         "tracegroupgap": 0
        },
        "template": {
         "data": {
          "bar": [
           {
            "error_x": {
             "color": "#2a3f5f"
            },
            "error_y": {
             "color": "#2a3f5f"
            },
            "marker": {
             "line": {
              "color": "#E5ECF6",
              "width": 0.5
             },
             "pattern": {
              "fillmode": "overlay",
              "size": 10,
              "solidity": 0.2
             }
            },
            "type": "bar"
           }
          ],
          "barpolar": [
           {
            "marker": {
             "line": {
              "color": "#E5ECF6",
              "width": 0.5
             },
             "pattern": {
              "fillmode": "overlay",
              "size": 10,
              "solidity": 0.2
             }
            },
            "type": "barpolar"
           }
          ],
          "carpet": [
           {
            "aaxis": {
             "endlinecolor": "#2a3f5f",
             "gridcolor": "white",
             "linecolor": "white",
             "minorgridcolor": "white",
             "startlinecolor": "#2a3f5f"
            },
            "baxis": {
             "endlinecolor": "#2a3f5f",
             "gridcolor": "white",
             "linecolor": "white",
             "minorgridcolor": "white",
             "startlinecolor": "#2a3f5f"
            },
            "type": "carpet"
           }
          ],
          "choropleth": [
           {
            "colorbar": {
             "outlinewidth": 0,
             "ticks": ""
            },
            "type": "choropleth"
           }
          ],
          "contour": [
           {
            "colorbar": {
             "outlinewidth": 0,
             "ticks": ""
            },
            "colorscale": [
             [
              0,
              "#0d0887"
             ],
             [
              0.1111111111111111,
              "#46039f"
             ],
             [
              0.2222222222222222,
              "#7201a8"
             ],
             [
              0.3333333333333333,
              "#9c179e"
             ],
             [
              0.4444444444444444,
              "#bd3786"
             ],
             [
              0.5555555555555556,
              "#d8576b"
             ],
             [
              0.6666666666666666,
              "#ed7953"
             ],
             [
              0.7777777777777778,
              "#fb9f3a"
             ],
             [
              0.8888888888888888,
              "#fdca26"
             ],
             [
              1,
              "#f0f921"
             ]
            ],
            "type": "contour"
           }
          ],
          "contourcarpet": [
           {
            "colorbar": {
             "outlinewidth": 0,
             "ticks": ""
            },
            "type": "contourcarpet"
           }
          ],
          "heatmap": [
           {
            "colorbar": {
             "outlinewidth": 0,
             "ticks": ""
            },
            "colorscale": [
             [
              0,
              "#0d0887"
             ],
             [
              0.1111111111111111,
              "#46039f"
             ],
             [
              0.2222222222222222,
              "#7201a8"
             ],
             [
              0.3333333333333333,
              "#9c179e"
             ],
             [
              0.4444444444444444,
              "#bd3786"
             ],
             [
              0.5555555555555556,
              "#d8576b"
             ],
             [
              0.6666666666666666,
              "#ed7953"
             ],
             [
              0.7777777777777778,
              "#fb9f3a"
             ],
             [
              0.8888888888888888,
              "#fdca26"
             ],
             [
              1,
              "#f0f921"
             ]
            ],
            "type": "heatmap"
           }
          ],
          "histogram": [
           {
            "marker": {
             "pattern": {
              "fillmode": "overlay",
              "size": 10,
              "solidity": 0.2
             }
            },
            "type": "histogram"
           }
          ],
          "histogram2d": [
           {
            "colorbar": {
             "outlinewidth": 0,
             "ticks": ""
            },
            "colorscale": [
             [
              0,
              "#0d0887"
             ],
             [
              0.1111111111111111,
              "#46039f"
             ],
             [
              0.2222222222222222,
              "#7201a8"
             ],
             [
              0.3333333333333333,
              "#9c179e"
             ],
             [
              0.4444444444444444,
              "#bd3786"
             ],
             [
              0.5555555555555556,
              "#d8576b"
             ],
             [
              0.6666666666666666,
              "#ed7953"
             ],
             [
              0.7777777777777778,
              "#fb9f3a"
             ],
             [
              0.8888888888888888,
              "#fdca26"
             ],
             [
              1,
              "#f0f921"
             ]
            ],
            "type": "histogram2d"
           }
          ],
          "histogram2dcontour": [
           {
            "colorbar": {
             "outlinewidth": 0,
             "ticks": ""
            },
            "colorscale": [
             [
              0,
              "#0d0887"
             ],
             [
              0.1111111111111111,
              "#46039f"
             ],
             [
              0.2222222222222222,
              "#7201a8"
             ],
             [
              0.3333333333333333,
              "#9c179e"
             ],
             [
              0.4444444444444444,
              "#bd3786"
             ],
             [
              0.5555555555555556,
              "#d8576b"
             ],
             [
              0.6666666666666666,
              "#ed7953"
             ],
             [
              0.7777777777777778,
              "#fb9f3a"
             ],
             [
              0.8888888888888888,
              "#fdca26"
             ],
             [
              1,
              "#f0f921"
             ]
            ],
            "type": "histogram2dcontour"
           }
          ],
          "mesh3d": [
           {
            "colorbar": {
             "outlinewidth": 0,
             "ticks": ""
            },
            "type": "mesh3d"
           }
          ],
          "parcoords": [
           {
            "line": {
             "colorbar": {
              "outlinewidth": 0,
              "ticks": ""
             }
            },
            "type": "parcoords"
           }
          ],
          "pie": [
           {
            "automargin": true,
            "type": "pie"
           }
          ],
          "scatter": [
           {
            "fillpattern": {
             "fillmode": "overlay",
             "size": 10,
             "solidity": 0.2
            },
            "type": "scatter"
           }
          ],
          "scatter3d": [
           {
            "line": {
             "colorbar": {
              "outlinewidth": 0,
              "ticks": ""
             }
            },
            "marker": {
             "colorbar": {
              "outlinewidth": 0,
              "ticks": ""
             }
            },
            "type": "scatter3d"
           }
          ],
          "scattercarpet": [
           {
            "marker": {
             "colorbar": {
              "outlinewidth": 0,
              "ticks": ""
             }
            },
            "type": "scattercarpet"
           }
          ],
          "scattergeo": [
           {
            "marker": {
             "colorbar": {
              "outlinewidth": 0,
              "ticks": ""
             }
            },
            "type": "scattergeo"
           }
          ],
          "scattergl": [
           {
            "marker": {
             "colorbar": {
              "outlinewidth": 0,
              "ticks": ""
             }
            },
            "type": "scattergl"
           }
          ],
          "scattermap": [
           {
            "marker": {
             "colorbar": {
              "outlinewidth": 0,
              "ticks": ""
             }
            },
            "type": "scattermap"
           }
          ],
          "scattermapbox": [
           {
            "marker": {
             "colorbar": {
              "outlinewidth": 0,
              "ticks": ""
             }
            },
            "type": "scattermapbox"
           }
          ],
          "scatterpolar": [
           {
            "marker": {
             "colorbar": {
              "outlinewidth": 0,
              "ticks": ""
             }
            },
            "type": "scatterpolar"
           }
          ],
          "scatterpolargl": [
           {
            "marker": {
             "colorbar": {
              "outlinewidth": 0,
              "ticks": ""
             }
            },
            "type": "scatterpolargl"
           }
          ],
          "scatterternary": [
           {
            "marker": {
             "colorbar": {
              "outlinewidth": 0,
              "ticks": ""
             }
            },
            "type": "scatterternary"
           }
          ],
          "surface": [
           {
            "colorbar": {
             "outlinewidth": 0,
             "ticks": ""
            },
            "colorscale": [
             [
              0,
              "#0d0887"
             ],
             [
              0.1111111111111111,
              "#46039f"
             ],
             [
              0.2222222222222222,
              "#7201a8"
             ],
             [
              0.3333333333333333,
              "#9c179e"
             ],
             [
              0.4444444444444444,
              "#bd3786"
             ],
             [
              0.5555555555555556,
              "#d8576b"
             ],
             [
              0.6666666666666666,
              "#ed7953"
             ],
             [
              0.7777777777777778,
              "#fb9f3a"
             ],
             [
              0.8888888888888888,
              "#fdca26"
             ],
             [
              1,
              "#f0f921"
             ]
            ],
            "type": "surface"
           }
          ],
          "table": [
           {
            "cells": {
             "fill": {
              "color": "#EBF0F8"
             },
             "line": {
              "color": "white"
             }
            },
            "header": {
             "fill": {
              "color": "#C8D4E3"
             },
             "line": {
              "color": "white"
             }
            },
            "type": "table"
           }
          ]
         },
         "layout": {
          "annotationdefaults": {
           "arrowcolor": "#2a3f5f",
           "arrowhead": 0,
           "arrowwidth": 1
          },
          "autotypenumbers": "strict",
          "coloraxis": {
           "colorbar": {
            "outlinewidth": 0,
            "ticks": ""
           }
          },
          "colorscale": {
           "diverging": [
            [
             0,
             "#8e0152"
            ],
            [
             0.1,
             "#c51b7d"
            ],
            [
             0.2,
             "#de77ae"
            ],
            [
             0.3,
             "#f1b6da"
            ],
            [
             0.4,
             "#fde0ef"
            ],
            [
             0.5,
             "#f7f7f7"
            ],
            [
             0.6,
             "#e6f5d0"
            ],
            [
             0.7,
             "#b8e186"
            ],
            [
             0.8,
             "#7fbc41"
            ],
            [
             0.9,
             "#4d9221"
            ],
            [
             1,
             "#276419"
            ]
           ],
           "sequential": [
            [
             0,
             "#0d0887"
            ],
            [
             0.1111111111111111,
             "#46039f"
            ],
            [
             0.2222222222222222,
             "#7201a8"
            ],
            [
             0.3333333333333333,
             "#9c179e"
            ],
            [
             0.4444444444444444,
             "#bd3786"
            ],
            [
             0.5555555555555556,
             "#d8576b"
            ],
            [
             0.6666666666666666,
             "#ed7953"
            ],
            [
             0.7777777777777778,
             "#fb9f3a"
            ],
            [
             0.8888888888888888,
             "#fdca26"
            ],
            [
             1,
             "#f0f921"
            ]
           ],
           "sequentialminus": [
            [
             0,
             "#0d0887"
            ],
            [
             0.1111111111111111,
             "#46039f"
            ],
            [
             0.2222222222222222,
             "#7201a8"
            ],
            [
             0.3333333333333333,
             "#9c179e"
            ],
            [
             0.4444444444444444,
             "#bd3786"
            ],
            [
             0.5555555555555556,
             "#d8576b"
            ],
            [
             0.6666666666666666,
             "#ed7953"
            ],
            [
             0.7777777777777778,
             "#fb9f3a"
            ],
            [
             0.8888888888888888,
             "#fdca26"
            ],
            [
             1,
             "#f0f921"
            ]
           ]
          },
          "colorway": [
           "#636efa",
           "#EF553B",
           "#00cc96",
           "#ab63fa",
           "#FFA15A",
           "#19d3f3",
           "#FF6692",
           "#B6E880",
           "#FF97FF",
           "#FECB52"
          ],
          "font": {
           "color": "#2a3f5f"
          },
          "geo": {
           "bgcolor": "white",
           "lakecolor": "white",
           "landcolor": "#E5ECF6",
           "showlakes": true,
           "showland": true,
           "subunitcolor": "white"
          },
          "hoverlabel": {
           "align": "left"
          },
          "hovermode": "closest",
          "mapbox": {
           "style": "light"
          },
          "paper_bgcolor": "white",
          "plot_bgcolor": "#E5ECF6",
          "polar": {
           "angularaxis": {
            "gridcolor": "white",
            "linecolor": "white",
            "ticks": ""
           },
           "bgcolor": "#E5ECF6",
           "radialaxis": {
            "gridcolor": "white",
            "linecolor": "white",
            "ticks": ""
           }
          },
          "scene": {
           "xaxis": {
            "backgroundcolor": "#E5ECF6",
            "gridcolor": "white",
            "gridwidth": 2,
            "linecolor": "white",
            "showbackground": true,
            "ticks": "",
            "zerolinecolor": "white"
           },
           "yaxis": {
            "backgroundcolor": "#E5ECF6",
            "gridcolor": "white",
            "gridwidth": 2,
            "linecolor": "white",
            "showbackground": true,
            "ticks": "",
            "zerolinecolor": "white"
           },
           "zaxis": {
            "backgroundcolor": "#E5ECF6",
            "gridcolor": "white",
            "gridwidth": 2,
            "linecolor": "white",
            "showbackground": true,
            "ticks": "",
            "zerolinecolor": "white"
           }
          },
          "shapedefaults": {
           "line": {
            "color": "#2a3f5f"
           }
          },
          "ternary": {
           "aaxis": {
            "gridcolor": "white",
            "linecolor": "white",
            "ticks": ""
           },
           "baxis": {
            "gridcolor": "white",
            "linecolor": "white",
            "ticks": ""
           },
           "bgcolor": "#E5ECF6",
           "caxis": {
            "gridcolor": "white",
            "linecolor": "white",
            "ticks": ""
           }
          },
          "title": {
           "x": 0.05
          },
          "xaxis": {
           "automargin": true,
           "gridcolor": "white",
           "linecolor": "white",
           "ticks": "",
           "title": {
            "standoff": 15
           },
           "zerolinecolor": "white",
           "zerolinewidth": 2
          },
          "yaxis": {
           "automargin": true,
           "gridcolor": "white",
           "linecolor": "white",
           "ticks": "",
           "title": {
            "standoff": 15
           },
           "zerolinecolor": "white",
           "zerolinewidth": 2
          }
         }
        },
        "title": {
         "text": "Top 10 Vendors by Total Volume"
        },
        "xaxis": {
         "anchor": "y",
         "domain": [
          0,
          1
         ],
         "tickangle": -45,
         "title": {
          "text": "Vendor"
         }
        },
        "yaxis": {
         "anchor": "x",
         "domain": [
          0,
          1
         ],
         "title": {
          "text": "Total Volume"
         }
        }
       }
      }
     },
     "metadata": {},
     "output_type": "display_data"
    }
   ],
   "source": [
    "# Plot\n",
    "fig = px.bar(\n",
    "    top_vendors_volume,\n",
    "    x=\"VendorName\",\n",
    "    y=\"Volume\",\n",
    "    title=\"Top 10 Vendors by Total Volume\",\n",
    "    text=\"Volume\"\n",
    ")\n",
    "\n",
    "fig.update_layout(\n",
    "    xaxis_title=\"Vendor\",\n",
    "    yaxis_title=\"Total Volume\",\n",
    "    xaxis_tickangle=-45\n",
    ")\n",
    "\n",
    "fig.show()"
   ]
  },
  {
   "cell_type": "code",
   "execution_count": 39,
   "id": "7716ac6f",
   "metadata": {},
   "outputs": [],
   "source": [
    "# Take top 10 brands by sales\n",
    "top_brands_sales = (\n",
    "    df.groupby(\"Brand\")[\"TotalSalesDollar\"]\n",
    "      .sum()\n",
    "      .sort_values(ascending=False)\n",
    "      .head(10)\n",
    "      .reset_index()\n",
    ")"
   ]
  },
  {
   "cell_type": "code",
   "execution_count": 40,
   "id": "7ed2e064",
   "metadata": {},
   "outputs": [
    {
     "data": {
      "application/vnd.plotly.v1+json": {
       "config": {
        "plotlyServerURL": "https://plot.ly"
       },
       "data": [
        {
         "domain": {
          "x": [
           0,
           1
          ],
          "y": [
           0,
           1
          ]
         },
         "hovertemplate": "Brand=%{label}<br>TotalSalesDollar=%{value}<extra></extra>",
         "labels": {
          "bdata": "0QRNDYQfpRDZDRIPHQqhDR4MYAU=",
          "dtype": "i2"
         },
         "legendgroup": "",
         "name": "",
         "showlegend": true,
         "type": "pie",
         "values": {
          "bdata": "Ctej4Fd2U0H2KFxfIGJSQWZmZibCT1FBhetROBETUUF7FK7nIBxQQTMzMzM00UlB16Nw3bsoRUGF61GYNSVEQc3MzKyUxkNBH4XrsaCUQkE=",
          "dtype": "f8"
         }
        }
       ],
       "layout": {
        "legend": {
         "tracegroupgap": 0
        },
        "template": {
         "data": {
          "bar": [
           {
            "error_x": {
             "color": "#2a3f5f"
            },
            "error_y": {
             "color": "#2a3f5f"
            },
            "marker": {
             "line": {
              "color": "#E5ECF6",
              "width": 0.5
             },
             "pattern": {
              "fillmode": "overlay",
              "size": 10,
              "solidity": 0.2
             }
            },
            "type": "bar"
           }
          ],
          "barpolar": [
           {
            "marker": {
             "line": {
              "color": "#E5ECF6",
              "width": 0.5
             },
             "pattern": {
              "fillmode": "overlay",
              "size": 10,
              "solidity": 0.2
             }
            },
            "type": "barpolar"
           }
          ],
          "carpet": [
           {
            "aaxis": {
             "endlinecolor": "#2a3f5f",
             "gridcolor": "white",
             "linecolor": "white",
             "minorgridcolor": "white",
             "startlinecolor": "#2a3f5f"
            },
            "baxis": {
             "endlinecolor": "#2a3f5f",
             "gridcolor": "white",
             "linecolor": "white",
             "minorgridcolor": "white",
             "startlinecolor": "#2a3f5f"
            },
            "type": "carpet"
           }
          ],
          "choropleth": [
           {
            "colorbar": {
             "outlinewidth": 0,
             "ticks": ""
            },
            "type": "choropleth"
           }
          ],
          "contour": [
           {
            "colorbar": {
             "outlinewidth": 0,
             "ticks": ""
            },
            "colorscale": [
             [
              0,
              "#0d0887"
             ],
             [
              0.1111111111111111,
              "#46039f"
             ],
             [
              0.2222222222222222,
              "#7201a8"
             ],
             [
              0.3333333333333333,
              "#9c179e"
             ],
             [
              0.4444444444444444,
              "#bd3786"
             ],
             [
              0.5555555555555556,
              "#d8576b"
             ],
             [
              0.6666666666666666,
              "#ed7953"
             ],
             [
              0.7777777777777778,
              "#fb9f3a"
             ],
             [
              0.8888888888888888,
              "#fdca26"
             ],
             [
              1,
              "#f0f921"
             ]
            ],
            "type": "contour"
           }
          ],
          "contourcarpet": [
           {
            "colorbar": {
             "outlinewidth": 0,
             "ticks": ""
            },
            "type": "contourcarpet"
           }
          ],
          "heatmap": [
           {
            "colorbar": {
             "outlinewidth": 0,
             "ticks": ""
            },
            "colorscale": [
             [
              0,
              "#0d0887"
             ],
             [
              0.1111111111111111,
              "#46039f"
             ],
             [
              0.2222222222222222,
              "#7201a8"
             ],
             [
              0.3333333333333333,
              "#9c179e"
             ],
             [
              0.4444444444444444,
              "#bd3786"
             ],
             [
              0.5555555555555556,
              "#d8576b"
             ],
             [
              0.6666666666666666,
              "#ed7953"
             ],
             [
              0.7777777777777778,
              "#fb9f3a"
             ],
             [
              0.8888888888888888,
              "#fdca26"
             ],
             [
              1,
              "#f0f921"
             ]
            ],
            "type": "heatmap"
           }
          ],
          "histogram": [
           {
            "marker": {
             "pattern": {
              "fillmode": "overlay",
              "size": 10,
              "solidity": 0.2
             }
            },
            "type": "histogram"
           }
          ],
          "histogram2d": [
           {
            "colorbar": {
             "outlinewidth": 0,
             "ticks": ""
            },
            "colorscale": [
             [
              0,
              "#0d0887"
             ],
             [
              0.1111111111111111,
              "#46039f"
             ],
             [
              0.2222222222222222,
              "#7201a8"
             ],
             [
              0.3333333333333333,
              "#9c179e"
             ],
             [
              0.4444444444444444,
              "#bd3786"
             ],
             [
              0.5555555555555556,
              "#d8576b"
             ],
             [
              0.6666666666666666,
              "#ed7953"
             ],
             [
              0.7777777777777778,
              "#fb9f3a"
             ],
             [
              0.8888888888888888,
              "#fdca26"
             ],
             [
              1,
              "#f0f921"
             ]
            ],
            "type": "histogram2d"
           }
          ],
          "histogram2dcontour": [
           {
            "colorbar": {
             "outlinewidth": 0,
             "ticks": ""
            },
            "colorscale": [
             [
              0,
              "#0d0887"
             ],
             [
              0.1111111111111111,
              "#46039f"
             ],
             [
              0.2222222222222222,
              "#7201a8"
             ],
             [
              0.3333333333333333,
              "#9c179e"
             ],
             [
              0.4444444444444444,
              "#bd3786"
             ],
             [
              0.5555555555555556,
              "#d8576b"
             ],
             [
              0.6666666666666666,
              "#ed7953"
             ],
             [
              0.7777777777777778,
              "#fb9f3a"
             ],
             [
              0.8888888888888888,
              "#fdca26"
             ],
             [
              1,
              "#f0f921"
             ]
            ],
            "type": "histogram2dcontour"
           }
          ],
          "mesh3d": [
           {
            "colorbar": {
             "outlinewidth": 0,
             "ticks": ""
            },
            "type": "mesh3d"
           }
          ],
          "parcoords": [
           {
            "line": {
             "colorbar": {
              "outlinewidth": 0,
              "ticks": ""
             }
            },
            "type": "parcoords"
           }
          ],
          "pie": [
           {
            "automargin": true,
            "type": "pie"
           }
          ],
          "scatter": [
           {
            "fillpattern": {
             "fillmode": "overlay",
             "size": 10,
             "solidity": 0.2
            },
            "type": "scatter"
           }
          ],
          "scatter3d": [
           {
            "line": {
             "colorbar": {
              "outlinewidth": 0,
              "ticks": ""
             }
            },
            "marker": {
             "colorbar": {
              "outlinewidth": 0,
              "ticks": ""
             }
            },
            "type": "scatter3d"
           }
          ],
          "scattercarpet": [
           {
            "marker": {
             "colorbar": {
              "outlinewidth": 0,
              "ticks": ""
             }
            },
            "type": "scattercarpet"
           }
          ],
          "scattergeo": [
           {
            "marker": {
             "colorbar": {
              "outlinewidth": 0,
              "ticks": ""
             }
            },
            "type": "scattergeo"
           }
          ],
          "scattergl": [
           {
            "marker": {
             "colorbar": {
              "outlinewidth": 0,
              "ticks": ""
             }
            },
            "type": "scattergl"
           }
          ],
          "scattermap": [
           {
            "marker": {
             "colorbar": {
              "outlinewidth": 0,
              "ticks": ""
             }
            },
            "type": "scattermap"
           }
          ],
          "scattermapbox": [
           {
            "marker": {
             "colorbar": {
              "outlinewidth": 0,
              "ticks": ""
             }
            },
            "type": "scattermapbox"
           }
          ],
          "scatterpolar": [
           {
            "marker": {
             "colorbar": {
              "outlinewidth": 0,
              "ticks": ""
             }
            },
            "type": "scatterpolar"
           }
          ],
          "scatterpolargl": [
           {
            "marker": {
             "colorbar": {
              "outlinewidth": 0,
              "ticks": ""
             }
            },
            "type": "scatterpolargl"
           }
          ],
          "scatterternary": [
           {
            "marker": {
             "colorbar": {
              "outlinewidth": 0,
              "ticks": ""
             }
            },
            "type": "scatterternary"
           }
          ],
          "surface": [
           {
            "colorbar": {
             "outlinewidth": 0,
             "ticks": ""
            },
            "colorscale": [
             [
              0,
              "#0d0887"
             ],
             [
              0.1111111111111111,
              "#46039f"
             ],
             [
              0.2222222222222222,
              "#7201a8"
             ],
             [
              0.3333333333333333,
              "#9c179e"
             ],
             [
              0.4444444444444444,
              "#bd3786"
             ],
             [
              0.5555555555555556,
              "#d8576b"
             ],
             [
              0.6666666666666666,
              "#ed7953"
             ],
             [
              0.7777777777777778,
              "#fb9f3a"
             ],
             [
              0.8888888888888888,
              "#fdca26"
             ],
             [
              1,
              "#f0f921"
             ]
            ],
            "type": "surface"
           }
          ],
          "table": [
           {
            "cells": {
             "fill": {
              "color": "#EBF0F8"
             },
             "line": {
              "color": "white"
             }
            },
            "header": {
             "fill": {
              "color": "#C8D4E3"
             },
             "line": {
              "color": "white"
             }
            },
            "type": "table"
           }
          ]
         },
         "layout": {
          "annotationdefaults": {
           "arrowcolor": "#2a3f5f",
           "arrowhead": 0,
           "arrowwidth": 1
          },
          "autotypenumbers": "strict",
          "coloraxis": {
           "colorbar": {
            "outlinewidth": 0,
            "ticks": ""
           }
          },
          "colorscale": {
           "diverging": [
            [
             0,
             "#8e0152"
            ],
            [
             0.1,
             "#c51b7d"
            ],
            [
             0.2,
             "#de77ae"
            ],
            [
             0.3,
             "#f1b6da"
            ],
            [
             0.4,
             "#fde0ef"
            ],
            [
             0.5,
             "#f7f7f7"
            ],
            [
             0.6,
             "#e6f5d0"
            ],
            [
             0.7,
             "#b8e186"
            ],
            [
             0.8,
             "#7fbc41"
            ],
            [
             0.9,
             "#4d9221"
            ],
            [
             1,
             "#276419"
            ]
           ],
           "sequential": [
            [
             0,
             "#0d0887"
            ],
            [
             0.1111111111111111,
             "#46039f"
            ],
            [
             0.2222222222222222,
             "#7201a8"
            ],
            [
             0.3333333333333333,
             "#9c179e"
            ],
            [
             0.4444444444444444,
             "#bd3786"
            ],
            [
             0.5555555555555556,
             "#d8576b"
            ],
            [
             0.6666666666666666,
             "#ed7953"
            ],
            [
             0.7777777777777778,
             "#fb9f3a"
            ],
            [
             0.8888888888888888,
             "#fdca26"
            ],
            [
             1,
             "#f0f921"
            ]
           ],
           "sequentialminus": [
            [
             0,
             "#0d0887"
            ],
            [
             0.1111111111111111,
             "#46039f"
            ],
            [
             0.2222222222222222,
             "#7201a8"
            ],
            [
             0.3333333333333333,
             "#9c179e"
            ],
            [
             0.4444444444444444,
             "#bd3786"
            ],
            [
             0.5555555555555556,
             "#d8576b"
            ],
            [
             0.6666666666666666,
             "#ed7953"
            ],
            [
             0.7777777777777778,
             "#fb9f3a"
            ],
            [
             0.8888888888888888,
             "#fdca26"
            ],
            [
             1,
             "#f0f921"
            ]
           ]
          },
          "colorway": [
           "#636efa",
           "#EF553B",
           "#00cc96",
           "#ab63fa",
           "#FFA15A",
           "#19d3f3",
           "#FF6692",
           "#B6E880",
           "#FF97FF",
           "#FECB52"
          ],
          "font": {
           "color": "#2a3f5f"
          },
          "geo": {
           "bgcolor": "white",
           "lakecolor": "white",
           "landcolor": "#E5ECF6",
           "showlakes": true,
           "showland": true,
           "subunitcolor": "white"
          },
          "hoverlabel": {
           "align": "left"
          },
          "hovermode": "closest",
          "mapbox": {
           "style": "light"
          },
          "paper_bgcolor": "white",
          "plot_bgcolor": "#E5ECF6",
          "polar": {
           "angularaxis": {
            "gridcolor": "white",
            "linecolor": "white",
            "ticks": ""
           },
           "bgcolor": "#E5ECF6",
           "radialaxis": {
            "gridcolor": "white",
            "linecolor": "white",
            "ticks": ""
           }
          },
          "scene": {
           "xaxis": {
            "backgroundcolor": "#E5ECF6",
            "gridcolor": "white",
            "gridwidth": 2,
            "linecolor": "white",
            "showbackground": true,
            "ticks": "",
            "zerolinecolor": "white"
           },
           "yaxis": {
            "backgroundcolor": "#E5ECF6",
            "gridcolor": "white",
            "gridwidth": 2,
            "linecolor": "white",
            "showbackground": true,
            "ticks": "",
            "zerolinecolor": "white"
           },
           "zaxis": {
            "backgroundcolor": "#E5ECF6",
            "gridcolor": "white",
            "gridwidth": 2,
            "linecolor": "white",
            "showbackground": true,
            "ticks": "",
            "zerolinecolor": "white"
           }
          },
          "shapedefaults": {
           "line": {
            "color": "#2a3f5f"
           }
          },
          "ternary": {
           "aaxis": {
            "gridcolor": "white",
            "linecolor": "white",
            "ticks": ""
           },
           "baxis": {
            "gridcolor": "white",
            "linecolor": "white",
            "ticks": ""
           },
           "bgcolor": "#E5ECF6",
           "caxis": {
            "gridcolor": "white",
            "linecolor": "white",
            "ticks": ""
           }
          },
          "title": {
           "x": 0.05
          },
          "xaxis": {
           "automargin": true,
           "gridcolor": "white",
           "linecolor": "white",
           "ticks": "",
           "title": {
            "standoff": 15
           },
           "zerolinecolor": "white",
           "zerolinewidth": 2
          },
          "yaxis": {
           "automargin": true,
           "gridcolor": "white",
           "linecolor": "white",
           "ticks": "",
           "title": {
            "standoff": 15
           },
           "zerolinecolor": "white",
           "zerolinewidth": 2
          }
         }
        },
        "title": {
         "text": "Top 10 Brands by Total Sales Dollars"
        }
       }
      }
     },
     "metadata": {},
     "output_type": "display_data"
    }
   ],
   "source": [
    "fig = px.pie(\n",
    "    top_brands_sales,\n",
    "    names=\"Brand\",\n",
    "    values=\"TotalSalesDollar\",\n",
    "    title=\"Top 10 Brands by Total Sales Dollars\"\n",
    ")\n",
    "\n",
    "fig.show()"
   ]
  },
  {
   "cell_type": "markdown",
   "id": "42d9b46e",
   "metadata": {},
   "source": [
    "### Pricing Strategy\n",
    "- Markup per product\n",
    "- Loss leaders (negative margin)"
   ]
  },
  {
   "cell_type": "code",
   "execution_count": 41,
   "id": "eee39bd8",
   "metadata": {},
   "outputs": [
    {
     "ename": "KeyError",
     "evalue": "'GrossMarginPct'",
     "output_type": "error",
     "traceback": [
      "\u001b[31m---------------------------------------------------------------------------\u001b[39m",
      "\u001b[31mKeyError\u001b[39m                                  Traceback (most recent call last)",
      "\u001b[36mFile \u001b[39m\u001b[32me:\\Soyel VS Code\\Data analysis Projects\\Vendor Data analysis\\venv\\Lib\\site-packages\\pandas\\core\\indexes\\base.py:3812\u001b[39m, in \u001b[36mIndex.get_loc\u001b[39m\u001b[34m(self, key)\u001b[39m\n\u001b[32m   3811\u001b[39m \u001b[38;5;28;01mtry\u001b[39;00m:\n\u001b[32m-> \u001b[39m\u001b[32m3812\u001b[39m     \u001b[38;5;28;01mreturn\u001b[39;00m \u001b[38;5;28;43mself\u001b[39;49m\u001b[43m.\u001b[49m\u001b[43m_engine\u001b[49m\u001b[43m.\u001b[49m\u001b[43mget_loc\u001b[49m\u001b[43m(\u001b[49m\u001b[43mcasted_key\u001b[49m\u001b[43m)\u001b[49m\n\u001b[32m   3813\u001b[39m \u001b[38;5;28;01mexcept\u001b[39;00m \u001b[38;5;167;01mKeyError\u001b[39;00m \u001b[38;5;28;01mas\u001b[39;00m err:\n",
      "\u001b[36mFile \u001b[39m\u001b[32mpandas/_libs/index.pyx:167\u001b[39m, in \u001b[36mpandas._libs.index.IndexEngine.get_loc\u001b[39m\u001b[34m()\u001b[39m\n",
      "\u001b[36mFile \u001b[39m\u001b[32mpandas/_libs/index.pyx:196\u001b[39m, in \u001b[36mpandas._libs.index.IndexEngine.get_loc\u001b[39m\u001b[34m()\u001b[39m\n",
      "\u001b[36mFile \u001b[39m\u001b[32mpandas/_libs/hashtable_class_helper.pxi:7088\u001b[39m, in \u001b[36mpandas._libs.hashtable.PyObjectHashTable.get_item\u001b[39m\u001b[34m()\u001b[39m\n",
      "\u001b[36mFile \u001b[39m\u001b[32mpandas/_libs/hashtable_class_helper.pxi:7096\u001b[39m, in \u001b[36mpandas._libs.hashtable.PyObjectHashTable.get_item\u001b[39m\u001b[34m()\u001b[39m\n",
      "\u001b[31mKeyError\u001b[39m: 'GrossMarginPct'",
      "\nThe above exception was the direct cause of the following exception:\n",
      "\u001b[31mKeyError\u001b[39m                                  Traceback (most recent call last)",
      "\u001b[36mCell\u001b[39m\u001b[36m \u001b[39m\u001b[32mIn[41]\u001b[39m\u001b[32m, line 6\u001b[39m\n\u001b[32m      3\u001b[39m df[\u001b[33m\"\u001b[39m\u001b[33mMarkupPct\u001b[39m\u001b[33m\"\u001b[39m] = (df[\u001b[33m\"\u001b[39m\u001b[33mMarkup\u001b[39m\u001b[33m\"\u001b[39m] / df[\u001b[33m\"\u001b[39m\u001b[33mPurchasePrice\u001b[39m\u001b[33m\"\u001b[39m]) * \u001b[32m100\u001b[39m\n\u001b[32m      5\u001b[39m \u001b[38;5;66;03m# Loss leaders (negative margin)\u001b[39;00m\n\u001b[32m----> \u001b[39m\u001b[32m6\u001b[39m loss_leaders = df[\u001b[43mdf\u001b[49m\u001b[43m[\u001b[49m\u001b[33;43m\"\u001b[39;49m\u001b[33;43mGrossMarginPct\u001b[39;49m\u001b[33;43m\"\u001b[39;49m\u001b[43m]\u001b[49m < \u001b[32m0\u001b[39m]\n",
      "\u001b[36mFile \u001b[39m\u001b[32me:\\Soyel VS Code\\Data analysis Projects\\Vendor Data analysis\\venv\\Lib\\site-packages\\pandas\\core\\frame.py:4107\u001b[39m, in \u001b[36mDataFrame.__getitem__\u001b[39m\u001b[34m(self, key)\u001b[39m\n\u001b[32m   4105\u001b[39m \u001b[38;5;28;01mif\u001b[39;00m \u001b[38;5;28mself\u001b[39m.columns.nlevels > \u001b[32m1\u001b[39m:\n\u001b[32m   4106\u001b[39m     \u001b[38;5;28;01mreturn\u001b[39;00m \u001b[38;5;28mself\u001b[39m._getitem_multilevel(key)\n\u001b[32m-> \u001b[39m\u001b[32m4107\u001b[39m indexer = \u001b[38;5;28;43mself\u001b[39;49m\u001b[43m.\u001b[49m\u001b[43mcolumns\u001b[49m\u001b[43m.\u001b[49m\u001b[43mget_loc\u001b[49m\u001b[43m(\u001b[49m\u001b[43mkey\u001b[49m\u001b[43m)\u001b[49m\n\u001b[32m   4108\u001b[39m \u001b[38;5;28;01mif\u001b[39;00m is_integer(indexer):\n\u001b[32m   4109\u001b[39m     indexer = [indexer]\n",
      "\u001b[36mFile \u001b[39m\u001b[32me:\\Soyel VS Code\\Data analysis Projects\\Vendor Data analysis\\venv\\Lib\\site-packages\\pandas\\core\\indexes\\base.py:3819\u001b[39m, in \u001b[36mIndex.get_loc\u001b[39m\u001b[34m(self, key)\u001b[39m\n\u001b[32m   3814\u001b[39m     \u001b[38;5;28;01mif\u001b[39;00m \u001b[38;5;28misinstance\u001b[39m(casted_key, \u001b[38;5;28mslice\u001b[39m) \u001b[38;5;129;01mor\u001b[39;00m (\n\u001b[32m   3815\u001b[39m         \u001b[38;5;28misinstance\u001b[39m(casted_key, abc.Iterable)\n\u001b[32m   3816\u001b[39m         \u001b[38;5;129;01mand\u001b[39;00m \u001b[38;5;28many\u001b[39m(\u001b[38;5;28misinstance\u001b[39m(x, \u001b[38;5;28mslice\u001b[39m) \u001b[38;5;28;01mfor\u001b[39;00m x \u001b[38;5;129;01min\u001b[39;00m casted_key)\n\u001b[32m   3817\u001b[39m     ):\n\u001b[32m   3818\u001b[39m         \u001b[38;5;28;01mraise\u001b[39;00m InvalidIndexError(key)\n\u001b[32m-> \u001b[39m\u001b[32m3819\u001b[39m     \u001b[38;5;28;01mraise\u001b[39;00m \u001b[38;5;167;01mKeyError\u001b[39;00m(key) \u001b[38;5;28;01mfrom\u001b[39;00m\u001b[38;5;250m \u001b[39m\u001b[34;01merr\u001b[39;00m\n\u001b[32m   3820\u001b[39m \u001b[38;5;28;01mexcept\u001b[39;00m \u001b[38;5;167;01mTypeError\u001b[39;00m:\n\u001b[32m   3821\u001b[39m     \u001b[38;5;66;03m# If we have a listlike key, _check_indexing_error will raise\u001b[39;00m\n\u001b[32m   3822\u001b[39m     \u001b[38;5;66;03m#  InvalidIndexError. Otherwise we fall through and re-raise\u001b[39;00m\n\u001b[32m   3823\u001b[39m     \u001b[38;5;66;03m#  the TypeError.\u001b[39;00m\n\u001b[32m   3824\u001b[39m     \u001b[38;5;28mself\u001b[39m._check_indexing_error(key)\n",
      "\u001b[31mKeyError\u001b[39m: 'GrossMarginPct'"
     ]
    }
   ],
   "source": [
    "# Markup per product\n",
    "df[\"Markup\"] = df[\"ActualPrice\"] - df[\"PurchasePrice\"]\n",
    "df[\"MarkupPct\"] = (df[\"Markup\"] / df[\"PurchasePrice\"]) * 100\n",
    "\n",
    "# Loss leaders (negative margin)\n",
    "loss_leaders = df[df[\"GrossMarginPct\"] < 0]"
   ]
  },
  {
   "cell_type": "code",
   "execution_count": null,
   "id": "a6990681",
   "metadata": {},
   "outputs": [
    {
     "data": {
      "text/html": [
       "<div>            <script src=\"https://cdnjs.cloudflare.com/ajax/libs/mathjax/2.7.5/MathJax.js?config=TeX-AMS-MML_SVG\"></script><script type=\"text/javascript\">if (window.MathJax && window.MathJax.Hub && window.MathJax.Hub.Config) {window.MathJax.Hub.Config({SVG: {font: \"STIX-Web\"}});}</script>                    <div id=\"abdf9c81-6cf8-4d88-a096-add28a3a1a2e\" class=\"plotly-graph-div\" style=\"height:525px; width:100%;\"></div>            <script type=\"text/javascript\">                window.PLOTLYENV=window.PLOTLYENV || {};                                if (document.getElementById(\"abdf9c81-6cf8-4d88-a096-add28a3a1a2e\")) {                    Plotly.newPlot(                        \"abdf9c81-6cf8-4d88-a096-add28a3a1a2e\",                        [{\"bingroup\":\"x\",\"hovertemplate\":\"MarkupPct=%{x}\\u003cbr\\u003ecount=%{y}\\u003cextra\\u003e\\u003c\\u002fextra\\u003e\",\"legendgroup\":\"\",\"marker\":{\"color\":\"#636efa\",\"pattern\":{\"shape\":\"\"}},\"name\":\"\",\"nbinsx\":30,\"orientation\":\"v\",\"showlegend\":false,\"x\":{\"dtype\":\"f8\",\"bdata\":\"dAxWV8GDS0D\\u002f\\u002f\\u002f\\u002f\\u002f\\u002f39HQH\\u002f1D\\u002fMYADxAsYJZUg4IP0BdqDkJxIVBQAqovMOsAj1A+\\u002fTTTz\\u002f9PED3k1D0kP5DQNA6g16K+UZA+IFaSKEHS0CKndiJnXhIQDCIpV0n+UdAfYZIBWFeS0AsKwZKeMNBQDy16m6gTFFA5\\u002flnCdXmT0BWRHJTyv8+QEzeAkzeAjxA\\u002flv8AVz8OUA+a5LOoQFAQJfrjhdbgkNAHBhk4qB6QEABAAAAAMBCQOoHHRX4AkBAAgAAAAAAOkA\\u002fIy6QAghJQFNKKaWU8j5AyrusnY7\\u002fQEB4s1rXbAI5QPQOStCZsFBAFEI2XncCPkCK0TLthX9AQKLsfqPs\\u002flBA\\u002fLMg75QJOkDlP1Qk5QlOQDodxg8b\\u002fT1AhXTIJFdbTkBCJizk358+QBvSPxvS\\u002f1BAaHSPSCeAQkB1+Rz8JQFDQL9d6sn4\\u002fVJAVN1qTedbVUDi0a+RlHlSQBypBPIpgkVAr7QFUUv6PUCXn91GM8FCQBkPFbUlyUZAcWyaw\\u002fdbRkAFhtyBP35DQFZv89RlREJA8jEB9TEBREB7gXuNV\\u002fk9QGFU+BcV\\u002fj5AjuM4juM4O0BsSP9sSH9OQFjPepOuE0VA1I564m0DP0DaGUVKiwBCQLfmh0XKADpALACFzn2BQkAekTaytf9BQMYS8QVmgEBARLLz53MFP0CZump3oH9CQIXfm+DJA0BAegsn64X6QkARZ+UnxFlIQIZrFiJ1AEFAW9bV8nX3P0COwnQx89FFQK3yTHzcN0ZA6DGcx3DeRUAeKtKzmQE5QIC4UHMSiEpAhmsWInUAQUDSRRdddJFlQI98\\u002fotqgEBAOXO41awUUkCZump3oH9CQPWWZuuX\\u002fzpAW6sZC\\u002fAGPkAF2at+USQ\\u002fQP5RlpMOcEFAcc\\u002fB4Z6DQEBCJizk358+QPxTSTNcgEFAwvEs6fEDQED9dqkn47dDQPJVwtgsqD5APyMukAIISUABAAAAAMBCQP\\u002f\\u002f\\u002f\\u002f\\u002f\\u002fv0JAaN1ginyGQUA3yDfIN8hRQMqwaK3\\u002f9TlAEUAYKrgFOUA56jgpEP87QJxzzjnnnE5AsqX+c2UEQEBDKz7NFYBAQLsNvHanXE5AVlVVVVUPTEAcnFx8bHRLQHRlBEe2MU1AXi1DB+z2PUBlyaX7XINDQD8jLpACCElAfUsKDZn9QEBWVVVVVYpUQFMvqkJX9TpAv2ZHLUL+QUC\\u002fZkctQv5BQDosUgae7jtAUfMcnQ\\u002fwOkA\\u002fIy6QAghJQDaU11BeQz5Aegsn64X6QkDC+RicjwFAQKSaSXxXmUlAjNVw8UMYPkA\\u002fIy6QAghJQMNO7MRO7DpAJEmSJEmSPEAkSZIkSZI8QOWv2VGLkE9AxR1xR9wRPUDObTWRGfo7QODP\\u002fdzP\\u002fTtAKkr0y99wU0BFPusGU+RAQJ\\u002fSkT0DUTlALWBM4uD9QkBMaC+hvYRCQLg2R3NtjkdAZD71Yj71Q0Bq6+XNBPVAQO\\u002fcuXPnzkFAQnsJ7SVUQ0BWwf6KCYFBQBX3tUwWOUxAus60mvl8QUCD8zE4H4NDQP12qSfjt0NAysmD86oCOUBCiADf\\u002fYNBQPtXmxQiB0FAU0oppZTyPkAt1JwE4oJBQBwYZOKgekBApVd3QI5qSUDgL+v9st5AQCt6VjqfuEtAdT0zAAEFOUDnEuFJQfJAQNQ3kgew\\u002fEpAXag5CcSFQUAUIxeHLXVKQAntJbSX0FpAYQ+\\u002f9dUGREDPQFQ6smdWQM9AVDqyZ1ZAauvlzQT1QEACAAAAABQ+QFtrrbXWWkNAr6I0PjKBQkB6CyfrhfpCQP8mf5O\\u002fyT9AsT9eBqOASED0DkrQmbBQQHLk5aPe7UhAO5Bohc2BSEAqY5Kh4X9DQD5wJgbYg1tAAAAAAAAASUD5GSV+RolLQP41O2oRckpAAQAAAACAS0A+cCYG2INbQHlerQRNBUdAcUfcEXfEY0An0civZINDQMKcx6Vv\\u002f1JA1ZhID1TuUEAqHutwikdUQCoe63CKR1RAAQAAAACAS0BcETSc1J1WQLW0tLS0FFNAz\\u002fdSyM3rVkBw4MCBAwdKQBFCCCGEkE5AQ1\\u002fQF\\u002fSFSUCPsvuNsntUQFadPKrYcElAkAZpkAYJRkCQBmmQBglGQMMC8XXt9kpAgwMHDhz4SkBisTdj5AhHQOQ4juM4DlJADyI57EHkUUBwH8F9BPdJQGnSHwfjhkNAAAAAAACARkD+8dCzRwBQQNA6g16K+UZAWMUfxDW4U0ArUlFfyxdUQB\\u002fILixGQlFAGm1otKHRUEDx7SDx7aBVQHXvJmiD\\u002f0lAN8qSrfwPT0At9zTCcg9SQMMC8XXt9kpAkFfsm19yTECzl9BeQvtHQC33NMJyD1JAvNptUFaISkA6OIJI6wVLQPxp8KfBn1RAfx2KGkn+SEADAAAAAABJQL7v+77v+0ZAD87H4HwMR0BanNHuYWtJQFA5u4VfjUhA8LTQHbsaSkCG5Z5GWK5aQEm1AEq1AEpAhRU6gxV6R0DdmYwWr3xGQLHwCq\\u002fwikZAAAAAAAAASUAPzsfgfAxHQB4eHh4enk9AkCRJkiR9RkBJdYgNfAZTQGI832mJYkpA1Kl5kLs+SEBZ80r13DtbQHlerQRNBUdA53CrWSmBRkCQK3MbWq1SQO7mLOVB6UlAYLorG0CLSECPsvuNsntUQIgh\\u002fJ33gElALtScBOLCV0D39fX19fVKQOUUvJyCl09Av+1ycZb5SkB4\\u002fbkZHSVQQFctYvmb20xAPhRcye35SkB4\\u002fbkZHSVQQGppaWlpaV1AVMHqU8HqU0AqE7ZBcGpSQAgwLBT+80hAkI\\u002fUZ7D8SEDsPQR0C4ZIQO8GykhJfEZAkAXFhRGBS0CI2i35kP9KQO0ltJfQnlBADJF1b8OASECfm5ubm9tOQGs8mj\\u002fYeEhAAo8z12D4SkC1tLS0tHRHQLrooosumlNAE3G5yXOASkCQJEmSJH1GQJQ10sXCD09Atc92JsqxUEAtNLdTefRKQAg0hUBTCEtAtbS0tLR0R0D+NTtqEXJKQAAAAAAAAElAAAAAAAAASUDowLaE6X5JQBycXHxsdEtALS0tLS0tVUBInfJHnXJHQFFqUuLkME1A9STfx2p2R0DSfwYW54BLQNb1xNlefFFAAQAAAACAS0AAAAAAAGhgQDQpWbRPfkZAho0geP9EXkABKQ8MmxJWQENf0Bf0hUlAPjlcBnxyUkCbscI0En9GQENf0Bf0hUlAeXh4eHiYTUDekDfkDXlVQEmFA63IhUpAgwMHDhz4SkBsrbXWWmtGQAEAAAAAgEtA\\u002fjU7ahFySkCzW\\u002fjVmIhIQC33NMJyD1JAH8guLEZCUUDVi\\u002fnUi\\u002flQQARNg7FmBDpA\\u002fRjVRNJ+QUDNQRnTTwBDQEjaW81E90hAofxKDNgBQkA+dUFQ3v5BQMXdhi69BTxA8p3Qp02CQkDUM+gRiAFDQH67JTcpAUJAWdv1t1TFTEAMjl0aBeJMQCM1wXgr+z9AIiCmrX5zR0CqJ5JXl3BNQIwUuPuOi0dA9N577733PEC\\u002fZkctQv5BQKtkbGZfk0JAegsn64X6QkC\\u002fZkctQv5BQH1LCg2Z\\u002fUBAE6w+Faz+Q0DSn1J\\u002fSv1BQKokNO5nMExAJQyH9O4DPEA9YzhakIBCQE9F8aMABDlA8tulnoz\\u002fP0AXG7gdkP87QMJs5WrcATlAYAK6kFJ8Q0AGcj8xUQk7QCfRyK9kg0NAo+x+o+z+SkDVPdLK5AlQQNU90srkCVBAQQ5wR3u8UEAJNSA4q5VMQP0Y1UTSfkFABnI\\u002fMVEJO0DcW8\\u002f9voNBQHXvJmiD\\u002f0lAR2GIwyf1SkBZNQ7tw\\u002fpGQJAkSZIkfUZAtlB5z3mCRkDl5RaSD4JIQNJpBoxGBEdAojt9PVQFSkDQS\\u002fVzwlpQQLETO7ETe0lAiCH8nfeASUBguisbQItIQLOw+3zXlklAcQYySOWKUUBjGUO\\u002fZABHQJd3xuxXZlBAZjGdxXTWUkAf\\u002fehHP\\u002fpGQLW0tLS0dEdA9\\u002fX19fX1SkDvZOv24U1TQKXWtVcziEpAPyMukAIISUBQObuFX41IQKCBieQy+0hAzvM8z\\u002fN8SkBwH8F9BPdJQPHheO1Z+khAvwz5vQx5R0DQOoNeivlGQGk5J8dz+0dAL2QhC1kISkCHP25d3gFLQDh8Ld6V+UdAN\\u002fOhVb2BSED39fX19fVKQIPfszfwe0ZAwR+3Lu8ASkBguisbQItIQLETO7ETe0lApda1VzOISkDfmh8WKQNIQAmO5SKAfkhALTS3U3n0SkCJbsgBnFJMQGs8mj\\u002fYeEhAcMV4zelXUEBHYYjDJ\\u002fVKQN0Rd8QdcUtA9STfx2p2R0DmjDljzphRQB+Xvv2VCUtAWhYV8n4NSED+NTtqEXJKQMuc\\u002fiE\\u002fdUhAy5z+IT91SEAIELVCug5KQEm1AEq1AEpAy5z+IT91SEB5Xq0ETQVHQMRR9JNY80lA0DqDXor5RkBisTdj5AhHQPkZJX5GiUtAtbS0tLR0R0AH3WJSb4dIQPiBWkihB0tA\\u002fPr6+vp6R0A0NNLb4PtJQN7lFLycgktAOHwt3pX5R0BGIxjoaARLQDCn4OUUbFBApda1VzOISkC3ltp5ZDxMQHlerQRNBUdAo4BD87n+SUCwmU7Lx39HQG65ptUwgEhAcW5ubm5uR0D5GSV+RolLQGKxN2PkCEdAAQAAAAAASECfkjI7TedUQLETO7ETe0lA5vQP+ak7T0C9CwfR43tIQHAfwX0E90lA53CrWSmBRkAmY\\u002foJYBxNQOcUvJyCd0pAR2GIwyf1SkDsDQr5eoNOQBFObf\\u002fLUExAzvM8z\\u002fN8SkBJhv3ryIJKQDvxt4ATf0dA3ZmMFq98RkAD\\u002fjWBsbpQQG0GyubM\\u002fUlAao7Zu7VwRkAJjuUigH5IQGUSvWcSfUdAtrS0tLTkYECpjoZSOv1JQF423sMyfUdAD5Rm043\\u002fR0A4fC3elflHQAmO5SKAfkhAH5e+\\u002fZUJS0AsjBDZl\\u002fxfQMUlJlRuAkdAmUZbgNQ6VECmUq7yC3lKQIgh\\u002fJ33gElACY7lIoB+SEByZ7vxI\\u002flIQEid8kedckdAgUvpt5R+S0D3umKjoXtGQF1CewntRVVAG32kGn1kUUAbfaQafWRRQHJMM6g9JVdA\\u002fnl6PYDhVUC+6U1venNSQP55ej2A4VVA2f4czHd6SEAx8Rx0+fRHQDo4gkjrBUtATiKkWtaBSkDfmh8WKQNIQCwgBMxbe0ZA1aeC1aeCRkCBS+m3lH5LQBycXHxsdEtAE3G5yXOASkBYxR\\u002fENbhTQKlNbWpTG1FAIkmSJEmERkCf4y9fD0ZSQDrK6Sino1RAXDSjDDn6R0BYwFoBawVIQGk5J8dz+0dAVN5l7XR8R0BDX9AX9IVJQLW0tLS0dEdAtvajBK59SUAzLduu73lLQHI5q8eOgEdANClZtE9+RkALL6hfPH5KQB8a60NjfUhARXAfwX2ESEC3dXkHHAlQQPiBWkihB0tA6MC2hOl+SUBJtQBKtQBKQNfWyZ3PzVRA9STfx2p2R0AqE7ZBcGpSQBycXHxsdEtAPTTWh8Z6SkAf\\u002fehHP\\u002fpGQI4KzdjhI1NAOjiCSOsFS0BDX9AX9IVJQDxWsyf5fkdA+dLObkIASkCVgrNx2gpRQEB+\\u002fPjxw1FA3ZmMFq98RkBguisbQItIQIl81g2m+ElAxUcm0Dt1QkCJh4eHhwdAQBgwYMCAATtAB1gMfYMHQkDHcRzHcRw\\u002fQI0uuuiiC0FAiMkVxOQKQ0CIyRXE5ApDQI0uuuiiC0FAGDBgwIABO0CFn1yIuhlEQGQ+9WI+9UNAw+QKYnIFQUARc5jDHOY+QIT7CO4j+EJAuEYl1G98Q0BQ87V6dghAQA6XGPhdhkJAvNptUFaISkAYXXTRRRc7QIKmEGgKAUNAuyC1hAj3Q0C\\u002fiW\\u002fim\\u002fg+QDBHpBjqL05ACpLdNRsLPkATdk1yCapEQJ\\u002fFdBbTeUJAOJgin3WDQUCgH6EcqgE+QBFzmMMc5j5AGF100UUXO0ALGyBG431BQL2WylQh\\u002fjpAj9RlftPyRkARc5jDHOY+QO3QtMyekkJADJF1b8OASECdRljuaYRBQIndFlpJAjlAVlVVVVUPTEACAAAAABQ+QK2qqqqq\\u002fktAYpIjVQLkP0AHWAx9gwdCQEgqGKCkgkJA56c2D7VUR0BF9x8TKvY7QA\\u002fOx+B8DEJAKzj7Kzj7Q0BRbPv4sGROQPXbpZ6M3zxA7b3svey9UkDv3Llz585BQIdTRYew3lZAEsz8scq2XUAt1JwE4oJBQEyFUQioqFNAHBhk4qB6QEDDmUByrAY5QP+GO7PjLEpA7wvzOQo+UkAnaleidoVCQFDduE251lFA3mCKfNbtSUA3H4PzMThPQFUh2vD5Y1BAIoG3HxJ4Q0BxEQFzs3hDQHKPk2U8iFJAWpzR7mFrSUDfncOfTvU+QAAAAAAAAEBAEeY8Ln37SkB8y7d8ywdTQJgq0+u2uExAgejxXTgIOkCqlFtRKbdUQCNnWHCpbENAeV6tBE0FR0Av+Ks4ISVKQBTirPyE+EZApAcqZ7dwSEAU4qz8hPhGQPnUi\\u002fnUi0lAUgyy8hYFPUDbs2YvAgE8QKMXjXuGAUFAdis8GL\\u002f+QUAVLAbdcABAQFCQeizxhEFA6rTPLAj+QUCNR2nGfwQ+QMoH2CzagUJAizHGGGOUSUB+YPIHJn9AQHQqB9pfgEFAQ\\u002fiMhzT\\u002fOkBmt5Xe3P9AQLbWWmuttUdAL2BDpNxhR0BsPsfthPtDQAIAAAAAADpA\\u002fRjVRNJ+QUA1wnJPIwREQAIAAAAAADpAu7UmyWiAQkAGotKRPYNCQDkri47RKEZAYRDI6UtnRECcWljpqQVEQE7pMz6GfkBA7aEp0BBUREAXcFCW4wA5QD23eRjJ8DxAD2v6jrEAPUC9y9rp+AdDQNMSpJe1BDlAozmmGmB\\u002fQUBC1skLmv9DQHPOOeec8zxAudWslEADQkAThLux7xE7QOgMjZvWNktAC3xx9YOOQkC9LM2EtSVHQO4f8Rrh\\u002fD1AGyci2m8APED05JNPPvk8QEXYBI\\u002fuyUdAAAAAAAAAQEDKt3zLt\\u002fxAQEKIAN\\u002f9g0FAfrslNykBQkDkjrgj7ohDQKhlkrr1\\u002fj9AldBeQnuBQUBCiADf\\u002fYNBQCcnEW0pgENAj+\\u002fCQfSoRUCgP2c7PgQ7QIZrFiJ1AEFAX2VxRrsHQUC35odFygA6QGtj\\u002fbYdAEJAHirSs5kBOUBHcFTdlQQ\\u002fQLiKdqb0+jtALXQ5wjz\\u002fPEBfZXFGuwdBQErCQMDq+EJA+1ebFCIHQUATcbnJc4BKQJMHlEKLf0JA\\u002fuGzcYoAQECIQoFKZn5AQHLqpRRHk0NAgMlUCrf\\u002fO0AvoaPD5wE5QGcHmqr1lFZAE6w+Faz+Q0DGvgmyb4JDQE9F8aMABDlA8jEB9TEBREANub6Q64tQQBUsBt1wAEBA9QS6Wpr\\u002fOUBlyaX7XINDQBOsPhWs\\u002fkNA4YAeMF0CQUBuMbKIwK9QQGoTMmZYJ0dAQxaykIUsTEBijDHGGGM8QMQ77s0VyUxArKtjVq\\u002f9QkCm3ykkwgQ+QITcxPLphUBA0LADzxUNRkBeQnsJ7fVOQBaj95108zpA+NA+K+V+QkCFzmCFzoBHQBtQ13yK7ExAQDaBx\\u002frLRkAGGMkPJeJVQBUsBt1wAEBA8tElJRF+SUAKkt01Gws+QPk3BlZ7f0BAgMlUCrf\\u002fO0AtYEzi4P1CQGrr5c0E9UBAAQAAAAAAREAGAAAAAAA+QD9ZApv2k0JAD7uV0yl7SECIIfyd94BJQHlerQRNBUdAPWM4WpCAQkBo3WCKfIZBQCRJkiRJkjxALTS3U3n0SkBwH8F9BPdJQJsDMv7mgElAkCRJkiR9RkAAAAAAAABJQICl1JadBEhAcBzHcRwHSEBJvIeLav9JQKKsnpZqAkpAgGP4AlC7TUB+uyU3KQFCQPHlhhiQjlVAU3QiUceCQUCJHrNmOQY6QEdwVN2VBD9AnJnUZDABPkATUb9eWHdTQPsr5bwl\\u002fkBApgb2jqmBQkCsQ9Fs3Pw5QEPX8S7EfUNAe7jCcnQBOUB74EwMsAc+QPrqq6+++jpAU0oppZTyPkB467wCGndDQPrqq6+++jpADIqnPa4CQkDC+RicjwFAQPrqq6+++jpAhP4kY1ENO0AbWrsPtwA8QPZidOb4\\u002fz1AR6+M7Xd0QUBR8xydD\\u002fA6QF+P1Yu2BUNAf4pLhmDdT0D+NTtqEXJKQA94IkvGAEJA2xF3xB0BQ0AGWchCFgI9QOWv2VGLkE9Aw07sxE7sOkCRSfECmZRKQGTIsO9HBzlA0RDjyMdLSUCE\\u002fiRjUQ07QEU+6wZT5EBABlnIQhYCPUCXGJ8y7ZxLQMqrkaZi\\u002f0JAjvTrnJIAQUCmBvaOqYFCQIfzRAqahlVA\\u002f5go5e+PUUD7V5sUIgdBQBHSrtu5KlRABvxvm4L+OUA2lNdQXkM+QP12qSfjt0NA+vr6+vr6OUBJLuD1Nvo6QGj\\u002f\\u002fqgZgEJATT36Dtl+QUBadahMdv5AQMsI0S5uyUZA6v2y3i\\u002frPUCs98t6v6xTQAAAAAAAAEBAE3fEHXGHRkALj7I6701SQMSUeUVMmUdAzM4RMj+AQECPN7I5rwpJQAM+OVwGfEtA53CrWSmBRkAfl779lQlLQFO7ErUrEUpAs5fQXkL7R0DMgUb0zH9BQHJeFvEJpFJAIl9yFur2RkBfwdDyK5hcQEJ\\u002fAf0F9EZAAKPCv6jwRkAAAAAAAIBGQBN3xB1xh0ZAAz45XAZ8S0B\\u002fwB\\u002fwB3xJQC9kIQtZCEpAVRjsmzqKSUDfaateH4hKQFO7ErUrEUpAAAAAAAATSkA8RQtnQOhiQKv0M6fBnUdA+dSL+dSLSUChND4ygd5KQKKDFLA83lRAes8kes\\u002fkU0A2gs0YZC9fQKvLgbFCClRAcl4W8QmkUkCd\\u002fiE\\u002fdcdZQGC6KxtAi0hA0F9hVqOISkBbRjLADhtOQIFL6beUfktAxJR5RUyZR0BDdP98L4VIQKaWPM1oQFxAA5KQR3\\u002fbVUA5velNb\\u002fpJQAfdYlJvh0hAjKDhpO4LSECzW\\u002fjVmIhIQJ5ssskmm0lAC4+yOu9NUkBtHrXfdhZQQA\\u002fOx+B8DEdASbUASrUASkCSQFyoOQlPQAsvqF88fkpAAQAAAAAASEA0OB+D83FCQJfzsohPID1AAZ7LIagXSEAlRowYMeJKQLOw+3zXlklA6X7u536uUUCJjBeR8SJhQAAAAAAAtmJA9o6pgb3jRkBDdP98L4VIQG6E5Z5GGD1AODw8PDwUTEDERjpspMNGQIMDBw4c+EpAgwMHDhz4SkABAAAAAABIQPU+xSVDsEdADdD5FwN0SUAN0PkXA3RJQMMC8XXt9kpAGF100UUXO0BWnTyq2HBJQODh4eHhYU1As5fQXkL7R0DEUfSTWPNJQEevjO13dEFANpTXUF5DPkC\\u002fCILr121NQMNvabp6Q1RAZ3YMiKIDSkDDAvF17fZKQAAAAAAAAElABeOt7HOISkAGL6fg5fRZQAAAAAAAgEZAxFn5CXEWT0BPwbL2DvNMQN7Cr8ZEekhAXRbxCaSSS0AIMCwU\\u002fvNIQNn+HMx3ekhARiMY6GgES0BFiOxLPsBOQENi3s6Q+HJA3\\u002f7bSMl2S0AJjuUigH5IQNA6g16K+UZApda1VzOISkBQObuFX41IQFPh4rlPhEhANhgQjzCTTkBIutadD6xPQAAAAAAAAElAMjMzMzMzUUD1JN\\u002fHanZHQP41O2oRckpANClZtE9+RkAzLduu73lLQEvA+vVJ6lBA7wbKSEl8RkBOIqRa1oFKQGUdaLu3Sk9A3WvJIa6yWUDSaQaMRgRHQOJVGLo0k1VAtTE03cF+V0C2UHnPeYJGQPNIiCatfkxAjzeyOa8KSUASV5kC5gNKQNA6g16K+UZAOR+D8zG4V0BYwFoBawVIQIgh\\u002fJ33gElAeHh4eHhQUEDVITbwGYNkQHm6NT8sUlhA+dSL+dSLSUAC7UigHQlIQAgQtUK6DkpAQK1fKVDrYEAYJtw\\u002fHnpKQAAAAAAAAElAxFH0k1jzSUAKNhA49xZNQL0LB9Hje0hA9hgbFne\\u002fUEDRRRdddJFJQBH9ZuvQb0pAjS666KKLRkCxEzuxE3tJQEN0\\u002f3wvhUhAQ3T\\u002ffC+FSEBns9lsNptIQF0W8QmkkktAhIs8VIBZWkCxP14Go4BIQIANvpput2VAuG3btm2bSkCf53me57lVQI0uuuiii0ZAa4V0HYQBSEDowLaE6X5JQACRAkQKEFlAkiwcnDMDSUBw4MCBAwdKQPflsRVBw2RAFOKs\\u002fIT4RkAAAAAAAIBGQAEAAAAAgEtARhdddNFFY0AYJtw\\u002fHnpKQJNSG87rvU1A3oWD6PG9aEDMu6OHIP5KQICj7H6jbEdAe4U1oZ4yVkABKzj9YqJNQDNhRNtMGFNA8LNzi1YASEAN0PkXA3RJQENf0Bf0hUlACBC1QroOSkBaFhXyfg1IQHBfXWcMxGFAVp08qthwSUDSfwYW54BLQFA5u4VfjUhA7nWve93rRkBQObuFX41IQHDgwIEDB0pAh90WWkkCSUAIMCwU\\u002fvNIQAEAAAAAgEtANfOdXaN1T0DO8zzP83xKQC9kIQtZCEpAD87H4HwMR0BguisbQItIQEadXF4En0pAxJR5RUyZR0BCfwH9BfRGQAM+OVwGfEtAzmHXM0G6UEBwVn5CnO1hQE\\u002fByyl4eVFACy+oXzx+SkBPwcspeHlRQN2ZjBavfEZAAAAAAAAASUCqmT1jrX5LQIUVOoMVekdA\\u002fjy9HsCwTUCgdB\\u002fPFIVJQLTiuvJnfElAWF4mtSAUWEAU4qz8hPhGQAAAAAAAgEZAGajybMiDRkDJyyy8AZNQQMuc\\u002fiE\\u002fdUhA0n8GFueAS0D0GsprKP9HQCxQ6CmifkpApda1VzOISkBeqZ57N4FWQA3Q+RcDdElAx0yY\\u002fHCJTEDVp4LVp4JGQEjaW81E90hA9dy7CdogVEADPgJNpH1JQNn+HMx3ekhA\\u002fsXvWQWDS0C2UHnPeYJGQM3OP+HH7EhAoyUg5skxYECbAzL+5oBJQNP3zyUekVBAXMe0qK19RkDWXig+AudVQP9tOdPhKFBADqw5NANKT0C\\u002f7XJxlvlKQLNb+NWYiEhAT8Gy9g7zTEDwswLvs4JHQEVwH8F9hEhAWhYV8n4NSEDoNxlYa39IQPZm04Pnz1NAQTZKCkOlVEDwswLvs4JHQB+Xvv2VCUtASJ3yR51yR0CBS+m3lH5LQKaWPM1oQFxACJLeoRiMYUDe5RS8nIJLQK7maq7mCldAAAAAAAAASUCY8er0ZTxSQNJpBoxGBEdASbUASrUASkBCfwH9BfRGQIU3x5Rd\\u002f0lAcjOEiWYCS0AAAAAAAABJQH8znS71\\u002fkZA5dJJ6FP\\u002fR0C80sqoWQBKQEhjL0v8gUtAZ3YMiKIDSkBIYy9L\\u002fIFLQGCSI1UC5F9AeP25GR0lUEBPwcspeHlRQE\\u002fByyl4eVFAPyMukAIISUDCiQrUB9hOQHZcDfmSs1BAWhYV8n4NSED0008\\u002f\\u002ffRRQEWumuF2cFhAbrmm1TCASEBndgyIogNKQEm8h4tq\\u002f0lA+IO4BoeBS0A5juM4jmNTQFRVVVVV9VJA9NNPP\\u002f30UUCY8er0ZTxSQJAkSZIkfUZAYrE3Y+QIR0DMCXg+PW5UQJDm1D7DqFlADtTV6Ah\\u002fUkDiUtgISQNIQLE\\u002fXgajgEhAaM\\u002fJ9FWCS0Datm3bthFMQALtSKAdCUhAwpzHpW\\u002f\\u002fUkBsKK+hvAZHQP7x0LNHAFBA6LEVQcPpW0A6OIJI6wVLQNIDlbNbmFVANqerPBMfV0C1MTTdwX5XQNIDlbNbmFVAi5SBp1tTYkDSfwYW54BLQDNhRNtMGFNACBC1QroOSkCc+Q\\u002fYYwZIQEHB541fdkpA3Ng9R7ONRkA6qfvy2IpLQJz5D9hjBkhAJjVEU2JxR0BMaC+hvYRSQAsvqF88fkpAta8j8D+ORkDYUF5DeQ1RQMnt+f2p+FBAK4KGk7ovVUA6OIJI6wVLQDo4gkjrBUtAKY3kKH+1UkBnEEAKaAZJQLW0tLS0dEdAm7HCNBJ\\u002fRkCl1rVXM4hKQFhaWlpaVlBARzQ6phlUUkBsSVvSlpRSQDQ00tvg+0lAHJxcfGx0S0COH84tCnRIQFA5u4VfjUhA2rZt27ZtSkBXYUleDxlPQOJXYyI9UGFA\\u002fjU7ahFySkAy3Nobq79aQLNly5YtW1JA53CrWSmBRkCiZJYQfiRSQEid8kedckdAv+1ycZb5SkBcXKcamV1XQFxcpxqZXVdA9ZS9wppQWUD1lL3CmlBZQFUY7Js6iklAQ2N9aKx\\u002fSkAMvxoT6QFQQBgm3D8eekpAbXkouJJbWEBsKK+hvAZHQPTTTz\\u002f99FFA19BMD\\u002fkzVUBCsI4279NRQG\\u002fbtm3b9lBAS7+l9FtKU0DCnMelb\\u002f9SQPhYacMyl1FAplKu8gt5SkCKLQ8FV\\u002fJQQNFwUvflUVFAs5fQXkL7R0BdTsHLKfhZQPhYacMyl1FARYjsSz7ATkDFmNiAmTdOQGJQe0oP109A7SW0l9CeUECiWmdfRLVaQKpNbWpTG0tA\\u002fPr6+vp6R0AvYsSIEQNLQFO7ErUrEUpA53Yqjw78SkCkBypnt3BIQAAAAAAAAElAAAAAAAAASUA4juM4juNHQOdwq1kpgUZAAAAAAACARkAPzsfgfAxHQFheJrUgFFhAnbAn7Al7S0D+6tcnqStNQGKgX6BfoEtAgwMHDhz4SkC+evXq1QtWQJ\\u002fneZ7nuVVAooMUsDzeVEBisTdj5AhHQIQPPvjgw2FAgwMHDhz4SkBZ7mmE5V5WQEc5HeV0lEtAOnDgwIEDR0DGgT+nmFVRQAsvqF88fkpAIBvV0rlmU0C\\u002f7XJxlvlKQPMaymsor1dACy+oXzx+SkCNLrroootGQGC6KxtAi0hA3ZmMFq98RkDW9cTZXnxRQE2NlVNjZVhAPovpLKazPkCnj3LMcAA9QLqNkpZEAEJAiEKBSmZ+QEBZa6211v45QAlWnVLef0JALTnEVaaAQkA+dUFQ3v5BQB7QFAJNIUdA4omUgs3+PEDFmejLfABCQMoH2CzagUJAku02Lo0AREAOlxj4XYZCQLGCWVIOCD9AQH4O+LwEQkDyKosz2v09QED3NwBlRkJAPnVBUN7+QUCIk7ovj81CQL9yTyMs9z5AitEy7YV\\u002fQECcRMHU3X9DQG+lewPKxEVAr6I0PjKBQkD+\\u002f\\u002f\\u002f\\u002f\\u002f\\u002f89QM0\\u002fsGPDy1FAIl9yFur2RkA5velNb\\u002fpJQBAPDw8Pz05AtOK68md8SUD50s5uQgBKQMRZ+QlxFk9ABU2ZM7tbUEALL6hfPH5KQLW0tLS0dEdA+dSL+dSLSUAAAAAAAIBGQAsvqF88fkpA1OM20JR\\u002fSkBnpe1AjG5QQL0LB9Hje0hA4g\\u002f4A\\u002f6AS0AH3WJSb4dIQAEAAAAAgEtA9\\u002fX19fX1SkDBH7cu7wBKQMy7o4cg\\u002fkpAECq9UZF\\u002fSEBQObuFX41IQFGUj0D\\u002fAEdATHOueEwAS0AZqPJsyINGQE\\u002fBsvYO80xAUYW+9ckAS0DP91LIzetWQO32QwJv\\u002f0ZA+ivaWCn7RkANGi7XFP9HQMy7o4cg\\u002fkpAL2LEiBEDS0C\\u002fDPm9DHlHQKI\\u002fQbaS\\u002fklA\\u002fv\\u002f\\u002f\\u002f\\u002f\\u002f\\u002fSECIIfyd94BJQP\\u002f\\u002f\\u002f\\u002f\\u002f\\u002ff0dAaVW6Y76CSEAFTZkzu1tQQJuxwjQSf0ZAF0HDSd1XTUAdZfcbZTdWQHAfwX0E90lAAAAAAAAASUDp+htmzpBRQACV+lPqT01A2NfX19d3R0D1ktkxIApKQC\\u002ff9UD+SEtANClZtE9+RkBDdP98L4VIQENf0Bf0hUlA0qFBptJ8SkCdsCfsCXtLQIMDBw4c+EpARHkN5TWUT0AJjuUigH5IQF1NqVJ+fklAAAAAAACARkBYwFoBawVIQPUk38dqdkdAtOK68md8SUCxEzuxE3tJQEN0\\u002f3wvhUhAgKPsfqNsR0AAAAAAAABJQF0W8QmkkktAjKDhpO4LSECozR\\u002fNQn9IQJIX3tipAkpAbWNuukH9SEA0KVm0T35GQJENyAZkA1JACBC1QroOSkARBSadmodTQNJ\\u002fBhbngEtAdbneigcvRkBInfJHnXJHQCWG6HB\\u002fdlBAjos594N6RkBNd7DfaoNXQCpkwwyH\\u002fUpAmUZbgNQ6VEDFsahHDYFHQHDgwIEDB0pARGRf8gGSSUC82m1QVohKQAEAAAAAgEtA+IO4BoeBS0AAAAAAAABJQKCBieQy+0hARbCONu\\u002fPSkDeZnib4W1YQBTirPyE+EZAuuiiiy6aU0CPsvuNsntUQFzHtKitfUZAj+4Qqff8R0Cez\\u002fXHy2BIQGwor6G8BkdAUDm7hV+NSECbzaVDDXZLQJ7P9cfLYEhA\\u002fGnwp8GfVECbscI0En9GQA6A+Oz1RVlAnNiJndiJSkB5Xq0ETQVHQMMQ\\u002fs57QGlADdD5FwN0SUD2wFW0M6VHQNA6g16K+UZAoIGJ5DL7SEBZ7mmE5V5WQBptaLSh0VBACe0ltJfQWkDLnP4hP3VIQCoe63CKR1RALgVq\\u002fUqBSUCDIAiCIAhKQIgh\\u002fJ33gElAPyMukAIISUDDAvF17fZKQPiDuAaHgUtA0mkGjEYER0AU4qz8hPhGQMuc\\u002fiE\\u002fdUhALtScBOLCV0DIcRzHcRxXQOPh4eHhwVZAoIGJ5DL7SEDLnP4hP3VIQNjX19fXd0dAE3G5yXOASkBaFhXyfg1IQBSrosS2AUdAD7uV0yl7SEB5Xq0ETQVHQNjX19fXd0dA1\\u002fBSmAF+S0DO0Np9uAVIQCek5FlG9ElAbElb0paUUkCl6EAvmR1PQCWVlS4l\\u002f0ZA\\u002f\\u002f\\u002f\\u002f\\u002f\\u002f\\u002f\\u002fSECc2Imd2IlKQCek5FlG9ElAtOK68md8SUAzuYKYXAFHQLW0tLS0dEdAeV6tBE0FR0DdmYwWr3xGQBpIK8Iz\\u002f0dAzvM8z\\u002fN8SkBQP098QH5JQL0LB9Hje0hA+RklfkaJS0CfHguBg6ZKQIc\\u002fbl3eAUtAiPhU3SwCR0B2c0bh\\u002f\\u002fxIQGwor6G8BkdAWMBaAWsFSEBBqsj+WfxJQAsvqF88fkpAjZSBp1vzR0B5Xq0ETQVHQJZNkURXhklAojt9PVQFSkBGIxjoaARLQIlFysDTLVJAuu\\u002f+dLrhTUAZoPMvBohQQKI\\u002fQbaS\\u002fklAAAAAAAAASUDY19fX13dHQBne0GF5yExAz0cxH8V8S0BM1juCKgJIQNrfKhyFTk5Auq7ruq5\\u002fS0ADPgJNpH1JQI31obE+FFFATNY7gioCSEDdEXfEHXFLQFsqgeBlAD9A69ndUnX+Q0DZ\\u002fhzMd3pIQC76WzXP+khA7D0EdAuGSEBsSVvSlpRSQJbQXkJ7iUhAkuoQG\\u002fiMSUBmgMdqN4FKQP4smy6fOExAGKfGBYSARkBcqDkJxIVGQI35e23Euk9A+IFaSKEHS0BrPJo\\u002f2HhIQGtO7TOMekdA\\u002fPr6+vp6R0D4g7gGh4FLQE4ipFrWgUpAyXc9kD\\u002fST0BIbSW1ldRSQN9pq14fiEpA97pio6F7RkCZFsq+WXpGQH3eapxie0dAMy3bru95S0AH3WJSb4dIQPz6+vr6ekdAip3YiZ14SEBPGzm96P1HQM7zPM\\u002fzfEpAPjlcBnxyUkD1ghRs\\u002fuNcQNmQ\\u002ftmQfkdAXMe0qK19RkCFFTqDFXpHQKA3i3vu+E5AUFsZpuGCRkBYwFoBawVIQB\\u002fILixGQlFAAAAAAAAASUBpOSfHc\\u002ftHQHAcx3EcB0hAwVRmkZb9R0CAY\\u002fgCULtNQD8jLpACCElAkGVrIXX7SUA+V9hX73tJQOmiiy66gEhADOU1lNf4R0A0NNLb4PtJQGk5J8dz+0dA53Yqjw78SkCMqEHpNwFKQAsvqF88fkpAAAAAAAAASUCD37M38HtGQMPDw8PDe0dAAAAAAAAASUDdmYwWr3xGQLMmaqSYAUhAES0TRMuERkDpIJSaN\\u002fpJQFyoOQnEhUZACRgN+w+HTkBVGOybOopJQMOONXCjAzlAXi1DB+z2PUCS\\u002fFAi1qhHQC1gTOLg\\u002fUJA9uaK5Mn+QEAo3VaBBvs6QCwAhc59gUJAfpZuxw4DOkD6eRJvsPxGQIMN0wF2f0hAAyfX+fiASkCqazm42f9GQIjaLfmQ\\u002f0pAZne\\u002fjWEBSkDSeNKd04BIQCO4j+A+AkpA2nbWURqASUA1srJLx\\u002f9GQHBGdgni\\u002fkpAR4kBCfV\\u002fRkBJkP41NYFKQEid8kedckdAszi6352CSEA83uM93oNJQP7\\u002f\\u002f\\u002f\\u002f\\u002f\\u002f0hAZAvUOxl6SUBT9A6BxgFKQHWxjcCLAEtAW2rEtTWASEBdTNWKbPxJQOrrVfg3AjxA0avSmD5\\u002fQkBT75AbDQI7QOzXr1+\\u002ffkFACb\\u002f9KeR\\u002fQ0CTB5RCi39CQKAfoRyqAT5AKCTCBCfzTEBAfvz48cNRQFIggmOXRlFA\\u002f4Y7s+MsSkA9NNaHxnpKQFUY7Js6iklABFXTKL8qUUALj7I6701SQJDxNwdk\\u002fEZAazyaP9h4SEAAAAAAAABUQCt4OQUvZ0pAFlx8aHn7RkDIERt3ckRNQNHvJfZOg0tA0mkGjEYER0DQOoNeivlGQLzabVBWiEpAHMprKK95UUDDAvF17fZKQLVJtkm2SWJApaWlpaUlTkAx8Rx0+fRHQOWoA3QqqFNAvQsH0eN7SEC04rryZ3xJQEl1iA18BlNADledPKpYWUBRQDMIIAVUQJjkVoJD5W1AgwMHDhz4SkCzZyAqHdlLQDze4z3eg0lA9j7AM1XTSkA0KVm0T35GQNSb3vSml0hAkGVrIXX7SUBuV6J2JepJQOwsprOYzkZAOHwt3pX5R0ABAAAAAIBLQGb3G2X3m0lAVp08qthwSUC0MTTdwU5gQC00t1N59EpA7og74o54S0AAAAAAAIBGQI83sjmvCklAAwAAAAAASUB6MK4D8gFLQL\\u002ftcnGW+UpASmgvob2ERkAvZCELWQhKQA8PDw8Pb1pANQzm+QyDSUAMkXVvw4BIQOd2Ko8O\\u002fEpAjzeyOa8KSUCuHtM913ZRQAEAAAAAgEtASYb968iCSkAAAAAAAABJQIPfszfwe0ZA0nL97uNEU0AoZ1E0c8NKQAmO5SKAfkhAIkrAIkqAR0ANK3lqw0pUQHJnu\\u002fEj+UhAxs\\u002frx0cAR0AZqPJsyINGQC00t1N59EpAOnDgwIEDR0D6NcVReYNKQOrN2DqtsmBAFlx8aHn7RkCWhu1meZJPQJKaYLyVfUdAwa29sfoDU0CMoOGk7gtIQIyg4aTuC0hAlj7iXdMMSUAbl9rOHi5QQEyEJwXJf0lAb0TqodF+RkCbqb09OoFKQLomArkmgkdAl0GpMPH+RkCypW0QR\\u002f1KQCGVBbkYAUdAoL9X4GOAS0DSoUGm0nxKQLud1yUkAEdA6fCUzbcASEDEs9m6EX9IQOYosJ6j\\u002f0dA02Vdi3J\\u002fR0A5TswjaABLQF+JiOcYAEpAxLPZuhF\\u002fSEAvB7GP+39IQCGAfxsxElBAGGT7z5YqSkBqyvmbqX9GQFim\\u002fLF5f0lAKH+Tv8l\\u002fSEAyKjkIr39JQEvbCWhmAElAyDDsYs7\\u002fRkDsKm\\u002fa5v9HQLO7DuH1f0lA+fZnuvh\\u002fSEBRMqeEoQBLQBwwKOs\\u002fgEdAOMxhDnOYTECzZyAqHdlLQNN+sgQ2bUhAvNptUFaISkDEUfSTWPNJQNWngtWngkZAAAAAAAAASUBVGOybOopJQF1M1Yps\\u002fElAs2XLli1bUkAvZCELWQhKQChvCxotg0tAOjiCSOsFS0AZY4wxxghHQAAAAAAAAElAWTUO7cP6RkCImbdBSlBUQMKGNQ1yH1dAi+HU3g0yUEB74EwMsAdOQL0LB9Hje0hANClZtE9+RkD1JN\\u002fHanZHQKpNbWpTG0tANDtQEazZTkCC6KN2VIFHQBbZ95mX7VNA1aeC1aeCRkAJjuUigH5IQN+h21SPMVtASJ3yR51yR0D5rTvLIj9QQMEfty7vAEpAOcQUaup\\u002fSEAkuFHwFgBLQPAfzY2KgElA5wy7xrV\\u002fSUDQb5Qo0P9GQO2eb0ybAEtAsJlOy8d\\u002fR0DzwGMTL4BHQIZmnCLofkhAtnEhVWT\\u002fSUBH08aV2n9GQJEKBiipgEpApxYZWz4ASEDTTwlElv9KQChvCxotg0tAP3HXsQsAR0AQQSym5n5GQAAAAAAAgElA5GINdYj\\u002fSUAhKGq6jgNJQE5fnDkVgUZAJuwJe8J+S0AF\\u002fe4dhf9IQP7H2dPV\\u002f0dASrsoJZH\\u002fR0BYWjGTjn5LQLUIzdnWgEhAGGiBFmiBRkDjG4guVf5HQCk1V7LLgEZA1bv3tKV9SEBlEr1nEn1HQAEAAAAAAEdAu4xkqDT\\u002fRkByTDOoPSVXQCz+6yOL+kdA2LCtdRMES0BH45Af1GBRQON\\u002fkB8mBk5AVKvRfkZ8SEAfl779lQlLQJgM6HXJgEdAvz76FOV6RkAH3WJSb4dIQMKbWQHYgEZAHUHTkkF\\u002fSEBg2oxeHwBLQPTvKnZzgEtAAAAAAAAASUAMlOIJ6f5JQAZiEi+yf0dAu6D0WCCASkDpEICA8f9GQMb8gAc5fkZAwgcffPABS0DxStSuRO1GQL\\u002fpTW9600tAwVRmkZb9R0BFcB\\u002fBfYRIQDQ00tvg+0lAgKXUlp0ESEBpVbpjvoJIQLETO7ETe0lAFOKs\\u002fIT4RkDBRJkLaoBJQJkLrQJjT0xA3e\\u002folbH9TkA78beAE39HQNA6g16K+UZA\\u002f\\u002f\\u002f\\u002f\\u002f\\u002f9vR0DiUtgISQNIQA3Q+RcDdElACBC1QroOSkAobwsaLYNLQChvCxotg0tANClZtE9+RkAMkXVvw4BIQFUY7Js6iklARXAfwX2ESECU11BeQwFIQNobPblZ\\u002f0dAsCBCg7J\\u002fSkDSeNKd04BIQJAFxYURgUtA7iuy17j\\u002fSUBRMqeEoQBLQGD9\\u002fYV1MFZA9sv26s\\u002f\\u002fSkBU3mXtdHxHQO6IO+KOeEtAxs\\u002frx0cAR0Dl+v4yCgJHQICQfdjwe0tAcBzHcRwHSECIIfyd94BJQNFFF110kUlAJoyx3DX\\u002fSUAZvs42QYJIQFadPKrYcElA\\u002fPr6+vp6R0A9NNaHxnpKQJuw+0XnuVdAi6q5sWIfVUBY6qrdgX5KQMQNwpbZLFBA\\u002fI11\\u002fI11UEBsU+zghf5IQGcQQApoBklA\\u002fPr6+vp6R0Br7dh4VgVJQOcUvJyCd0pA9\\u002fX19fX1SkBOIqRa1oFKQJBlayF1+0lA+dSL+dSLSUCaIFomiBZRQDQpWbRPfkZAy5z+IT91SEDHTJj8cIlMQIUVOoMVekdApRm48nLLYkAx8Rx0+fRHQN\\u002f+20jJdktAx0yY\\u002fHCJTECYducNZ5JRQDpw4MCBA0dA2Qr9urXlU0BwetOb3hRkQAvCZK9zI05AoqyelmoCSkCPN7I5rwpJQHJnu\\u002fEj+UhAYXNrO+hvRkD51Iv51ItJQLETO7ETe0lACY7lIoB+SECaPr+1635GQAtZyEIWUl1AA+agk\\u002fv3XEC81dAGtThcQH+7S24U\\u002fkhAAQAAAAAASED3umKjoXtGQGs8mj\\u002fYeEhAEA8PDw\\u002fPTkAmHwS5VGlOQJEkSZIk01BA5fr+MgoCR0DtE6Bt8JpUQA2pYFuAfUZAYs6YM+ZsV0ACM\\u002fkRdYFHQEXiNBOTFVBAiCH8nfeASUC29qMErn1JQIo2Up4vf0lAAgAAAAAASUBDY31orH9KQG7ND4uUAUtAaM\\u002fJ9FWCS0CCLEWUowlWQOLHtpbaeVJArMTL1A7NT0D+\\u002f\\u002f\\u002f\\u002f\\u002f\\u002f9IQDh8Ld6V+UdAcBzHcRwHSEAs0OHAZLtYQEN0\\u002f3wvhUhA0DqDXor5RkDsPQR0C4ZIQBinxgWEgEZAXZb5\\u002fbt+RkC\\u002f7XJxlvlKQFoWFfJ+DUhACDAsFP7zSEDJOLyrx3ROQFjFH8Q1uFNApda1VzOISkDdEXfEHXFLQP\\u002f+VBy05khALlwIZxhkTUBHn\\u002fRJn\\u002fRNQGITCC5TjUlAdhLXDBAUSUAU4qz8hPhGQOjAtoTpfklA4k0Z+V79SkAAAAAAAABJQDyxEzuxE0dAEf1m69BvSkCDIAiCIAhKQKQHKme3cEhAXwozwE+cSECbscI0En9GQFO7ErUrEUpAAu1IoB0JSEBuzQ+LlAFLQJ5ssskmm0lAbs0Pi5QBS0CzW\\u002fjVmIhIQGKxN2PkCEdAxFH0k1jzSUDncKtZKYFGQDQpWbRPfkZAR2GIwyf1SkARQgghhJBOQC33NMJyD1JAkU44hvVvY0AeHh4eHp5PQLd1eQccCVBADOU1lNf4R0B4\\u002fbkZHSVQQLOX0F5C+0dAs1v41ZiISECAo+x+o2xHQNJ\\u002fBhbngEtAn5IyO03nVEALL6hfPH5KQGGRMvB060dAs5fQXkL7R0Cl1rVXM4hKQDHxHHT59EdA9STfx2p2R0ByFtNZTOdMQAsvqF88fkpAde8maIP\\u002fSUCFFTqDFXpHQIBj+AJQu01ADdD5FwN0SUAfOBMD7AFUQG\\u002fhV2MivVNAHzgTA+wBVEDwIvgUyL9KQGUAK\\u002fkkdExA4HG3IynEXUB\\u002fDs4dCy9WQBTirPyE+EZAIYQQQghhW0APlGbTjf9HQAkKCgoK6lNA0gOVs1t4V0CbscI0En9GQJ2wJ+wJe0tAZ3YMiKIDSkC29qMErn1JQGVEH1Ade0ZA9SP+HqaERkAAAAAAAABJQFz1iyK5z0tALlwIZxhkTUAMZ3yY4YxPQHIW01lM50xAm7HCNBJ\\u002fRkDnFLycgndKQC00t1N59EpAdcmpNeGAWkAf\\u002fehHP\\u002fpGQL8M+b0MeUdA\\u002fjU7ahFySkCMoOGk7gtIQICj7H6jbEdAbCivobwGR0DAAAGsOk5MQHEJuARcAkNAcQm4BFwCQ0DkOI7jOI5AQOkPaMBf\\u002fjpANhg2xOPATECvojQ+MoFCQP7\\u002f\\u002f\\u002f\\u002f\\u002f\\u002f0hAUFAszqoOQ0CSLBycMwNJQARNg7FmBDpA79y5c+fOQUAVFoSGKZxLQNC9m6ANfkBAXFqPdRaATkBXZL40cZhPQBRCNl53Aj5ALXQ5wjz\\u002fPED88\\u002fR6AMNCQH1LCg2Z\\u002fUBAGa45Qtp1SkAvkZ\\u002fpUwU+QE\\u002fOJbFMfUFAcgpeTsHLSEDFHmYB+SI5QBFzmMMc5j5AKcoXxej\\u002fO0D5hvMstFVGQCqoeY7OB0dARPuj\\u002fdH+O0COPuynbGRSQL2lUJV1\\u002fz9AJ2J1ZvEAO0AeIPlDQABAQCx+pVWb\\u002fztAvuPeXJH8QkC1jLD1cZ1IQI7ahPPW+z1AUgwx8EyAQUCFc8w2VqlDQHrQxDa6Ek9A6mjzPsUFPEDF3YYuvQU8QC5O6b4OgEFAE6NV8mbXS0AIcpK5Uv4+QFMGSvwwXURAq3g9p5WPRkBVf1i4o65DQGj9yNrntElAg6ie7XAAQUDoHhFokX9BQKSSidf8D0tAdkL5gpEDPUDxLKxf839CQGs8mj\\u002fYeEhAvQsH0eN7SEA\\u002fIy6QAghJQDh8Ld6V+UdAhRU6gxV6R0BQObuFX41IQGwor6G8BkdAm7HCNBJ\\u002fRkDdEXfEHXFLQJAkSZIkfUZA8hgWy59\\u002fQUByIe0fGwI5QEAIIYQQgkJAbq3i4rMxT0BCohU2BxJEQFdjIj1QOT5AboTlnkYYPUCaHxYpA39BQDCn4OUU\\u002fEFA5O4osjfuPkBCohU2BxJEQDDPeoxc+0JAVkRyU8r\\u002fPkAb5r3kx\\u002fBEQD0PpUq++j1As\\u002fPggBSJQkBxEQFzs3hDQIMdhn6s+UNAwJoD1zMAREAPa\\u002fqOsQA9QE9ILRUG\\u002fz9A7x\\u002fRPMcBOUA9sRM7sRM8QAAAAAAAAElASEx\\u002fUJymS0A2lNdQXkM+QB4rn+YoBjlAQBd4bDD6OUAtYEzi4P1CQNxdIzY9e1FAn9KRPQNROUDCs563i3dDQMIg4dIM\\u002f0FAU0oppZTyPkA2lNdQXkM+QI+y+42ye1RAj2lk0ZePR0Dv3Llz585BQFVVVVVVFTtAegsn64X6QkABAAAAAABEQOdwq1kpgUZAZ3YMiKIDSkDfmh8WKQNIQMSUeUVMmUdAPhRcye35SkAN0PkXA3RJQAEAAAAAAEhAHJxcfGx0S0Dl5RaSD4JIQLOX0F5C+0dAoHQfzxSFSUDNzj\\u002fhx+xIQIyg4aTuC0hAYBbxCaSSRkBBweeNX3ZKQEsHNrPSgUlAAz45XAZ8S0BRhb71yQBLQD3F1L9sbUZA5xS8nIJ3SkAAAAAAAABJQCJfchbq9kZAWTUO7cP6RkDDAvF17fZKQAsvqF88fkpAVua6lAb+SkCMoOGk7gtIQO8GykhJfEZA3ZmMFq98RkC04rryZ3xJQAmO5SKAfkhAZ3YMiKIDSkBCfwH9BfRGQPiBWkihB0tAIl9yFur2RkAAAAAAAIBBQPo30yOwDD9AXaf0j+0JSkBBweeNX3ZKQP\\u002f\\u002f\\u002f\\u002f\\u002f\\u002fb0dAXag5CcSFQUBxz8HhnoNAQNVUiDZ8fkBATG9605vmQUBdUVfUFfVQQJSIrN1NiURA+jfTI7AMP0AkSZIkSZI8QEX3HxMq9jtAwrOet4t3Q0BF9x8TKvY7QPGguCJCED1AUARyTQTyOUC6ErUrUfs6QLGVkG42wFhAE9KLQxQGTUBkIQtZyGJPQDIjv6lOuk5AxFH0k1jzSUBcx7SorX1GQDAOaFD4HGZAAQAAAAAASEBsKK+hvAZHQMSUeUVMmUdAAJECRAoQSUAIZwZAgAI5QAAAAAAAgEFAAAkkkEACQUAMkXVvw4BIQNXpFQt1eklApgb2jqmBQkDjBBeR0PtBQLTiuvJnfElAUDm7hV+NSECAo+x+o2xHQBN3xB1xh0ZA5xS8nIJ3SkC04rryZ3xJQBgm3D8eekpAgUvpt5R+S0DUm970ppdIQJuxwjQSf0ZAReI0E5MVUEBi8gcmf2BeQNWHxvrQWEtApAcqZ7fwVUBYETSc1H1IQFoWFfJ+DUhALFDoKaJ+SkCDIAiCIAhKQKNemFYdKlVAcODAgQMHSkBcx7SorX1GQHJnu\\u002fEj+UhAjzeyOa8KSUBguisbQItIQFoWFfJ+DUhAHJxcfGx0S0DfaateH4hKQGjPyfRVgktA1ekVC3V6SUBqNEuNZqlVQG7ND4uUAUtAUDm7hV+NSEAAAAAAAABJQNNX\\u002fjkSgktAUrsStSvxVkD1I\\u002f4epoRGQL\\u002ftcnGW+UpAYrE3Y+QIR0Cgiy666AJHQLMmaqSYAUhAsRM7sRN7SUC+evXq1QtWQISLPFSAWVpAAcNC4T9PZEBwHMdxHAdIQBTirPyE+EZAya3avwHrR0CgdB\\u002fPFIVJQMRR9JNY80lA7nWve93rRkDtcJEqOPFIQBH9ZuvQb0pAsRM7sRN7SUBguisbQItIQHDgwIEDB0pAjKDhpO4LSEDsekCxcoZUQONVT5d\\u002fhEpACBC1QroOSkDw8PDw8OhUQMRR9JNY80lAs5fQXkL7R0BxMEU+6wZLQLzabVBWiEpAXRbxCaSSS0Ctp7CewvpUQICj7H6jbEdAAAAAAAAASUBDdP98L4VIQBgm3D8eekpADdD5FwN0SUC04rryZ3xJQNXpFQt1eklAYqBfoF+gS0AivoP4DiJaQCd2Yid24kZAZ7PZbDabSEBsrbXWWmtGQHJnu\\u002fEj+UhAsRM7sRN7SUBiKTEKzf5JQOWdcC4wlUdA4R7hHuEeUUCFFTqDFXpHQICj7H6jbEdAEeY8Ln37SkCmsJ7CegpHQIgh\\u002fJ33gElAgwMHDhz4SkBw4MCBAwdKQGC6KxtAi0hAq6qqqqp+SUBDdP98L4VIQL\\u002ftcnGW+UpAYZEy8HTrR0AAAAAAABNKQF\\u002fB0PIrmFxANOaMOWPOWEBJvIeLav9JQChvCxotg0tAmwMy\\u002fuaASUAIMCwU\\u002fvNIQKUmGG9lH1ZACy+oXzx+SkA2ZU1ZU7ZUQFO7ErUrEUpAAQAAAAAASEAzuYKYXAFHQNA6g16K+UZA5Z1wLjCVR0A5velNb\\u002fpJQP\\u002f\\u002f\\u002f\\u002f\\u002f\\u002fb0dACDAsFP7zSEAU4qz8hPhGQLE\\u002fXgajgEhACDAsFP7zSED39fX19fVKQO4qxQTd1VdAEleZAuYDSkBsKK+hvAZHQAyRdW\\u002fDgEhACy+oXzx+SkDY19fX13dHQNb1xNlefFFA5Z1wLjCVR0ClpaWlpSVOQOYJiM5X90lAK3g5BS9nSkCxP14Go4BIQPLKJ2I2l0tAsT9eBqOASEAPzsfgfAxHQFadPKrYcElAEleZAuYDSkCzW\\u002fjVmIhIQGvt2HhWBUlALCAEzFt7RkCWTZFEV4ZJQGUSvWcSfUdAHJxcfGx0S0Asqa2kttJSQGYQQApoBllAoHQfzxSFSUADkpBHf9tVQDZlTVlTtlRA0DqDXor5RkDcd0uhP8liQAAAAAAAAElACy+oXzx+SkBQObuFX41IQAsvqF88fkpAPSrwxdUPS0BgFvEJpJJGQGfHcyopIElAcB\\u002fBfQT3SUC\\u002fDPm9DHlHQHAfwX0E90lA0UUXXXSRSUC82m1QVohKQGvt2HhWBUlA7XCRKjjxSECJfNYNpvhJQKcG9o6pAU9ADdD5FwN0SUASV5kC5gNKQHAfwX0E90lAYZEy8HTrR0B2EtcMEBRJQIwQ2Zd8wFFAZ7PZbDabSEC6NT8sUuZtQN0Rd8QdcUtARShCEYoQUUCqTW1qUxtLQBUuuBwRAUlA\\u002f8d8r1Z\\u002fS0BGIxjoaARLQJou7Sk7fkdAUQN7x9QgT0D8+vr6+npHQGY8CKStl0dAPSrwxdUPS0D2wFW0M6VHQLNb+NWYiEhA6JxzzjknY0DdEXfEHXFLQF0W8QmkkktAcBzHcRwHSECWTZFEV4ZJQLfmh0XKAGpADSd1Xx5bZUAw1w7MtQNKQEmG\\u002fevIgkpAUYW+9ckAS0B6nRsdTxpmQK\\u002f6VLD6VGRAcLHoDeMES0DvBspISXxGQIMgCIIgCEpAGCbcPx56SkA4juM4juNHQBgm3D8eekpAYqBfoF+gS0AAAAAAAABJQC\\u002f4qzghJUpAs5fQXkL7R0Czl9BeQvtHQLOX0F5C+0dAAgAAAAAASUBeL7K2indGQF4vsraKd0ZAZUQfUB17RkC2UHnPeYJGQOXk\\u002f7pDgEtAQn8B\\u002fQX0RkA9KvDF1Q9LQBSrosS2AUdAxJR5RUyZR0C6JgK5JoJHQDQpWbRPfkZA\\u002f\\u002f\\u002f\\u002f\\u002f\\u002f9vR0Cc+Q\\u002fYYwZIQLOX0F5C+0dAMIilXSf5R0AIMCwU\\u002fvNIQL\\u002ftcnGW+UpA1ekVC3V6SUDnFLycgndKQLOX0F5C+0dAcODAgQMHSkBQObuFX41IQA3Q+RcDdElADdD5FwN0SUBTuxK1KxFKQKuQ9khUlkdAVRjsmzqKSUB2EtcMEBRJQBNxuclzgEpAL2QhC1kISkAPzsfgfAxHQKvidk6ffUdAmi7tKTt+R0DUN5IHsPxKQAsvqF88fkpASJ3yR51yR0AyI7+pTrpOQP41O2oRckpAkB8\\u002ffvzYZECxP14Go4BIQIyg4aTuC0hAq\\u002fQzp8GdR0DEUfSTWPNJQEN0\\u002f3wvhUhAD87H4HwMR0D4g7gGh4FLQN+aHxYpA0hAwcjADXtaSUBnEEAKaAZJQJuxwjQSf0ZAAz45XAZ8S0Bdp\\u002fSP7QlKQLzabVBWiEpAE3G5yXOASkCgdB\\u002fPFIVJQDZlTVlTtlRAAo8z12D4SkCO4ziO4zhWQICthHSzAUdAAu1IoB0JSECxEzuxE3tJQO4qxQTd1VdA0DqDXor5RkCkBypnt\\u002fBVQDQpWbRPfkZATfgz4c90UkBwHMdxHAdIQLOX0F5C+0dARBaykIXMZkBOIqRa1oFKQPiDuAaHgUtAEleZAuYDSkCinqlcdzxXQI7cJ3O+CUpAN\\u002fAZw9ECXkBaieHmsOtVQGzbtm3bbkZAs6smquwqVkDdEXfEHXFLQD001ofGekpADigJGJ+BSEAeHh4eHp5PQEB+\\u002fPjxw1FA9STfx2p2R0Cl1rVXM4hKQNXyOprAnU1ASjiqv8\\u002fbUED3umKjoXtGQOX6\\u002fjIKAkdAgKPsfqNsR0BZNQ7tw\\u002fpGQBgm3D8eekpAZGdTz5xcWkBmgdE6X6ZdQGGgrkZH+EZAip3YiZ3YSkABtA1eS4VKQB4eHh4enk9A5gmIzlf3SUBI2lvNRPdIQEjaW81E90hAHR4eHh5+R0DncKtZKYFGQNJpBoxGBEdAXRbxCaSSS0AIMCwU\\u002fvNIQLNb+NWYiEhA53CrWSmBRkAvQmRf8gFgQCt4OQUvZ0pARzkd5XSUS0D5arrdCYFHQAJ+R\\u002fLtiUtAYaCuRkf4RkCl1rVXM4hKQGk5J8dz+0dADOU1lNf4R0C2UHnPeYJGQGtO7TOMekdAXRbxCaSSS0ATU+gCQ\\u002fxGQNW797SlfUhAvMd7vMebU0DQOoNeivlGQEn8jBI\\u002fo01AZ3YMiKIDSkBInfJHnXJHQIMDBw4c+EpA\\u002fjU7ahFySkDk9VEbCQNIQAEAAAAAAEhA7irFBN3VV0BdMfpLMzZWQGGgrkZH+EZAV2hup\\u002fLoTEA4juM4juNHQI0uuuiii0ZAEf1m69BvSkCr9DOnwZ1HQHDgwIEDB0pA1ekVC3V6SUCU11BeQ3lIQGqO2bu1cEZA3\\u002f7bSMl2S0DVp4LVp4JGQNWHxvrQWEtAAAAAAAAGSEAndmInduJGQL\\u002ftcnGW+UpA0mkGjEYER0Bcx7SorX1GQMRR9JNY80lAAAAAAAAASUBisTdj5AhHQDo4gkjrBUtAs5fQXkL7R0BwHMdxHAdIQOdwq1kpgUZAOnDgwIEDR0AZTJHPujFOQK2nsJ7C+lRA\\u002ff\\u002f\\u002f\\u002f\\u002f\\u002f\\u002fSEBs27Zt225GQLxQkKuSrFFAAQAAAACAS0AAAAAAAABJQALtSKAdCUhAAQAAAAAASEDL+RqsupxPQFrSlrQlnWZAM7mCmFwBR0DdEXfEHXFLQO8GykhJfEZAAz45XAZ8S0DRRRdddJFJQIvh1N4NMlBA0n8GFueAS0Ax8Rx0+fRHQD3F1L9sbUZAAAAAAAAASUBs27Zt225GQGIpMQrN\\u002fklA7nWve93rRkAfcUfcEXdJQCzYgi3YgklA8eF47Vn6SED6K9pYKftGQPor2lgp+0ZAbs0Pi5QBS0BfziGM+jtUQIIsRZSjCVZAKqlCwe80WEB6zyR6z+RTQJV6kSMztVNAOjiCSOsFS0B17yZog\\u002f9JQLoU+pOMBT5AACPv4rLFS0BBMnVnvBdMQO8zvFi8+0ZA7o+JUv7+PkCyOnKVcwBBQNQz6BGIAUNAffsHfRcAPEDDmUByrAY5QLclX78TAT1AitNui+F+QEB3WcQnkMpGQG65ptUwgEhANL7mLLB\\u002fQkBL+8kS2MxCQH6mkif\\u002f\\u002fzxAgZq3BmGyS0CoZZK69f4\\u002fQMrJg\\u002fOqAjlAM0o4byL9PEAWt6zKHoFBQBKVSUFRP0hAdis8GL\\u002f+QUAz2amuNJxBQELWyQua\\u002f0NAhHj7r8\\u002f\\u002fPEDBcfljSwI8QH4Mzsfg\\u002fDtAl5\\u002fdRjPBQkBHBlc7hk9IQFjFzDhY\\u002fztAQys+zRWAQEASBluGOv8+QLOJfaTT\\u002fz5AAwAAAAAAPUCervJMfDxGQEun5kHu+j9AAwAAAAAAPUDQRKsmy\\u002f85QBkmazJPfkFArF7hdAQAQkCLe5ws4wFBQAAZyjpr\\u002fj5ABw27fd4AQECdKGrPvKRHQIMeQg+hB1JAvHqbSv6BQ0C8eptK\\u002foFDQIm50CowlkJAuX9n77tcP0D7K+W8Jf5AQGmwQmewAkRA9N577733PEDJy\\u002fk+cpBCQNOKKhG\\u002fAEJAwvEs6fEDQECFVYwApQFAQLMJ+SgAAjlAJSz3NMJyPECpbhFltKVGQIuh6Q72W0VAriFCnkkCQ0DsV4w94vc\\u002fQH5RZxo3MEpAus60mvl8QUDQvZugDX5AQCsqrDwZ\\u002fk5Amh8WKQN\\u002fQUD574kxR3BSQDSGpjvY70FAAAAAAAAAREC7tSbJaIBCQIjpAYjpAUtAsXyBdka0R0AYhmEYhgFCQL2WylQh\\u002fjpALACFzn2BQkC2ftqwAQA9QHkr\\u002fve8+kBA+1ebFCIHQUDo6uns4\\u002f49QBkZGRkZGURA\\u002ff\\u002f\\u002f\\u002f\\u002f\\u002f\\u002fPUDKt3zLt\\u002fxAQNQz6BGIAUNA\\u002f\\u002f\\u002f\\u002f\\u002f\\u002f9\\u002fQUAgIGnM4nFAQCAgaczicUBAzj6H1ATjP0Aln3WDKfI5QJZqps3FLURAWk2vkwr+PUBr1oUOb35DQBFzmMMc5j5AT0XxowAEOUBcoAVaoAU8QFQ9aOSdf0NAGmOMMcYAOkCcmdRkMAE+QOTuKLI37j5ANpTXUF5DPkCucjNRYf86QDiO4ziOA0FAZcVACW\\u002f0Q0ASHGTNBAdBQD\\u002ffmyIVMEZAxVZ7xFb7UEDFVnvEVvtQQBxjWSkMfEBAnHPOOeecTkAvkZ\\u002fpUwU+QOudb9ASBUBAMKfg5RT8QUBUvO9FUwA7QEll6L0TBEFA6HFBFeYGP0ApouJNJoRCQIWyQox9AEFALzwgyE8PP0CDHYZ+rPlDQM894vG6KkxA9dprr732UkAGWchCFgI9QAjMCRGYk1BAlIis3U2JRECU\\u002fPD3JnFJQKWAhJ9cCENAoIGJ5DL7SEBjYOIAKktUQIHX2+gPBUFAU80xe7cWQkAzuYKYXAFHQDQpWbRPfkZAsadvO5ywTED6+vr6+vo5QL0Y\\u002folrC0tAfgh4fwj4Q0BACCGEEIJCQKWAhJ9cCENAJEmSJEmSPEA2lNdQXkM+QEU+6wZT5EBAAQAAAADAQkB+YPIHJn9AQPA44umK\\u002fTpA\\u002ff\\u002f\\u002f\\u002f\\u002f\\u002f\\u002fPUAGcj8xUQk7QKsdFREIEk9A9sVTz3cAQUAWXHxoeftGQEVwH8F9hEhAtlB5z3mCRkDowLaE6X5JQMPDw8PDe0dAtXXoN1uHS0CQJEmSJH1GQLiNeF\\u002f\\u002fg0pA4YnZejyAS0DZgWIr1IRGQEpoL6G9hEpAz1PPjlsAO0C3Xt5MUP9AQJrVPmU4Aj5AeSv+97z6QED9\\u002f\\u002f\\u002f\\u002f\\u002f\\u002f89QCM1wXgr+z9AAAAAAAAAOkCrkXFlagNEQHkr\\u002fve8+kBAQVoWFfL+Q0CVQFyoOQk6QJfrjhdbgkNAiR6zZjkGOkDzSH4fjwFEQLL5LJppe0JADpcY+F2GQkDq\\u002fbLeL+s9QHtNtFnpo0lAAAAAAACAQUDKPY2w3NNJQPJiS\\u002fBt\\u002fjpAudEfCskFPEAeK5\\u002fmKAY5QL9mRy1C\\u002fkFABvCSHk0HQ0AWZcWtBYFAQNe\\u002fkBuH\\u002fUNAnJnUZDABPkAOihawjwJEQLqNkpZEAEJAI9zhUFT9QEAMXTuPUf07QCY5L4v4BD9AuHzLt3wLPEAW+zm6nYdDQPxdlvCAAUBAf2isD431QUAvxIrS+AhEQMy4E7o9gkFAPWM4WpCAQkBp3GYNtQFEQCs4+ys4+0NA8p3Qp02CQkDuH\\u002fEa4fw9QMLxLOnxA0BA9umnn376PEB5K\\u002f73vPpAQLzHe7zHe0BAw6d7OVaBQkCkr3kqhfQ9QDi96U1vekJAAAAAAAAAOkCSIVhHm\\u002fc\\u002fQOQ0X6tnh0BA11WeiY\\u002f7PkCK0vjIBPpDQBkqt6xOAExAcJSZ3hL9QECxgllSDgg\\u002fQDaU11BeQz5Aus60mvl8QUD+L94H5\\u002f86QAhykrlS\\u002fj5AcpG0Dtx\\u002fQUBFPusGU+RAQP1q+VWh\\u002fz1AlQ+cMzMAOUDS2qWpBYBDQPcW1C8bAD9AbO3YeFYFOUA5yu43yu4\\u002fQBbsrBQhaEdAPy9WaSv8TkBKZRdXzKVCQGyh+C0eXElAgmacMAhZS0Dtvffee\\u002f8+QGmkimdVATlA8hgWy59\\u002fQUB6Xoss1v88QEKmrr\\u002fSbUhAZCMdNtIBO0CXnl4tGAFCQGWxzd\\u002f\\u002frUdAYnAFzdD\\u002fOUAFhtyBP35DQH3QY1gsf0JAiIVcARP\\u002fQEDhEhkdxoBBQPx77A5tf0JAH2+RcSgBQUDrBlPks25BQNKfUn9K\\u002fUFAPyMukAIIOUClgISfXAhDQDq7WtPMADlAAQAAAADAQkA+ntlNo\\u002f9BQL7j3lyR\\u002fEJADUaGhSH7O0Do6uns4\\u002f49QJLyE9dLgEFAIkhmQ+79OkAvXUkJhn1AQJkYVdxGgENAVVVVVVVVQEBnaO0+3AJBQPOJFogTAUJAoB+hHKoBPkCQBA7wzrdAQPHvqUlF\\u002fz5AD2v6jrEAPUA4LWhrF\\u002f9CQMWkeIFMikNAlKPkwwKzPkBOMQn5zs9FQG644YYb3kJAbO3YeFYFOUC52sLHc\\u002f08QL4ATxjgCTpAqkNs4DMGQEDSt9LePQJEQISxU+3ZAj9A5I64I+6IQ0D7O\\u002f2PR1JNQPbyDfrL+EBAi7JDfJ92QkD8v+I5Q\\u002f8\\u002fQAMAAAAAAD1AcFD9AEMCQ0CWZOIQoqVDQDpFC2dAKDlABYbcgT9+Q0DwNTbrp\\u002f5DQG4xXn7dAT1Alokr3RvQSEAqYWwWVGtCQMWZ6Mt8AEJAQqIVNgcSREC6ErUrUfs6QCf0VyQ3BD1AwkH0+C78PECVeWO2wAA6QMOONXCjAzlA8jEB9TEBREDrAmovSIBAQCjdVoEG+zpAT0XxowAEOUAj9LW+6BhIQAq\\u002fL0F8\\u002f0BAuhK1K1H7OkCGaxYidQBBQDXiwOb1+0JAoCuKFtH\\u002fQUAmNAy8rj5CQOg7nQprA0ZAJQyH9O4DPEBQFWJx+VdDQEA\\u002fQjlUAz5AP+W7rzMPREC6FPqTjAU+QPnkeb\\u002fKBkFAf1nvl\\u002fX+OUAdUbeEHFVDQGXJpftcg0NAPhW2GGb9OkBifDzC+HhAQNOKKhG\\u002fAEJAbvOAjQz\\u002fPUBmt5Xe3P9AQCs4+ys4+0NAahtsCGqBQUAwz3qMXPtCQLiKdqb0+jtA8aC4IkIQPUDCs563i3dDQGTRe+ykAUFAYhXSHonKTUDPBgSOX1tUQA7lNZTXgEJABshhGpl\\u002fQkC930vSQP9DQGXJpftcg0NAvQsH0eN7SEBAHk1+zoFDQNPATPSSgkJABqLSkT2DQkBFPusGU+RAQCcaBhtTgkNAe+BMDLAHPkD66quvvvo6QJ\\u002fSkT0DUTlAQogA3\\u002f2DQUCSLBycMwM5QMKznreLd0NAYowxxhhjPEA\\u002fL1ZpK\\u002fxOQJOuuEUd6UtA63rOz47\\u002fQkBDbxT0RoFAQP12qSfjt0NART7rBlPkQEAt1JwE4oJBQF7\\u002fJo6SgUFAitEy7YV\\u002fQEArOPsrOPtDQBHr5\\u002f1jmUdAUFtowJJeUEBz586dO3dCQMBVtDOl10dAGPloMWPcUEAO5TWU14BCQJ1lcm9c\\u002fk1AMM96jFz7QkBoru8voyBSQHKnJF5ojUVAsqX+c2UEQEDC+RicjwFAQEbc4BrmykpAU3QiUceCQUAZhmEYhnFQQN96h0+m\\u002fz1ATG9605vmQUCF8zE4HwNBQIT+JGNRDTtAa9aFDm9+Q0DoxdB5MXROQHZC+YKRAz1Au7UmyWiAQkDORRdddNE6QD957qbBuklAUARyTQTyOUBDbxT0RoFAQC3UnATigkFARIFJp+YBQkDw3Q8KZHFSQMD0AMT0ADpAcc\\u002fB4Z6DQEBFPusGU+RAQAEAAAAAwEJAAQAAAADAQkBFPusGU+RAQPDLYyuChkBAcKF7tcP9OkAg8fcwJZRGQOv9xDFbykNA9vIN+sv4QECB6PFdOAg6QOR3tbgJ8zlAQH4O+LwEQkABAAAAAMBCQEU+6wZT5EBAhSxkIQupSECF8zE4HwNBQCmi4k0mhEJAcZd6Mn47SkCLJ0g9lnhBQCy8wiu8QlVAZMiw70cHOUAvFT+pbgNBQL3fS9JA\\u002f0NA79y5c+fOQUBVVVVVVVVAQLclX78TAT1AREPJV6gYR0BlGaMOZ\\u002f85QBfXIKH1HVJAhfMxOB8DQUDf0wjLPf1DQLGhvIbyGjpAhfMxOB8DQUAigbcfEnhDQI6sCrzB4U1AudEfCskFPED8XZbwgAFAQIXzMTgfA0FAUJi2LxSmRUCE\\u002fiRjUQ07QKWAhJ9cCENAIXblfT0OUEBkyLDvRwc5QJ\\u002fSkT0DUTlADY8hm2IAOkD+4bNxigBAQIiHEUjOADtA3lLoTzIWSUALcrJdbslMQHkr\\u002fve8+kBART7rBlPkQEDDTuzETuw6QAEAAAAAwEJAn9KRPQNROUBxwh0ISJ9GQGx21CLkr0FA6fQCzPwiRkBeA7XzJ\\u002f4\\u002fQELIX7OjFkVAEUAYKrgFOUCOBoICfQg8QCnDEbBnrUdA8MtjK4KGQECOHz9+\\u002fPg5QFAEck0E8jlAoJFzMdMDPECCZpwwCFlLQPDd4QLltkpAus60mvl8QUCkYTkSFAM5QM5tNZEZ+jtAKKWUUkopSEAsCS\\u002fc24JDQL8+OiDl\\u002fEJACikwTJ7+PkB4wb0hiX9DQImh9Rrt\\u002fUJA+uWxFUEDO0CeLSRsZwtVQH8OCpQdaEBAe9S1R117QEB7gXuNV\\u002fk9QDz1Yj71YkVAQe\\u002fUtRzcQ0ABAAAAAMBCQIdovVW7AD9AFOKs\\u002fIQ4PUDhNHKx6n9AQEll6L0TBEFAHxcxcZ8BQEBQBHJNBPI5QNKfUn9K\\u002fUFAygfYLNqBQkCf0pE9A1E5QI6\\u002fbK\\u002f+\\u002fD9AgejxXTgIOkBZ7mmE5Z5CQLe2mMDlgkBAadKkSZMmQkDtVTBLykFIQHuBe41X+T1AUy+qQlf1OkAlLPc0wnI8QPUPyrhGWkpA+mN0j5JLQ0CsEZZ7GuE8QOTVSFOx\\u002f0VAuxsKlQbkVECdfr2w7go8QGx21CLkr0FAWe5phOWeQkA9D6VKvvo9QCRJkiRJkjxAAAAAAABYS0BFPusGU+RAQBGwiBKwCD5Ajh8\\u002ffvz4OUBRuWV1AvhFQHb7yupd8kRAAAAAAAAAQEBJIPmkiDBHQFdkvjRxmE9AD58\\u002f5ijdSkCf0pE9A1E5QLx6m0r+gUNAAQAAAADAQkAbWrsPtwA8QAAAAAAAAEBA8y2Cm7g1TEBbWlpaWlpBQGx21CLkr0FAJEmSJEmSPEBQRBYtjjREQJcOZPu3ekFAqGtKgw4STUABAAAAAMBCQAZZyEIWAj1AGJRhtd4CRECrCZCeduREQO\\u002fcuXPnzkFA\\u002fXapJ+O3Q0DyMQH1MQFEQExvetOb5kFAMzgfg\\u002fPhUEDlmtzhe2lCQLt0NOouHUZA79y5c+fOQUA7qIM6qINCQCpjkqHhf0NA+Styhxk8Q0Az3KtglpRDQEU+6wZT5EBAodLEfVgHQUDDTuzETuw6QPbmiuTJ\\u002fkBAQSUqfiADQ0DZnK7yTPw9QAAAAAAAAEBAHaXbV1bvQkC\\u002fZkctQv5BQCj5O7OfCjtA2Cv9OdtxRkBaCtT6lQI6QFnvvgc8kUlA5Zrc4XtpQkDQIA3SIG1AQFFktqjV+DpAp0yt\\u002ffKDQEDDTuzETuw6QAObMche9TtAUDm7hV+NSEALL6hfPH5KQH35OyPTf0lA7og74o54S0D03nvvvfc8QG5I8Q1sBTpAnJnUZDABPkB7gXuNV\\u002fk9QJofFikDf0FAXcNvfwwCRECK026L4X5AQNSozoRhA0BAaGvULYJKVEABAAAAAIBCQP70Dao5+zxAO2JOLfZETEDqaPM+xQU8QFw0oww5+kdAJK0XsM3pPUAQNX4QNf5DQAAAAAAAgEFA1\\u002fHr+HX8PEDTiioRvwBCQD1jOFqQgEJA0xKkl7UEOUDUqM6EYQNAQJf\\u002f0l3ZADpAW1cex6oBOUDhtxZlh\\u002fg+QLu1JslogEJAJjkvi\\u002fgEP0BPRfGjAAQ5QAb9k\\u002fThfkNAjBS4+46LR0DMwHdg+ABDQLrpI9GjX0NAR3BU3ZUEP0ALxlvZ53BRQLYmArkmAjpAp0yt\\u002ffKDQEBpF2DqMQI7QFzfN6+qADlANVvXXeV\\u002fQECWk1Q5SZVLQGFsCb7N\\u002f0JAq06cLAzPSEBb5Waiwv5CQLFvLI3rG0NA679PG4v+O0DgV0ohoFFEQOcqnZ5NBUNAWP79WP79QUAn0civZINDQHqc9KUlATxAgcS+v8r\\u002fPUAgHOo4n\\u002fs8QAQAAAAAAD5ARFGfUAn\\u002fQkAFmV+dEgFDQMISV3e\\u002fb0pAcyhFSGEERkD8AXvMAP49QOPtANJkATtADooWsI8CREDcW8\\u002f9voNBQADPytotgUBAmtU+ZTgCPkDQKnt+CuZFQC6Er8tqhUZAQPMnKmj+QEDUM+gRiAFDQEDzJypo\\u002fkBAriFCnkkCQ0BAF3hsMPo5QH5g8gcmf0BA7ebsgsICOUDI7FfB2wI5QIkes2Y5BjpAQys+zRWAQECrKI2PTKBDQNsRd8QdAUNA1\\u002fHr+HX8PEDX8ev4dfw8QB8X8Hob\\u002fTlA6mjzPsUFPEB+YPIHJn9AQBcbuB2Q\\u002fztA4+UUvJwCQkDqaPM+xQU8QJofFikDf0FAkh6onN0CQ0B3axYouwBDQG5lEJefAjxAzl6BfbL8PECtwfBF7MNMQItOCJfoBD1ABlnIQhYCPUCb6qRrDFpBQCtaOANCiVNAUmpfVp+dUUCCR7u5eE5RQMaBP6eYVVFA5xS8nIJ3SkCbscI0En9GQHoLJ+uF+kJA2f4czHd6SEAdHh4eHn5HQNA6g16K+UZAGCbcPx56SkBEUvbTqi9wQAEAAAAAgEtAkCRJkiSRS0D51Iv51ItJQAyRdW\\u002fDgEhAv+1ycZb5SkCiO309VAVKQJIsHJwzAzlAZQAr+SR0TEAN0PkXA3RJQNab3vSmd09AIl9yFur2RkAqq0Fj9wdRQEid8kedckdAXMe0qK19RkBv4VdjIr1TQH59fX19fUhAR5\\u002f0SZ\\u002f0TUD9dqkn47dDQEtc6d6AMkxAfUsKDZn9QEDk7iiyN+4+QPf19fX19UpAuI14X\\u002f+DSkDuiDvijnhLQFA5u4VfjUhAvM\\u002f0PtP7SEBJhv3ryIJKQAEAAAAAgEtA\\u002f2050+EoUECggYnkMvtIQDIIwyG9+1ZAAAAAAAAASUBs4DOGo0VQQBE7KId1fEpABNp6xgELTUDqfqln2H9GQB8nWq7ffUtANhgQjzCTTkDnFLycgndKQF1RV9QV9VBApda1VzOISkAN0PkXA3RJQOyBWV0Qy0tATl+cORWBRkByqe3s4fxKQM7zPM\\u002fzfEpAU\\u002fQOgcYBSkCm7pbdR4FJQNdXjgvxqUlAECq9UZF\\u002fSEDY19fX13dHQC00t1N59EpAjIM8glWnUkCJfNYNpvhJQBPphGNYf0dALTS3U3n0SkAmY\\u002foJYBxNQGlVumO+gkhAhEQrbA40TUBw4MCBAwdKQEid8kedckdAn28dJff\\u002fSUC7E+Q7bQBJQLb0cw5VAEdA0DqDXor5RkDQOoNeivlGQND7jOQhyk9Ab8w1soj\\u002fSEALDQy9LrVPQLz8MzGDh1NA2f4czHd6SECgdB\\u002fPFIVJQBycXHxsdEtAtXyuiGKAR0DOyYPzqgJJQNP3zyUekVBAjbGFHYZ+SUCxP14Go4BIQJDxNwdk\\u002fEZAZhJXQTuBSEBJtQBKtQBKQPLKJ2I2l0tADuwdUwPrYUAfl779lQlLQC9kIQtZCEpA97pio6F7RkCzW\\u002fjVmIhIQA3Q+RcDdElAfcmrycz9R0BJzYyB539GQHl4eHh4mE1Am1ryNKOBSUCjk0yE2\\u002f9KQNpDcEuqf0hA907M7DF+TUCucFH6NX9LQFOJqcRUokxAIm60HPN9SUC+nWDOJLBQQG7ND4uUAUtA0F9hVqOISkAR5jwufftKQLmjXphWHVJAc1cpJuiuTkCxEzuxE3tJQNmBYivUhEZAdwbMyGJ+RkDxqgZlxPxGQIIHLQ5V\\u002fklAMRdIeOuBSkAcnFx8bHRLQPaHf\\u002fiH\\u002f0lAL2LEiBEDS0Ca4At4hqpMQN\\u002f+20jJdktAFkowvfZZVkCeQI5M+npNQKfa6qb1TldAkCRJkiR9RkC1tLS0tHRHQN0Rd8QdcUtAoOMvXw\\u002fGTkD0GsprKP9HQH59fX19fUhAc9Bmh5j\\u002fR0DRrdqGCAJHQJsDMv7mgElAAQAAAAAASEAf\\u002fehHP\\u002fpGQOjAtoTpfklApda1VzOISkBZEt7Lon5LQMQTv7CWfkdAmctoLqO5YEAAkQJEChBJQLE\\u002fXgajgEhAjZSBp1vzR0CxP14Go4BIQIP2EtpLKEpA53CrWSmBRkAxF0h464FKQH59fX19fUhA7Y0zwNt8SUBYwFoBawVIQDQ00tvg+0lATHOueEwAS0AqHutwikdUQHn9bLEyfEpA5n87CuauS0AiEr3MOABKQAyRdW\\u002fDgEhAs5fQXkL7R0Af\\u002fehHP\\u002fpGQCuChpO6L1VAtvajBK59SUDsPQR0C4ZIQAyRdW\\u002fDgEhAtvajBK59SUBU3mXtdHxHQA+UZtON\\u002f0dAli1btmzJUUDowLaE6X5JQBZKML32WVZA\\u002fRaPBD8ASUB5mUDt1YBIQJBavdHNf0dAinzWDaY4UUAPCvl6g4JJQBCbD5sPm1dAYrE3Y+QIR0BUQPuayR1RQFGFvvXJAEtAH\\u002f3oRz\\u002f6RkC\\u002fPvoU5XpGQLC\\u002fZS6Wc01Aq+J2Tp99R0CgxXQW0xFbQCJJkiRJhEZALSoX96B\\u002fRkDiUtgISQNIQDHiCj1LFU5AWGKA4BasUECw\\u002frYY9shRQAr4hVt7o2BAjzeyOa8KSUDG1Q86KvBGQEsHNrPSgUlAUl5DeQ3VUkD2LLcD1sBNQA+UZtON\\u002f0dAcODAgQMHSkDpllIXD1VOQDHxHHT59EdAAQAAAAAASEDZgWIr1IRGQA+7ldMpe0hA\\u002frK5i69+SkCjSoI\\u002fKXdHQEYY5CzZ\\u002f0pAGUyRz7qBSUAMlOIJ6f5JQHAfwX0E90lA+IO4BoeBS0AhplRIXv9HQN+aHxYpA0hAsyZqpJgBSEDUNE3TNE1RQEHaH+2PdlBA\\u002f\\u002f\\u002f\\u002f\\u002f\\u002f9vR0AOKAkYn4FIQN9pq14fiEpAAAAAAAAASUBDdP98L4VIQCFKNxxJgEZAs1v41ZiISED\\u002f\\u002f\\u002f\\u002f\\u002f\\u002f29HQAAAAAAAAElAde8maIP\\u002fSUC9wrws+X9JQIPfszfwe0ZA7B1TA3sHS0BKXBYLCVZRQMPDw8PDe0dA1ekVC3V6SUCzZyAqHdlLQGUSvWcSfUdAzLujhyD+SkByZ7vxI\\u002flIQACokgtC50tA4OtY1lJlUkAvQmRf8gFKQC33NMJyD1JAgLRJ039\\u002fSUCFUlB0jIBbQAIAAAAAAElA7Y0zwNt8SUDuU3RldgJJQAIAAAAAAElAPyMukAIISUD\\u002fN4NQqYBLQLETO7ETe0lAlj7iXdMMSUCIIfyd94BJQMUlJlRuAkdALP7rI4v6R0BwH8F9BPdJQNm2bdu2Z1ZANClZtE9+RkDLnP4hP3VIQDLIOmaQdUhAkWL5rdOAS0DdOg2kWH5LQDQ00tvg+0lA0n8GFueAS0DVqruBMlJLQN0Rd8QdcUtA7wbKSEl8RkAEL6fg5ZRPQPLoshxUfUtAO\\u002fnBnMfFYUDls12OovxgQEtLS0tLu2JAUZSPQP8AR0CpTW1qUxtRQDMjZofQAEpAnOjxpEyARkAvYsSIEQNLQGd2DIiiA0pAM+UDdXMRUECbscI0En9GQHd4eHh42E5A+S4cRI8HY0AAAAAAAABJQDo4gkjrBUtAw1hj731+RkAqasHjxf9JQD17YBzM\\u002f0ZA51wZzot8SEAxUjG3OoNIQAAAAAAAAElAMnt\\u002f+SUPX0Cv2VGLkN9XQEVwH8F9hEhAtbS0tLR0R0DQX2FWo4hKQB6BJ0bZAUpAAAAAAAAASUD4gVpIoQdLQB6F8dkOkE9A7q1DVhP0UEDIxRrqEP9KQAzlNZTX+EdASYb968iCSkCpA76jfLxQQAAAAAAAAElAgSJHAUWOUEDegmucefxRQDyxEzuxE0dAnmyyySabSUAwLEZCaeNJQLNb+NWYiEhAoHQfzxSFSUAH3WJSb4dIQAzlNZTX+EdAP9nuWDx7S0DpllIXD1VOQK31oGDVVlBAQ1Lh+dh+SEBFcB\\u002fBfYRIQH59fX19fUhASJtqMg2ASkCgiy666AJHQOw9BHQLhkhAXuvOB5Z5R0DSfwYW54BLQDEXSHjrgUpA2LOcZOQCS0BIYy9L\\u002fIFLQAsvqF88fkpAjzeyOa8KSUBDvT2S38ddQJQmTZo06VZAG1DXfIrsTEAAAAAAAABJQDMt267veUtARiMY6GgES0BpOSfHc\\u002ftHQF7QF\\u002fQFfWJAJ5IsengBSEBnEEAKaAZJQPiDuAaHgUtA+nkSb7D8RkDV6RULdXpJQN06DaRYfktAVBplqTx\\u002fSEBwetOb3hRkQA+UZtON\\u002f0dAaWAmeknBZUBRlI9A\\u002fwBHQI\\u002fuEKn3\\u002fEdAftU2u4PCUUC\\u002fPvoU5XpGQPiBWkihB0tAtbS0tLR0R0Bcx7SorX1GQEadXF4En0pAklMnuGW3ZEAN5TWU11BaQHffFB5va0lAj9jd\\u002f7X\\u002fSUAMlOIJ6f5JQB\\u002f96Ec\\u002f+kZAbElb0paUUkCw2LCtdRNQQBZcfGh5+0ZAD5Rm043\\u002fR0BAMFUsAmdRQMRR9JNY80lA1aeC1aeCRkAabWi0odFQQL0LB9Hje0hAjObdFCF5TUCQV7AGERRLQNlZLunfCmhA+nkSb7D8RkCdTRVCMP5IQHBfXWcMxGFAZxBACmgGSUByZ7vxI\\u002flIQGd2DIiiA0pAOHwt3pX5R0Bn\\u002fRn8JnpHQMPDw8PDe0dACIIgCILgW0Cr4nZOn31HQKgVLPVppWJAiCH8nfeASUDf\\u002fttIyXZLQLfyfwW5Y2FA2f4czHd6SED+PL0ewLBNQIC4UHMSiEpAtbS0tLR0R0AP9f0M9f1IQB7c2ANKf0dAnPkP2GMGSECJoiiKoihKQJMmTZo0WVpAt4OnmPo3UEC\\u002f7XJxlvlKQF423sMyfUdAc+8maIN\\u002fR0BPSf4Rw39GQOmWUhcPVU5A7nIKXk6BSkA\\u002fIy6QAghJQFz1iyK5z0tAojt9PVQFSkDyLCP6gGpcQPRLv\\u002fRLD1dA3\\u002f7bSMl2S0AJ9wNgrP9KQM3Pd5xsgEZAQzNhlk78SEDqdtyZ+39IQMNQu1uTf0pAMVIxtzqDSED4gVpIoQdLQPAi+BTIv0pAazyaP9h4SECj7H6j7P5KQP7\\u002f\\u002f\\u002f\\u002f\\u002f\\u002f0hAvz76FOV6RkDlv\\u002f7KIoBLQDty7qooAEpAa+3YeFYFSUA+0edFo31HQOg3GVhrf0hAcme78SP5SEDSfwYW54BLQKxBU\\u002fo0E1BAeJOAfh2ATUBwH8F9BPdJQHXvJmiD\\u002f0lA3\\u002f7bSMl2S0DZ\\u002fhzMd3pIQInmdHKehktA3\\u002f7bSMl2S0Afl779lQlLQFUY7Js6iklAvHbOBtaCS0DfaateH4hKQGvt2HhWBUlAZUQfUB17RkB17yZog\\u002f9JQI2Ugadb80dAYrE3Y+QIR0CzW\\u002fjVmIhIQAAAAAAAAElA7nIKXk6BSkAMlOIJ6f5JQMFUZpGW\\u002fUdA3ToNpFh+S0CAo+x+o2xHQJZNkURXhklAt5baeWQ8TEA\\u002ftrXUziNbQEsHNrPSgUlAdwbMyGJ+RkD+\\u002f\\u002f\\u002f\\u002f\\u002f\\u002f9IQAv9isrFfUZAAQAAAACCSUC5Ehhoqv9HQMy7o4cg\\u002fkpAOHwt3pX5R0DFJSZUbgJHQG3jVu3fAEhAKH+Tv8l\\u002fSED+NTtqEXJKQN2ZjBavfEZAbCivobwGR0Afl779lQlLQAsvqF88fkpA0e8l9k6DS0C+Bq4mfn9HQBxZcLtwgUZAH5e+\\u002fZUJS0BuzQ+LlAFLQG7ND4uUAUtAAAAAAAAASUBZx\\u002fzmW41NQAKzPCYd\\u002fkpAchbTWUznTEC29qMErn1JQNmBYivUhEZAo4BD87n+SUACAAAAAABJQK2ewnoK60xASXWIDXwGU0BH2CwHfIRRQC8ntzGgIFFAGDYHEq0AS0AYrLeZiOxPQO6IO+KOeEtAAu1IoB0JSEBOIqRa1oFKQP7\\u002f\\u002f\\u002f\\u002f\\u002f\\u002f0hAOxFnROP+SUDsPQR0C4ZIQPnUi\\u002fnUi0lACBC1QroOSkCHMFUHioBLQLNb+NWYiEhASbyHi2r\\u002fSUCnOVc8JoBHQEzWO4IqAkhACUEuVZoBSkDy6LIcVH1LQJIX3tipAkpAkhfe2KkCSkDgIx6vqwJHQDFftP3Ue0lAQCAQCASCSEDfaateH4hKQIlyAtEfXWFAniRuTQb\\u002fR0BtY266Qf1IQET43QMRfkZAwR+3Lu8ASkBOIqRa1oFKQIXOYIXOgEdAlu8mv+GASUAdQdOSQX9IQA\\u002f1\\u002fQz1\\u002fUhAoryG8hr+R0BGtViYrH5KQFjAWgFrBUhAzvM8z\\u002fN8SkDFJSZUbgJHQPe6YqOhe0ZAH5e+\\u002fZUJS0CAkH3Y8HtLQE9J\\u002fhHDf0ZACy+oXzx+SkBzV+Wmyf9KQGXaTk7RgEhATWNu0SyAS0DnXBnOi3xIQE1jbtEsgEtAqXvQIjp\\u002fR0BUGmWpPH9IQDr65uibg0tAPJPoPZOoT0Bmf6OG+TZMQAELLLDAAkdA7A0K+XqDTkB4vj1a5oFKQPCzAu+zgkdAeL4ofsp9SUC46agcuf9GQDFftP3Ue0lAK9dzMIl\\u002fRkBqYaWnFlZoQGwor6G8BkdAT0n+EcN\\u002fRkBw4MCBAwdKQN06DaRYfktAYItmlCFHUUBCQUFBQQFfQGcQQApoBklA0mkGjEYER0AEnGbcoy9fQAzlNZTX+EdA6MC2hOl+SUDWILcw239LQEmG\\u002fevIgkpAIOdKW3x\\u002fSkDQS\\u002fVzwlpQQL\\u002ftDReQBFBAE3G5yXOASkDKizK7Ln9KQENjfWisf0pAHR4eHh5+R0BwH8F9BPdJQAMAAAAAAElAIShquo4DSUATcbnJc4BKQAAAAAAAAElAjbDc0wjLU0AUcWxI8Q1IQB+Xvv2VCUtAL2LEiBEDS0BYwFoBawVIQPp5Em+w\\u002fEZAAAAAAAAASUCzl9BeQvtHQPUj\\u002fh6mhEZAWMBaAWsFSEANGi7XFP9HQGd2DIiiA0pAj7L7jbJ7VECu+Iqv+IpXQPp5Em+w\\u002fEZA6DcZWGt\\u002fSEB\\u002fB6yy+XpKQI6LOfeDekZA9BtcNSR9SkB4y\\u002fpG8gBHQJcjY6wQAUpAjWG3viz\\u002fSkAhbNgKjn9HQDZAY5kb\\u002fElAAu1IoB0JSECSfE29c4JGQFEWQabt\\u002f0pA3\\u002f7bSMl2S0D39fX19fVKQNJpBoxGBEdA2NfX19d3R0Br7dh4VgVJQPUk38dqdkdAUYW+9ckAS0D+NTtqEXJKQICl1JadBEhAeV6tBE0FR0BFcB\\u002fBfYRIQMhctcR6gEhAR+3j1UCBS0BBqsj+WfxJQFEyp4ShAEtAp7\\u002fy39ACSkD2HRcv2wBKQPnUi\\u002fnUi0lAJNAPHaSASkAYC\\u002fAGVkRPQLW0tLS0dEdAcf7FAJ1\\u002fSUAgs+tuNwBIQICQfdjwe0tAplKu8gt5SkAUq6LEtgFHQCJlL46q\\u002f0ZAAlzT2OJ\\u002fSEDlL6C\\u002fgP5JQKuqqqqqfklAPGT7CxR\\u002fSkDVc0zWcwxXQJdT8HIKfmVA5eUWkg+CSEA9NNaHxnpKQNY58I8eyWZA1\\u002fXE2V58S0ARuwYtYtdYQPuwvgFTkWVAVf0a\\u002fHYAS0BRhb71yQBLQM\\u002fzPM\\u002fzPFlAZAvUOxl6SUBkdRn2Sn9JQC6Er8tqhUZAAQAAAACCSUD2LLcD1sBNQMy7o4cg\\u002fkpAWTUO7cP6RkDV6RULdXpJQEhjL0v8gUtA2NfX19d3R0COizn3g3pGQD0ReIHxfUpAKTVXssuARkDO8zzP83xKQEaBSafmAUdAo4BD87n+SUCr4nZOn31HQDFSMbc6g0hAYrE3Y+QIR0BsKK+hvAZHQFPks24wxVFA2YFiK9SERkAs5CID2H1HQDze4z3eg0lAL2LEiBEDS0CjgEPzuf5JQNiwrXUTBEtAHoEnRtkBSkAt0AIt0IJKQB0eHh4efkdAQkFBQUGBR0DY19fX13dHQLZQec95gkZA0DqDXor5RkCnv\\u002fLf0AJKQNC9hY53fUtAtlB5z3mCRkBlEr1nEn1HQL8++hTlekZAHR4eHh5+R0Bx\\u002fsUAnX9JQDNmItLnylJA\\u002f\\u002f\\u002f\\u002f\\u002f\\u002f9\\u002fR0BuzQ+LlAFLQNmBYivUhEZAH\\u002f3oRz\\u002f6RkD9rhY3Yf5KQJTXUF5DAUhA3\\u002f7bSMl2S0BwHMdxHAdIQL3CvCz5f0lAAgAAAAAASUCr4nZOn31HQKI7fT1UBUpA\\u002fv\\u002f\\u002f\\u002f\\u002f\\u002f\\u002fSEApNVeyy4BGQENf0Bf0hUlANDTS2+D7SUBRMqeEoQBLQNCeyg\\u002fH\\u002f0lA9x7Zf2aASUBlEr1nEn1HQK1evXr1Sk9A6ZZSFw9VTkB\\u002fB6yy+XpKQIjpAYjpAUtAiyk7oNxqTUDnFLycgndKQNmBYivUhEZA\\u002f\\u002f\\u002f\\u002f\\u002f\\u002f9\\u002fR0C4jXhf\\u002f4NKQMuc\\u002fiE\\u002fdUhADdD5FwN0SUC82m1QVohKQGUSvWcSfUdACDAsFP7zSEAWXHxoeftGQAzlNZTX+EdAIBrrQ2N9SEC\\u002fPvoU5XpGQOMbiC5V\\u002fkdA3uUUvJyCS0BjCNbR5n1KQHi+PVrmgUpAHUHTkkF\\u002fSECggYnkMvtIQL8++hTlekZAYxfpTwUAS0CXI2OsEAFKQCk1V7LLgEZAzm7hV2NCWkACz01mP4xaQGhpaWlpgVlAj+4Qqff8R0AM5TWU1\\u002fhHQP9tOdPhKFBA2f4czHd6SEAsqa2kttJSQBSrosS2AUdA6MC2hOl+SUABAAAAAABIQICj7H6jbEdATL5Z4XJ\\u002fS0Ba8VQTw8dLQHAcx3EcB0hArQkdVwUQUEDtE6Bt8JpUQPaEPWFPmFJA2oanqtv\\u002fSkAeLPhT2ABKQFP0DoHGAUpA3ToNpFh+S0DdOg2kWH5LQJkWyr5ZekZAQlEnlxeBRkDQvYWOd31LQCXR1sxifkhA2rZt27YRTED0G1w1JH1KQAyRdW\\u002fDgEhA0J7KD8f\\u002fSUByOavHjoBHQDEXSHjrgUpACVafClafVEAsIATMW3tGQL51GkixfEtA5ow5Y86YUUApNVeyy4BGQGMZQ79kAEdAvNptUFaISkAWXHxoeftGQId+8eXoBUpA0kDTUOZ\\u002fRkAzLduu73lLQDbMCbJohEpA97pio6F7RkAzLduu73lLQFjAWgFrBUhAIaZUSF7\\u002fR0DQvYWOd31LQEj3o\\u002fvRfUhAvNptUFaISkBkC9Q7GXpJQKvidk6ffUdA90xEhw+ARkCivIbyGv5HQN4J5wJTeUpASAfbMe8tWEDx4XjtWfpIQGQL1DsZeklA35ofFikDSEC\\u002fDPm9DHlHQHAfwX0E90lAhRU6gxV6R0Bcx7SorX1GQAAAAAAAAElA4lLYCEkDSECFzmCFzoBHQBLgP4D\\u002fAEpAWxOBXBMBV0BJhv3ryIJKQJsDMv7mgElAXaf0j+0JSkAgs+tuNwBIQDNxprUn\\u002f0pAPLETO7ETR0CrkPZIVJZHQINzld2WgEZAMwzDMAyDR0DnXBnOi3xIQGUSvWcSfUdAAgAAAAAASUBhNAOelgJLQE8bOb3o\\u002fUdAo5\\u002fEmleqWUAs\\u002fusji\\u002fpHQDsRZ0Tj\\u002fklANtP6fhqASECzJmqkmAFIQImTh9Yz30tAvu\\u002f7vu\\u002f7RkAgxfJbp4FLQMFUZpGW\\u002fUdASYb968iCSkBCQUFBQYFHQNW797SlfUhAkCRJkiR9RkAWXHxoeftGQI4GCyDlAUhA9od\\u002f+If\\u002fSUBlEr1nEn1HQDLE4ZN6AUtAplKu8gt5SkDl+v4yCgJHQH813e6EAEdAchbTWUznTECYCZMfLpFMQNiznGTkAktA1ekVC3V6SUAhSjccSYBGQIiZt0FKUFRAINix4aWwVUCW0F5Ce4lIQBZcfGh5+0ZAu2sdbF\\u002f+SED50s5uQgBKQK5ix00ifUtA4xuILlX+R0ADPgJNpH1JQO32QwJv\\u002f0ZAFF6CqTWCSUADAAAAAABJQPor2lgp+0ZAxFH0k1jzSUCAuFBzEohKQKvidk6ffUdAcB\\u002fBfQT3SUAtNLdTefRKQHJnu\\u002fEj+UhAECq9UZF\\u002fSEBIYy9L\\u002fIFLQGcQQApoBklAAz4CTaR9SUAMlOIJ6f5JQLZQec95gkZAsqRuNaCBSUDvBspISXxGQAzlNZTX+EdAtlB5z3mCRkAeKtKzmQFJQIqsFjoigUhA2dsJ5kwCS0DO8zzP83xKQNXpFQt1eklAHR4eHh5+R0AvZCELWQhKQNiwrXUTBEtAn5IyO03nVEBuzQ+LlAFLQNHi1JOCf0dA+dLObkIASkCzOLrfnYJIQMUlJlRuAkdA\\u002fXaDCOkDUkAcnFx8bHRLQPSdjfrOhktA9J2N+s6GS0By4ciPlv5IQDWPpF\\u002fdeUlAVwiltXiASkDQvYWOd31LQPyOXhnb\\u002f0lAbrmm1TCASEBpOSfHc\\u002ftHQOd2Ko8O\\u002fEpA1Sl\\u002f1Cl\\u002fSEDSoUGm0nxKQFGFvvXJAEtAtbS0tLR0R0C\\u002fDPm9DHlHQP\\u002f\\u002f\\u002f\\u002f\\u002f\\u002ff0dACy+oXzx+SkBpOSfHc\\u002ftHQB8nWq7ffUtAMVIxtzqDSEDFJSZUbgJHQKprObjZ\\u002f0ZAE+mEY1h\\u002fR0BsKK+hvAZHQG\\u002fwvjWyekZAIShquo4DSUAaSCvCM\\u002f9HQDrt+MHzgEpAeVMGNQyASEBE+N0DEX5GQALUKDmDhElAAwAAAAAASUCosshO1vxGQIroweB4AEdAC\\u002f2KysV9RkDwH82NioBJQD\\u002fZ7lg8e0tAGYyYTJmDSUB5tUWuMwFHQN06DaRYfktAwYWak0D8SUAPCvl6g4JJQLUARdrjf0lALKmtpLbSUkDngtJjgQBKQOeC0mOBAEpAGrbLWmCAR0CQ8TcHZPxGQNXpFQt1eklAFiYt4Kp+SED+\\u002f\\u002f\\u002f\\u002f\\u002f\\u002f9IQAUZwPI8gUlA6BAteEABS0ALL6hfPH5KQN9pq14fiEpA+IO4BoeBS0DDAvF17fZKQNHvJfZOg0tAKwGtBLQSUEAvZCELWQhKQFk1Du3D+kZAZUQfUB17RkBnEEAKaAZJQFjAWgFrBUhAEvmsG0wBSkA6OIJI6wVLQGjPyfRVgktAU+HiuU+ESEAr13MwiX9GQENf0Bf0hUlAZFwJJXGCR0CJfNYNpvhJQO3DaqFWAEpADJF1b8OASEAr0plNuX9JQK5z1X1KgEhAWXnirpEDSkAC7UigHQlIQLMmaqSYAUhAcW7iETGASkA4PFfVkv5HQOEvOyyaf0ZASYb968iCSkBRlI9A\\u002fwBHQEhjL0v8gUtA7og74o54S0A4zGEOc5hMQN+aHxYpA0hAjq81O9veV0AN0PkXA3RJQGC6KxtAi0hAag3kJHOlUkA6cODAgQNHQEHNdHyvg1BAcf57U96ASUCypG41oIFJQN2ZjBavfEZAjhPTxuX1UED\\u002fCawm3aBQQLuXy5L1rUtA7C6K6LoLU0Dxuvu8wq1QQPF7uymHpVdACY7lIoB+SEDsOsuY7YBGQB0eHh4efkdAAf0F9BfQT0BQwbL2DnNQQNWngtWngkZAxFH0k1jzSUClw5DJuSFXQBYh+8Wu9FBA4lLYCEkDSEBhMHf0W\\u002f9GQOX6\\u002fjIKAkdAZRK9ZxJ9R0BguisbQItIQC00t1N59EpAyTi8q8d0TkAibrQc831JQBSBXBOB\\u002fGJArV69evVKT0C1tLS0tHRHQKB0H88UhUlAamjuGV0RTEAPu5XTKXtIQM0SShwwxU9A9BrKayj\\u002fR0AD\\u002fMKtvbFLQI\\u002fuEKn3\\u002fEdA8eF47Vn6SEDVmEgPVO5QQDn4XKLaV05AK9dzMIl\\u002fRkBndgyIogNKQHXvJmiD\\u002f0lAbnxhlysDS0D+NTtqEXJKQPmwNrmDT09AeL49WuaBSkDFVnvEVvtQQDZAY5kb\\u002fElAcBzHcRwHSEA\\u002fIy6QAghJQFRVVVVV9VJAb\\u002fwvq7MhUUD\\u002f\\u002f\\u002f\\u002f\\u002f\\u002f+9UQP7\\u002f\\u002f\\u002f\\u002f\\u002f\\u002f0hA8uiyHFR9S0BvwTXOPP5HQGlVumO+gkhAYqBfoF+gS0DDAvF17fZKQODYpVEggktASbUASrUASkDtzJ4NPFpXQC9kIQtZCEpA2YFiK9SERkA83uM93oNJQMb8gAc5fkZAgKXUlp0ESEAsIATMW3tGQM7zPM\\u002fzfEpAM1RuWZ0AT0AeHh4eHhpMQGk5J8dz+0dA3HNXpsYRT0CPuCPuiHtVQEN0\\u002f3wvhUhAM1+aOIzVUECMoOGk7gtIQLOeNFoIfE9AZFwJJXGCR0AAAAAAAABJQHj9uRkdJVBAM0sIPxLxXEBrPJo\\u002f2HhIQPGGvCFvyE9Aq+J2Tp99R0D50s5uQgBKQMuheUWvAUlA+IO4BoeBS0A\\u002fIy6QAghJQEid8kedckdAijZSni9\\u002fSUBU3mXtdHxHQJIsHJwzA0lAArykR9OBR0DvBspISXxGQL8v3Nobq0tA1g2myGc1UUBFiOxLPsBOQMMC8XXt9kpAqQO+o3y8UEAeKtKzmQFJQF+nw3\\u002fvfElA7wbKSEl8RkCP7hCp9\\u002fxHQNxS\\u002foJx\\u002fklArAlaGZKOSkCznjRaCHxPQDNfmjiM1VBAtOK68md8SUA9fQY86z9bQFOygyhBT1JAc1flpsn\\u002fSkAAvjKlUdZRQHd4eHh42E5AVN5l7XR8R0CkwQm+gGdQQJS0JW1JW09AE3G5yXOASkCD37M38HtGQHm1Ra4zAUdAtlB5z3mCRkCV10qu2X9GQK1EMIyFJ2FAElWDtTUTUUAx8Rx0+fRHQHlerQRNBUdA3RF3xB1xS0AAAAAAAABJQF0W8QmkkktAAAAAAAAASUAvQmRf8gFKQPA3Qen9pl9ANClZtE9+RkDdEXfEHXFLQAsvqF88fkpAOY7jOI6jUEBQP098QH5JQGvt2HhWBUlAeV6tBE0FR0Boz8n0VYJLQLLw\\u002fJgeBmNALdACLdCCSkC9CwfR43tIQJaedYpy\\u002f0dA\\u002fv\\u002f\\u002f\\u002f\\u002f\\u002f\\u002fSEC3cav2b4BoQDUM5vkMg0lALP7rI4v6R0BlHWi7t0pPQEId1EEd1FFAgLBk8k0DSED\\u002f\\u002f\\u002f\\u002f\\u002f\\u002f29HQBLINRHItUtATX\\u002fGBT7+SUDUN5IHsPxKQGhpaWlpgVlA0UUXXXSRSUCDAwcOHPhKQLtXbJAPblFAnMhuIrvJXUCn4OUUvMxWQNZeKD4C51VAbORAWDB\\u002fVkBkC9Q7GXpJQA+UZtON\\u002f0dAsjzdZDz+SUBPSf4Rw39GQGs8mj\\u002fYeEhAfC2Cw6zrZkC82m1QVohKQHJnu\\u002fEj+UhAcBzHcRwHSEBUwepTwepTQEhjL0v8gUtALNiCLdiCSUBIYy9L\\u002fIFLQIwQ2Zd8wFFAo+x+o+z+SkDUN5IHsPxKQGlVumO+gkhAatu2bdu2TkCU98VTz3dLQAzlNZTX+EdAjIM8glWnUkCgdB\\u002fPFIVJQPMt3\\u002fIth2FAHydart99S0Ap+twtE3NQQAAAAAAAAElAqms5uNn\\u002fRkD0G1w1JH1KQNZQuWV1AkhASXWIDXwGU0AAAAAAAABJQJ+YR09BiV1A4xuILlX+R0DGtrsa5F9UQCzkIgPYfUdAAgAAAAAASUBCQUFBQYFHQJDxNwdk\\u002fEZARPjdAxF+RkBYWjGTjn5LQKHJlw2a\\u002fEZAuI14X\\u002f+DSkD9ZuvQb5ZlQDEXSHjrgUpAOb3pTW\\u002f6SUDdOg2kWH5LQKfa6qb1TldAtvajBK59SUC7ax1sX\\u002f5IQFjAWgFrBUhAgUvpt5R+S0CCBy0OVf5JQMjFGuoQ\\u002f0pAm7HCNBJ\\u002fRkCdXV6CMABIQI60yqapyE1A81k3mCL\\u002fSUAf\\u002fehHP\\u002fpGQAsUKWlAtFBAysHNfiFWS0AglZyXRXxJQNJpBoxGBEdA\\u002fv\\u002f\\u002f\\u002f\\u002f\\u002f\\u002fSEAAAAAAAABJQPOhsT40Vk1Aw8PDw8N7R0Asqa2kttJSQOcUvJyCd0pASbUASrUASkAiX3IW6vZGQK5ix00ifUtAfn19fX19SEC\\u002fPvoU5XpGQFTeZe10fEdAaVW6Y76CSEBaJ32NE41OQGKxN2PkCEdA+dLObkIASkBPcxKIC\\u002fVJQCGmGs7PhVBA\\u002fv\\u002f\\u002f\\u002f\\u002f9\\u002fRkCWnnWKcv9HQLV16Ddbh0tA4vd93\\u002ff9SUCdSCt4HgdJQGk5J8dz+0dAoIsuuugCR0D+\\u002f\\u002f\\u002f\\u002f\\u002f\\u002f9IQJ9uyI7Qf0dAiOkBiOkBS0CpnnAseuhIQE4ipFrWgUpAArM8Jh3+SkDnC\\u002fqCvgBVQFAdQMxen1xAo\\u002ftIzBGvTEBrPJo\\u002f2HhIQFEyp4ShAEtAXxfeAsj+SkBJtQBKtQBKQOkLeKyNUFBARtwRd8SdUUDe5RS8nIJLQG65ptUwgEhA\\u002fjy9HsAwUUATd8QdcYdGQLW0tLS0dEdAUYW+9ckAS0CP7hCp9\\u002fxHQJuxwjQSf0ZA9sv26s\\u002f\\u002fSkC1tLS0tHRHQLMNbgxPuktAvu\\u002f7vu\\u002f7RkBHn\\u002fRJn\\u002fRNQBqUChPvR1BAYrE3Y+QIR0Bw4MCBAwdKQA3Q+RcDdElAgsrZLfxqUEAt9zTCcg9SQEjaW81E90hAEJsPmw+bV0Ak0A8dpIBKQCoTtkFwalJAiih3sjAhXEBiwCeHy4BIQKKsnpZqAkpADqw5NANKT0BrPJo\\u002f2HhIQCZj+glgHE1A3ZmMFq98RkAhKGq6jgNJQLW0tLS0dEdAvu\\u002f7vu\\u002f7RkADAAAAAAA9QGs8mj\\u002fYeEhADJTiCen+SUAQ2LSfLGFLQIlFysDTLVJAg9+zN\\u002fB7RkB5K\\u002f73vPpAQF+P1Yu2BUNAeOu8Ahp3Q0AHMpOppAlFQLIdPb2vfENAP+MiisUDQ0Bp0h8H44ZDQCUMh\\u002fTuAzxA3nCik9AUVUBdeaWriPk\\u002fQE9F8aMABDlAMjpKsGIqUECAkH3Y8HtLQO2NM8DbfElAxeh9J908Y0BlHWi7t0pPQP7x0LNHAFBAFiQ6wdN\\u002fQUBcw29\\u002fDAJUQC9ixIgRA0tAp49yzHAAPUCUtclgbAE7QChkzo17qFRAhc5ghc5gWUCgiy666AJHQN+aHxYpA0hA35ofFikDSECggYnkMvtIQMUlJlRuAkdAJjxW0iasS0DYs5xk5AJLQJrobZzlBEtAcjOEiWYCS0AwPCM10H9HQI31obE+FFFA+Eyi90yCR0Cf4y9fD0ZSQPthkTLwdE9AJNAPHaSASkC9KtYzOgBIQN5meJvhbVhAyosyuy5\\u002fSkDeZnib4W1YQFjAWgFrBUhAVIFgaZcAS0ACAAAAAABJQBeLCVi\\u002fPlNAVlVVVVXRXUDY19fX13dHQD8jLpACCElAsT9eBqOASECIIfyd94BJQN2ZjBavfEZAVRjsmzqKSUBHYYjDJ\\u002fVKQKXWtVcziEpAeV6tBE0FR0Bs5EBYMH9WQI\\u002fuEKn3\\u002fEdADJF1b8OASECFMtF+jgBLQDQ00tvg+0lAAAAAAAAASUAdanmLjQFHQD10m+oxtldAD5Rm043\\u002fR0AJjuUigH5IQN15Sh+TBElAM3GmtSf\\u002fSkCpfdqnfdpdQKGQrzcoZFJAJrNjQBSdVEDoEqzqPQBHQJupvT06gUpAC\\u002f2KysV9RkBm\\u002fIgpmANKQAAAAAAAAElAHydart99S0B8Nia9\\u002f35KQOfGy2aegEZAuTX8+aICSEBUgWBplwBLQJG5Q+YO+VFA8SwoWs0TTEBUGmWpPH9IQDWPpF\\u002fdeUlAPFazJ\\u002fl+R0A83uM93oNJQAY1aW4ff0lA0J7KD8f\\u002fSUAYNgcSrQBLQPNZN5gi\\u002f0lAszi6352CSED9svaxr4NLQG1jbrpB\\u002fUhAa4V0HYQBSEA4PFfVkv5HQB\\u002f96Ec\\u002f+kZAS3VqKaP9SUDXlDVlTVlZQJMQxV\\u002fkjEhAEdxHcB\\u002fBVUCqfnI9Mn9KQE4ipFrWgUpAOnDgwIEDR0AN0PkXA3RJQCBmc+lQg0ZAv+1ycZb5SkAglZyXRXxJQHm1Ra4zAUdATl+cORWBRkDxqgZlxPxGQOgQLXhAAUtAgKRgMgcBSkDl+v4yCgJHQP9Jcgr4f0pAea2c8Ex\\u002fSkDbFAU3bv9KQJwMNprmf0tAeL49WuaBSkCQj9RnsPxIQFU\\u002fA4ppBU5A0njSndOASECqg2fHmN9JQCvXczCJf0ZAGb7ONkGCSEDiUtgISQNIQGuFdB2EAUhAuDE03cF+R0CzOLrfnYJIQO5yCl5OgUpAPRF4gfF9SkDBVGaRlv1HQOUvoL+A\\u002fklAkiwcnDMDSUAYp8YFhIBGQAIAAAAAgEZAwVRmkZb9R0DtDfyevYFGQPf19fX19UpAAAAAAAAASUCdsCfsCXtLQGypM1tcgEtA6NBDGh+ASUDY19fX13dHQOXlFpIPgkhAPRF4gfF9SkDSeNKd04BIQHlerQRNBUdAde8maIP\\u002fSUDZ\\u002fhzMd3pIQIl81g2m+ElAqM0fzUJ\\u002fSED\\u002fSXIK+H9KQAAAAAAAAElA6mHhEOkCSUApNVeyy4BGQAEAAAAAgEtAAQAAAAAASEC2UHnPeYJGQP2y9rGvg0tAMV+0\\u002fdR7SUAYNgcSrQBLQNW797SlfUhADwr5eoOCSUAMvoFu\\u002fH9HQFkS3suifktAAAAAAAAASUD6NcVReYNKQOUvoL+A\\u002fklA2LCtdRMES0AYp8YFhIBGQFbbPK56\\u002f0pAZ2K1TUJ\\u002fSUAcNf9qk4JHQGE0A56WAktAD\\u002fX9DPX9SEDBVGaRlv1HQAE1dpkKfkdAeL49WuaBSkBsSP9sSH9OQGlVcCStClJAiZwg3I29VEAC1Cg5g4RJQNlW4w\\u002fs\\u002f0ZAtlB5z3mCRkBI2lvNRPdIQDMt267veUtAsRM7sRN7SUB\\u002fESyl\\u002ff5GQMgOViL1\\u002fEZAtYKlPq2gX0D51Iv51ItJQIiHh4eH52BAHaXbV1bvQkCLOw3KZYhDQIpNrt72AjlAzm01kRn6O0DtJ0tg035DQMq3fMu3\\u002fEBA6mjzPsUFPEBAfg74vARCQGKxN2PkCEdAq\\u002fQzp8GdR0AAAAAAAIBGQEid8kedckdAvwz5vQx5R0DEUfSTWPNJQGlVumO+gkhAxFH0k1jzSUBdfZO8vw5LQNWYSA9U7lBAAQAAAACAS0Cl1rVXM4hKQHXvJmiD\\u002f0lAFOKs\\u002fIT4RkCHWoURIntWQIMDBw4c+EpA0DqDXor5RkAU4qz8hPhGQI83sjmvCklAL2LEiBEDS0DV6RULdXpJQNjX19fXd0dAMfEcdPn0R0AvZCELWQhKQPiDuAaHgUtA9\\u002fX19fX1SkAZqPJsyINGQL8M+b0MeUdAHR4eHh5+R0CD37M38HtGQAEAAAAAgEtAvQsH0eN7SEDnFLycgndKQJuxwjQSf0ZAFOKs\\u002fIT4RkBDX9AX9IVJQB+Xvv2VCUtANClZtE9+RkBOIqRa1oFKQAyRdW\\u002fDgEhAKGTOjXuoVECxEzuxE3tJQPUk38dqdkdASbUASrUASkBInfJHnXJHQEm1AEq1AEpAVRjsmzqKSUBr7dh4VgVJQOcUvJyCd0pAsRM7sRN7SUCmUq7yC3lKQEhjL0v8gUtAPbETO7ETPEACAAAAABQ+QNN6AducLkZATolzRNUzS0DMigDTlhlIQL2EFWge7E1AzIoA05YZSECzCfkoAAI5QMFx+WNLAjxAZweaqvWUVkCzCfkoAAI5QNJpBoxGBEdAvNptUFaISkDkrp8tVoZGQLV16Ddbh0tAa7+jV8Z2SkDmCYjOV\\u002fdJQP3\\u002f\\u002f\\u002f\\u002f\\u002f\\u002f0hAAAAAAAAGSEBkXAklcYJHQAEAAAAAgEtAOb3pTW\\u002f6SUAJU105t35HQJbQXkJ7iUhAXX2TvL8OS0AIMCwU\\u002fvNIQOcUvJyCd0pAcme78SP5SEDXxYm3V4hGQF2n9I\\u002ftCUpAhbJCjH0AQUAjNcF4K\\u002fs\\u002fQA8Yv9zSgEFAN4L\\u002fOCz2Q0BwgVhv9+w9QIRfjYn0AEJADcpliKx7Q0AD\\u002fwD\\u002fAP9BQB2l21dW70JAKPk7s58KO0DtH8jhdPM7QM4+h9QE4z9ASd2Xx1YEQEC9y9rp+AdDQFygBVqgBTxACikwTJ7+PkDGTBHbZeRJQNNoR1+XAUBA651v0BIFQEC+AE8Y4Ak6QHuBe41X+T1Apt8pJMIEPkAwp+DlFPxBQGFU+BcV\\u002fj5Ae0PAduf\\u002fPkDZfb5ry\\u002fQ8QDCn4OUU\\u002fEFAeLNa12wCOUBxEQFzs3hDQCKBtx8SeENAJCY8ht36QUBA\\u002ffTTTz9JQAAAAAAAgEFAxR1xR9wRPUB\\u002faKwPjfVBQGrr5c0E9UBALWBM4uD9QkA\\u002fIy6QAgg5QAIAAAAAFD5A7FeMPeL3P0A9sRM7sRM8QEAXeGww+jlApYCEn1wIQ0A3lNdQXgNDQGTIsO9HBzlAu6+s3iUPPkBxEQFzs3hDQHERAXOzeENAf2isD431QUAAAAAAAIBBQGTIsO9HBzlAsaaLrb38Q0C799577\\u002f08QHglaleidkBAauvlzQT1QEBb1tXydfc\\u002fQEHpya\\u002fEAFRAJ2J1ZvEAO0A1vGILQGhKQPIkzGln\\u002fztAcvWDjgr8QEDcW8\\u002f9voNBQHoLJ+uF+kJAAwAAAAAAPUCJ3RZaSQI5QNMSpJe1BDlARtn9Rtl9QEClsHLXhvpBQAEAAAAAwEJAj+M4juMYQ0A4velNb3pCQMetvbH6Az1AMycUMC8AQkCvtAVRS\\u002fo9QIZrFiJ1AEFA1EdgJKr\\u002fPkDs34D1fRhGQCRJkiRJkjxANpTXUF5DPkCuIUKeSQJDQIMdhn6s+UNA6\\u002f3EMVvKQ0Ao3VaBBvs6QJK6L4+tCDtAKzj7Kzj7Q0AcGGTioHpAQF5kVqiN+zxASjX6SDX6PUA3H4PzMThPQA6XGPhdhkJAJEmSJEmSPEAwz3qMXPtCQARhZasLEDxAYowxxhhjPEAo3VaBBvs6QJK3AJO3AFFAcnywa4k9SEDCQfT4Lvw8QPNIfh+PAURAXRbxCaSSS0Bqhc2BRCtMQGQ+9WI+9UNAcREBc7N4Q0BifDzC+HhAQI7065ySAEFAuyC1hAj3Q0A1d+Mj2M1FQEPMhVaBsUdABijL7\\u002fZ9REDwy2MrgoZAQHccx3EcxztAYOlFnKj8O0BBWhYV8v5DQD\\u002fjIorFA0NALTS3U3n0SkC9CwfR43tIQL8M+b0MeUdA3ZmMFq98RkBYwFoBawVIQAAAAAAAAElALutA271VTkBQu4gt4IFIQI6LOfeDekZAo+x+o+z+SkCzJmqkmAFIQAAAAAAAAElANDTS2+D7SUDqaPM+xQU8QApDMf8U3jlA95NQ9JD+Q0C9lspUIf46QHIKXk7By0hAadKkSZMmQkD9WbaaNgQ5QO6PiVL+\\u002fj5A5Zrc4XtpQkCcWljpqQVEQON\\u002fkB8mBk5AlDVlTVmjRkCUiKzdTYlEQB7QgL\\u002f8AUFATG9605vmQUB4HaL753tBQITcxPLphUBA651v0BIFQECUtclgbAE7QJxaWOmpBURApgb2jqmBQkB4HaL753tBQOR3tbgJ8zlAZrsQZrsQPkA6RQtnQCg5QOG3FmWH+D5A9ZZm65f\\u002fOkAgNC70i69MQOOggA8pyk5A1B4bIqM9TkAXOoMVOkNJQPLbpZ6M\\u002fz9AKN1WgQb7OkBPRfGjAAQ5QL3\\u002fiBITgUNA9TfyDM3xQUD1I\\u002f4epoRGQGbHJHQQ\\u002fjlAzvM8z\\u002fN8SkAMvxoT6QFQQL6dYM4ksFBAg9+zN\\u002fB7RkAYA3T+xYBQQACRAkQKEElAAQAAAAAASEBWnTyq2HBJQGj9GfwmekJAAAAAAAAASUD3AYiobElSQNQDlbNbeFJA9SP+HqaERkAtNLdTefRKQGwor6G8BkdASJ3yR51yR0C1wb8tZ7pRQC00t1N59EpAjzeyOa8KSUAAAAAAAABJQCZj+glgHE1AcODAgQMHSkDDAvF17fZKQAsvqF88fkpAV9PQbKXvUUDdEXfEHXFLQEid8kedckdAcODAgQMHSkBYwFoBawVIQPUk38dqdkdAy5z+IT91SEAH3WJSb4dIQPz6+vr6ekdA35ofFikDSEBrPJo\\u002f2HhIQFzHtKitfUZArLVBf2SGUkAYA3T+xYBQQHH+xQCdf0lArmLHTSJ9S0A\\u002fxlhub\\u002f9IQNnvXnEqf0lAL2QhC1kISkDsPQR0C4ZIQJuxwjQSf0ZAwKWyveuASUDDWGPvfX5GQKuQ9khUlkdAElWDtTUTUUAa0QdUx55pQFf\\u002fTM9B7FNAPyMukAIISUAAAAAAAABHQN7Cr8ZEekhAKhO2QXBqUkAYJtw\\u002fHnpKQLC\\u002fZS6Wc01A3XsFlZB\\u002fUUD9st4v631IQBAPDw8Pz05AQH78+PHDUUAU4qz8hPhGQAEAAAAAgEtAAQAAAAAASEA+79S1HPxGQOUvoL+A\\u002fklAH5e+\\u002fZUJS0CHP25d3gFLQNZQuWV1AkhAWhYV8n4NSEDBRJkLaoBJQHLqMWW\\u002fAEdAnxGGGbB\\u002fSEBQObuFX41IQMMC8XXt9kpA47seyB9pTEBsKK+hvAZHQP\\u002f\\u002f\\u002f\\u002f\\u002f\\u002ff0dAHJxcfGx0S0AAAAAAAABJQNBfYVajiEpAchbTWUznTEA4fC3elflHQO8GykhJfEZAfxlofhloRkDiUtgISQNIQI\\u002fuEKn3\\u002fEdACy+oXzx+SkD\\u002f\\u002f\\u002f\\u002f\\u002f\\u002f29HQICj7H6jbEdAqms5uNn\\u002fRkCDAwcOHPhKQN7sO6l1AUpAKG8LGi2DS0AobwsaLYNLQBTirPyE+EZAVRjsmzqKSUCbscI0En9GQEJBQUFBgUdAQ1\\u002fQF\\u002fSFSUBI2lvNRPdIQBAPDw8Pz05ASbUASrUASkCyC4uRUFpTQN0Rd8QdcUtAAAAAAAAASUDowLaE6X5JQGC6KxtAi0hAAAAAAACARkCjJSDmyTFgQMMC8XXt9kpAH5e+\\u002fZUJS0C2UHnPeYJGQDSiYQVdY2NAAQAAAACAS0AMkXVvw4BIQGwor6G8BkdAAAAAAACARkDNzj\\u002fhx+xIQP\\u002f\\u002f\\u002f\\u002f\\u002f\\u002fb0dAm7HCNBJ\\u002fRkAAAAAAAABJQFA5u4VfjUhAEleZAuYDSkAAAAAAAIBGQJuxwjQSf0ZAGm1otKHRUED+xe9ZBYNLQM7zPM\\u002fzfEpAAQAAAAAASECDAwcOHPhKQEAIIYQQgkJAvMd7vMd7QECEAWdciwRCQM8GBI5fW1RACxsgRuN9QUCLTgiX6AQ9QLqNkpZEAEJApda1VzOISkDtoSnQEFREQBgwYMCAATtAs9\\u002fSxa79PkD8v+I5Q\\u002f8\\u002fQGa3ld7c\\u002f0BA8qpoMBP8P0AQNX4QNf5DQMOONXCjAzlAA1UPif+WSUBpsEJnsAJEQGCf8\\u002fblVkJA9uaK5Mn+QEAJVp1S3n9CQMVIre0q\\u002fkJAqtcWo8f\\u002fPEBnO2FThwRMQM5wUvfl8VtAXmRWqI37PEBAkMPp5utUQCcQIjebtlRA3pCh3SbzU0D3jm5EJ85RQFj+\\u002fVj+\\u002fUFAJq50b0CZT0AAAAAAAABAQPSdsO5\\u002fNk1A5DiO4ziOQEAo3VaBBvs6QLGmi629\\u002fENA\\u002fv\\u002f\\u002f\\u002f\\u002f\\u002f\\u002fPUCSAfVM5fpCQP2r27+6fUBA0p9Sf0r9QUAGotKRPYNCQBwFFDkKqFJA\\u002fXapJ+O3Q0CaHxYpA39BQCOPPPLIAz9AYVT4FxX+PkDHrPkSx6pHQGmC+uc28ElAXZHWRn4COkAkSZIkSZI8QBFz8A+WTEJAOBbNOhbNRkBQBHJNBPI5QEKiFTYHEkRAWFjpqYUVT0Bw+ZZv+dZTQCpK9MvfcFNAIJwqrTySVUBxwfBatUFJQBwYZOKgekBAsL9lLpZzTUDDTuzETuw6QGnSpEmTJkJAhNzE8umFQEBifDzC+HhAQLzBFPmse0FA\\u002fv\\u002f\\u002f\\u002f\\u002f\\u002f\\u002fPUCLug2bQPBEQBmIDsNHAURAfdBjWCx\\u002fQkCVnaP1l4BCQFS870VTADtAQH4O+LwEQkDatm3btm1KQId+8eXoBUpAt17eTFD\\u002fQEAvkZ\\u002fpUwU+QHPOOeec8zxAdT0zAAEFOUDhZhoNIQM6QPPggBSJfkFAMwTraPN+QED+\\u002f\\u002f\\u002f\\u002f\\u002f\\u002f89QH3hvfBeeENA3idwK5qBQ0BdMfpLMzZWQHj9uRkdJVBAXTH6SzM2VkBInfJHnXJHQFoWFfJ+DUhA+dSL+dSLSUBsKK+hvAZHQL0LB9Hje0hADdD5FwN0SUAYA3T+xYBQQJ\\u002fneZ7nuVVAPTTWh8Z6SkCdCyWzhPBOQO8GykhJfEZAHzgTA+wBVEBrPJo\\u002f2HhIQFA5u4VfjUhAAAAAAAAASUBy5OWj3u1IQGSq19Zd4llA\\u002fiybLp84TEBQObuFX41IQLrooosumlNAdp\\u002fNOUCARkAuprOYzhpQQNIFxkwyrlpA+dLObkIASkDEUfSTWPNJQFqJ4eaw61VAXMe0qK19RkDyyidiNpdLQNDx7YuDBFNA+IFaSKEHS0BWSNdBGLhZQPyNdfyNdVBAIti\\u002fJB+KS0AtNLdTefRKQOcUvJyCd0pAnZGKudX5UUAU4qz8hPhGQKAFWqAFelpAeV6tBE0FR0DfaateH4hKQAEAAAAAgEtAT+zETuxEUUBI2lvNRPdIQFjAWgFrBUhAAQAAAAAASECr4nZOn31HQFhwQd2S\\u002f0pAMfEcdPn0R0CFFTqDFXpHQACRAkQKEFlAAJECRAoQSUCzOLrfnYJIQLzabVBWiEpAH\\u002f3oRz\\u002f6RkAf\\u002fehHP\\u002fpGQI83sjmvCklAXTH6SzM2VkDUNE3TNE1RQFA5u4VfjUhAbCivobwGR0CVNWVNWZNSQA0vTLh\\u002fvFJA9sv26s\\u002f\\u002fSkAYaIEWaIFGQDh8Ld6V+UdA+dSL+dSLSUCKO+KOuONKQGwor6G8BkdA32mrXh+ISkAN0PkXA3RJQEjaW81E90hAOHwt3pX5R0DVqruBMlJLQNcR0NAuIlZA0gOVs1t4V0CgBVqgBXpaQN+aHxYpA0hANswJsmiESkCur6+vr39HQNq2bdu2bUpA+RklfkaJS0DncKtZKYFGQCKEEEIIgUlAtbS0tLR0R0AAAAAAAABJQN2ZjBavfEZA\\u002fGnwp8GfVEAAAAAAAABJQIdahREie1ZASNpbzUT3SEAx8Rx0+fRHQL8++hTlekZAFKuixLYBR0AhvHJVuK9OQDMMwzAMg0dAh1qFESJ7VkCPN7I5rwpJQAsvqF88fkpAXMe0qK19RkBHYYjDJ\\u002fVKQD8jLpACCElAAAAAAAAASUA0KVm0T35GQIgh\\u002fJ33gElA\\u002fjU7ahFySkBdFvEJpJJLQP\\u002f\\u002f\\u002f\\u002f\\u002f\\u002fb0dA+IO4BoeBS0AAAAAAAABJQOfGy2aegEZAm7HCNBJ\\u002fRkBDX9AX9IVJQPkZJX5GiUtAZRK9ZxJ9R0Bv27Zt2\\u002fZQQD7v1LUc\\u002fEZAEtpLaC+BdUAIELVCug5KQBycXHxsdEtA5xS8nIJ3SkCaHxYpAy9mQMuc\\u002fiE\\u002fdUhAm7HCNBJ\\u002fRkCP7hCp9\\u002fxHQCazY0AUnVRAAAAAAACARkCPN7I5rwpJQEid8kedckdA+dSL+dSLSUBIYy9L\\u002fIFLQER6oHJ2y2hAAgAAAACARkBlRB9QHXtGQAEAAAAAAEhA5n87CuauS0AAAAAAAABJQH++o2Z\\u002fgUtACLrLnWjbSEATcbnJc4BKQLNnICod2UtAq+J2Tp99R0A0iMJvwC1iQB8a60NjfUhAtF0Is12IS0CP7hCp9\\u002fxHQOmiiy66gEhA0n8GFueAS0A2HcGy61RXQFdEA8FNi0pADHlD3pC3TkCirJ6WagJKQKe\\u002f8t\\u002fQAkpAHn3p8rB+RkCBS+m3lH5LQIMDBw4c+EpAm7HCNBJ\\u002fRkDFJSZUbgJHQJhUcvAFgEZAvEoYmwV1U0DQRn1no\\u002f5KQLE\\u002fXgajgEhAjzeyOa8KSUD51Iv51ItJQOXlFpIPgkhAGGiBFmiBRkDpllIXD1VOQITeg8n0KlJA+IFaSKEHS0CzW\\u002fjVmIhIQAV3iLLMC0dAplKu8gt5SkBaJ32NE41OQJo+v7XrfkZAxSUmVG4CR0Aot2ZTiABKQJAkSZIkfUZAcme78SP5SEByqe3s4fxKQJBlayF1+0lAR2GIwyf1SkCoGtZBBq1NQI\\u002f2R\\u002fuj\\u002fUlAGAN0\\u002fsWAUEBfCjPAT5xIQBNxuclzgEpAL2QhC1kISkDKqIzKqCxQQC00t1N59EpAD36R4ggASEBl8XH4boBIQPPRZSdtgEtA4pdKEkeARkDZIiF7239HQJ\\u002foK6zA\\u002f0pAcf7FAJ1\\u002fSUAAAAAAAABJQNmBYivUhEZALP7rI4v6R0Afl779lQlLQKkDvqN8vFBAnU0VQjD+SED51Iv51ItJQP41O2oRckpAlNdQXkN5SEBDX9AX9IVJQO8GykhJfEZA3sKvxkR6SEByZ7vxI\\u002flIQAgQtUK6DkpA2YFiK9SERkAWXHxoeftGQB0eHh4efkdAvnUaSLF8S0BB1Ust0YNLQMMC8XXt9kpAy5z+IT91SECxEzuxE3tJQLW0tLS0dEdA4ZH5T20wUEBZeeKukQNKQO8GykhJfEZAR8s8gPZ7SkDdmYwWr3xGQNA6g16K+UZApda1VzOISkDAH\\u002fAH\\u002fAFPQBtQ13yK7ExAWFoxk45+S0C1tLS0tHRHQKCLLrroAkdAnV1egjAASECbAzL+5oBJQC00t1N59EpAVRjsmzqKSUDZ\\u002fhzMd3pIQDiO4ziO40dAAAAAAAAASUAzZiLS58pSQN+aHxYpA0hAOHwt3pX5R0BJtQBKtQBKQI6LOfeDekZA1bv3tKV9SECbscI0En9GQGC6KxtAi0hAE6vh4odwUEC+7\\u002fu+7\\u002ftGQGQL1DsZeklAMfEcdPn0R0ADAAAAAABJQKCLLrroAkdA32mrXh+ISkAU4qz8hPhGQCvSmU25f0lADw8PDw9vWkBZNQ7tw\\u002fpGQNJum4WE\\u002f0ZApu6W3UeBSUAdHh4eHn5HQDEd8aPhgEpA8LMC77OCR0BPSf4Rw39GQGwor6G8BkdAaTknx3P7R0CMgzyCVadSQPYstwPWwE1An5IyO03nVEBrPJo\\u002f2HhIQKZSrvILeUpAZAvUOxl6SUCiO309VAVKQL8M+b0MeUdAZ3YMiKIDSkCP7hCp9\\u002fxHQGvt2HhWBUlAJ1rDlTqESEBsR\\u002fQKHABLQPz6+vr6ekdACY7lIoB+SEDO8zzP83xKQGvt2HhWBUlAwwLxde32SkA9NNaHxnpKQGcQQApoBklAZxBACmgGSUDZ\\u002fhzMd3pIQDh8Ld6V+UdAcLHoDeMES0DnFLycgndKQE8bOb3o\\u002fUdANQzm+QyDSUBx\\u002fsUAnX9JQLlKKnGofkpAN\\u002fOhVb2BSEAdbuLHzP5IQHEorXy+gEtAHirSs5kBSUDncKtZKYFGQP\\u002f\\u002f\\u002f\\u002f\\u002f\\u002fb0dA\\u002f2050+EoUED\\u002fbTnT4ShQQER5DeU1lE9AEuLRAHwDUUCsxMvUDs1PQGJQe0oP109Am\\u002ftBPUnGSUDGgT+nmFVRQA5XizX0fUhAEUIIIYSQTkBiPYX1FFZOQLETO7ETe0lAPFazJ\\u002fl+R0A3ZU1ZU1ZPQC33NMJyD1JAxFn5CXEWT0DiTRn5Xv1KQCoe63CKR1RAAAAAAAAASUCAY\\u002fgCULtNQIb2EtpLaE9A53CrWSmBRkBY6qrdgX5KQEjaW81E90hACy+oXzx+SkCmsJ7CegpHQCZj+glgHE1AOHwt3pX5R0Bcx7SorX1GQGwor6G8BkdAGm1otKHRUEALL6hfPH5KQBNxuclzgEpAvBhW\\u002fHcmWEC\\u002fDPm9DHlHQN3c3Nzc7FRAEeY8Ln37SkDW9cTZXnxRQNjX19fXd0dACy+oXzx+SkC1tLS0tHRHQJ2wJ+wJe0tA0y4b1oX7O0BbqxkL8AY+QPf19fX19UpAMfEcdPn0R0B8uKL1xYdLQPUk38dqdkdArvTnbMeHSED+YJEi+\\u002f8+QCdidWbxADtAnETB1N1\\u002fQ0COw9nWzjhMQPHvqUlF\\u002fz5Aa2P9th0AQkD\\u002fzAbuiv48QKH8SgzYAUJAlypMsgWrQEAM5633Of09QBmWW6EX\\u002fz1Ae7jCcnQBOUACAAAAAIBBQMGYZiPkaERAvHqbSv6BQ0CSDfeYAoFDQNfx6\\u002fh1\\u002fDxAFxu4HZD\\u002fO0C6jZKWRABCQPKqaDAT\\u002fD9AwUuXQ6dGVUCMpZ+E0AA\\u002fQHflgsit\\u002fjpAnWQsqmH2W0AZKresTgBMQGJwBc3Q\\u002fzlA0xmpmFsVQkAigbcfEnhDQCpjkqHhf0NAXgO18yf+P0A0OB+D83FCQIt7nCzjAUFANeLA5vX7QkBbDCcufwA+QBXmd7W4CUxAv3JPIyz3PkB+uyU3KQFCQOcUvJyCd0pA2NfX19d3R0Cypf5zZQRAQB\\u002f96Ec\\u002f+kZAOWGAJwxwREC6rSVsR4NBQAmO5SKAfkhAm7HCNBJ\\u002fRkBDX9AX9IVJQNPATPSSgkJAHiuf5igGOUCTrrhFHelLQIXMS4ngkUZAkh6onN0CQ0C0R1fnG4JAQGXJpftcg0NANcJyTyMERECSHqic3QJDQBlQz1Sue05AbB36zdYBREB+YPIHJn9AQIkes2Y5BjpA04oqEb8AQkAcY1kpDHxAQK6SMZMTfUNAR3BU3ZUEP0CJ2SijXvo+QImsfrRDHlBAFIb8AUiyRkBCiADf\\u002fYNBQGW8Sx\\u002f++j9AW6y5B6OcQUC5s35ZtDtLQMWZ6Mt8AEJADUaGhSH7O0A4LWhrF\\u002f9CQE0SMZazgENALACFzn2BQkDdhSSD1P9BQGXJpftcg0NApI13VLP+QEDeYIp81o1BQDbRmDuveUNAPQ+lSr76PUD9dqkn47dDQP12qSfjt0NAAQAAAADAQkALlXSjmP08QDaU11BeQz5AIoG3HxJ4Q0CoRchfs6NHQCphbBZUe0FAgejxXTgIOkBCHdRBHdRRQIxW2BxI9D9AeOu8Ahp3Q0A3K33UVaBSQPGguCJCED1AU0oppZTyPkAjSDjiJFFDQHjrvAIad0NANcJyTyMEREB467wCGndDQAb8b5uC\\u002fjlA8aC4IkIQPUBYETSc1P1FQDM4H4Pz4VBAANvrwlsAREBHO\\u002fdRLrNEQHkr\\u002fve8+kBADIqnPa4CQkBdqDkJxIVBQAqS3TUbCz5Aswn5KAACOUB0SeEPHwo6QEX3HxMq9jtAlyIEba6wTkD65txXFXRDQP\\u002f\\u002f\\u002f\\u002f\\u002f\\u002f\\u002f0NAus60mvl8QUD61sjqMmxQQP12qSfjt0NA4bcWZYf4PkAVzyGI1wM+QBFz8A+WTEJArYwzIVJ6VEBkPvViPvVDQKCBieQy+0hAUJB6LPGEQUBQkHos8YRBQMqwaK3\\u002f9TlAlUBcqDkJOkAjNcF4K\\u002fs\\u002fQAjMCRGYk1BAqGWSuvX+P0D+\\u002f\\u002f\\u002f\\u002f\\u002f\\u002f89QBtl9xtl9zlASEx\\u002fUJymS0D9GNVE0n5BQD1jOFqQgEJA5MbcRT6AVkBu4wnfbbxLQAzN7VQeHUBA\\u002fRjVRNJ+QUATO7ETOxFBQKuRcWVqA0RAR31no77zUUCRq4l2WqNRQM4W2MXlrU5AqKqqqqoqPUDF3YYuvQU8QBtl9xtl9zlAVLzvRVMAO0CXGJ8y7ZxLQEeSJEmShEBAor2E9hJaWEDf\\u002fttIyXZLQOJNGfle\\u002fUpAsRM7sRN7SUABAAAAAABIQMMC8XXt9kpAYLorG0CLSEAfl779lQlLQEid8kedckdAAAAAAACARkC7U666MDVUQN+aHxYpA0hAaM\\u002fJ9FWCS0D4fgG4aFBOQAAAAAAAAElA+IFaSKEHS0AAAAAAAIBGQAAAAAAAAElA\\u002f\\u002f\\u002f\\u002f\\u002f\\u002f9\\u002fR0BjYW\\u002fHpq5RQIlFysDTLVJANClZtE9+RkAf\\u002fehHP\\u002fpGQEN0\\u002f3wvhUhANClZtE9+RkCQJEmSJH1GQGKxN2PkCEdAsRM7sRN7SUD1JN\\u002fHanZHQNA6g16K+UZAhcu\\u002fZiSgUUCBgoKCgoJGQAEAAAAAgEtAjlBu3yaDR0AvZCELWQhKQLx2zgbWgktAlPNWn6R\\u002fRkD71GJUef1HQMGFmpNA\\u002fElABAotBuIBSUAECi0G4gFJQB\\u002fpV2E7AEtANXHA4Er\\u002fSUA1dgyTLQBHQKrGrnYvAUlABAotBuIBSUAEGGuHIoBJQEYY5CzZ\\u002f0pAFaBJyaJ9SkB1O1cFP4FHQE\\u002fH5TSbAEhA+dLObkIASkCOUG7fJoNHQAIAAAAAAElAXjbewzJ9R0DtDfyevYFGQOHYJo8n\\u002f0ZA\\u002f\\u002f\\u002f\\u002f\\u002f\\u002f9\\u002fRkAxX7T91HtJQAmO2yTtf0ZAFsXHm7eAS0ADAAAAAABJQLM4ut+dgkhAkiwcnDMDSUD6K9pYKftGQNnbCeZMAktAaTknx3P7R0DuiDvijnhLQFEyp4ShAEtAiCH8nfeASUAjNcF4K\\u002fs\\u002fQARtGtCmAT1AyUIWspCFQ0DiiZSCzf48QGQjHTbSATtA\\u002fuGzcYoAQED7K+W8Jf5AQMXdhi69BTxA8H2sZk\\u002fyPUDatm3btu1CQGgRRkmg\\u002fkBATx5az\\u002fwDREDgj5zma\\u002fU9QJV5Y7bAADpAygfYLNqBQkARc5jDHOY+QImHh4eHB0BAcx9C63oDOUBhVPgXFf4+QEX3HxMq9jtADUaGhSH7O0B5K\\u002f73vPpAQN7OkJi3M0RAU0oppZTyPkAaY4wxxgA6QHZC+YKRAz1ALWBM4uD9QkB+YPIHJn9AQEJBQUFBgUdAWhb5EZ7+OUBzH0LregM5QLnVrJRAA0JAAQAAAADAQkAjNcF4K\\u002fs\\u002fQHwXDqLHN05AlwZjzQgEQkCf0pE9A1E5QE9F8aMABDlAuS+PrQhaUUDtVTBLykFIQJY4BS2uAztAd57neZ7nTkDDr8ZEeuBEQPIkzGln\\u002fztABw27fd4AQEDjJMcKb4FDQD51QVDe\\u002fkFAC5V0o5j9PECfyg\\u002fH\\u002f35DQNZw1cmjiklA1DPoEYgBQ0DyJMxpZ\\u002f87QFZw+EKKgEFALH6lVZv\\u002fO0DEMAzDMAxDQPrqq6+++jpA+jfTI7AMP0AH87ta3IRFQCaNslSe\\u002fz5A5DiO4zgOQkBCiADf\\u002fYNBQEpAza4XWUdAjh\\u002fOLQp0SEBFKEIRihBRQFZVVVVVD0xAiiXhRqn3PUAFtOehhQU5QAai0pE9Az9ApK95KoX0PUALcrJdbslMQLQALkUzHlBAdNFFF130QUBQBHJNBPI5QLGIwK9AdEVADcpliKx7Q0AEYWWrCxA8QBUWhIYpnEtACikwTJ7+PkDBqUzYBsFRQGoTMmZYJ0dAwalM2AbBUUD66quvvvo6QDxFqZ8IU0FAbD7H7YT7Q0Dy69OGVN9SQNf7Zb1fFkVAAQAAAADAQkA8RamfCFNBQJVAXKg5CTpAkUnxApmUSkBSQDMIIAVEQEAXeGww+jlAQxaykIUsTEAMQtqnxNhBQHuBe41X+T1AYVT4FxX+PkBijDHGGGM8QMQ77s0VyUxArKtjVq\\u002f9QkCm3ykkwgQ+QITcxPLphUBA0LADzxUNRkBdeaWriPk\\u002fQJ\\u002fSkT0DUTlAEzSc1H0ZSEAkSZIkSZI8QF5Cewnt9U5AUJB6LPGEQUDyndCnTYJCQJ\\u002fSkT0DUTlAf2isD431QUAtYEzi4P1CQAxC2qfE2EFAP9+bIhUwRkA\\u002fGqRBGqQ5QMUdcUfcET1AJ6+hvIbyPEDv3Llz585BQEdwVN2VBD9ASWXovRMEQUC4fMu3fAs8QA94IkvGAEJAQAghhBCCQkDXWmuttdZNQGjdYIp8hkFAYop81g1mQUDX8347ZoRDQAYYyQ8l4lVAQH4O+LwEQkDUM+gRiAFDQEgyLORTf0JAAwAAAAAAPUCTB5RCi39CQHHPweGeg0BAPyMukAIIOUAfFzFxnwFAQK6qqqqq8j1AXRbxCaSSS0BdFvEJpJJLQInZKKNe+j5Aid0WWkkCOUCe0MpDWpJCQIxz+RQFAEJALSNIA9v\\u002fPEBfmA5GUIFAQMv4V8AWIEdAD65\\u002fNF6mQ0C9LkKpA39FQIDJVAq3\\u002fztAFc8hiNcDTkDPSX1vKAM6QD93Is43TUFAJ9HIr2SDQ0ArtkfQfn1DQEfsdTmS\\u002f0BA0uyuzzYAP0CqXawd2\\u002f9AQGa3ld7c\\u002f0BA8w8Ex5TIRkB6SJp2\\u002fv9BQEEIIYQQFEdAWHzEMdp\\u002fQkAG0BMObwE6QPUEulqa\\u002fzlAlkwrJW7MTUCN8quyXANFQErsd5VhAT1ARBoXZi5PQ0AG8hvIbwBBQMWZ6Mt8AEJAyA4XqYLTQUBo2W0CvoBCQMqrkaZi\\u002f0JApxxzj4DjRUB4wb0hiX9DQFPNMXu3FkJAIA6Nghn\\u002fOUDKq5GmYv9CQKA\\u002fZzs+BDtA80h+H48BREC4gq7Q9P87QB9vkXEoAUFAE1uYeSmAQUDcn8p6rJk9QAAAAAAAAElAp8hn3WAKPECJofUa7f1CQC7J6LPNBUdAUuB1xJxaSEBsYhXbUAA7QK5yqMwc\\u002fz1An075o075O0DWb7UxNF1EQP8mf5O\\u002fyT9A\\u002fd7m\\u002ffr\\u002fO0DU0tLS0oJHQPp5Em+w\\u002fEZA\\u002fyZ\\u002fk7\\u002fJP0BQkHos8YRBQAmO5SKAfkhAPsYixrg9SEC\\u002fv4FaZehQQG65ptUwgEhALSNIA9v\\u002fPEAtSQP9GdFJQIg+Qt52AEdAWcM7o5fqSkBoz8n0VYJLQAM+Ak2kfUlA7Y0zwNt8SUBcx7SorX1GQI2xhR2GfklAeVMGNQyASEDakwrtZ+JLQMEfty7vAEpAezIR6Fp\\u002fSkBH7ePVQIFLQFOM1S\\u002fZ\\u002f0lADkI+S4Z\\u002fSkADU6z0sP9GQAIAAAAAAElA2dsJ5kwCS0Bm5ufKMoBLQBF7N+e3\\u002f1JAFCMXhy11SkCNM9o9bH1HQFe7dbEU\\u002fEhAs7D7fNeWSUAxeJUWuGtJQAZ76O17VVVA0HQH+602UEAp1FXpTIFSQFRVVVVVVU1A+CDIpUqzU0CZFsq+WXpGQBPphGNYf0dAFlx8aHn7RkCApdSWnQRIQKZSrvILeUpASkAe8GF5S0C\\u002fclDG9BNQQDFSMbc6g0hAzWFcdQiASUAlwdZv5IBJQLLL\\u002fo9P50tAlkV+hKd\\u002fSkBBh1A19ABIQKiyyE7W\\u002fEZAVN5l7XR8R0BdTNWKbPxJQMKJCtQH2E5AH5e+\\u002fZUJS0AN0PkXA3RJQJPOe04KQVBA0F9hVqOISkD6N9MjsAw\\u002fQEll6L0TBEFAaDefKeKCQkAr3NU3yfs7QIkes2Y5BjpASGRso68GPEDbEXfEHQFDQN\\u002fTCMs9\\u002fUNAZCMdNtIBO0CJPkLedgBCQK5P16fr00lAHxfwehv9OUAtYEzi4P1CQP7\\u002f\\u002f\\u002f\\u002f\\u002f\\u002fz1Ajr9sr\\u002f78P0BoN58p4oJCQP7\\u002f\\u002f\\u002f\\u002f\\u002f\\u002fz1Avh\\u002fH0AX+QEAGotKRPYNCQF0W8QmkkktAR6+M7Xd0QUDV6RULdXpJQPUk38dqdkdA1DRN0zRNUUD1JN\\u002fHanZHQBgm3D8eekpA\\u002fv\\u002f\\u002f\\u002f\\u002f\\u002f\\u002fSEBVGOybOopJQPnUi\\u002fnUi0lA7nWve93rRkDVp4LVp4JGQLOw+3zXlklAAAAAAACARkAnkix6eAFIQLETO7ETe0lASJ3yR51yR0AAAAAAAABJQA\\u002fOx+B8DEdAyiabbLKJRkBdrAzfiAJIQA\\u002fOx+B8DEdA1Jve9KaXSEAKQzH\\u002fFN45QAAAAAAAgEFAPbETO7ETPEBQ87V6dghAQHERAXOzeENABG0a0KYBPUCm3ykkwgQ+QCM1wXgr+z9AHBhk4qB6QEDObTWRGfo7QMqwaK3\\u002f9TlAxZnoy3wAQkCH9EDl7JZIQLsnLrJEAD9ADuU1lNeAQkAkbKKlkytHQF4DtfMn\\u002fj9AJEmSJEmSPEBFPusGU+RAQPrqq6+++jpA6wLbKUOtQ0BkIx020gE7QI4UOKe4\\u002fzpAImAIVy8CPEBdqDkJxIVBQCs4+ys4+0NAabBCZ7ACRED23VLoTzJGQCRJkiRJkjxAn9KRPQNROUBhK4KGkzpKQIT+JGNRDTtAn3WDKfLZUkCs98t6v6xTQLY9mgEECjlAv7NR39koVEA5juM4jmNTQF3p3oAy8UFAb5FDuvEWU0Dres7Pjv9CQMwQrKPN+z5AUPO1enYIQEBRW2jAkl5KQMKcx6Vv\\u002f1JAW8hCFrKQPUDb2sXndQY6QAEAAAAAwEJAFqP3nXTzOkDGvgmyb4JDQOtXzyfIildALWBM4uD9QkAzBOto835AQEAXeGww+jlAbNu2bdtuRkC2PZoBBAo5QAkqqKCCClBA17+QG4f9Q0Dwy2MrgoZAQOsGU+SzbkFAcGDz+v3LTEDyndCnTYJCQBaj95108zpAqi00YEkvR0BkPvViPvVDQF9lcUa7B0FA2P501\\u002f70T0BtUYYrgSRKQFHzHJ0P8DpAcx9C63oDOUDyGBbLn39BQNqaHxYpAz1A8hgWy59\\u002fQUCypf5zZQRAQAAAAAAAgEFA1\\u002fN+O2aEQ0BQ87V6dghAQCjdVoEG+zpAKN1WgQb7OkD9dqkn47dDQAzL4uwPADpAJZ91gynyOUD9dqkn47dDQGnSpEmTJkJA\\u002ff\\u002f\\u002f\\u002f\\u002f\\u002f\\u002fQ0DsV4w94vc\\u002fQN4ncCuagUNAhNzE8umFQEDuTJLbn15BQIQ4Kz8hzmNAkweUQot\\u002fQkBuSPENbAU6QJIsHJwzAzlAFOKs\\u002fIQ4PUAfFzFxnwFAQG4MwFRcAT1AhNzE8umFQEC+AE8Y4Ak6QLKl\\u002fnNlBEBAHR4dg0WTSUAhs1Z5sANCQPTee++99zxAe4F7jVf5PUCOBoICfQg8QP12qSfjt0NA79y5c+fOQUCf0pE9A1E5QLrOtJr5fEFA6mjzPsUFPEDbjX2PyIlNQGa7EGa7ED5AHkj3mFVcS0C8z\\u002fQ+0\\u002ftIQH8HrLL5ekpALfc0wnIPUkAxDMMwDJtTQHAfwX0E90lAYLorG0CLSECAo+x+o2xHQJyQkmcZUVBANJl3LUbTVECfkjI7TedUQPiDuAaHgUtA0DqDXor5RkC1wb8tZ7pRQAnMdMNW2lBAWhYV8n4NSEDhHuEe4R5RQHml3qL4HkpAWHpNkGmhSUBI2lvNRPdIQNJ\\u002fBhbngEtAMPuEZGJ\\u002fSkB2c0bh\\u002f\\u002fxIQGwor6G8BkdAtOK68md8SUAR5jwufftKQC3QAi3QgkpAMV+0\\u002fdR7SUAd91AR6ZpLQHTnzp07d0ZAYfIWYPIWSECPN7I5rwpJQAEAAAAAAEdAAjP5EXWBR0BrPJo\\u002f2HhIQDLIOmaQdUhALfc0wnIPUkAlChl6ANRKQFM5cZ5NekpAVjVFVVlXTUCmsJ7CegpHQAAAAAAAAElA35ofFikDSEBcx7SorX1GQLrcKIchIFpAeV6tBE0FR0AO4hhb2GFYQG\\u002fhV2MivVNABC+n4OWUT0Cl1rVXM4hKQPf19fX19UpAMfEcdPn0R0CQZWshdftJQC4tLS0tjUlAGajybMiDRkCFzmCFzmBZQBNT6AJD\\u002fEZAE+mEY1h\\u002fR0AJjuUigH5IQHDgwIEDB0pAUDm7hV+NSEABAAAAAABIQFoWFfJ+DUhAQDBVLAJnUUBoz8n0VYJLQHwhVpTG50lAa+3YeFYFSUB5Xq0ETQVHQHafzTlAgEZA1lC5ZXUCSEBRRfGjAARJQEP8UFZXnlZAs5fQXkL7R0ABAAAAAIBLQBdddNFFd2JAiCH8nfeASUAAAAAAAABJQNcR0NAuIlZAOHwt3pX5R0AzLduu73lLQFGFvvXJAEtAUzJrsiqVT0CPUpnTP2RWQDHxHHT59EdAQpm40r0BUUB4MmVvkvBUQAEAAAAAAEhA3RF3xB1xS0ATcbnJc4BKQNn+HMx3ekhAWPBOSncLUkBDY31orH9KQGCLZpQhR1FAFOKs\\u002fIT4RkBrPJo\\u002f2HhIQHTOOeec81JAOjiCSOsFS0CqTW1qUxtLQEHVSy3Rg0tAu5fLkvWtS0A8VrMn+X5HQLC9NRB5+0pAw8PDw8N7R0DHTJj8cIlMQBSG\\u002fAFIskZA\\u002fv\\u002f\\u002f\\u002f\\u002f\\u002f\\u002fSEBwHMdxHAdIQEN0\\u002f3wvhUhAvwz5vQx5R0B3NBGgLL9RQBne0GF5yExA3RF3xB1xS0DVp4LVp4JGQMu6Cxh+AkdA2JWoXYlaTEC1uAnzu9pOQEB+\\u002fPjxw1FAknxNvXOCRkCzW\\u002fjVmIhIQPd6X7pU\\u002f0pA2bi2QR6ASkAAAAAAAABJQLovj60IGkpAG1DXfIrsTECEtR0vP\\u002f9JQIFL6beUfktAGCbcPx56SkBMY0vKqgBKQCG5tUkkgFBAchvJbSS3YEAsjBDZl\\u002fxfQOWPOuWP+ldAOjiCSOsFS0BPwcspeHlRQHAfwX0E90lA70TcdCp7R0Dv537u535KQO\\u002fnfu7nfkpAVkjXQRi4WUDj4eHh4WFMQGC6KxtAi0hAvnUaSLF8S0DObTWRGfo7QKCBieQy+0hAN8g3yDfIS0Bm7PYLNopOQNW797SlfUhA+CDIpUqzU0CCphBoCgFTQLOX0F5C+0dAxFH0k1jzSUAy3Nobq79aQK4t0xPBIGVADdD5FwN0SUCu5mqu5gpXQP\\u002f\\u002f\\u002f\\u002f\\u002f\\u002fb0dAHJxcfGx0S0ALL6hfPH5KQG\\u002fhV2MivVNA78tjK4LGZkAKDKcFqlFPQC\\u002f4qzghJUpAs5fQXkL7R0BpsEJnsAJEQIxW2BxI9D9AjZSBp1vzR0B2Yid2YgdXQE0OMi8lglVAsT9eBqOASEDyyidiNpdLQE0OMi8lglVA9SP+HqaERkBWnTyq2HBJQBJXmQLmA0pAq5D2SFSWR0AAkQJEChBJQGWI3dAfBENAY4wxxhiDQECNlIGnW\\u002fNHQA3Q+RcDdElAkYLNf9wJWUBInfJHnXJHQM7zPM\\u002fzfEpAAAAAAAAASUCNlIGnW\\u002fNHQL0Y\\u002folrC0tA0DqDXor5RkDQ0tLS0pJLQC00t1N59EpAL2QhC1kISkBnEEAKaAZJQPiDuAaHgUtAEA8PDw\\u002fPTkC1z3YmyrFQQAe\\u002feyDCL1ZAVp08qthwSUCgiy666AJHQNjX19fXd0dA8sonYjaXS0D2GBsWd79QQIUVOoMVekdAWhYV8n4NSEAreDkFL2dKQJBlayF1+0lA3RF3xB1xS0BaFhXyfg1IQBycXHxsdEtAVp08qthwSUCNlIGnW\\u002fNHQFbmupQG\\u002fkpAdlwN+ZKzUEAf\\u002fehHP\\u002fpGQLETO7ETe0lAAJECRAoQSUCHWoURIntWQKXWtVcziEpA35ofFikDSEAeHh4eHp5PQNJ\\u002fBhbngEtAlgK1fqVASUAmNURTYnFHQN2ZjBavfEZATHeifOlOVEAPzsfgfAxHQPz6+vr6ekdAsT9eBqOASEAAAAAAAABJQGC6KxtAi0hAWhYV8n4NSEB8Ce0ltNdnQAAAAAAAgEZAAAAAAAAASUAmNURTYnFHQFm6G2kRuU1AnArKA3\\u002fKWkA5mqEgJLFQQJ2wJ+wJe0tAZ3YMiKIDSkCRGhrpbfBJQKuQ9khUlkdADdD5FwN0SUBrPJo\\u002f2HhIQDw8PDw8fFNAOHwt3pX5R0BdFvEJpJJLQLzabVBWiEpAq5D2SFSWR0DDAvF17fZKQCt4OQUvZ0pAprOYzmJ6VkDfmh8WKQNIQIUiFKEIxVVAAAAAAAAASUAPzsfgfAxHQPUk38dqdkdANDTS2+D7SUB9g3yDfINIQDDXDsy1A0pANDTS2+D7SUCAuFBzEohKQN2ZjBavfEZAAAAAAAAASUATcbnJc4BKQA4oCRifgUhAtvajBK59SUA27SdLYNNUQAAAAAAAAElAVp08qthwSUDdEXfEHXFLQPUj\\u002fh6mhEZAq5D2SFSWR0Dfmh8WKQNIQI83sjmvCklAOwgDNy99VUB0usoz8XFKQNAJa3hn9EdAcuTlo97tSECU11BeQ3lIQCVJkiRJkklAxtUPOirwRkCW\\u002fpzt+BBHQGqO2bu1cEZA5DiO4zgOUkByXhbxCaRSQHh4eHh4UFBA7SW0l9CeUEBdUVfUFfVQQO0ltJfQnlBAVua6lAb+SkAihBBCCLFhQAEAAAAAAEhARiMY6GgES0BU3mXtdHxHQAgQtUK6DkpAtcG\\u002fLWe6UUB0586dO3dGQAAAAAAAAElA0cA3OKFTVEC1MTTdwX5XQE\\u002fByyl4eVFA\\u002f2050+EoUEDW9cTZXnxRQLW0tLS0FFNALlwIZxhkTUCMMuToPwNIQOJNGfle\\u002fUpATGgvob2EQkAFkqz1NYFIQBxEHriKdktAZ3YMiKIDSkCXBmPNCARCQIorrExGAUFAbgzAVFwBPUAXG7gdkP87QNYBsnJ1ADxAJrxKjKQyUkBUvO9FUwA7QEMrPs0VgEBAbzBFPusGO0AfF\\u002fB6G\\u002f05QIhNILhM9URApgb2jqmBQkDD0aFJ\\u002fgU7QMGCcU+6\\u002fkJA3mCKfNaNQUD9\\u002f\\u002f\\u002f\\u002f\\u002f\\u002f9DQESy8+dzBT9AHZev5XT9O0DUM+gRiAFDQDCVd8K5gFFAT3nrmcP\\u002fO0BhbAm+zf9CQNFRgS+ufkBAvZbKVCH+OkDrSIwFE\\u002fg9QFgVbNdI+zlAVsH+igmBQUCLe5ws4wFBQL9mRy1C\\u002fkFA+XsqaZv+QUAeKtKzmQE5QBxjWSkMfEBAwkH0+C78PEAMrfWcef8+QP\\u002f\\u002f\\u002f\\u002f\\u002f\\u002f\\u002fz9AWHzEMdp\\u002fQkA9YzhakIBCQPnSzm5CAEpApJRSSiklVEDQOeeccwA6QEoqSvTLf0FA+\\u002fTTTz\\u002f9PEB+DM7H4Pw7QGQhC1nIAkFAnFpY6akFREASKFCgQIFBQItOCJfoBD1AwIAzrkUCQ0C79VzsYP48QAEAAAAAAENAGIZhGIYBQkBO22P2AgE7QDREpnZxBlVAyU0SyOOAQ0BAmYwPAtJKQEA7BG4sAzpAqfWFkXIEOUAf\\u002fPMN+ABEQMlNEsjjgENAvfNgL68NQkADquAovwU7QBvgmsYWf0JAZR0iXwt1WkCIQoFKZn5AQAgPJ1vuAERAAwAAAAAAPUDKJ5SdW6lKQBzc7BdiRVdAfrslNykBQkATcrmNnQA5QHtWTTpTV0dAn9KRPQNROUAXG7gdkP87QO3m7ILCAjlAh+V7dHh\\u002fQkD3jNoWhX9BQAeWjU0DAT1ArkNgUzkAQ0CWIBSyIspVQNCJdd1o\\u002fj9AvuPeXJH8QkC1TLv75f88QMFx+WNLAjxAsjpylXMAQUBLp+ZB7vo\\u002fQLyWBo+2EFZAFm2slD3+QEBD+IyHNP86QBQiNDFbATlA5dxGAR4BQUCMX9TXzn9BQMhiofpb\\u002fkBADFNuyUl\\u002fQ0BNRpG\\u002fnqREQKgfrzro\\u002f0FAStxiZBGBQkBXspmBggE5QASEE\\u002fGSgEBAHirSs5kBOUAdCeI9Wf9AQCKglYBWAjpAYnAFzdD\\u002fOUAo9ahvB8pCQGobbAhqgUFAa2P9th0AQkA\\u002fATSIWAZFQCse6LLnfUFAaaSKZ1UBOUD5eyppm\\u002f5BQC+h9K7Of0BADUaGhSH7O0CXnl4tGAFCQHMoRUhhBEZAZ6zNbRD\\u002fP0CLGVObpH9AQB6rxlVxAEFAyz5NLb4DOkDZJzBhj1hJQKYG9o6pgUJAmXWIfC3USUCXnl4tGAFCQMBPpEm6gEFATM7LIj6BQEAWZcWtBYFAQG6E5Z5GGD1A\\u002f\\u002f\\u002f\\u002f\\u002f\\u002f\\u002f\\u002fP0A9sRM7sRM8QAQLLLDAAj1ALwq9engAOUAP7rxIHQ89QARglZy0BD1AitEy7YV\\u002fQEA0n\\u002fGuiv8\\u002fQOU1JpmjAUBAz1QgofD+QkB0bPpVIwFEQJQFu0ac\\u002fUNAYaeplt\\u002f\\u002fQUBuSPENbAU6QNVkTpWX2kNAubRJjtoJSUDDjjVwowM5QMrJg\\u002fOqAjlAnIKXU\\u002fByRkDroJzyWYhCQB0GkrvPZERAh2i9VbsAP0DspDMvV+89QGpev3+Z8EdANTkUsV\\u002fSQ0AOihawjwJEQFbB\\u002fooJgUFAbkjxDWwFOkAAnRx2AABAQAtPoN\\u002fIJ0pAR3BU3ZUEP0BgArqQUnxDQKSNbO0fkUlAwhkQSu6UVEACAAAAAABJQGvWhQ5vfkNAhcvFH9L\\u002fQ0CaV3YhOaZNQEDzJypo\\u002fkBAHaXbV1bvQkBAfg74vARCQB7QgL\\u002f8AUFAYnAFzdD\\u002fOUCGaxYidQBBQGotDjl1A1RAz8THfbfUSUBNPfoO2X5BQO4ZSkYdAEFA4Szgeqm5R0AJVp1S3n9CQFgVbNdI+zlA4+UUvJwCQkCFzmCFzoBHQBV08KhLQVVA2new\\u002fUUCP0B1Mc89MABDQPIxAfUxAURArAqm0c8DOUDk1UhTsf9FQNmQ\\u002ftmQfkdA8DU266f+Q0DDTuzETuw6QC8N1OelAUFALw3U56UBQUAvkZ\\u002fpUwU+QKA\\u002fZzs+BDtAbt6nuGQIQkCj7H6j7P5KQP7\\u002f\\u002f\\u002f\\u002f\\u002f\\u002fz1Ay673+c1\\u002fQkDmYd1dNn5AQPIxAfUxAURADuU1lNeAQkC+495ckfxCQOAaVqPFf0JABGCVnLQEPUD25orkyf5AQKmioD5keUFAyDYm881DUECM22e+hyNFQOrrVfg3AjxAlwj9NfZ+Q0DZT5bApn1AQAYAAAAAAD5Ax5NbPLmVQkDZRqxLj\\u002fk+QAsV7dEwoFlADuU1lNeAQkDuj4lS\\u002fv4+QCqagSwNtVBAzqsdlwf3O0B4HaL753tBQLde3kxQ\\u002f0BA5T9UJOUJTkCcWljpqQVEQGy+itQLAUtAb6V7A8rERUA\\u002fL1ZpK\\u002fxOQB\\u002fILixGQlFAMfEcdPn0R0CJO+KOuDNWQNJ\\u002fBhbngEtA8mJL8G3+OkD+NTtqEXJKQPTa0593+zpAdfkc\\u002fCUBQ0DiETNxTHdFQP1Ztpo2BDlAlJ596ycJSUCmBvaOqYFCQDADR7ipAj5ASbUASrUASkCXBmPNCARCQCqa4FiVGU9AwSBKmoXdU0DBIEqahd1TQD9\\u002fdHbqAz1A3idwK5qBQ0C\\u002fZkctQv5BQFoWFfJ+DUhAWhYV8n4NSEB2QvmCkQM9QIZrFiJ1AEFAJZ91gynyOUDHcRzHcRw\\u002fQBM0nNR9GUhAs9\\u002fSxa79PkCGaxYidQBBQPr6+vr6+jlArPGDqPEDOkAnJxFtKYBDQMsuwzXFgEBAEDV+EDX+Q0D+NTtqEXJKQPLbpZ6M\\u002fz9AkQ4b6bAxSkAWJDrB039BQERRn1AJ\\u002f0JAA\\u002fEm+F4EPEBLp+ZB7vo\\u002fQL2EFWge7E1AVsH+igmBQUDv3Llz585BQOcCU3knnE9As9\\u002fSxa79PkDRvamr5H9DQO8f0TzHATlA\\u002f\\u002f\\u002f\\u002f\\u002f\\u002f\\u002f\\u002fQEB7Q8B25\\u002f8+QCDF8lungUtAxFn5CXEWT0BU3mXtdHxHQD7R50WjfUdAlu8mv+GASUAnkix6eAFIQNA6g16K+UZAe+BMDLAHTkAEL6fg5ZRPQHl4eHh4mE1A8CL4FMi\\u002fSkDEUfSTWPNJQDh8Ld6V+UdA0mkGjEYER0AvZCELWQhKQIXOYIXOYFlAL2QhC1kISkCmljzNaEBcQHj9uRkdJVBAeP25GR0lUEBU3mXtdHxHQAF0sQxPf0pA1aq7gTJSS0D+PL0ewLBNQDQpWbRPfkZAfQ6pCcbLaUDvZOv24U1TQKI\\u002fQbaS\\u002fklABf\\u002fMo0VlZ0BpOSfHc\\u002ftHQKZSrvILeUpAr169evVqc0A9NNaHxnpKQNJ\\u002fBhbngEtAvQsH0eN7SEDdOg2kWH5LQDHxHHT59EdAR2GIwyf1SkAltJfQXuJjQPe6YqOhe0ZAb+FXYyK9U0AAAAAAAABJQJKFLGQhS11AtbS0tLR0R0ABAAAAAABIQHDgwIEDB0pAUDm7hV+NSEACAAAAAABJQMMC8XXt9kpAcme78SP5SEDf\\u002fttIyXZLQEA1A9UMVG9AL2QhC1kISkAsFfeXl+hKQFtxsXt\\u002fgl5AQ1\\u002fQF\\u002fSFSUD4g7gGh4FLQLomArkmgkdAMPuEZGJ\\u002fSkC82m1QVohKQLXBvy1nulFA0UsxX2idTUAhvHJVuK9OQN9pq14fiEpA\\u002fI11\\u002fI11UED784\\u002f837VNQBwYvbPK40xAB7Obs5SHVECUtCVtSVtPQEjaW81E90hAXVFX1BX1UEBs4DOGo0VQQNJpBoxGBEdA6ZZSFw9VTkCrqqqqqn5JQHDgwIEDB0pA32mrXh+ISkB4\\u002fbkZHSVQQFd7jEMibklAxFH0k1jzSUDLnP4hP3VIQCGmVEhe\\u002f0dA+jXFUXmDSkBDX9AX9IVJQCvXczCJf0ZA\\u002fjU7ahFySkAAWHu9SVRLQP7\\u002f\\u002f\\u002f\\u002f\\u002f\\u002f0hASYb968iCSkCI6QGI6QFLQLAgQoOyf0pA6ZZSFw9VTkByQlYaqoBJQBFObf\\u002fLUExAm4KXU\\u002fDSYEBYwFoBawVIQB+Xvv2VCUtA9BtcNSR9SkATcbnJc4BKQEhjL0v8gUtA2dsJ5kwCS0C04rryZ3xJQDh8Ld6V+UdAEx2jZxkAR0CD37M38HtGQMvXyPQgIUhAo7E+NNaHS0CU11BeQwFIQLzabVBWiEpAglOZsA3CVUCHZvcuE6FRQAgQtUK6DkpAv+1ycZb5SkBc9Ysiuc9LQGzgM4ajRVBAIbm1SSSAUEDEUfSTWPNJQFhaMZOOfktAP+e6hEiqWkBgmD73BJZcQI6LOfeDekZAyYSLqaWAS0B74EwMsAdOQBVrwBVrIF5A6AgUbTV4UkDsgVldEMtLQJBlayF1+0lAqU1talMbUUAPlGbTjf9HQEYjGOhoBEtA+FhpwzKXUUD39fX19fVKQLb2owSufUlAbNafwW\\u002fib0Cgdssxvn9KQGQL1DsZeklAeDeWLfoBSEB+k9NmXDRcQC9CZF\\u002fyAUpA\\u002f\\u002f\\u002f\\u002f\\u002f\\u002f9\\u002fSUBFcB\\u002fBfYRIQHgOtZQ\\u002fAEtAWFoxk45+S0DnTW9605tLQDg8PDw8FExAcBzHcRwHSEA\\u002f2e5YPHtLQMarS7g8f0ZAYuEzrzoHfUBPGzm96P1HQL8++hTlekZAlKVXkhouXkCjNkuAY0xOQHH+xQCdf0lAcuTlo97tSECdsCfsCXtLQFk1Du3D+kZAi+HU3g0yUEAM5TWU1\\u002fhHQHJnu\\u002fEj+UhACy+oXzx+SkBisTdj5AhHQEin5kHu+kpA7og74o54S0C80sqoWQBKQEA1A9UMVE9As5fQXkL7R0A\\u002fIy6QAghJQGcAI8I3e01AWkQUvaGZS0CJRcrA0y1SQPUj\\u002fh6mhEZA\\u002fjU7ahFySkAAAAAAAABJQAX+gD\\u002fgT2hAAQAAAACAS0CgdB\\u002fPFIVJQMk4vKvHdE5AbCivobwGR0AAAAAAAIBGQLCZTsvHf0dAowSu\\u002fSiBR0DjOI7jOFZ\\u002fQFma2k3LimBA3RF3xB1xS0CaLu0pO35HQMRR9JNY80lAUDm7hV+NSEAp0BPEjxZcQHDgwIEDB0pAwUBdjY6ARkBTalLi5DBdQBqEx+0zX1xA2YFiK9SERkBMShbtk39LQA4PDw8Pl2BAZ3YMiKIDSkBFcB\\u002fBfYRIQPyOXhnb\\u002f0lA0DqDXor5RkAIMCwU\\u002fvNIQBZu9UiF21tAxYJT+1LlXUDshigXxJ1aQALtSKAdCUhAnbAn7Al7S0BHYYjDJ\\u002fVKQNJpBoxGBEdAvwz5vQx5R0A4fC3elflHQIUVOoMVekdAkCRJkiR9RkDSA5WzW3hXQPQbXDUkfUpAhmAdbd6nSUA9NNaHxnpKQLW0tLS0dEdACy+oXzx+SkC1tLS0tHRHQKB0H88UhUlA53CrWSmBRkDbtm3btp91QC\\u002fGy687gEpAwUBdjY6ARkDSeNKd04BIQChs38JDBEhA9ZLZMSAKSkAreDkFL2dKQIwQ2Zd8wFFAuo9nisKOZEA9PDw8PBxeQACV+lPqT01A9STfx2p2R0A+4A\\u002f4A35VQCJfchbq9kZAkmcZ0QdUdkBhc2s76G9GQI2Ugadb80dAszi6352CSED3umKjoXtGQOFLtlqQ\\u002f0ZAp8fN2B+mdEBEFrKQhWxSQH95bEXQgHlAE3G5yXOASkD4g7gGh4FLQJFOOIb1b2NALP7rI4v6R0AHp7uw4\\u002fVIQMqojMqoLFBA32mrXh+ISkCwkdVl2CtNQJAkSZIkfUZA0mkGjEYER0B\\u002fjt+Y13xHQNQ3kgew\\u002fEpADJF1b8OASEDESd2Xx+ZlQN15Sh+TBElA4NilUSCCS0ADClJ28ktNQOoHKeuh\\u002f0lAsh5OAcIASEC1tLS0tHRHQOdwq1kpgUZAN\\u002fOhVb2BSEAsUOgpon5KQAgwLBT+80hAwGMAjwE8XED4g7gGh4FLQOtDY31onFNAoIsuuugCR0CAuFBzEohKQCzYgi3YgklACiywwAILYUBLr30WSjB1QKCLLrroAkdAZRK9ZxJ9R0AM5TWU1\\u002fhHQJBlayF1+0lAiCH8nfeASUCxEzuxE3tJQP2y3i\\u002frfUhApaWlpaUlTkD6K9pYKftGQNXpFQt1eklAV6aA+UC2bEBUGmWpPH9IQH8RLKX9\\u002fkZAPyMukAIISUDO8zzP83xKQMPDw8PDe0dAD5Rm043\\u002fR0AM5TWU1\\u002fhHQGUAK\\u002fkkdExAsL9lLpZzTUC9CwfR43tIQCypraS20lJA6LZGMJJyVUC6L4+tCBpKQA3Q+RcDdElAL2LEiBEDS0DHTJj8cIlMQLNb+NWYiEhANhtEzcX\\u002fR0AdHh4eHn5HQKHqx4wR7k9AQ9KXS\\u002fO7YUDGdBbTWfxHQJ2wJ+wJe0tA\\u002fbLeL+t9SEBlEr1nEn1HQMWHIOWmYk1AE3G5yXOASkCCphBoCgFTQBNxuclzgEpATiKkWtaBSkDDAvF17fZKQLNb+NWYiEhADSt5asNKVEAR3EdwH8FVQEjaW81E90hAbCivobwGR0A4fC3elflHQJBlayF1+0lAPk7Jxyl5U0Dfmh8WKQNIQBilZ+hlgEdAloGnW\\u002fNDVUAJjuUigH5IQHJnu\\u002fEj+UhADOU1lNf4R0CNlIGnW\\u002fNHQLApvGmeZFNA53CrWSmBRkCPM8XStRVWQPnUi\\u002fnUi0lA2ie\\u002fHyMkVUBYwFoBawVIQAX97h2F\\u002f0hAM41LDD8ASEDRSzFfaJ1NQLW0tLS0dEdANEja2lUYTUBtBsrmzP1JQF423sMyfUdATNY7gioCSEAivoP4DiJaQPWZOQAkgEZArq+vr69\\u002fR0BRRfGjAARJQIsXyKR4AUpAPJPoPZOoT0Boru8voyBSQLrooosumlNAojt9PVQFSkCzJmqkmAFIQB6BJ0bZAUpAAAAAAAAASUCbscI0En9GQCwgBMxbe0ZAazyaP9h4SEDSaQaMRgRHQAmO5SKAfkhA0mkGjEYER0BpOSfHc\\u002ftHQL\\u002ftcnGW+UpAJY37opX+SkCzl9BeQvtHQCXR1sxifkhAZUQfUB17RkAHhUXg2wBIQLhJ6K\\u002fegElA\\u002fv\\u002f\\u002f\\u002f\\u002f+vTUB\\u002fu0tuFP5IQFbmupQG\\u002fkpA32mrXh+ISkDGz+vHRwBHQJIsHJwzA0lAAjP5EXWBR0AYJtw\\u002fHnpKQKmOhlI6\\u002fUlAhz9uXd4BS0BfF94CyP5KQAfdYlJvh0hAFKuixLYBR0Dx4XjtWfpIQDQsuFS2d0lAbtRQz9IFSUABAAAAAABIQFFF8aMABElA4S87LJp\\u002fRkCFFTqDFXpHQJ2wJ+wJe0tAGb7ONkGCSECr4nZOn31HQJ7neZ7ngUZAYrE3Y+QIR0DsPQR0C4ZIQJIX3tipAkpA53CrWSmBRkBP3PQliExTQAEAAAAAgEtA53CrWSmBRkBhcyDRCvtKQLzabVBWiEpAKdRV6UyBUkDDULtbk39KQLk1\\u002fPmiAkhAAAAAAACARkCAuFBzEohKQDpw4MCBA0dAXMe0qK19RkCQZWshdftJQDh8Ld6V+UdAbCivobwGR0AAAAAAAABJQPf19fX19UpAazyaP9h4SEDxaqSp2H9HQPf19fX19UpAFOKs\\u002fIT4RkAJjuUigH5IQAAAAAAAAElA7nIKXk6BSkATcbnJc4BKQFjAWgFrBUhA35ofFikDSEBsKK+hvAZHQBFCCCGEkE5AR2GIwyf1SkAMkXVvw4BIQKpNbWpTG0tATl+cORWBRkAW7U1XOn9KQEjOpe1af0tATHOueEwAS0AtKhf3oH9GQEpAHvBheUtAcB\\u002fBfQT3SUDDw8PDw3tHQPHheO1Z+khARXAfwX2ESEBHYYjDJ\\u002fVKQDHxHHT59EdAXMe0qK19RkAreDkFL2dKQDh8Ld6V+UdAOqn78tiKS0DMu6OHIP5KQOX6\\u002fjIKAkdA+Eyi90yCR0DrHqJec4JaQJTXUF5DeUhAtbS0tLR0R0D8+vr6+npHQMFEmQtqgElAK9dzMIl\\u002fRkAibrQc831JQKupnoYZf0lAzLujhyD+SkCNM9o9bH1HQNJ40p3TgEhASKfmQe76SkAJM5w20n9IQPz6+vr6ekdA1Dk0UMR\\u002fSkAhgc4NE4BIQN0Rd8QdcUtAGoYgoMF\\u002fS0Af\\u002fehHP\\u002fpGQGI832mJYkpAfEFf0Bd0SkD4RN8TfU9iQAH9BfQX0E9AzvM8z\\u002fN8SkAAAAAAAABJQChs38JDBEhACY7lIoB+SEAT6YRjWH9HQC9kIQtZCEpAAQAAAAAASEAFTZkzu1tQQCSUxAlIs1JAhfYS2ktoU0C2UHnPeYJGQOBlG6BPaUdAhvYS2ktoT0Ca6G2c5QRLQK31oGDVVlBAtvajBK59SUB\\u002fB6yy+XpKQC9CZF\\u002fyAUpARXAfwX2ESED+PL0ewLBNQILK2S38alBAUZSPQP8AR0ChdJjHkX5IQFcUxsDEAUhAsYHya6D8RkA6OIJI6wVLQDZAY5kb\\u002fElAfeJSkZd+SkBInfJHnXJHQAAAAAAAAElAnd70pjddYUCsMs6ESElgQBXPIYjXA05AKKQOHzo9SkBIYy9L\\u002fIFLQGd2DIiiA0pA1aeC1aeCRkDP8K+0PfVJQNiVqF2JWkxAVRjsmzqKSUCG9hLaS2hPQLC9NRB5+0pAaVW6Y76CSEAt7uIu7uJKQHCx6A3jBEtAbOAzhqNFUEDtnm9MmwBLQJlf6S60f0tAOjiCSOsFS0B17yZog\\u002f9JQKTBCb6AZ1BALCAEzFt7RkB5Xq0ETQVHQENf0Bf0hUlA3uUUvJyCS0BAfvz48cNRQNJ40p3TgEhAUYW+9ckAS0BsSP9sSH9OQB+Xvv2VCUtAkGVrIXX7SUAavG+NrO5JQJ2RirnV+VFADOU1lNf4R0AtNLdTefRKQOaMOWPOmFFAAHcwohT+R0AMgfLfM5tqQA+ciQH2QFBAaVW6Y76CSEAiX3IW6vZGQP7\\u002f\\u002f\\u002f\\u002f\\u002fDEtAZxBACmgGSUAz4c+EPxNUQFjAWgFrBUhAD5Rm043\\u002fR0D17nvAE1lUQN5meJvhbVhAkCRJkiR9RkBK3uxcqg1OQMJV7ksvpF5At7n7qkglT0CZC60CY09MQGP2bi3ctEpAkmAG4XH7TUDfmh8WKQNIQB\\u002fILixGQlFAB91iUm+HSEDFohpmB0dIQHMfQut6AzlALSo24bUBPEDMuBO6PYJBQImFZOR2AD9AHirSs5kBOUDOBAwey\\u002fs\\u002fQEgyLORTf0JAkiwcnDMDOUCFLGQhC6lIQA6XGPhdhkJAPr2KGXT4QUCLOw3KZYhDQDXiwOb1+0JAxDAMwzAMQ0DCjWVQKkxIQJ\\u002fSkT0DUTlA79y5c+fOQUAMiqc9rgJCQJcOZPu3ekFAjgaCAn0IPEAVFoSGKZxLQBnksYvtZUlAdLP9PPlJRUAxFKwf9\\u002fs9QENf0Bf0hUlASkAe8GF5S0Cc+Q\\u002fYYwZIQJBlayF1+0lAaXmgQyOGQUD9GNVE0n5BQFFvetOb3jlAwQDS9WwJOUDKXT9brAxEQPTkk08++TxAImg4qfvyOkCYgZFAxoRAQE3w5IGQfUBAImg4qfvyOkDhx+z8E35BQNSozoRhA0BA0QqbA4lmRECwJLyilv45QAhnBkCAAjlA7KQzL1fvPUDQCWt4Z\\u002fRHQFHzHJ0P8DpALWBM4uD9QkB00UUXXfRBQLe2mMDlgkBALWBM4uD9QkBy\\u002fNm\\u002fU31DQLIKlHVcDTlAUfMcnQ\\u002fwOkDspDMvV+89QLe2mMDlgkBAs\\u002fPggBSJQkCp9YWRcgQ5QOxXjD3i9z9AauvlzQT1QEDsV4w94vc\\u002fQEevjO13dEFAJZ91gynyOUBgjkgx1H9CQCAgaczicUBA39MIyz39Q0ARc5jDHOY+QLYmArkmAjpAZCMdNtIBO0C3JV+\\u002fEwE9QIjEbkuJAT5ARyONNNJIR0Aem6jYs4BBQCWfdYMp8jlA+\\u002fTTTz\\u002f9PEC52sLHc\\u002f08QHixJfg2f0JALWBM4uD9QkAEYJWctAQ9QLcBdRRvAURA\\u002fL\\u002fiOUP\\u002fP0AlDz+Pi\\u002fs5QM9UIKHw\\u002fkJAjt8u9WT8PkBgArqQUnxDQJTKzghiAD1ANL7mLLB\\u002fQkD3k1D0kP5DQKyU+O4m\\u002f0JA8iTMaWf\\u002fO0AXcFCW4wA5QBspleKy+z9AvSzNhLUlR0BQBHJNBPI5QIEJONjcaUtAysmD86oCOUAEHXTQQQc7QARglZy0BD1A88gjjzzyRECS2Ls5v\\u002f0\\u002fQAEDAwMDAztAvs1fYVYjSUDSt9LePQJEQKv2SaJcDkRAUN24TbnWUUAnFGwska1TQNKfUn9K\\u002fUFAWMhCFrLwPECO9OuckgBBQPLbpZ6M\\u002fz9AJZ91gynyOUDF4gGEGLRKQKyqqqqqCj9A4+7RDa\\u002f+QUCr\\u002f6r\\u002fqv9OQNQCxiQOXlBAfQntJbSXQUD6ZWe5pH9DQAZyPzFRCTtAHESP78LBVEBAF3hsMPo5QEECana9SEhAYztlqFUYOUCxobyG8ho6QN\\u002fd3d3d3U1Aw5lAcqwGOUBQ87V6dghAQFdkvjRxmE9AD+68SB0PPUAuhK\\u002fLaoVGQLiKdqb0+jtA+uqrr776OkAxAVys195GQF2oOQnEhUFAQokZWBYNUUBKOKq\\u002fz9tQQAlWnVLef0JA2SYOi6UAQkALlXSjmP08QAQAAAAAAD5ARFGfUAn\\u002fQkAU4qz8hLhQQLPf0sWu\\u002fT5AitqVqF0JRUD8rIgAgidMQIT+JGNRDTtAQogA3\\u002f2DQUA5qfvy2JpgQN5S6E8yFklALtzaG6v\\u002fQUDTga6gxAA+QACRAkQKEDlA4M\\u002f93M\\u002f9O0AAkQJEChA5QMDLEh4wgENAwHnIwjoAPkCD0udeQIBCQCCcKq08klVA4bcWZYf4PkBJdYgNfAZTQN+aHxYpA0hAnFpY6akFREA6cODAgQNHQPmG8yy0VUZART7rBlPkQECsswQv1l1CQB4eHh4enk9AxFn5CXEWT0B74EwMsAdOQDg33f1A\\u002fT5AiXb8FB3+P0C7r6zeJQ8+QP12qSfjt0NAgNk9CgABOUBmt5Xe3P9AQPr6+vr6+jlArYY2qMWBQEDRK2P7Hf1TQBvkG+Qb5EdAH5e+\\u002fZUJS0D1I\\u002f4epoRGQPLKJ2I2l0tAnmyyySabSUDOYdczQbpQQKXoQC+ZHU9ArmLHTSJ9S0A0KVm0T35GQDQpWbRPfkZAaTknx3P7R0APH0EYFv9GQNwJkTGQAEtAyHEcx3EcV0AyMzMzMzNRQLbABS5wAUdAe7zHe7xXVUAxUjG3OoNIQJTJZDKZTE5AcODAgQMHSkCdXV6CMABIQF1BTK4gtmRA2rZt27ZtSkAs0OHAZLtYQGs8mj\\u002fYeEhAXMe0qK19RkAYJtw\\u002fHnpKQACRAkQKEElADJF1b8OASEDW9cTZXnxRQKavEsZmIWFAzmHXM0G6UEAvZCELWQhKQDyxEzuxE0dAjKDhpO4LSEAvZCELWQhKQB+Xvv2VCUtA35ofFikDSECQj9RnsPxIQHGU3W+U\\u002fVBAvQsH0eN7SEBjYW\\u002fHpq5RQPf19fX19UpAD5Rm043\\u002fR0CP7hCp9\\u002fxHQA6sOTQDSk9A\\u002fUFcg8NAakABAAAAAABIQNO3HU5YkFRAtTE03cF+V0BYwFoBawVIQPnUi\\u002fnUi0lAiCH8nfeASUDfmh8WKQNIQDEd8aPhgEpAjzeyOa8KSUCAjR\\u002fFFp5WQJYtW7ZsyVFA+ogpmAN3RkDowLaE6X5JQKCLLrroAkdACBC1QroOSkA8VrMn+X5HQPe6YqOhe0ZAgJB92PB7S0Cd8+WlOa5QQDvrx5ukb2RAHJxcfGx0S0AU4qz8hPhGQBTirPyE+EZAOnDgwIEDR0B17yZog\\u002f9JQCi+BQ4X20tAao7Zu7VwRkDKqIzKqCxQQN6QN+QNeVVAAz4CTaR9SUD+\\u002f\\u002f\\u002f\\u002f\\u002f\\u002f9IQKI7fT1UBUpAgLhQcxKISkCrqAof6nxMQFBbGabhgkZAxSUmVG4CR0BHNDqmGVRSQGjPyfRVgktAAgAAAAAASUD1JN\\u002fHanZHQJuxwjQSf0ZALNiCLdiCSUCx8Aqv8IpGQCUK3ZRUx1VAU+wT8qMCUEBIbSW1ldRSQNjX19fXd0dAVRjsmzqKSUDx4XjtWfpIQNkK\\u002fbq15VNAL2LEiBEDS0CSLBycMwNJQKHJlw2a\\u002fEZALP7rI4v6R0CJfNYNpvhJQIsBOv9igEZAaV550ZIAS0AJjuUigH5IQAEpDwybElZAJTscWXC7TECJfNYNpvhJQP7\\u002f\\u002f\\u002f\\u002f\\u002f\\u002f0hAprCewnoKR0BInfJHnXJHQN0Rd8QdcUtA3g+lfw3\\u002fR0B94lKRl35KQGlJZKeFA0pA3mZ4m+FtWEBdxbLxzRBcQKkDvqN8vFBAAQAAAAAASEBInfJHnXJHQHzwwQcffEdAiCH8nfeASUBaFhXyfg1IQNJpBoxGBEdAFOKs\\u002fIT4RkCXKPD\\u002fGIxMQHDgwIEDB0pAD7znG9NmU0CAmL0+Oa1hQJOwuGHikFpA\\u002fPr6+vp6R0AvQmRf8gFKQC9CZF\\u002fyAUpAnGdgJ71\\u002fS0BFcB\\u002fBfYRIQPGnIHheEl1A9STfx2p2R0A2QGOZG\\u002fxJQCNL4vm64lVAAwAAAAAASUByZ7vxI\\u002flIQLMmaqSYAUhAKdRV6UyBUkBZNQ7tw\\u002fpGQL\\u002ftcnGW+UpAijZSni9\\u002fSUBIK5n2j3NeQEhjL0v8gUtAvwz5vQx5R0DR4pVPxGxQQHWve93rHlFAxoE\\u002fp5hVUUBIbSW1ldRSQP2y3i\\u002frfUhAkSRJkiTTUEDV6RULdXpJQA+7ldMpe0hAYTB39Fv\\u002fRkBIYy9L\\u002fIFLQAM+Ak2kfUlAOAJUo9WASEDvqZCP6P9JQJBlayF1+0lAwPaQy4qBSkAJjuUigH5IQH8HrLL5ekpA\\u002fv\\u002f\\u002f\\u002f\\u002f\\u002f\\u002fSEBN9Ga77H9HQP83g1CpgEtAH015e\\u002fkFXEDg2KVRIIJLQB1qeYuNAUdA1DeSB7D8SkDKCoGSI4BHQNJ40p3TgEhAbORAWDB\\u002fVkBd3SbOtHZYQAsvqF88fkpAnbAn7Al7S0AP9f0M9f1IQHOIq0wB811A1xP2hD1hWUASVYO1NRNRQICQfdjwe0tAYqtLd9gtXUAAAAAAAABJQHiSbBkh8WFAC\\u002f2KysV9RkDdmYwWr3xGQE4ipFrWgUpAUDm7hV+NSED1JN\\u002fHanZHQPf19fX19UpA+IFaSKEHS0Bgro\\u002fi3\\u002f9XQJnLaC6juWBAiCH8nfeASUAL\\u002fYrKxX1GQC9CZF\\u002fyAUpAVXyIpP9RW0B0dNtwru1cQO5TdGV2AklA1CRE8Rc5VUCDAwcOHPhKQFGUj0D\\u002fAEdArn7YeyqRXEAhKGq6jgNJQNhulieRgUpAa\\u002f1JAVt\\u002fRkBuuabVMIBIQDFSMbc6g0hARrVYmKx+SkBl2k5O0YBIQBg2BxKtAEtA+nkSb7D8RkDDAvF17fZKQMFUZpGW\\u002fUdAZdpOTtGASEAqnU\\u002fc46RhQGqO2bu1cEZAkRoa6W3wSUA4fC3elflHQAAAAAAAAElAL2QhC1kISkAAAAAAAIBGQPf19fX19UpAy5z+IT91SEDbaEyFE\\u002fdHQPHheO1Z+khAgLhQcxKISkCJfNYNpvhJQOX6\\u002fjIKAkdAiUXKwNMtUkBI475opV9WQDze4z3eg0lAWe5phOVeVkA160tw6+ZQQN0Rd8QdcUtARiMY6GgES0DZ\\u002fhzMd3pIQAEAAAAA8ElAMV+0\\u002fdR7SUB5Xq0ETQVHQGC6KxtAi0hAvEoYmwV1U0CggYnkMvtIQNBGfWej\\u002fkpAsT9eBqOASEBwHMdxHAdIQDh8Ld6V+UdAJNAPHaSASkBEpSN7BoJGQEO4L9yQf0lAQ7gv3JB\\u002fSUCvSkwBOwBLQHJnu\\u002fEj+UhA35ofFikDSEAiX3IW6vZGQPf19fX19UpAw8PDw8N7R0CD37M38HtGQFTeZe10fEdAgLhQcxKISkB5Xq0ETQVHQBNxuclzgEpA0mkGjEYER0DowLaE6X5JQDh8Ld6V+UdAiCH8nfeASUDj0rvr7IJIQNWngtWngkZAtOK68md8SUBpaWlpaRlTQFKAXeufKFVAAAAAAAAASUA3oExc6X5RQNHilU\\u002fEbFBAqUK9zTVxUkAS+awbTAFKQGditU1Cf0lAVsLYLKh2S0Bcx7SorX1GQHc5BS+n4FNAAAAAAAAASUBIbSW1ldRSQMFUZpGW\\u002fUdAo+x+o+z+SkBtY266Qf1IQC9ixIgRA0tAPOsGU+SrWUC4jXhf\\u002f4NKQP2y9rGvg0tA0thOqA7uUEDp4UAK8YJbQLlzpikogklAbeNW7d8ASEBguisbQItIQC9ixIgRA0tANDTS2+D7SUBdUVfUFfVQQMD2kMuKgUpAOnDgwIEDR0DDw8PDw3tHQAIAAAAAeElANkBjmRv8SUCcZ2AnvX9LQAEAAAAAAEhA3RF3xB1xS0BrPJo\\u002f2HhIQGk5J8dz+0dAo+x+o+y+ZEC1tLS0tHRHQMdMmPxwiUxAD2kaze4ASEBjCNbR5n1KQEYjGOhoBEtAWRLey6J+S0Afl779lQlLQGbEmxFvBkpA\\u002fOrUNrr7RkDY19fX13dHQCCVnJdFfElAhkFRJ5dXYUDucgpeToFKQDo4gkjrBUtALNiCLdiCSUBDX9AX9IVJQAAAAAAAAElAkCRJkiR9RkAAAAAAAABJQGd2DIiiA0pA1ekVC3V6SUC6JgK5JoJHQDh8Ld6V+UdAhRU6gxV6R0A9NNaHxnpKQNAJa3hn9EdAxtUPOirwRkALL6hfPH5KQFoWFfJ+DUhABR4jXb84UUC29qMErn1JQMy7o4cg\\u002fkpAH\\u002f3oRz\\u002f6RkDVp4LVp4JGQEHNrhdZW2ZAZxBACmgGSUC4jXhf\\u002f4NKQEhjL0v8gUtAazyaP9h4SEAJjuUigH5IQK4e0z3XdlFAHcdxHMdRUEBwoeNdz9dRQGxI\\u002f2xIf05Aojt9PVQFSkCFzmCFzoBHQDKE2\\u002fHkA1NAh90WWkkCSUCiO309VAVKQJIsHJwzA0lAgGP4AlC7TUBlwoG4739LQAAAAAAAAElAxnQW01n8R0D6K9pYKftGQDh8Ld6V+UdAiUNkmzu1UkDZ\\u002fhzMd3pIQENf0Bf0hUlA7og74o54S0B\\u002fu0tuFP5IQAyU4gnp\\u002fklAo+x+o+z+SkDGWPGo3EBnQEjPGSDjgEdA0mkGjEYER0CiP0G2kv5JQFA5u4VfjUhAhV27SodyTkAPvOcb02ZTQGRkZGRkpFBAB7Obs5SHVECP7hCp9\\u002fxHQN4PpX8N\\u002f0dAWFoxk45+S0AmaIN\\u002fW85QQOqzo4e5mVFALCAEzFt7RkBYwFoBawVIQMy7o4cg\\u002fkpAPe08nwgASEAMkXVvw4BIQPGqBmXE\\u002fEZAL1bVQLOASUA4AlSj1YBIQO9k6\\u002fbhTVNAo+x+o+z+SkAAAAAAAABJQEhjL0v8gUtAj+4Qqff8R0CP7hCp9\\u002fxHQN+aHxYpA0hAyMUa6hD\\u002fSkDxqgZlxPxGQO5yCl5OgUpAgJB92PB7S0BYcEHdkv9KQNXpFQt1eklAa+3YeFYFSUDdEXfEHXFLQGUSvWcSfUdAUYW+9ckAS0Ams2NAFJ1UQIgh\\u002fJ33gElAao7Zu7VwRkAumnUsmnVHQDh8Ld6V+UdAyMUa6hD\\u002fSkC\\u002f7XJxlvlKQE4ipFrWgUpAjKDhpO4LSEBIYy9L\\u002fIFLQHlerQRNBUdA2NfX19d3R0BpVbpjvoJIQN9pq14fiEpAWMBaAWsFSEBwH8F9BPdJQAsvqF88fkpAlk2RRFeGSUBguisbQItIQC9ixIgRA0tASNpbzUT3SEAKNhA49xZNQGiu7y+jIFJACY7lIoB+SEDSaQaMRgRHQL0LB9Hje0hAiUNkmzu1UkBYYoDgFqxQQIc\\u002fbl3eAUtAo6WlpaWBR0DZgWIr1IRGQGjPyfRVgktA+ivaWCn7RkBnEEAKaAZJQD001ofGekpACBC1QroOSkA9NNaHxnpKQAmO5SKAfkhAH\\u002f3oRz\\u002f6RkClw5DJuSFXQB\\u002f96Ec\\u002f+kZAAAAAAAAASUBU3mXtdHxHQDze4z3eg0lALNiCLdiCSUByZ7vxI\\u002flIQBNxuclzgEpA9\\u002fX19fX1SkAtNLdTefRKQA+UZtON\\u002f0dALNiCLdiCSUCQJEmSJH1GQLOX0F5C+0dAXRbxCaSSS0CgdB\\u002fPFIVJQMAf8Af8AU9A32mrXh+ISkAs2IIt2IJJQEYjGOhoBEtA1aeC1aeCRkCmUq7yC3lKQB0eHh4efkdANDTS2+D7SUCAkH3Y8HtLQPADSL8WgEdAZRK9ZxJ9R0AU4qz8hPhGQO8GykhJfEZARXAfwX2ESEAs\\u002fusji\\u002fpHQNW797SlfUhA\\u002f\\u002f\\u002f\\u002f\\u002f\\u002f9\\u002fR0Boz8n0VYJLQGha5Yvhf0lAz5Oo40eBSEATcbnJc4BKQDMt267veUtAo+x+o+z+SkBrPJo\\u002f2HhIQFGFvvXJAEtA+ivaWCn7RkAPCvl6g4JJQDpw4MCBA0dAaVW6Y76CSEA9NNaHxnpKQAM+Ak2kfUlASKfmQe76SkDMu6OHIP5KQAsvqF88fkpALNiCLdiCSUBguisbQItIQHDgwIEDB0pA4Uu2WpD\\u002fRkDMu6OHIP5KQPf19fX19UpAvt2Sm5SASkA8VrMn+X5HQP7\\u002f\\u002f\\u002f\\u002f\\u002f\\u002f0hAZ2K1TUJ\\u002fSUCiO309VAVKQLM4ut+dgkhA2dsJ5kwCS0DDw8PDw3tHQN7lFLycgktAKlTqkWf+R0BU3mXtdHxHQAmO5SKAfkhAqms5uNn\\u002fRkCPN7I5rwpJQPzq1Da6+0ZA6MC2hOl+SUBG3BF3xJ1RQIPfszfwe0ZAw8PDw8N7R0CP7hCp9\\u002fxHQGd2DIiiA0pAMON0Hn3YUUBJhv3ryIJKQODYpVEggktAi9p5ZY5+RkBJvIeLav9JQGW6fjTPgEhAw8PDw8N7R0ABGX9zQMZRQI+y+42ye1RAPTTWh8Z6SkAMkXVvw4BIQIUVOoMVekdAeV6tBE0FR0CFFTqDFXpHQPiDuAaHgUtAeV6tBE0FR0D39fX19fVKQB+Xvv2VCUtAj+4Qqff8R0CmUq7yC3lKQMFUZpGW\\u002fUdA+ivaWCn7RkCHOdtkBypQQNXpFQt1eklA5GnO\\u002fGAFUEBtFsl0m4VQQHF5EXwKpFFAOnDgwIEDR0AKYwejt4FHQBDYtJ8sYUtAcODAgQMHSkAN0PkXA3RJQF0W8QmkkktAnbAn7Al7S0ABAAAAAABIQFTeZe10fEdASYb968iCSkD\\u002f\\u002f\\u002f\\u002f\\u002f\\u002f29HQDyT6D2TqE9A\\u002fjU7ahFySkAU4qz8hPhGQBNxuclzgEpAWTUO7cP6RkCmUq7yC3lKQEmAuyU3qV9AtbS0tLT0SUAFh4Hk7rNWQFjAWgFrBUhAR2GIwyf1SkDbaEyFE\\u002fdHQLHwCq\\u002fwikZAv+\\u002f7vu\\u002f7SkABCyywwAJHQAAAAAAAAElAiCH8nfeASUAAAAAAAABJQBN3xB1xh0ZAJHHwvjWyWED4g7gGh4FLQENf0Bf0hUlAQTZKCkOlVEAKNhA49xZNQNA6g16K+UZA0n8GFueAS0CL2nlljn5GQCXR1sxifkhAUQN7x9QgT0BdFvEJpJJLQM7zPM\\u002fzfEpAPjlcBnxyUkDqs6OHuZlRQL0LB9Hje0hA4hi9NtPeY0Asqa2kttJSQDYpvRUJVFNA6bPNBZMMU0B8Mn671JNNQDeWQakwMVdAR5\\u002f0SZ\\u002f0TUC\\u002f1cbQdAdjQPf19fX19UpAAAAAAAAASUDfmh8WKQNIQLXBvy1nulFAn+d5nue5VUDbaEyFE\\u002fdHQC9kIQtZCEpAOjiCSOsFS0C76vN+vHZRQJ3z5aU5rlBAmUZbgNQ6VEDPSwP1ealjQGwor6G8BkdAU7sStSsRSkDElHlFTJlHQM3OP+HH7EhAcEybgFJ0UECcRc2iZlFMQPz6+vr6ekdAXMe0qK19RkD9st4v631IQCprypqyZldAE3fEHXGHRkA84o64I45gQKyqqqqqqkpAPp8gK64rYUAm1g5e4LlSQOMbiC5V\\u002fkdAIaZUSF7\\u002fR0BVGOybOopJQHXvJmiD\\u002f0lAjIM8glWnUkDncKtZKYFGQMYItd1qel1Alk2RRFeGSUA0NNLb4PtJQLzHe7zHm1NAjYyMjIzcUUDjG4guVf5HQFBeQ3kNGVBAn76YQlFJZEBUVVVVVVVNQAQAAAAAGCVAfMcTOd\\u002fxSECxEzuxE3tJQHzwwQcfPGFAlTVlTVmTUkALL6hfPH5KQFbwv9CCfUpA9STfx2p2R0CD37M38HtGQA3Q+RcDdElA\\u002fPr6+vp6R0BOIqRa1oFKQBN3xB1xh0ZAi9p5ZY5+RkAcnFx8bHRLQGd2DIiiA0pAde8maIP\\u002fSUAdx3Ecx3FJQAAAAAAAgEZAPIvpLKZzSEBA1jX3xzpXQKZSrvILeUpASJ3yR51yR0BL11bgmPVbQB\\u002f96Ec\\u002f+kZAhfYS2ktoU0CbscI0En9GQAmO5SKAfkhA+IO4BoeBS0AXqTEIaZ9SQNiwrXUTBEtAvMd7vMebU0De5RS8nIJLQI2MjIyM3FFAGCbcPx56SkDZRqxLj\\u002fk+QPiDuAaHgUtA0n8GFueAS0DKJptssolGQH1Hzpb\\u002fjkhAkiwcnDMDSUB7gBkuXe1CQOQHkESjY0FAY+LznUBgP0DTaEdflwFAQGXJpftcg0NAGIZhGIZhRUB\\u002f7KHZJM49QP\\u002foRz\\u002f60UdA6Nld2saMRkDUjzPF0jVAQGg3nynigkJAICBpzOJxQECp9YWRcgQ5QJ\\u002fSkT0DUTlART7rBlPkQEBrDIGgb4RRQL7j3lyR\\u002fEJACjKqBIXBRUB8\\u002f1jmCNdGQHBQ\\u002fQBDAkNAuyOL1YREYkDnBrKKLcphQIMDBw4c+EpA+luc1mzfU0ANub6Q64tQQNZeKD4C51VAFVUifgGyUkAyxOGTegFLQOcUvJyCd0pA5xS8nIJ3SkAqVOqRZ\\u002f5HQPor2lgp+0ZA7D0EdAuGSEDm60lyv+RTQB+Xvv2VCUtA+dSL+dSLSUDOqy\\u002fSe1BUQAzlNZTX+EdAoIGJ5DL7SECYeUn1IfBMQAfdYlJvh0hAxjGDV2mBR0As\\u002fusji\\u002fpHQEEm2kh5fktAAQAAAAAAR0DEVz4L7gFLQIIiOBBifVRA5vQP+ak7T0Dm9A\\u002f5qTtPQNJpBoxGBEdAMfEcdPn0R0CFFTqDFXpHQPe6YqOhe0ZAoosuuujCUECj7H6j7P5KQGLOmDPmbFdAOa\\u002fIKK1tUEDndiqPDvxKQL8M+b0MeUdA0UsxX2idTUAtNLdTefRKQOdwq1kpgUZA2NfX19d3R0C9CwfR43tIQEOZ+dpUAUpAqms5uNn\\u002fRkDe5RS8nIJLQMFUZpGW\\u002fUdAEEEspuZ+RkAN0PkXA3RJQAEpDwybElZA5agDdCqoU0C29qMErn1JQIC4UHMSiEpAQySHPYjkSEDe3EEIMgBHQNn+HMx3ekhAHR4eHh5+R0AYp8YFhIBGQL1+Bxk8gkZAj\\u002fC+y0z\\u002fSUD1JN\\u002fHanZHQGtdezWD+FVA8wV9QV8AR0AYp8YFhIBGQKCBieQy+0hAaUlkp4UDSkAgZnPpUINGQFPks24wxVFAZRK9ZxJ9R0CScS\\u002fzmlBMQNXpFQt1eklASYb968iCSkCFMPMXyH5LQDv4LHLgf0hA54LSY4EASkBsvorUCwFLQGy+itQLAUtA2YFiK9SERkDOGwjNGwBKQO31er1ef0tAAtQoOYOESUBAGnLPa4BIQBhXP+ioAEdAmuhtnOUES0BjCNbR5n1KQEmG\\u002fevIgkpA\\u002fsXvWQWDS0BnEEAKaAZJQEmG\\u002fevIgkpAZ3YMiKIDSkC7U9dycNNMQFUY7Js6iklAHJxcfGx0S0DeD6V\\u002fDf9HQKZSrvILeUpAwVRmkZb9R0AvYsSIEQNLQDEXSHjrgUpAsyZqpJgBSEBmpIpnVQFJQB0eHh4efkdAcBzHcRwHSECZX+kutH9LQOJNGfle\\u002fUpAvt2Sm5SASkBZeeKukQNKQDjUYnHxf0lAbeNW7d8ASEAx8Rx0+fRHQB0eHh4efkdAR2GIwyf1SkBYwFoBawVIQCvXczCJf0ZAcXkRfAqkUUBI2lvNRPdIQEYjGOhoBEtAplKu8gt5SkAf\\u002fehHP\\u002fpGQAzN7VQeXVZA8tulnoz\\u002fP0CoTDsHa1ZRQALtSKAdCUhAkSRJkiTTUEAFHiNdvzhRQLTiuvJnfElAQn8B\\u002fQX0RkAU4qz8hPhGQD001ofGekpA+IFaSKEHS0AMkXVvw4BIQGcQQApoBklA5BS8nIJXUkBguisbQItIQA+85xvTZlNAAQAAAACAS0A9PDw8PBxeQDpw4MCBA0dA4DOGowVJW0AAAAAAAABEQCdqV6J2hUJASS7g9Tb6OkADPjlcBnxLQPDBBx98YHFAv+1ycZb5SkCVsf2OXhlIQMhxHMdxHEdAYqBfoF+gS0Aqi0Ts\\u002fRNSQEVwH8F9hEhAXRbxCaSSS0BisTdj5AhHQEpoL6G9pFBAAAAAAAAASUCMoOGk7gtIQICj7H6jbEdA0PHti4MEU0Bnx3MqKSBJQKQHKme3cEhAAAAAAAAASUDGbkUfN4hVQD5aVCL5mkZAAAAAAAAGSEAAAAAAAAZIQFz1iyK5z0tAvr6+vr7+YkAIMCwU\\u002fvNIQEmG\\u002fevIgkpAHSoWNIeKSUCXxDL18aBHQGwor6G8BkdAAQAAAABQVEA5velNb\\u002fpJQBgm3D8eekpA601vetPbV0ATcbnJc4BKQP\\u002f+VBy05khA7D0EdAuGSEBr7dh4VgVJQDYm0gOVs1NAXFd966pvU0CzW\\u002fjVmIhIQDLc2hurv1pA+4K+oC+IUkD1lL3CmlBZQAfdYlJvh0hAxFH0k1jzSUABAAAAAFBUQIFL6beUfktA53CrWSmBRkBv27Zt2\\u002fZQQCmllFJKaUpAR2GIwyf1SkDROl+mn0tkQLNb+NWYiEhAYrE3Y+QIR0DSfwYW54BLQCt4OQUvZ0pApAcqZ7dwSEC9CwfR43tIQJORkZGREVNAPSrwxdUPS0CpTW1qUxtRQNA6g16K+UZAlbH9jl4ZSEB\\u002fGWh+GWhGQJPgPoL7iEpALTS3U3n0SkDLnP4hP3VIQP\\u002f+VBy05khA\\u002f\\u002f5UHLTmSEAINIVAUwhLQAAAAAAAAElAL2LEiBEDS0ChND4ygd5KQFb2OaQmmEtA7wbKSEl8RkCCphBoCgFTQAyRdW\\u002fDgEhACfAfwH8AR0AihBBCCIFJQAnwH8B\\u002fAEdAUW9605veSUChND4ygd5KQMhxHMdxHEdA1VFORzkdSUAINIVAUwhLQPC00B27GkpA\\u002fPr6+vp6R0BInfJHnXJHQICj7H6jbEdAq\\u002fQzp8GdR0Ax8Rx0+fRHQFb2OaQmmEtAcKHjXc\\u002fXUUBndgyIogNKQPz6+vr6ekdAeg66fPpvWUDIh9LqhYtwQI2Ugadb80dAjZSBp1vzR0APzsfgfAxHQA\\u002fOx+B8DEdA2rZt27ZtSkABGX9zQMZRQNJ\\u002fBhbngEtA+dSL+dSLSUBYwFoBawVIQO4g8e0gcVBAtOK68md8SUDCnMelb\\u002f9SQAzlNZTX+EdAq8uBsUIKVEB7hTWhnjJWQBgm3D8eekpA0n8GFueAS0AeKtKzmQFJQJBlayF1+0lA3RF3xB1xS0DzgzmPS99KQH8ZaH4ZaEZAUW9605veSUAdKhY0h4pJQA\\u002fOx+B8DEdAA+YD2YUFYEBW5rqUBv5KQBJXmQLmA0pA3WvJIa6yWUDRcFL35VFRQC9CZF\\u002fyAUpAoHQfzxSFSUBIYy9L\\u002fIFLQObom6NvjkZASmgvob2kUEBHNDqmGVRSQOdwq1kpgUZAIl9yFur2RkDDw8PDw3tHQEpoL6G9pFBA0XBS9+VRUUByXhbxCaRSQFqJ4eaw61VA5DiO4zgOUkDtJbSX0J5QQDo4gkjrBUtA7D0EdAuGSEBdFvEJpJJLQHZcDfmSs1BAwpzHpW\\u002f\\u002fUkCebLLJJptJQNIDlbNbeFdAOHwt3pX5R0C\\u002fDPm9DHlHQNeUNWVNWVlA+IFaSKEHS0DncKtZKYFGQC7UnATiwldAYj2F9RRWTkALL6hfPH5KQARV0yi\\u002fKlFAwpzHpW\\u002f\\u002fUkADPjlcBnxLQFO7ErUrEUpAAz45XAZ8S0ADPjlcBnxLQB\\u002f96Ec\\u002f+kZAzc4\\u002f4cfsSED4g7gGh4FLQB\\u002f96Ec\\u002f+kZAQ1\\u002fQF\\u002fSFSUDGgT+nmFVRQC00t1N59EpApww83ZofTkDx4XjtWfpIQGjPyfRVgktACy+oXzx+SkCAuFBzEohKQC00t1N59EpA8UrUrkTtRkCez\\u002fXHy2BIQGfHcyopIElAPSrwxdUPS0DLgE8Ol4FVQAgwLBT+80hAEeY8Ln37SkDegmucefxRQLTiuvJnfElAAu1IoB0JSEA8tiJoOGlXQG\\u002fVxw4XKVVAXFd966pvU0DJ4HwMzqdUQIFL6beUfktA7Y4XW4LvVEDX\\u002fLBIGThVQAAAAAAAAElADJmwkH9\\u002fRkC82m1QVohKQLjpqBy5\\u002f0ZAnbAn7Al7S0BxEogLNTdRQAAAAAAAAElANibSA5WzU0DdEXfEHXFLQJfUVlJbyVJAK3g5BS9nSkAPzsfgfAxHQDuxEzux00pAdI39LuBiSkDYtJ8sgU1HQKW6xKyFAlBAy4BPDpeBVUCl1rVXM4hKQAsvqF88fkpAm7HCNBJ\\u002fRkABAAAAAABIQAEAAAAAAEhAT8HLKXh5UUBRDfSG3Q9RQD8jLpACCElA5Y+rxop\\u002fS0DnFLycgndKQIgh\\u002fJ33gElAPyMukAIISUA6cODAgQNHQCkNr4\\u002faKFdAUUXxowAESUDDWGPvfX5GQP\\u002f\\u002f\\u002f\\u002f\\u002f\\u002ff0dA1aeC1aeCRkDvBspISXxGQPpdy16o\\u002fUdAcODAgQMHSkC04rryZ3xJQEN0\\u002f3wvhUhAqms5uNn\\u002fRkA0KVm0T35GQHxdsdHQvWdAD5Rm043\\u002fR0Bcx7SorX1GQMMC8XXt9kpAXRbxCaSSS0BsKK+hvAZHQNXpFQt1eklAuI14X\\u002f+DSkC9CwfR43tIQPiDuAaHgUtA\\u002f\\u002f\\u002f\\u002f\\u002f\\u002f9vR0DnZ7fRTDBRQGC6KxtAi0hAWhYV8n4NSECPN7I5rwpJQFoWFfJ+DUhAYItmlCFHUUD\\u002fbTnT4ShQQF3Z55CaYElAAv4D+A\\u002fgS0CPN7I5rwpJQACRAkQKEElAw8PDw8N7R0BwHMdxHAdIQPGGvCFvKFBA+IO4BoeBS0D8jXX8jXVQQJuxwjQSf0ZAsRM7sRN7SUBtHrXfdhZQQER5DeU1lE9A1vXE2V58UUDGgT+nmFVRQFEyp4ShAEtA4lLYCEkDSEAr13MwiX9GQAsvqF88fkpAA5KQR3\\u002fbVUDgyHL4jSxTQAL+A\\u002fgP4EtApbrErIUCUEAVO7ETO7FRQHlerQRNBUdAGCbcPx56SkABAAAAAIBLQMZI1y\\u002futFNAamoQzH4ASkDJOLyrx3ROQH6F88y6Kk9AQH78+PHDUUBZNQ7tw\\u002fpGQGjPyfRVgktAdarbfg2PUUBADBaOzAlSQHAfwX0E90lAx\\u002frQWB8aTkB0zjnnnPNSQLXPdibKsVBAZFwJJXGCR0BU3mXtdHxHQCt4OQUvZ0pAGAN0\\u002fsWAUEAKTFs5vmFRQO6IO+KOeEtACBC1QroOSkBCQUFBQYFHQCk1V7LLgEZAk1s8ucVTUUBJtQBKtQBKQC4Kr94i4k5Aw8PDw8N7R0AB1bG3NkxKQJlXLOG6gEZA4xuILlX+R0AglZyXRXxJQD7v1LUc\\u002fEZAS0tLS0srS0DZiZ3YiR1VQAK8pEfTgUdACy+oXzx+SkDY19fX13dHQN9pq14fiEpACY7lIoB+SECsDjasDjZUQC9kIQtZCEpAlsm9cfljREC7tSbJaIBCQP12qSfjt0NAt17eTFD\\u002fQEBYHOCjZytDQJhB1jGDrERA8e+pSUX\\u002fPkDamh8WKQM9QH1LCg2Z\\u002fUBA3fHesOGBQ0Cg3TeFx9s6QO8GykhJfEZA7nIKXk6BSkDl5RaSD4JIQLY5qpus7FJAb\\u002fC+NbJ6RkBUGmWpPH9IQCt4OQUvZ0pAAAAAAABYS0C7aqOJjgFKQFkhyetmADlAKmOSoeF\\u002fQ0DeWQ1znH5AQPvkcn9EADlAGuikmdX\\u002fQkCLJ0g9lnhBQGQHb020R0pAmU+lpyv\\u002fQkAoXhu2egE+QLnawsdz\\u002fTxAYWwJvs3\\u002fQkD5y0TiS4FBQGnSHwfjhkNAAwAAAAAAPUDo6uns4\\u002f49QG6E5Z5GGD1A5mHdXTZ+QEA5bKTDRrpVQOu\\u002fTxuL\\u002fjtAzG9z\\u002fbj8O0APcGImTH5AQFZw+EKKgEFA3FvP\\u002fb6DQUCzlZBuNoBCQBA1fhA1\\u002fkNA+o2y+40yVUCm0Z\\u002fr6Pw\\u002fQPbFU893AEFAS1zp3oAyTEClgISfXAhDQOPlFLycAkJA7h\\u002fxGuH8PUD6W5zWbN9TQNx4RdMqH1NAuhT6k4wFPkCyHT29r3xDQFN0IlHHgkFAQrlxOwodSkBguisbQItIQC9kIQtZCEpATiKkWtaBSkDucgpeToFKQId3nKFkf0hANim9FQlUU0CVNWVNWZNSQLNly5YtW1JA2Ymd2IkdVUDowLaE6X5JQEid8kedckdAYLorG0CLSEBInfJHnXJHQA3Q+RcDdElAH5e+\\u002fZUJS0AJjuUigH5IQM5h1zNBulBAD5Rm043\\u002fR0AN0PkXA3RJQBVVIn4BslJAZAvUOxl6SUAyxOGTegFLQGwor6G8BkdAm7HCNBJ\\u002fRkDVc0zWcwxXQAH9BfQX0E9APyMukAIISUBwHMdxHAdIQE5fnDkVgUZAPyMukAIISUBkC9Q7GXpJQAAAAAAAAElAsyZqpJgBSEBoz8n0VYJLQAAAAAAAAElAKdRV6UyBUkAx8Rx0+fRHQPUk38dqdkdA6MC2hOl+SUAKs0u3UH5LQEsHNrPSgUlAlOWyreFZTkBpVbpjvoJIQHAcx3EcB0hARHqgcnbLaED6K9pYKftGQN2ZjBavfEZAcme78SP5SEAIELVCug5KQI4T08bl9VBAAgAAAACARkBOIqRa1oFKQNjX19fXd0dAXMe0qK19RkAw+4RkYn9KQL4IGbZyV05Ami7tKTt+R0CQJEmSJH1GQL0LB9Hje0hASbUASrUASkD1JN\\u002fHanZHQEdhiMMn9UpAAAAAAAAASUCcPHatGIJGQOjAtoTpfklALYmO9Q5BSkAU4qz8hPhGQEDLnPyWSGlAE3G5yXOASkAAAAAAAABJQNA6g16K+UZAHJxcfGx0S0BDKEIRitBJQAEAAAAAAEhA+IFaSKEHS0ABAAAAAIBLQBTirPyE+EZA32UiRLO7TkD\\u002f1U\\u002f0q3BJQHAcx3EcB0hAazyaP9h4SEArgoaTui9VQJAkSZIkfUZA5xS8nIJ3SkDSaQaMRgRHQOIlpxPPqlBAPafJHvd\\u002fS0BOIqRa1oFKQIPfszfwe0ZAnUn0nklUbEA6cODAgQNHQPYYGxZ3v1BA3ZmMFq98RkDcYaF934BJQGoa\\u002fL7Qf0hAAAAAAAAASUCzJmqkmAFIQA+UZtON\\u002f0dAde8maIP\\u002fSUBWwtgsqHZLQGC6KxtAi0hAA0h5YNiUWkBr7dh4VgVJQGlVumO+gkhAVKvRfkZ8SECQZWshdftJQFA5u4VfjUhASbUASrUASkA0KVm0T35GQEm1AEq1AEpA57QIWAj\\u002fR0BkC9Q7GXpJQIH2EtpLqExARXAfwX2ESEAvZCELWQhKQIsKfHH1g0lANClZtE9+RkCbscI0En9GQGwor6G8BkdA3RF3xB1xS0D39fX19fVKQAmO5SKAfkhAcme78SP5SEBGIxjoaARLQFBeQ3kNpVBAq+J2Tp99R0AN0PkXA3RJQL8M+b0MeUdASG+vPlZmXEAAAAAAAEBaQGu2OCRe401AjWtbU0+NXECRPBOZYV5NQONuNrMfz0lABCS9CKd1TUAJ9h\\u002fEyipQQF7A623011dAR2GIwyf1SkCJfNYNpvhJQNZeKD4C51VAazyaP9h4SEBoz8n0VYJLQDrt+MHzgEpAMR3xo+GASkBCOxnhaoFLQF1M1Yps\\u002fElAAQAAAAAASECIIfyd94BJQGk5J8dz+0dAOnDgwIEDR0DaZJNNNnlZQO8GykhJfEZAtgkSRsvLWUBw4MCBAwdKQGVEH1Ade0ZA+ivaWCn7RkBKDfNtjkZNQFHwcgpeDk1AR5IkSZLkVEAs2IIt2IJJQLW0tLS0dEdARa6a4XZwWEBsKK+hvAZHQJMkSZIkmVNATL5Z4XJ\\u002fS0AT6YRjWH9HQI8kSZIk405AbElb0paUUkAeNtJhI31QQPnUi\\u002fnUi0lAcB\\u002fBfQT3SUAPlGbTjf9HQIPfszfwe0ZA\\u002fGnwp8GfVEBVfIik\\u002f1FbQNJpBoxGBEdAjzeyOa8KSUDnFLycgndKQFzHtKitfUZAAJX6U+pPTUC29qMErn1JQMUlJlRuAkdAL0JkX\\u002fIBYEBtFsl0m4VQQIC4UHMSiEpAL2QhC1kISkAzcaa1J\\u002f9KQC9kIQtZCEpAOnDgwIEDR0AiSZIkSYRGQOyni1QDz09AuI14X\\u002f+DSkBw4MCBAwdKQICl1JadBEhA81k3mCL\\u002fSUAnvxIDdgBRQBNxuclzgEpA3s\\u002f93M\\u002fdaECQ8TcHZPxGQCbsCXvCfktAq+J2Tp99R0CJQ2SbO7VSQEHVSy3Rg0tAngf0WyYfXEAVuWqG28FbQAfdYlJvh0hAvSrWMzoASECcD63qDeRMQL785+5BplpAQzNhlk78SED1jTpvW5BbQPor2lgp+0ZAD5Rm043\\u002fR0Ax8Rx0+fRHQDU6TlL00ktA5vQP+ak7T0CsVIBq9S9UQC9kIQtZCEpA7wbKSEl8RkDnFLycgndKQFzHtKitfUZA2HTueAamV0Aljfuilf5KQObDHPMOVVlAb0TqodF+RkCtn0bE3X9IQM1eU6El9FhAPbyLL\\u002f3\\u002fRkDx78S\\u002fE39LQP\\u002f\\u002f\\u002f\\u002f\\u002f\\u002ff0dAsDJkbCyBS0BjK9YvrUtXQKQSr5SZ\\u002f0hAAQAAAACARkBe9acIRABKQAMIK1tdgEhAjkzeHEEASkAcWXC7cIFGQHkRsmBBgEdAAAAAAACAR0D1oSPsx39JQMeoWcXzm1VAQmmoQDTNVUAQFqFxqn9KQNC9hY53fUtAgajRV7iARkBrVYmumv9JQEn88vXjf0lAK3PNMeQAR0CFsB+DoglWQChxLPJTAkdAgj\\u002fgD\\u002fiDWEDx4XjtWfpIQL10cqxENExAtbS0tLR0R0ByZ7vxI\\u002flIQChvCxotg0tAoXSYx5F+SECeB\\u002fRbJh9cQA+UZtON\\u002f0dAvNptUFaISkB6YaugNgNHQGwor6G8BkdA4g\\u002f4A\\u002f6AS0BAmcGCd9JcQE4ipFrWgUpAOHwt3pX5R0DT988lHpFQQAxpMzhx2U1Ami7tKTt+R0BY8E5KdwtSQEJBQUFBgUdAAgAAAAAASUCApdSWnQRIQGlVumO+gkhAL0JkX\\u002fIBSkA7EWdE4\\u002f5JQC8ntzGgIFFAvwz5vQx5R0CbscI0En9GQOqzo4e5mVFAoqyelmoCSkCE4FQmbINLQODYpVEggktAsyZqpJgBSEBpVbpjvoJIQP7\\u002f\\u002f\\u002f\\u002f\\u002f\\u002f0hAGajybMiDRkB2Rphkon1GQL8M+b0MeUdAAz4CTaR9SUD6eRJvsPxGQCbsCXvCfktAq6qqqqp+SUA8k+g9k6hPQG+aIuwBxlJA19bJnc\\u002fNVECiO309VAVKQICthHSzAUdAWMBaAWsFSEBOVvSLcDlaQEKwjjbv01FAcme78SP5SEDhLzssmn9GQHAfwX0E90lAc\\u002f8uZWcrUkC2OaqbrOxSQO4+qGMfgEdAxBntHrZ+SUAEuOM08IJHQDNxprUn\\u002f0pA4eUUvJwSW0CYTxRZ4IBJQNi1e8HZf0dAc2iKacv\\u002fR0Bwy5523X9HQE8OMi8lAkhANChKrfZ8R0DO4lDlX\\u002f9JQPxkzxdpgEtA73dWuON+S0DygTpaAP9HQIZmnCLofkhAY6bLTjB\\u002fSEC6j1wf0n9HQEx3onzpTlRAT8Gy9g7zTEABGX9zQMZRQKK8hvIa\\u002fkdA3RF3xB1xS0Df\\u002fttIyXZLQGs8mj\\u002fYeEhA32mrXh+ISkByZ7vxI\\u002flIQHCh413P11FAAAAAAAAASUAlCt2UVMdVQIlFysDTLVJAkGVrIXX7SUB17yZog\\u002f9JQAMAAAAAAElA\\u002fv\\u002f\\u002f\\u002f\\u002f\\u002f\\u002fSEDqctQBOhVQQCqLROz9E1JAhRU6gxV6R0CdsCfsCXtLQPor2lgp+0ZAAQAAAACAS0BQObuFX41IQAgQtUK6DkpAH\\u002f3oRz\\u002f6RkBW5rqUBv5KQPiBWkihB0tAAQAAAAAASEB17yZog\\u002f9JQHJnu\\u002fEj+UhAcODAgQMHSkDTD4W\\u002fHYFHQCJfchbq9kZAnbAn7Al7S0AobwsaLYNLQL0q1jM6AEhAarpkVfSBS0BHCUihZf9KQBAqvVGRf0hAgGP4AlC7TUABvsS5v9lRQDQpWbRPfkZATiKkWtaBSkCdsCfsCXtLQJaG7WZ5kk9AasT3qNUbYkDBRJkLaoBJQMD2kMuKgUpAlTGu7aMqTkA+79S1HPxGQL8++hTlekZAXscoznWMWkAT6YRjWH9HQG1jbrpB\\u002fUhASwc2s9KBSUC6JgK5JoJHQJUmzFZLg0lABU2ZM7tbUEB3OQUvp+BTQEm8h4tq\\u002f0lAK9dzMIl\\u002fRkA8r\\u002foiZNhQQKuqqqqqfklAJWv45WpVWEBpqGQw3KlfQB7st9oYmmBAOnDgwIEDR0C2UHnPeYJGQG\\u002fVxw4XKVVAgKXUlp0ESEDoNxlYa39IQFadPKrYcElA+IO4BoeBS0BwH8F9BPdJQO6IO+KOeEtAE3G5yXOASkCP7hCp9\\u002fxHQBTirPyE+EZA+KwbTJGnWUC1GdPT\\u002fQFKQEYjGOhoBEtAkIUsZCErVUBt41bt3wBIQMGFmpNA\\u002fElADJTiCen+SUAFTZkzu1tQQAUeI12\\u002fOFFAkGVrIXX7SUBHYYjDJ\\u002fVKQJBlayF1+0lADJTiCen+SUC60r0BZYJKQJupvT06gUpAD5Rm043\\u002fR0BpXnnRkgBLQCCVnJdFfElA1gbTFDiASUDBhZqTQPxJQPiDuAaHgUtAOHwt3pX5R0BJhv3ryIJKQN06DaRYfktAde8maIP\\u002fSUAtNLdTefRKQE\\u002fBsvYO80xAgLhQcxKISkBhNAOelgJLQL0LB9Hje0hA0n8GFueAS0C\\u002f7XJxlvlKQG\\u002fBNc48\\u002fkdAMRdIeOuBSkDtcJEqOPFIQAEAAAAAgEtAbCivobwGR0BANCJMAQJKQPor2lgp+0ZAB91iUm+HSEBQObuFX41IQGd2DIiiA0pAOjiCSOsFS0DowLaE6X5JQA+UZtON\\u002f0dASXWIDXwGU0DU0tLS0oJHQKuQ9khUlkdA0TsSeeb8RkC+3ZKblIBKQGKxN2PkCEdAOu34wfOASkA9EXiB8X1KQHi+PVrmgUpAwwLxde32SkAJjuUigH5IQMuc\\u002fiE\\u002fdUhA+dLObkIASkA2QGOZG\\u002fxJQAfdYlJvh0hAD5Rm043\\u002fR0BJhv3ryIJKQL8++hTlekZAEsg1Eci1S0BJhv3ryIJKQKZSrvILeUpAzsmD86oCSUAAAAAAAABJQJrobZzlBEtAzsmD86oCSUCmUq7yC3lKQCEa60NjfUlAVN5l7XR8R0DdeUofkwRJQNmBYivUhEZAHR4eHh5+R0BJhv3ryIJKQL0LB9Hje0hAjos594N6RkAWSjC99llWQAsvqF88fkpA3ZmMFq98RkCQJEmSJH1GQDh8Ld6V+UdAOHwt3pX5R0Ax8Rx0+fRHQA+UZtON\\u002f0dAZUQfUB17RkBwHMdxHAdIQIPfszfwe0ZAbWNuukH9SEBmxJsRbwZKQIc\\u002fbl3eAUtAAAAAAAAASUBwHMdxHAdIQO6IO+KOeEtAlddKrtl\\u002fRkD3umKjoXtGQKOlpaWlgUdAAAAAAAAASUCSfE29c4JGQNUjs3zKgEdAK9dzMIl\\u002fRkALL6hfPH5KQC9ixIgRA0tAMR3xo+GASkD4gVpIoQdLQHcGzMhifkZATL5Z4XJ\\u002fS0AiZS+Oqv9GQN\\u002f+20jJdktA+ivaWCn7RkDlL6C\\u002fgP5JQOYksXdz\\u002fkpAVN5l7XR8R0APCvl6g4JJQM+TqONHgUhADx9BGBb\\u002fRkD1JN\\u002fHanZHQNJ\\u002fBhbngEtAcODAgQMHSkDUN5IHsPxKQOcUvJyCd0pAkGVrIXX7SUDncKtZKYFGQPYdFy\\u002fbAEpAE3G5yXOASkBnEEAKaAZJQPUk38dqdkdANClZtE9+RkCCVYwApQFKQJAFxYURgUtA8e\\u002fEvxN\\u002fS0BnYrVNQn9JQHU7VwU\\u002fgUdAbrmm1TCASEDDWGPvfX5GQDQ00tvg+0lARj5srPD\\u002fSUC29qMErn1JQAAAAAAAAElAoo9yzHAASEBxKK18voBLQLCZTsvHf0dAhXM3tIn\\u002fR0CQZWshdftJQNjX19fXd0dAWTUO7cP6RkBcx7SorX1GQL8++hTlekZAFlx8aHn7RkDZFjzbowBJQBycXHxsdEtAoIGJ5DL7SECl1rVXM4hKQPz6+vr6ekdA\\u002fPr6+vp6R0Bx\\u002fsUAnX9JQDD7hGRif0pAeV6tBE0FR0ByOavHjoBHQP\\u002f\\u002f\\u002f\\u002f\\u002f\\u002ff0dA\\u002fv\\u002f\\u002f\\u002f\\u002f\\u002f\\u002fSEDsPQR0C4ZIQCzYgi3YgklAPYk1r1TPTUBiwCeHy4BIQPOhsT40Vk1AKG8LGi2DS0DsDQr5eoNOQPKZ+7YQ71FAKhO2QXBqUkBY8E5KdwtSQMmEi6mlgEtA2DhYJ3kBS0DMIDxun3lTQDAFN0dZsltAARl\\u002fc0DGUUA+OVwGfHJSQD8jLpACCElAOHwt3pX5R0Doio2G7gNPQJ2wJ+wJe0tAgwMHDhz4SkD+\\u002f\\u002f\\u002f\\u002f\\u002f\\u002f9IQPFQa+d6mWZA2f4czHd6SEA78beAE39HQIj4VN0sAkdAjbGFHYZ+SUBfF94CyP5KQDze4z3eg0lAxSUmVG4CR0C\\u002fDPm9DHlHQMMC8XXt9kpAZ87c6kVPWEAOKBNXurdbQAzN7VQeXVZADM3tVB5dVkC7E+Q7bQBJQPaomOAhdFtAN05938\\u002fFWEB2ucTkxyVZQLS0tLS09FpARGNGXaMGW0B0R\\u002fThkshaQMJ\\u002feJdXG11AOh\\u002fUdCKAR0BGLi5MXV1aQHvNkg\\u002f8\\u002fVlAqSaS9msFW0BHHPjk3kxaQKmgeWs\\u002fFVpAy5z+IT91SEDdmYwWr3xGQJEkSZIk01BA3ZmMFq98RkAs2IIt2IJJQFUY7Js6iklASNpbzUT3SEBI2lvNRPdIQKvidk6ffUdAhRU6gxV6R0BpVbpjvoJIQNJpBoxGBEdAlyNjrBABSkAx8Rx0+fRHQKXWtVcziEpADJF1b8OASEDV6RULdXpJQAEAAAAAAEhAm7HCNBJ\\u002fRkA\\u002fIy6QAghJQIX2EtpLaFNAg9+zN\\u002fB7RkCYTxRZ4IBJQJw8dq0YgkZAcEybgFJ0UEDx4XjtWfpIQP+xi4va6ktA8sonYjaXS0CIIfyd94BJQBJXmQLmA0pAazyaP9h4SEAreDkFL2dKQIgh\\u002fJ33gElAq5D2SFSWR0BHYYjDJ\\u002fVKQACRAkQKEElAR2GIwyf1SkD1I\\u002f4epoRGQI71obE+lFNAMBGeFCR\\u002fSkDwuviFNpNMQCk1V7LLgEZASbUASrUASkBGIxjoaARLQLW0tLS0dEdA60NjfWhsW0D4gVpIoQdLQJsDMv7mgElAHydart99S0B+Al4hh7BJQHH+xQCdf0lAabavv1wfSUBXFMbAxAFIQOYqGC5AIkxAl3fG7FdmUEAEL6fg5ZRPQPnSzm5CAEpAQ1\\u002fQF\\u002fSFSUC41Fi9xJpgQHDgwIEDB0pA3RF3xB1xS0DekDfkDXlVQG0WyXSbhVBAB\\u002fuACSEFXECsVIBq9S9UQGR9aKwP\\u002fVlAcf7FAJ1\\u002fSUAvQmRf8gFKQBhogRZogUZA\\u002fv\\u002f\\u002f\\u002f\\u002f\\u002f\\u002fSECJRcrA0y1SQAYvp+Dl9FlAQ1\\u002fQF\\u002fSFSUB5Xq0ETQVHQPiBWkihB0tAYop81g3+SUBguisbQItIQJaKDxwPzUlAL2QhC1kISkArUlFfyxdUQEHNdHyvg1BAplKu8gt5SkByXApxE49NQGs8mj\\u002fYeEhAH5e+\\u002fZUJS0AH3WJSb4dIQGC6KxtAi0hAMKfg5RRsUEDnJQ1teclRQAv9isrFfUZA4xuILlX+R0B\\u002fdE41uIFIQMu6Cxh+AkdASNpbzUT3SEAx8Rx0+fRHQJ0O7VoYi2BA0xXyR8N\\u002fR0D4g7gGh4FLQKz\\u002fKw6cnklAm7HCNBJ\\u002fRkDRSzFfaJ1NQAxnfJjhjE9Ac9yqBHCASkD7wWRGmQBKQEVwH8F9hEhAXPe6171uT0DDAvF17fZKQE0OMi8lglVAAAAAAAAASUD3umKjoXtGQMMC8XXt9kpAi+ksprO4YEDQOoNeivlGQDQpWbRPfkZAcme78SP5SECivIbyGv5HQKR60Mg7f0pAS8UQsvE6RkBPRfGjAAQ5QFdVVVVV9UdAbcqE6H0jRUAKKTBMnv4+QPbFU893AEFALIpxyu3+QkDmpX+gHAI6QIhCgUpmfkBA9uaK5Mn+QECgkXMx0wM8QGKlpxZWukdAT0XxowAEOUAG\\u002fG+bgv45QLiKdqb0+jtAn9KRPQNROUD9dqkn47dDQJS1yWBsATtAAAAAAAAAQEDf0wjLPf1DQPTee++99zxAq+dHFMSZQEDUM+gRiAFDQFS870VTADtA+uqrr776OkABAAAAAMBCQEjWkNM5\\u002fz1AFUZ1mhxkSUDAPk93j6VLQHGU3W+U\\u002fVBAgmaAoR2vUEDyMQH1MQFEQP12qSfjt0NAU0oppZTyPkDKq5GmYv9CQIxW2BxI9D9AQys+zRWAQEA9sRM7sRM8QLe2mMDlgkBAAAAAAAAAQECf0pE9A1E5QEll6L0TBEFART7rBlPkQEDtH8jhdPM7QMZMEdtl5ElAjUttZw\\u002fnSUC+495ckfxCQEElKn4gA0NAiR6zZjkGOkAriiUoWf9DQLkzBTQIUkRAM2oUBWU+Q0B6rOi9xIJOQOzfgPV9GEZAZrsQZrsQPkBgkr63lwA5QBxjWSkMfEBA5O4osjfuPkAETYOxZgQ6QNxbz\\u002f2+g0FA2FprrbVWQ0CAtx8SePtMQHoLJ+uF+kJAHFI9auT3REDSn1J\\u002fSv1BQKDXsyTo9TxAus60mvl8QUBrPJo\\u002f2HhIQFA5u4VfjUhAkGVrIXX7SUAN0PkXA3RJQLW0tLS0dEdALpp1LJp1R0AdCWYQHjdRQHXvJmiD\\u002f0lAw8PDw8N7R0BxlN1vlP1QQFGFvvXJAEtAsRM7sRN7SUAfGutDY31IQO8GykhJfEZAOxFnROP+SUAbTJHPukFIQKWAhJ9cCENAAQAAAAAAREDf0wjLPf1DQEtc6d6AMkxAjxdbgm8TU0CR4ziO4wg+QESBSafmAUJAZMiw70cHOUAGcj8xUQk7QPf19fX19UpAyrd8y7f8QEBIf852fAhDQBA1fhA1\\u002fkNAeEPk3RB5Q0Csq2NWr\\u002f1CQF7\\u002fJo6SgUFAC5V0o5j9PEADAAAAAAA9QAb8b5uC\\u002fjlAJ2pXonaFQkBPHlrP\\u002fANEQNPAu76A8DtAD3giS8YAQkAXG7gdkP87QKePcsxwAD1AaDefKeKCQkBSDLLyFgU9QDg33f1A\\u002fT5A6ZtV00MUPUBH2CwHfIRRQIT+JGNRDTtApYCEn1wIQ0COv2yv\\u002fvw\\u002fQB4rn+YoBjlAoNezJOj1PECgP2c7PgQ7QB4rn+YoBjlAeSv+97z6QEAeK5\\u002fmKAY5QAyrpIdJjElAaOObobX7QEDsV4w94vc\\u002fQLe2mMDlgkBAcREBc7N4Q0Aj3OFQVP1AQCdqV6J2hUJA4cfs\\u002fBN+QUAEYWWrCxA8QGrr5c0E9UBAAAAAAACAQUAnaleidoVCQB4rn+YoBjlASS7g9Tb6OkC4inam9Po7QG0Wb7jmCDlAwvkYnI8BQEBCiADf\\u002fYNBQLiKdqb0+jtAnETB1N1\\u002fQ0BTSimllPI+QN\\u002fTCMs9\\u002fUNAeOu8Ahp3Q0DSt9LePQJEQAcYPJb3aktADUaGhSH7O0AThLux7xE7QHqiW0MH00dAbBssBHacSUAAAAAAAMBSQB4q0rOZATlAKfJZN5jiUkDAgDOuRQJDQIi0XsA2h1BA8hgWy59\\u002fQUBFPusGU+RAQAS4sxxE+UJA+EU6YCxfQUA6RQtnQCg5QE09+g7ZfkFAyvdwJJhBTEBglVRkKcRAQH5g8gcmf0BAwXH5Y0sCPECJfNYNpvhJQABW417gX0FAvgo8D5XVSUBZGJCzRmxJQFtrrbXWWkNA9leNe4H\\u002fT0AAAAAAAAA6QP0Y1UTSfkFAZ58rx1UDOUCB19voDwVBQPJiS\\u002fBt\\u002fjpAabBCZ7ACREBlvEsf\\u002fvo\\u002fQKVXd0COaklAP1kCm\\u002faTQkCCgwE4GIBAQIHxVvY5JE5AUabiuWZ1TUBW+pISHQw+QP41O2oRckpAkUnxApmUSkAoJMIEJ\\u002fNMQEzOyyI+gUBA6fQCzPwiRkBuSPENbAU6QOCkZNJ0b0VAr6I0PjKBQkCdgek6xxo5QDcjZtLMQz5AJnIWpBD+PUCJndiJndhMQAo9hB5CD0BART7rBlPkQECcN9YjKQBCQP9p3hqEyUlAxZW7RLp\\u002fQEDm5T+enIBCQNQz6BGIAUNABxg8lvdqS0D9dqkn47dDQP1bNv2J0UhA6Orp7OP+PUDKt3zLt\\u002fxAQI0rN+LU\\u002fzxApwIinYT7OkDv3Llz585BQCv6GR+3f0NARNYagPmSQ0A9sRM7sRM8QD2xEzuxEzxAtI8ywTX7TEAX48voHLRCQI7fLvVk\\u002fD5A7o+JUv7+PkB7gXuNV\\u002fk9QB7QgL\\u002f8AUFAPQ+lSr76PUAo3VaBBvs6QHQFjm4PgEFAZCELWcgCQUAUhvwBSLJGQPrdPEL1mUdA8hgWy59\\u002fQUD9q9u\\u002fun1AQCNJkiRJElBAtgctDydHUEDTEqSXtQQ5QDCX5je4akhAuhK1K1H7OkBT5LNuMMVRQHS2BsZRbE5AeD0NKRE4RkCUP6+yOAM+QA5Ghyjt\\u002fj1AKbWuogDHQUBM+6cNAMFCQOvIERcraElANnBr+0nrRkBNnCwMz4BAQFdVVVVV50ZAPJBohc0BRkDDTuzETuw6QF9jA2EKrkJAxfLW7sf9PUCFVYwApQFAQAbaWLMpAjlA5TiO4zgOSEDMzhEyP4BAQH8LpqFapEZAK9zVN8n7O0BIXRq\\u002fnwA\\u002fQMjViQYHAEFAVD1o5J1\\u002fQ0DwcmXv5n9CQMxqVswsjERAS7X45mQAO0BWwf6KCYFBQCcHyUfzgEJA+APq5G7\\u002fQUBQC+pioWVVQEU+6wZT5EBAb5oi7AHGQkAodmIndqJQQDfNFuZu01JAjFbYHEj0P0DMT4iz8hNGQNdQXkN5DUVA39MIyz39Q0CE3MTy6YVAQB6TlJjjMVVAw6d7OVaBQkAh00LZN0tDQICVClCt\\u002fkRAJl82aPLlVkA3zRbmbtNSQIjYwGcMx0JA5DiO4ziOQED\\u002fmCjl749RQK0eVg+rh05AG0yRz7pBSEAcGGTioHpAQI4GggJ9CDxAwvkYnI8BQEC1SOWy05ZGQNfzfjtmhENACikwTJ7+PkAG\\u002fG+bgv45QKCBieQy+0hAadIfB+OGQ0B8kBTW\\u002fKNCQAEAAAAAwEJAXv8mjpKBQUB+zY5ahDxGQLde3kxQ\\u002f0BAzE+Is\\u002fITRkDFHXFH3BE9QP12qSfjt0NArKqqqqqMRUDZRqxLj\\u002fk+QEU+6wZT5EBAJEmSJEmSPEDatMUVkmBJQB4rn+YoBjlAAAAAAAAAQEBI7hQtnAFAQDeU11BeA0NAWk2vkwr+PUAXsFbAWgFAQEll6L0TBEFAc84555zzPECE3MTy6YVAQDmF+0xQBEJAfq5GQHseUkBKNfpINfo9QMm5JJapD01AD58\\u002f5ijdSkCsQ9Fs3Pw5QNmcrvJM\\u002fD1Abt6nuGQIQkAO5TWU14BCQLMJ+SgAAjlA3idwK5qBQ0CMRs2\\u002f2qRDQIzbZ76HI0VA5yqdnk0FQ0CDHYZ+rPlDQEKIAN\\u002f9g0FAKob6yxEpTkBfj9WLtgVDQB5bETScVFFABqLSkT2DQkCE\\u002fiRjUQ07QKsJkJ525ERADIqnPa4CQkA2Fc0TagFDQD2xEzuxEzxACpLdNRsLPkAeK5\\u002fmKAY5QDi96U1vekNApbAfbfTpQ0CgKNtoX7VHQA6XGPhdhkJAK7ZH0H59Q0CF8zE4HwNBQAyKpz2uAkJAHYgYrnh5Q0DrnW\\u002fQEgVAQHvgTAywBz5AQBd4bDD6OUBAF3hsMPo5QIHo8V04CDpAAgAAAAAUPkCF8zE4HwNBQH9orA+N9UFAu6+s3iUPPkDboHxMkgA5QJiuSA1y+zlAxfLW7sf9PUBfyTSVsXZIQHAfKs5XKExAr7QFUUv6PUAbWrsPtwA8QOszhck3gEBAbmUQl58CPEBtFm+45gg5QBLaS2gvIVdAQAghhBCCQkBq6+XNBPVAQO6PiVL+\\u002fj5Ax7vnNHqLRkB7gXuNV\\u002fk9QPDLYyuChkBAPyMukAIIOUBfZXFGuwdBQARhZasLEDxAQYJRRYJRTUBkPvViPvVDQAEAAAAAwEJAf2isD431QUDspDMvV+89QOPlLRQLfFFAYS5kpJr4O0Bxz8HhnoNAQBTirPyEOD1AdT0zAAEFOUDsV4w94vc\\u002fQDaU11BeQz5AcREBc7N4Q0DGdZLg4GlLQExg036yBEZAcREBc7N4Q0AAAAAAAIBBQCdyf2uJ3FVAxnWS4OBpS0B5K\\u002f73vPpAQBtMkc+6QUhAPgie8wGAQUD6N9MjsAw\\u002fQLh8y7d8CzxAq8uBsUIKREBwgVhv9+w9QN15Sh+TBElArFSAavUvVEAtYEzi4P1CQHjrvAIad0NAfdBjWCx\\u002fQkBTuxK1KxFKQDaU11BeQz5AIwtZyEIWOkAkSZIkSZI8QB4rn+YoBjlALWBM4uD9QkB5k7vJ3eRCQP12qSfjt0NA\\u002fXapJ+O3Q0CrKI2PTKBDQIMWaIEWaEJAttZaa621R0A9sRM7sRM8QBnXB6dKK0dAqaKgPmR5QUD25orkyf5AQLe2mMDlgkBAJZ91gynyOUD9dqkn47dDQHoLJ+uF+kJAr0O\\u002f2Tr0QEDtVTBLykFIQFHzHJ0P8DpALbroootuTUBR8xydD\\u002fA6QD8jLpACCDlAXEvk\\u002ftYSQkBQmLYvFKZFQImHh4eHh0JAG7oVh3\\u002f3PEBxz8HhnoNAQGI9hfUUVk5AgwMHDhz4SkBguisbQItIQFoWFfJ+DUhA+dSL+dSLSUABAAAAAIBLQCJIZkPu\\u002fTpAxr4Jsm+CQ0C9lspUIf46QOjq6ezj\\u002fj1AWBVs10j7OUDUM+gRiAFDQCjdVoEG+zpAp49yzHAAPUBdqDkJxIVBQCs4+ys4+0NAtiYCuSYCOkDA9ADE9AA6QHCh413P11FAcKHjXc\\u002fXUUA4fC3elflHQL0LB9Hje0hAZWWnMS2IRkCJRcrA0y1SQGtO7TOMekdAPyMukAIISUAmhYbMvgJLQAAAAAAAAElASmc\\u002fGn1\\u002fSkAAAAAAAABJQAIAAAAAeElAcLHoDeMES0ADPgJNpH1JQFEyp4ShAEtAUFsZpuGCRkBsKK+hvAZHQN7lFLycgktAfduVoup9RkBOX5w5FYFGQNnbCeZMAktAL2LEiBEDS0Bs5EBYMH9WQPiBWkihB0tA58bLZp6ARkBDM2GWTvxIQIC4UHMSiEpAgLhQcxKISkDU9bUidYBAQN6BLe5RYzxA0xKkl7UEOUCWyb1x+WNEQHIKXk7By0hAJQyH9O4DPEDE+Ricj6FFQPzz9HoAw0JA+mVnuaR\\u002fQ0A7Ln37KxM9QKPsfqPs\\u002fkpA0xKkl7UEOUAhs1Z5sANCQLzR9QKU6DxABB100EEHO0AykJPMlfI7QDNERntsiEBA7npQwbL2PkBF8PHlfPZAQJIV5OfT\\u002fD1A7vHhnCCXQEDCIOHSDP9BQLzHe7zHe0BA5yqdnk0FQ0CD5Z5GWO5CQF8IJM7cm0dAbKH4LR5cSUByfLBriT1IQPzz9HoAw0JABKBWrIT+O0ClsHLXhvpBQEfpsf\\u002fTdEhAHVG3hBxVQ0CLe5ws4wFBQJxzzjnnnE5ApwIinYT7OkA9t3kYyfA8QBaj95108zpAykpWspIVRECHgmogINJBQCFi\\u002flYzQ0JAAhTRqx0XSEABK7\\u002fMqv89QA9wYiZMfkBAAAAAAAAwQUBbrLkHo5xBQJaCGvBdWERA+bjvlkJ\\u002fQkD8v+I5Q\\u002f8\\u002fQC9zLf7aAENAOoGcuxt3RUBBNcRpIYFDQAQGxnk9AEFAFOKs\\u002fIQ4PUCBuXZgrh1SQFW7+th2\\u002f0FATx5az\\u002fwDREA6SiGcK31FQDyf2\\u002fCJATlAKF4btnoBPkBG2f1G2X1AQPNIfh+PAURAqKWlpaWlQUBCQY+Z2PBIQKAfoRyqAT5AGa45Qtp1SkAc5hnmGeZBQPjQPivlfkJAfwT3Edx3TUAaphFCBRNAQC1Wz6x8zUJAiAhTouQRR0AfLlIFJx5CQJlS\\u002fmfQhkFAAgAAAAAAP0BHcFTdlQQ\\u002fQCjO9uJ7AE9Azm01kRn6O0DuH\\u002fEa4fw9QJQFu0ac\\u002fUNA2Aocs04LSUDuvjy2Iug6QAJJTH9QHFBAflFnGjcwSkC6zrSa+XxBQILBjZCCSEJAQAghhBCCQkD9\\u002f\\u002f\\u002f\\u002f\\u002f\\u002f9DQLrOtJr5fEFA\\u002fvQNqjn7PEDF3YYuvQU8QE9F8aMABDlAAQMDAwMDO0DTa+su8X1BQCGIc1knLExAWk2vkwr+PUBsdtQi5K9BQCGzVnmwA0JAvgBPGOAJOkAnJxFtKYBDQLMJ+SgAAjlAqaKgPmR5QUCjlOC6NKdIQK4hQp5JAkNAbHbUIuSvQUAfFzFxnwFAQCjdVoEG+zpAxfLW7sf9PUAhs1Z5sANCQPbmiuTJ\\u002fkBAqaKgPmR5QUAIajEIAEE\\u002fQNKfUn9K\\u002fUFAnX69sO4KPED+\\u002f\\u002f\\u002f\\u002f\\u002f\\u002f9IQCWfdYMp8jlAoUlnAEbxQEB2FtNZTBdQQMa+CbJvgkNAQ7CONu\\u002fTS0CcWljpqQVEQGjdYIp8hkFA0rfS3j0CREDamh8WKQM9QGQ+9WI+9UNA6Orp7OP+PUDOqx2XB\\u002fc7QP1Ztpo2BDlAnX69sO4KPEB4JWpXonZAQCcnEW0pgENA8aC4IkIQPUBmuxBmuxA+QC3UnATigkFA+10tbsL8QkD65bEVQQM7QO6PiVL+\\u002fj5A\\u002fRjVRNJ+QUAL\\u002fplHi8pFQGQhC1nIAkFAPQ+lSr76PUDX8347ZoRDQEDkgatoZ0VA4WYaDSEDOkBZNQ7tw\\u002fpGQB4cYnFLf0BA1aLCypPhRED58LeQZuVFQMGYZiPkaERAPbETO7ETPECPsvuNsntUQKuha\\u002fGZNVlAdlwN+ZKzUED9gLPNn4FAQG4MwFRcAT1AhNzE8umFQECAH5QyXJxLQNGodxr3V1FA0nL97uNEU0Bio8eUMAA6QGKMMcYYYzxAhNzE8umFQEA6RQtnQCg5QA7lNZTXgEJAAQAAAACAQkAU4qz8hDg9QLde3kxQ\\u002f0BARzQ6phlUUkBYim5x\\u002fvhSQGKMMcYYYzxASpupQELhSUDi2o1O5SZFQERsa78Z\\u002fkFAJykMldoXUEDxDkmGfBJJQAUeI12\\u002fOFFA0thOqA7uUEBp0qRJkyZCQKxUgGr1L1RAb5oi7AHGUkBwUP0AQwJDQIs5XMi3CU1Ab+FXYyK9U0D\\u002f\\u002f\\u002f\\u002f\\u002f\\u002f29HQEh4kmK0Xk5AG9I\\u002fG9L\\u002fUED\\u002f\\u002f\\u002f\\u002f\\u002f\\u002f39HQAMo1QIo1VpAqms5uNn\\u002fRkAcx3Ecx5FhQGPbCZEx8FBAkjLwdGt+XkBKaC+hvaRQQNNX\\u002fjkSgktAsfdW6B6fUEA5velNb\\u002fpJQMBjAI8BPFxAsJlOy8d\\u002fR0DLZ91ginxKQPiBWkihB0tAdlwN+ZKzUEA8i+kspnNIQAAAAAAAgEZAPSrwxdUPS0DdmYwWr3xGQGwor6G8BkdA6ZkLM3rmQUDV8jqawJ1NQFA5u4VfjUhA0gXGTDKuWkAcFQnKE4FGQOg3GVhrf0hAiCH8nfeASUAwp+DlFGxQQAfdYlJvh0hARBaykIVsUkAfa9Mwz39KQD001ofGekpAsE2XYAOBSkCmUq7yC3lKQAgQtUK6DkpAcLHoDeMES0Cx3NMIy\\u002f1eQCoTtkFwalJA8CZog3\\u002fbWEDdewWVkH9RQPLKJ2I2l0tAomSWEH4kUkDZ2wnmTAJLQJU1ZU1Zk1JAPDli404OWEDSA5WzW3hXQFGFvvXJAEtA+FhpwzKXUUBguisbQItIQPnUi\\u002fnUi0lAgwMHDhz4SkCPN7I5rwpJQBTirPyE+EZAtc92JsqxUEAqE7ZBcGpSQPXcuwnaIFRANSbSA5UzW0DuIPHtIHFQQB84EwPsAVRAb\\u002fC+NbJ6RkBkXAklcYJHQHafzTlAgEZADRou1xT\\u002fR0BndgyIogNKQGQL1DsZeklAq+J2Tp99R0Bz7yZog39HQFGFvvXJAEtAAz4CTaR9SUDdmYwWr3xGQIUVOoMVekdA6aKLLrqqYUA9EXiB8X1KQFGFvvXJAEtAUYW+9ckAS0AvQmRf8gFKQJIsHJwzA0lAFF6CqTWCSUBFcB\\u002fBfYRIQNYDZg+YfUtA2f4czHd6SEBxeEYLDIdLQKohVNKNAktAzsmD86oCSUC8z\\u002fQ+0\\u002ftIQLiNeF\\u002f\\u002fg0pAU3QiUceCQUAUDKoeEv86QJyZ1GQwAT5A6WHhEOkCOUDI7FfB2wI5QJo\\u002fBCGw+TtAPWM4WpCAQkCJHrNmOQY6QP7F71kFg0tAkGVrIXX7SUBFcB\\u002fBfYRIQDo4gkjrBUtAcme78SP5SEBDX9AX9IVJQC00t1N59EpA+IO4BoeBS0D39fX19fVKQPor2lgp+0ZA0DqDXor5RkDl5RaSD4JIQAAAAAAAAElA2YFiK9SERkB17yZog\\u002f9JQDpw4MCBA0dAARl\\u002fc0DGUUAPlGbTjf9HQPIKaNytk2ZAcjmrx46AR0AibrQc831JQPzq1Da6+0ZAWTUO7cP6RkDvBspISXxGQOdnt9FMMFFAh90WWkkCSUAH3WJSb4dIQCTQDx2kgEpAUZSPQP8AR0BZNQ7tw\\u002fpGQPor2lgp+0ZADOU1lNf4R0BHRWhRp\\u002f9CQCoZ8fGzAERAQkFBQUGBR0CQJEmSJH1GQPor2lgp+0ZA3\\u002f7bSMl2S0D+\\u002f\\u002f\\u002f\\u002f\\u002f\\u002f9IQJw9Wh+n0U1Acme78SP5SEDVi\\u002fnUi\\u002flQQLC\\u002fZS6Wc01AYItmlCFHUUADFlECFtFBQP7q1yepK01AOHwt3pX5R0BYwFoBawVIQIUVOoMVekdAZ3YMiKIDSkC9CwfR43tIQI\\u002fuEKn3\\u002fEdAcBzHcRwHSEAmY\\u002foJYBxNQIl81g2m+ElAZ3YMiKIDSkDpllIXD1VOQJAkSZIkfUZAQ1\\u002fQF\\u002fSFSUCQZWshdftJQAo\\u002fggFzgEdALCAEzFt7RkBY6qrdgX5KQLzP9D7T+0hAQ1\\u002fQF\\u002fSFSUC3ltp5ZDxMQGs8mj\\u002fYeEhAooMUsDzeVEDf\\u002fttIyXZLQI80ZvG4Lk1AXUzVimz8SUATcbnJc4BKQL8++hTlekZAH\\u002f3oRz\\u002f6RkCQZWshdftJQGCLZpQhR1FA\\u002f2050+EoUECFFTqDFXpHQKI7fT1UBUpAP+GVvS4oTUDDw8PDw3tHQA+UZtON\\u002f0dA\\u002fjy9HsCwTUD+PL0ewLBNQDo4gkjrBUtAL2LEiBEDS0ASMZtLhxpJQK31oGDVVlBA35ofFikDSEA2p6s8Ex9XQAAAAAAAAFRA1DeSB7D8SkDMCXg+PW5UQASktBsB6VBABXeIsswLR0Cxj9pIGIhKQHpQTLJvT1FAbCivobwGR0DqOxv1nY1LQC7JmcOtZl1A0UsxX2idTUDYsK11EwRLQD0xi8JafUdAwR+3Lu8ASkCbscI0En9GQNiwrXUTBEtADJF1b8OASEAAAAAAAABJQA3Q+RcDdElAYXNrO+hvRkAihBBCCIFJQOT1URsJA0hAgYKCgoKCRkAbfXP0zXFSQCVJkiRJEltAuG3btm07VkDuiDvijnhLQFBeQ3kNpVBAHzgTA+wBdEAyBtmrfhFQQE0MsAfORF9AR2GIwyf1SkAtNLdTefRKQMSUeUVMmUdACY7lIoB+SEDS0tLS0kJRQGvt2HhWBUlA+H4BuGhQTkDfZSJEs7tOQKxl7H0C\\u002fUZAXVFX1BX1UEAdHh4eHn5HQAo2EDj3Fk1Aj+4Qqff8R0Awp+DlFGxQQL8M+b0MeUdAeV6tBE0FR0AJ8B\\u002fAfwBHQDQ00tvg+0lAhc5ghc6AR0A4fC3elflHQP\\u002f\\u002f\\u002f\\u002f\\u002f\\u002fb0dA2rZt27YRTEA4fC3elflHQDh8Ld6V+UdABR4jXb84UUAeGutDY71OQO2NM8DbfElADS9MuH+8UkDoKMGKqVJWQHlerQRNBUdAwnazPInMXkDf\\u002fttIyXZLQHAfwX0E90lALTS3U3n0SkAxF0h464FKQEm1AEq1AEpALTS3U3n0SkD+\\u002f\\u002f\\u002f\\u002f\\u002f\\u002f9IQJUxru2jKk5Azpgz5ow5XUBQObuFX41IQJuxwjQSf0ZAkSRJkiTTUEDnFLycgndKQKXWtVcziEpAEUIIIYTQb0C6JgK5JoJHQHCh413P11FAvMd7vMebU0BndgyIogNKQNJpBoxGBEdAQkFBQUGBR0Adx3Ecx1FQQN2ZjBavfEZAy5z+IT91SEBoz8n0VYJLQBNxuclzgEpAvwz5vQx5R0AAAAAAAABJQNXpFQt1eklAa7+jV8Z2SkD6K9pYKftGQL\\u002ftcnGW+UpAPTTWh8Z6SkB17yZog\\u002f9JQCz+6yOL+kdAxSUmVG4CR0BlRB9QHXtGQDMt267veUtAo+x+o+z+SkCgwmDf1NFQQIlFysDTLVJAHzgTA+wBVEDZ\\u002fhzMd3pIQFqJ4eaw61VAQNY198c6V0DO8zzP83xKQGW6fjTPgEhAlk2RRFeGSUD4gVpIoQdLQGd2DIiiA0pA\\u002fbLeL+t9SEACszwmHf5KQFzHtKitfUZA53CrWSmBRkBHYYjDJ\\u002fVKQJAkSZIkfUZAPyMukAIISUBcx7SorX1GQHJnu\\u002fEj+UhA7wbKSEl8RkBJhv3ryIJKQGRkZGRkpFBAkCRJkiR9RkBDdP98L4VIQEhjL0v8gUtA2f4czHd6SEDe5RS8nIJLQFzHtKitfUZAiCH8nfeASUA4fC3elflHQFGFvvXJAEtAWTUO7cP6RkCP7hCp9\\u002fxHQPiBWkihB0tAQ1\\u002fQF\\u002fSFSUDsPQR0C4ZIQIl81g2m+ElA0DqDXor5RkD39fX19fVKQNJ\\u002fBhbngEtA+ivaWCn7RkCAuFBzEohKQLomArkmgkdAwR+3Lu8ASkD9svaxr4NLQPiBWkihB0tAPFazJ\\u002fl+R0CAkH3Y8HtLQI6LOfeDekZAaTknx3P7R0D+\\u002f\\u002f\\u002f\\u002f\\u002f\\u002f9IQD7v1LUc\\u002fEZAXMe0qK19RkCQZWshdftJQKvidk6ffUdAVFVVVVX1UkBjYW\\u002fHpq5RQENf0Bf0hUlAaTknx3P7R0ChyZcNmvxGQChvCxotg0tANkBjmRv8SUCP7hCp9\\u002fxHQDze4z3eg0lAPyMukAIISUAJjuUigH5IQPz6+vr6ekdALsmZw61mXUBrhOWeRthWQN9pq14fiEpAYr+kPjfwW0BoaWlpaYFZQKI7fT1UBUpARtwRd8SdUUAAAAAAAABJQPz6+vr6ekdAnbAn7Al7S0CVNWVNWZNSQPiDuAaHgUtAL2QhC1kISkBFiOxLPsBOQDg8PDw8FExA3RF3xB1xS0BQXkN5DaVQQHH+xQCdf0lA1DRN0zRNUUDOnTI1NhVPQGd2DIiiA0pAH5e+\\u002fZUJS0C1tLS0tBRTQIb2EtpLaE9AxoE\\u002fp5hVUUAzOB+D82FtQKXDkMm5IVdAHJxcfGx0S0DY19fX13dHQMfrTqCtYGBADUMm54ZaUUAR5jwufftKQN+aHxYpA0hAkGVrIXX7SUBHYYjDJ\\u002fVKQJBlayF1+0lAazyaP9h4SECPN7I5rwpJQHlerQRNBUdAxuMQskb\\u002fRkC\\u002fPvoU5XpGQGlVumO+gkhAde8maIP\\u002fSUDowLaE6X5JQO6IO+KOeEtAvz76FOV6RkBnEEAKaAZJQN9pq14fiEpAJbVMOTr9R0DvBspISXxGQLNb+NWYiEhAufszMh1yUkDzsS84QR9PQLW0tLS0dEdAaTknx3P7R0D51Iv51ItJQLzabVBWiEpAIbxyVbivTkDY19fX13dHQAyRdW\\u002fDgEhA3ZmMFq98RkBZNQ7tw\\u002fpGQA+7ldMpe0hAebVFrjMBR0BsU+zghf5IQGfBQEoUgUZAsRM7sRN7SUDQOoNeivlGQPe6YqOhe0ZA4OHh4eFhTUAB\\u002fQX0F9BPQIUVOoMVekdACY7lIoB+SEDY19fX13dHQP41O2oRckpAyqiMyqgsUEA4fC3elflHQM7zPM\\u002fzfEpAOHwt3pX5R0DLnP4hP3VIQGDB0PIrGFBAcODAgQMHSkB5eHh4eJhNQCikmw2wlUhAbd9GhjkCSkDtE6Bt8JpUQG3jVu3fAEhAYZatOySfTECFMtF+jgBLQPQaymso\\u002f0dAhbayVPBZUEAxeJUWuGtJQICQfdjwe0tA35ofFikDSEAvYsSIEQNLQMMC8XXt9kpAFwpyVZL1VEB+H6vZk3xLQPz6+vr6ekdAHJxcfGx0S0AMZ3yY4YxPQN+aHxYpA0hAYfUHeqSESUAZ3tBhechMQJgJkx8ukUxAMXiVFrhrSUA1DOb5DINJQELekDfkjVNAjhPTxuX1UEBcTsHLKXhJQOd2Ko8O\\u002fEpA1bv3tKV9SEBKZz8afX9KQFzHtKitfUZA32mrXh+ISkA\\u002fIy6QAghJQGNhb8emrlFAvNptUFaISkDY19fX1xdTQAmO5SKAfkhAo4BD87n+SUBoz8n0VYJLQO5yCl5OgUpAZQAr+SR0TED3l9pfav9KQMbjELJG\\u002f0ZAQ709kt\\u002fHXUA9NNaHxnpKQOaMOWPOmFFAK4KGk7ovVUAYA3T+xYBQQEhjL0v8gUtACpN4\\u002fHcQUkBHYYjDJ\\u002fVKQBOr4eKHcFBABRkXZFwASEBvmiLsAcZSQPUk38dqdkdAq\\u002fRfq\\u002fRfV0B+ehL3OqRXQAsGnb1A2lFAtYavxbuyTUDUJETxFzlVQEdhiMMn9UpAR5\\u002f0SZ\\u002f0TUBs9x0XL9tPQLomArkmgkdARHkN5TWUT0AmNURTYnFHQDHxHHT59EdAayOTigSJTEAPUbTkRcVhQEdhiMMn9UpA5xS8nIJ3SkBRlI9A\\u002fwBHQJEkSZIk01BA2f4czHd6SEBPGzm96P1HQIYKTs0wGE5Akut+NPTaS0Ay99dUYa9OQIMDBw4c+EpAbOAzhqNFUEBndgyIogNKQDYpvRUJVFNAMfEcdPn0R0Br7dh4VgVJQN2ZjBavfEZAocmXDZr8RkCSLBycMwNJQNn+HMx3ekhAUDm7hV+NSEAnmGCCCWZRQHl4eHh4mE1A81k3mCL\\u002fSUAEo2e05P9JQGs8mj\\u002fYeEhAArM8Jh3+SkCWTZFEV4ZJQKI7fT1UBUpAsIZ3Ri9VUEB0CxRjbX9JQA4oCRifgUhA8BKYtnJ8SEDowLaE6X5JQITgVCZsg0tATxs5vej9R0BlEr1nEn1HQG0sCoVr\\u002f0pAaTknx3P7R0DZ715xKn9JQKZSrvILeUpAoHQfzxSFSUDvBspISXxGQLCZTsvHf0dAMfEcdPn0R0CcZ2AnvX9LQOjFfOrFfEdAYItmlCFHUUAsIATMW3tGQFGFvvXJAEtAo4BD87n+SUBEpSN7BoJGQAyRdW\\u002fDgEhAxSUmVG4CR0Bcx7SorX1GQOcUvJyCd0pAtXXoN1uHS0AAAAAAAABJQMn9rSVy\\u002f0ZAvQsH0eN7SEBwH8F9BPdJQFzHtKitfUZAeXh4eHh4R0CQZWshdftJQJ8laAlagkpA6MC2hOl+SUAWXHxoeftGQAmO5SKAfkhACY7lIoB+SEABAAAAAABIQD\\u002fZ7lg8e0tAprCewnoKR0AN0PkXA3RJQFS870VTADtARfcfEyr2O0C4inam9Po7QB4rn+YoBjlAv3JPIyz3PkAEHXTQQQc7QBtl9xtl9zlAtWETCC7TTEDmpX+gHAI6QAIAAAAAAD9AyrBorf\\u002f1OUCcWljpqQVEQNxbz\\u002f2+g0FAus60mvl8QUDyMQH1MQFEQL9mRy1C\\u002fkFAuq0lbEeDQUAACSSQQAJBQDB6ax2cAkBAcvWDjgr8QECUBbtGnP1DQIrRMu2Ff0BAYwScooyAQEB2QvmCkQM9QP\\u002f\\u002f\\u002f\\u002f\\u002f\\u002ff0dA\"},\"xaxis\":\"x\",\"yaxis\":\"y\",\"type\":\"histogram\"}],                        {\"template\":{\"data\":{\"histogram2dcontour\":[{\"type\":\"histogram2dcontour\",\"colorbar\":{\"outlinewidth\":0,\"ticks\":\"\"},\"colorscale\":[[0.0,\"#0d0887\"],[0.1111111111111111,\"#46039f\"],[0.2222222222222222,\"#7201a8\"],[0.3333333333333333,\"#9c179e\"],[0.4444444444444444,\"#bd3786\"],[0.5555555555555556,\"#d8576b\"],[0.6666666666666666,\"#ed7953\"],[0.7777777777777778,\"#fb9f3a\"],[0.8888888888888888,\"#fdca26\"],[1.0,\"#f0f921\"]]}],\"choropleth\":[{\"type\":\"choropleth\",\"colorbar\":{\"outlinewidth\":0,\"ticks\":\"\"}}],\"histogram2d\":[{\"type\":\"histogram2d\",\"colorbar\":{\"outlinewidth\":0,\"ticks\":\"\"},\"colorscale\":[[0.0,\"#0d0887\"],[0.1111111111111111,\"#46039f\"],[0.2222222222222222,\"#7201a8\"],[0.3333333333333333,\"#9c179e\"],[0.4444444444444444,\"#bd3786\"],[0.5555555555555556,\"#d8576b\"],[0.6666666666666666,\"#ed7953\"],[0.7777777777777778,\"#fb9f3a\"],[0.8888888888888888,\"#fdca26\"],[1.0,\"#f0f921\"]]}],\"heatmap\":[{\"type\":\"heatmap\",\"colorbar\":{\"outlinewidth\":0,\"ticks\":\"\"},\"colorscale\":[[0.0,\"#0d0887\"],[0.1111111111111111,\"#46039f\"],[0.2222222222222222,\"#7201a8\"],[0.3333333333333333,\"#9c179e\"],[0.4444444444444444,\"#bd3786\"],[0.5555555555555556,\"#d8576b\"],[0.6666666666666666,\"#ed7953\"],[0.7777777777777778,\"#fb9f3a\"],[0.8888888888888888,\"#fdca26\"],[1.0,\"#f0f921\"]]}],\"contourcarpet\":[{\"type\":\"contourcarpet\",\"colorbar\":{\"outlinewidth\":0,\"ticks\":\"\"}}],\"contour\":[{\"type\":\"contour\",\"colorbar\":{\"outlinewidth\":0,\"ticks\":\"\"},\"colorscale\":[[0.0,\"#0d0887\"],[0.1111111111111111,\"#46039f\"],[0.2222222222222222,\"#7201a8\"],[0.3333333333333333,\"#9c179e\"],[0.4444444444444444,\"#bd3786\"],[0.5555555555555556,\"#d8576b\"],[0.6666666666666666,\"#ed7953\"],[0.7777777777777778,\"#fb9f3a\"],[0.8888888888888888,\"#fdca26\"],[1.0,\"#f0f921\"]]}],\"surface\":[{\"type\":\"surface\",\"colorbar\":{\"outlinewidth\":0,\"ticks\":\"\"},\"colorscale\":[[0.0,\"#0d0887\"],[0.1111111111111111,\"#46039f\"],[0.2222222222222222,\"#7201a8\"],[0.3333333333333333,\"#9c179e\"],[0.4444444444444444,\"#bd3786\"],[0.5555555555555556,\"#d8576b\"],[0.6666666666666666,\"#ed7953\"],[0.7777777777777778,\"#fb9f3a\"],[0.8888888888888888,\"#fdca26\"],[1.0,\"#f0f921\"]]}],\"mesh3d\":[{\"type\":\"mesh3d\",\"colorbar\":{\"outlinewidth\":0,\"ticks\":\"\"}}],\"scatter\":[{\"fillpattern\":{\"fillmode\":\"overlay\",\"size\":10,\"solidity\":0.2},\"type\":\"scatter\"}],\"parcoords\":[{\"type\":\"parcoords\",\"line\":{\"colorbar\":{\"outlinewidth\":0,\"ticks\":\"\"}}}],\"scatterpolargl\":[{\"type\":\"scatterpolargl\",\"marker\":{\"colorbar\":{\"outlinewidth\":0,\"ticks\":\"\"}}}],\"bar\":[{\"error_x\":{\"color\":\"#2a3f5f\"},\"error_y\":{\"color\":\"#2a3f5f\"},\"marker\":{\"line\":{\"color\":\"#E5ECF6\",\"width\":0.5},\"pattern\":{\"fillmode\":\"overlay\",\"size\":10,\"solidity\":0.2}},\"type\":\"bar\"}],\"scattergeo\":[{\"type\":\"scattergeo\",\"marker\":{\"colorbar\":{\"outlinewidth\":0,\"ticks\":\"\"}}}],\"scatterpolar\":[{\"type\":\"scatterpolar\",\"marker\":{\"colorbar\":{\"outlinewidth\":0,\"ticks\":\"\"}}}],\"histogram\":[{\"marker\":{\"pattern\":{\"fillmode\":\"overlay\",\"size\":10,\"solidity\":0.2}},\"type\":\"histogram\"}],\"scattergl\":[{\"type\":\"scattergl\",\"marker\":{\"colorbar\":{\"outlinewidth\":0,\"ticks\":\"\"}}}],\"scatter3d\":[{\"type\":\"scatter3d\",\"line\":{\"colorbar\":{\"outlinewidth\":0,\"ticks\":\"\"}},\"marker\":{\"colorbar\":{\"outlinewidth\":0,\"ticks\":\"\"}}}],\"scattermap\":[{\"type\":\"scattermap\",\"marker\":{\"colorbar\":{\"outlinewidth\":0,\"ticks\":\"\"}}}],\"scattermapbox\":[{\"type\":\"scattermapbox\",\"marker\":{\"colorbar\":{\"outlinewidth\":0,\"ticks\":\"\"}}}],\"scatterternary\":[{\"type\":\"scatterternary\",\"marker\":{\"colorbar\":{\"outlinewidth\":0,\"ticks\":\"\"}}}],\"scattercarpet\":[{\"type\":\"scattercarpet\",\"marker\":{\"colorbar\":{\"outlinewidth\":0,\"ticks\":\"\"}}}],\"carpet\":[{\"aaxis\":{\"endlinecolor\":\"#2a3f5f\",\"gridcolor\":\"white\",\"linecolor\":\"white\",\"minorgridcolor\":\"white\",\"startlinecolor\":\"#2a3f5f\"},\"baxis\":{\"endlinecolor\":\"#2a3f5f\",\"gridcolor\":\"white\",\"linecolor\":\"white\",\"minorgridcolor\":\"white\",\"startlinecolor\":\"#2a3f5f\"},\"type\":\"carpet\"}],\"table\":[{\"cells\":{\"fill\":{\"color\":\"#EBF0F8\"},\"line\":{\"color\":\"white\"}},\"header\":{\"fill\":{\"color\":\"#C8D4E3\"},\"line\":{\"color\":\"white\"}},\"type\":\"table\"}],\"barpolar\":[{\"marker\":{\"line\":{\"color\":\"#E5ECF6\",\"width\":0.5},\"pattern\":{\"fillmode\":\"overlay\",\"size\":10,\"solidity\":0.2}},\"type\":\"barpolar\"}],\"pie\":[{\"automargin\":true,\"type\":\"pie\"}]},\"layout\":{\"autotypenumbers\":\"strict\",\"colorway\":[\"#636efa\",\"#EF553B\",\"#00cc96\",\"#ab63fa\",\"#FFA15A\",\"#19d3f3\",\"#FF6692\",\"#B6E880\",\"#FF97FF\",\"#FECB52\"],\"font\":{\"color\":\"#2a3f5f\"},\"hovermode\":\"closest\",\"hoverlabel\":{\"align\":\"left\"},\"paper_bgcolor\":\"white\",\"plot_bgcolor\":\"#E5ECF6\",\"polar\":{\"bgcolor\":\"#E5ECF6\",\"angularaxis\":{\"gridcolor\":\"white\",\"linecolor\":\"white\",\"ticks\":\"\"},\"radialaxis\":{\"gridcolor\":\"white\",\"linecolor\":\"white\",\"ticks\":\"\"}},\"ternary\":{\"bgcolor\":\"#E5ECF6\",\"aaxis\":{\"gridcolor\":\"white\",\"linecolor\":\"white\",\"ticks\":\"\"},\"baxis\":{\"gridcolor\":\"white\",\"linecolor\":\"white\",\"ticks\":\"\"},\"caxis\":{\"gridcolor\":\"white\",\"linecolor\":\"white\",\"ticks\":\"\"}},\"coloraxis\":{\"colorbar\":{\"outlinewidth\":0,\"ticks\":\"\"}},\"colorscale\":{\"sequential\":[[0.0,\"#0d0887\"],[0.1111111111111111,\"#46039f\"],[0.2222222222222222,\"#7201a8\"],[0.3333333333333333,\"#9c179e\"],[0.4444444444444444,\"#bd3786\"],[0.5555555555555556,\"#d8576b\"],[0.6666666666666666,\"#ed7953\"],[0.7777777777777778,\"#fb9f3a\"],[0.8888888888888888,\"#fdca26\"],[1.0,\"#f0f921\"]],\"sequentialminus\":[[0.0,\"#0d0887\"],[0.1111111111111111,\"#46039f\"],[0.2222222222222222,\"#7201a8\"],[0.3333333333333333,\"#9c179e\"],[0.4444444444444444,\"#bd3786\"],[0.5555555555555556,\"#d8576b\"],[0.6666666666666666,\"#ed7953\"],[0.7777777777777778,\"#fb9f3a\"],[0.8888888888888888,\"#fdca26\"],[1.0,\"#f0f921\"]],\"diverging\":[[0,\"#8e0152\"],[0.1,\"#c51b7d\"],[0.2,\"#de77ae\"],[0.3,\"#f1b6da\"],[0.4,\"#fde0ef\"],[0.5,\"#f7f7f7\"],[0.6,\"#e6f5d0\"],[0.7,\"#b8e186\"],[0.8,\"#7fbc41\"],[0.9,\"#4d9221\"],[1,\"#276419\"]]},\"xaxis\":{\"gridcolor\":\"white\",\"linecolor\":\"white\",\"ticks\":\"\",\"title\":{\"standoff\":15},\"zerolinecolor\":\"white\",\"automargin\":true,\"zerolinewidth\":2},\"yaxis\":{\"gridcolor\":\"white\",\"linecolor\":\"white\",\"ticks\":\"\",\"title\":{\"standoff\":15},\"zerolinecolor\":\"white\",\"automargin\":true,\"zerolinewidth\":2},\"scene\":{\"xaxis\":{\"backgroundcolor\":\"#E5ECF6\",\"gridcolor\":\"white\",\"linecolor\":\"white\",\"showbackground\":true,\"ticks\":\"\",\"zerolinecolor\":\"white\",\"gridwidth\":2},\"yaxis\":{\"backgroundcolor\":\"#E5ECF6\",\"gridcolor\":\"white\",\"linecolor\":\"white\",\"showbackground\":true,\"ticks\":\"\",\"zerolinecolor\":\"white\",\"gridwidth\":2},\"zaxis\":{\"backgroundcolor\":\"#E5ECF6\",\"gridcolor\":\"white\",\"linecolor\":\"white\",\"showbackground\":true,\"ticks\":\"\",\"zerolinecolor\":\"white\",\"gridwidth\":2}},\"shapedefaults\":{\"line\":{\"color\":\"#2a3f5f\"}},\"annotationdefaults\":{\"arrowcolor\":\"#2a3f5f\",\"arrowhead\":0,\"arrowwidth\":1},\"geo\":{\"bgcolor\":\"white\",\"landcolor\":\"#E5ECF6\",\"subunitcolor\":\"white\",\"showland\":true,\"showlakes\":true,\"lakecolor\":\"white\"},\"title\":{\"x\":0.05},\"mapbox\":{\"style\":\"light\"}}},\"xaxis\":{\"anchor\":\"y\",\"domain\":[0.0,1.0],\"title\":{\"text\":\"Markup %\"}},\"yaxis\":{\"anchor\":\"x\",\"domain\":[0.0,1.0],\"title\":{\"text\":\"Count\"}},\"legend\":{\"tracegroupgap\":0},\"title\":{\"text\":\"Distribution of Markup %\"},\"barmode\":\"relative\"},                        {\"responsive\": true}                    ).then(function(){\n",
       "                            \n",
       "var gd = document.getElementById('abdf9c81-6cf8-4d88-a096-add28a3a1a2e');\n",
       "var x = new MutationObserver(function (mutations, observer) {{\n",
       "        var display = window.getComputedStyle(gd).display;\n",
       "        if (!display || display === 'none') {{\n",
       "            console.log([gd, 'removed!']);\n",
       "            Plotly.purge(gd);\n",
       "            observer.disconnect();\n",
       "        }}\n",
       "}});\n",
       "\n",
       "// Listen for the removal of the full notebook cells\n",
       "var notebookContainer = gd.closest('#notebook-container');\n",
       "if (notebookContainer) {{\n",
       "    x.observe(notebookContainer, {childList: true});\n",
       "}}\n",
       "\n",
       "// Listen for the clearing of the current output cell\n",
       "var outputEl = gd.closest('.output');\n",
       "if (outputEl) {{\n",
       "    x.observe(outputEl, {childList: true});\n",
       "}}\n",
       "\n",
       "                        })                };            </script>        </div>"
      ]
     },
     "metadata": {},
     "output_type": "display_data"
    }
   ],
   "source": [
    "# Visualizing Markup per product %\n",
    "fig = px.histogram(\n",
    "    df,\n",
    "    x=\"MarkupPct\",\n",
    "    nbins=30,\n",
    "    title=\"Distribution of Markup %\"\n",
    ")\n",
    "\n",
    "fig.update_layout(xaxis_title=\"Markup %\", yaxis_title=\"Count\")\n",
    "fig.show()"
   ]
  },
  {
   "cell_type": "markdown",
   "id": "6af3386f",
   "metadata": {},
   "source": [
    "### Sales vs Purchases  \n",
    "1. Sell-through rate\n",
    "2. Unsold inventory cost"
   ]
  },
  {
   "cell_type": "code",
   "execution_count": null,
   "id": "aedbdf9d",
   "metadata": {},
   "outputs": [
    {
     "data": {
      "text/plain": [
       "0         225.000000\n",
       "1           7.500000\n",
       "2           0.000000\n",
       "3         120.512821\n",
       "4           0.000000\n",
       "            ...     \n",
       "10687      66.666667\n",
       "10688      69.230769\n",
       "10689      21.428571\n",
       "10690      79.707792\n",
       "10691    5900.000000\n",
       "Name: SellThroughPct, Length: 10692, dtype: float64"
      ]
     },
     "execution_count": 83,
     "metadata": {},
     "output_type": "execute_result"
    }
   ],
   "source": [
    "# Sell-through rate\n",
    "df[\"SellThroughPct\"] = (\n",
    "    (df[\"TotalSalesQuantity\"] / df[\"TotalPurchaseQuantity\"]) * 100\n",
    ").fillna(0)\n",
    "df[\"SellThroughPct\"]"
   ]
  },
  {
   "cell_type": "code",
   "execution_count": null,
   "id": "7394d27b",
   "metadata": {},
   "outputs": [
    {
     "name": "stdout",
     "output_type": "stream",
     "text": [
      "Total Unsold Capital: 8748929.54\n"
     ]
    }
   ],
   "source": [
    "# Unsold inventory cost\n",
    "df[\"UnsoldCost\"] = (df[\"TotalPurchaseQuantity\"] - df[\"TotalSalesQuantity\"] ) * df[\"PurchasePrice\"]\n",
    "print('Total Unsold Capital:', df[\"UnsoldCost\"].sum())"
   ]
  },
  {
   "cell_type": "markdown",
   "id": "97bd53c8",
   "metadata": {},
   "source": [
    "### Vendor Performance\n",
    "\n",
    "Vendor margin summary"
   ]
  },
  {
   "cell_type": "code",
   "execution_count": null,
   "id": "fd091a82",
   "metadata": {},
   "outputs": [
    {
     "data": {
      "text/html": [
       "<div>\n",
       "<style scoped>\n",
       "    .dataframe tbody tr th:only-of-type {\n",
       "        vertical-align: middle;\n",
       "    }\n",
       "\n",
       "    .dataframe tbody tr th {\n",
       "        vertical-align: top;\n",
       "    }\n",
       "\n",
       "    .dataframe thead th {\n",
       "        text-align: right;\n",
       "    }\n",
       "</style>\n",
       "<table border=\"1\" class=\"dataframe\">\n",
       "  <thead>\n",
       "    <tr style=\"text-align: right;\">\n",
       "      <th></th>\n",
       "      <th>TotalSalesDollar</th>\n",
       "      <th>TotalPurchaseDollars</th>\n",
       "      <th>FreightCost</th>\n",
       "      <th>Profit</th>\n",
       "      <th>MarginPct</th>\n",
       "    </tr>\n",
       "    <tr>\n",
       "      <th>VendorName</th>\n",
       "      <th></th>\n",
       "      <th></th>\n",
       "      <th></th>\n",
       "      <th></th>\n",
       "      <th></th>\n",
       "    </tr>\n",
       "  </thead>\n",
       "  <tbody>\n",
       "    <tr>\n",
       "      <th>AAPER ALCOHOL &amp; CHEMICAL CO</th>\n",
       "      <td>0.00</td>\n",
       "      <td>105.07</td>\n",
       "      <td>0.48</td>\n",
       "      <td>-105.55</td>\n",
       "      <td>-inf</td>\n",
       "    </tr>\n",
       "    <tr>\n",
       "      <th>ADAMBA IMPORTS INTL INC</th>\n",
       "      <td>67576.22</td>\n",
       "      <td>76770.25</td>\n",
       "      <td>1102.56</td>\n",
       "      <td>-10296.59</td>\n",
       "      <td>-15.237002</td>\n",
       "    </tr>\n",
       "    <tr>\n",
       "      <th>ALISA CARR BEVERAGES</th>\n",
       "      <td>113590.18</td>\n",
       "      <td>34951.68</td>\n",
       "      <td>2236.00</td>\n",
       "      <td>76402.50</td>\n",
       "      <td>67.261536</td>\n",
       "    </tr>\n",
       "    <tr>\n",
       "      <th>ALTAMAR BRANDS LLC</th>\n",
       "      <td>15706.81</td>\n",
       "      <td>11706.20</td>\n",
       "      <td>124.78</td>\n",
       "      <td>3875.83</td>\n",
       "      <td>24.676112</td>\n",
       "    </tr>\n",
       "    <tr>\n",
       "      <th>AMERICAN SPIRITS EXCHANGE</th>\n",
       "      <td>1719.97</td>\n",
       "      <td>1205.16</td>\n",
       "      <td>12.38</td>\n",
       "      <td>502.43</td>\n",
       "      <td>29.211556</td>\n",
       "    </tr>\n",
       "    <tr>\n",
       "      <th>...</th>\n",
       "      <td>...</td>\n",
       "      <td>...</td>\n",
       "      <td>...</td>\n",
       "      <td>...</td>\n",
       "      <td>...</td>\n",
       "    </tr>\n",
       "    <tr>\n",
       "      <th>WEIN BAUER INC</th>\n",
       "      <td>56930.23</td>\n",
       "      <td>43517.00</td>\n",
       "      <td>1333.38</td>\n",
       "      <td>12079.85</td>\n",
       "      <td>21.218692</td>\n",
       "    </tr>\n",
       "    <tr>\n",
       "      <th>WESTERN SPIRITS BEVERAGE CO</th>\n",
       "      <td>443070.20</td>\n",
       "      <td>361249.21</td>\n",
       "      <td>32864.23</td>\n",
       "      <td>48956.76</td>\n",
       "      <td>11.049436</td>\n",
       "    </tr>\n",
       "    <tr>\n",
       "      <th>WILLIAM GRANT &amp; SONS INC</th>\n",
       "      <td>7635228.31</td>\n",
       "      <td>5960744.35</td>\n",
       "      <td>2448988.02</td>\n",
       "      <td>-774504.06</td>\n",
       "      <td>-10.143823</td>\n",
       "    </tr>\n",
       "    <tr>\n",
       "      <th>WINE GROUP INC</th>\n",
       "      <td>8340493.38</td>\n",
       "      <td>5258636.79</td>\n",
       "      <td>5447182.41</td>\n",
       "      <td>-2365325.82</td>\n",
       "      <td>-28.359543</td>\n",
       "    </tr>\n",
       "    <tr>\n",
       "      <th>ZORVINO VINEYARDS</th>\n",
       "      <td>124189.59</td>\n",
       "      <td>86122.71</td>\n",
       "      <td>2692.08</td>\n",
       "      <td>35374.80</td>\n",
       "      <td>28.484513</td>\n",
       "    </tr>\n",
       "  </tbody>\n",
       "</table>\n",
       "<p>128 rows × 5 columns</p>\n",
       "</div>"
      ],
      "text/plain": [
       "                             TotalSalesDollar  TotalPurchaseDollars  \\\n",
       "VendorName                                                            \n",
       "AAPER ALCOHOL & CHEMICAL CO              0.00                105.07   \n",
       "ADAMBA IMPORTS INTL INC              67576.22              76770.25   \n",
       "ALISA CARR BEVERAGES                113590.18              34951.68   \n",
       "ALTAMAR BRANDS LLC                   15706.81              11706.20   \n",
       "AMERICAN SPIRITS EXCHANGE             1719.97               1205.16   \n",
       "...                                       ...                   ...   \n",
       "WEIN BAUER INC                       56930.23              43517.00   \n",
       "WESTERN SPIRITS BEVERAGE CO         443070.20             361249.21   \n",
       "WILLIAM GRANT & SONS INC           7635228.31            5960744.35   \n",
       "WINE GROUP INC                     8340493.38            5258636.79   \n",
       "ZORVINO VINEYARDS                   124189.59              86122.71   \n",
       "\n",
       "                             FreightCost      Profit  MarginPct  \n",
       "VendorName                                                       \n",
       "AAPER ALCOHOL & CHEMICAL CO         0.48     -105.55       -inf  \n",
       "ADAMBA IMPORTS INTL INC          1102.56   -10296.59 -15.237002  \n",
       "ALISA CARR BEVERAGES             2236.00    76402.50  67.261536  \n",
       "ALTAMAR BRANDS LLC                124.78     3875.83  24.676112  \n",
       "AMERICAN SPIRITS EXCHANGE          12.38      502.43  29.211556  \n",
       "...                                  ...         ...        ...  \n",
       "WEIN BAUER INC                   1333.38    12079.85  21.218692  \n",
       "WESTERN SPIRITS BEVERAGE CO     32864.23    48956.76  11.049436  \n",
       "WILLIAM GRANT & SONS INC      2448988.02  -774504.06 -10.143823  \n",
       "WINE GROUP INC                5447182.41 -2365325.82 -28.359543  \n",
       "ZORVINO VINEYARDS                2692.08    35374.80  28.484513  \n",
       "\n",
       "[128 rows x 5 columns]"
      ]
     },
     "execution_count": 87,
     "metadata": {},
     "output_type": "execute_result"
    }
   ],
   "source": [
    "vendor_summary = (\n",
    "    df.groupby(\"VendorName\")\n",
    "      .agg({\n",
    "          \"TotalSalesDollar\": \"sum\",\n",
    "          \"TotalPurchaseDollars\": \"sum\",\n",
    "          \"FreightCost\": \"sum\"\n",
    "      })\n",
    ")\n",
    "vendor_summary[\"Profit\"] = (\n",
    "    vendor_summary[\"TotalSalesDollar\"] \n",
    "    - (vendor_summary[\"TotalPurchaseDollars\"] + vendor_summary[\"FreightCost\"])\n",
    ")\n",
    "vendor_summary[\"MarginPct\"] = (\n",
    "    vendor_summary[\"Profit\"] / vendor_summary[\"TotalSalesDollar\"] * 100\n",
    ")\n",
    "vendor_summary"
   ]
  },
  {
   "cell_type": "code",
   "execution_count": null,
   "id": "21bc27cb",
   "metadata": {},
   "outputs": [
    {
     "data": {
      "text/html": [
       "<div>            <script src=\"https://cdnjs.cloudflare.com/ajax/libs/mathjax/2.7.5/MathJax.js?config=TeX-AMS-MML_SVG\"></script><script type=\"text/javascript\">if (window.MathJax && window.MathJax.Hub && window.MathJax.Hub.Config) {window.MathJax.Hub.Config({SVG: {font: \"STIX-Web\"}});}</script>                    <div id=\"fa991bfa-28da-4a4b-b294-a56961544411\" class=\"plotly-graph-div\" style=\"height:525px; width:100%;\"></div>            <script type=\"text/javascript\">                window.PLOTLYENV=window.PLOTLYENV || {};                                if (document.getElementById(\"fa991bfa-28da-4a4b-b294-a56961544411\")) {                    Plotly.newPlot(                        \"fa991bfa-28da-4a4b-b294-a56961544411\",                        [{\"hovertemplate\":\"VendorName=%{x}\\u003cbr\\u003eProfit=%{text}\\u003cextra\\u003e\\u003c\\u002fextra\\u003e\",\"legendgroup\":\"\",\"marker\":{\"color\":\"#636efa\",\"pattern\":{\"shape\":\"\"}},\"name\":\"\",\"orientation\":\"v\",\"showlegend\":false,\"text\":{\"dtype\":\"f8\",\"bdata\":\"pHA9CjBRMkE0MzMz4KofQRSuR+EYNBpBAAAAAFjaGEFwPQrXEwgWQWA9CtdvRg5BMDMzM98+CkEQhetRuooHQSCF61Fw0wNBIK5H4WaI\\u002f0DQzMzMDLP9QMAehet5lP1AULgeha+2\\u002fEC6HoXrPSL8QACuR+Hux\\u002flA\"},\"textposition\":\"outside\",\"x\":[\"MAJESTIC FINE WINES\",\"DISARONNO INTERNATIONAL LLC\",\"SIDNEY FRANK IMPORTING CO\",\"CASTLE BRANDS CORP.\",\"EDRINGTON AMERICAS\",\"TREASURY WINE ESTATES\",\"VINEYARD BRANDS INC\",\"REMY COINTREAU USA INC\",\"STOLI GROUP,(USA) LLC\",\"HEAVEN HILL DISTILLERIES\",\"SHAW ROSS INT L IMP LTD\",\"CAMPARI AMERICA\",\"PHILLIPS PRODUCTS CO.\",\"VRANKEN AMERICA\",\"DIAGEO CHATEAU ESTATE WINES\"],\"xaxis\":\"x\",\"y\":{\"dtype\":\"f8\",\"bdata\":\"pHA9CjBRMkE0MzMz4KofQRSuR+EYNBpBAAAAAFjaGEFwPQrXEwgWQWA9CtdvRg5BMDMzM98+CkEQhetRuooHQSCF61Fw0wNBIK5H4WaI\\u002f0DQzMzMDLP9QMAehet5lP1AULgeha+2\\u002fEC6HoXrPSL8QACuR+Hux\\u002flA\"},\"yaxis\":\"y\",\"type\":\"bar\",\"texttemplate\":\"%{text:.2f}\"}],                        {\"template\":{\"data\":{\"histogram2dcontour\":[{\"type\":\"histogram2dcontour\",\"colorbar\":{\"outlinewidth\":0,\"ticks\":\"\"},\"colorscale\":[[0.0,\"#0d0887\"],[0.1111111111111111,\"#46039f\"],[0.2222222222222222,\"#7201a8\"],[0.3333333333333333,\"#9c179e\"],[0.4444444444444444,\"#bd3786\"],[0.5555555555555556,\"#d8576b\"],[0.6666666666666666,\"#ed7953\"],[0.7777777777777778,\"#fb9f3a\"],[0.8888888888888888,\"#fdca26\"],[1.0,\"#f0f921\"]]}],\"choropleth\":[{\"type\":\"choropleth\",\"colorbar\":{\"outlinewidth\":0,\"ticks\":\"\"}}],\"histogram2d\":[{\"type\":\"histogram2d\",\"colorbar\":{\"outlinewidth\":0,\"ticks\":\"\"},\"colorscale\":[[0.0,\"#0d0887\"],[0.1111111111111111,\"#46039f\"],[0.2222222222222222,\"#7201a8\"],[0.3333333333333333,\"#9c179e\"],[0.4444444444444444,\"#bd3786\"],[0.5555555555555556,\"#d8576b\"],[0.6666666666666666,\"#ed7953\"],[0.7777777777777778,\"#fb9f3a\"],[0.8888888888888888,\"#fdca26\"],[1.0,\"#f0f921\"]]}],\"heatmap\":[{\"type\":\"heatmap\",\"colorbar\":{\"outlinewidth\":0,\"ticks\":\"\"},\"colorscale\":[[0.0,\"#0d0887\"],[0.1111111111111111,\"#46039f\"],[0.2222222222222222,\"#7201a8\"],[0.3333333333333333,\"#9c179e\"],[0.4444444444444444,\"#bd3786\"],[0.5555555555555556,\"#d8576b\"],[0.6666666666666666,\"#ed7953\"],[0.7777777777777778,\"#fb9f3a\"],[0.8888888888888888,\"#fdca26\"],[1.0,\"#f0f921\"]]}],\"contourcarpet\":[{\"type\":\"contourcarpet\",\"colorbar\":{\"outlinewidth\":0,\"ticks\":\"\"}}],\"contour\":[{\"type\":\"contour\",\"colorbar\":{\"outlinewidth\":0,\"ticks\":\"\"},\"colorscale\":[[0.0,\"#0d0887\"],[0.1111111111111111,\"#46039f\"],[0.2222222222222222,\"#7201a8\"],[0.3333333333333333,\"#9c179e\"],[0.4444444444444444,\"#bd3786\"],[0.5555555555555556,\"#d8576b\"],[0.6666666666666666,\"#ed7953\"],[0.7777777777777778,\"#fb9f3a\"],[0.8888888888888888,\"#fdca26\"],[1.0,\"#f0f921\"]]}],\"surface\":[{\"type\":\"surface\",\"colorbar\":{\"outlinewidth\":0,\"ticks\":\"\"},\"colorscale\":[[0.0,\"#0d0887\"],[0.1111111111111111,\"#46039f\"],[0.2222222222222222,\"#7201a8\"],[0.3333333333333333,\"#9c179e\"],[0.4444444444444444,\"#bd3786\"],[0.5555555555555556,\"#d8576b\"],[0.6666666666666666,\"#ed7953\"],[0.7777777777777778,\"#fb9f3a\"],[0.8888888888888888,\"#fdca26\"],[1.0,\"#f0f921\"]]}],\"mesh3d\":[{\"type\":\"mesh3d\",\"colorbar\":{\"outlinewidth\":0,\"ticks\":\"\"}}],\"scatter\":[{\"fillpattern\":{\"fillmode\":\"overlay\",\"size\":10,\"solidity\":0.2},\"type\":\"scatter\"}],\"parcoords\":[{\"type\":\"parcoords\",\"line\":{\"colorbar\":{\"outlinewidth\":0,\"ticks\":\"\"}}}],\"scatterpolargl\":[{\"type\":\"scatterpolargl\",\"marker\":{\"colorbar\":{\"outlinewidth\":0,\"ticks\":\"\"}}}],\"bar\":[{\"error_x\":{\"color\":\"#2a3f5f\"},\"error_y\":{\"color\":\"#2a3f5f\"},\"marker\":{\"line\":{\"color\":\"#E5ECF6\",\"width\":0.5},\"pattern\":{\"fillmode\":\"overlay\",\"size\":10,\"solidity\":0.2}},\"type\":\"bar\"}],\"scattergeo\":[{\"type\":\"scattergeo\",\"marker\":{\"colorbar\":{\"outlinewidth\":0,\"ticks\":\"\"}}}],\"scatterpolar\":[{\"type\":\"scatterpolar\",\"marker\":{\"colorbar\":{\"outlinewidth\":0,\"ticks\":\"\"}}}],\"histogram\":[{\"marker\":{\"pattern\":{\"fillmode\":\"overlay\",\"size\":10,\"solidity\":0.2}},\"type\":\"histogram\"}],\"scattergl\":[{\"type\":\"scattergl\",\"marker\":{\"colorbar\":{\"outlinewidth\":0,\"ticks\":\"\"}}}],\"scatter3d\":[{\"type\":\"scatter3d\",\"line\":{\"colorbar\":{\"outlinewidth\":0,\"ticks\":\"\"}},\"marker\":{\"colorbar\":{\"outlinewidth\":0,\"ticks\":\"\"}}}],\"scattermap\":[{\"type\":\"scattermap\",\"marker\":{\"colorbar\":{\"outlinewidth\":0,\"ticks\":\"\"}}}],\"scattermapbox\":[{\"type\":\"scattermapbox\",\"marker\":{\"colorbar\":{\"outlinewidth\":0,\"ticks\":\"\"}}}],\"scatterternary\":[{\"type\":\"scatterternary\",\"marker\":{\"colorbar\":{\"outlinewidth\":0,\"ticks\":\"\"}}}],\"scattercarpet\":[{\"type\":\"scattercarpet\",\"marker\":{\"colorbar\":{\"outlinewidth\":0,\"ticks\":\"\"}}}],\"carpet\":[{\"aaxis\":{\"endlinecolor\":\"#2a3f5f\",\"gridcolor\":\"white\",\"linecolor\":\"white\",\"minorgridcolor\":\"white\",\"startlinecolor\":\"#2a3f5f\"},\"baxis\":{\"endlinecolor\":\"#2a3f5f\",\"gridcolor\":\"white\",\"linecolor\":\"white\",\"minorgridcolor\":\"white\",\"startlinecolor\":\"#2a3f5f\"},\"type\":\"carpet\"}],\"table\":[{\"cells\":{\"fill\":{\"color\":\"#EBF0F8\"},\"line\":{\"color\":\"white\"}},\"header\":{\"fill\":{\"color\":\"#C8D4E3\"},\"line\":{\"color\":\"white\"}},\"type\":\"table\"}],\"barpolar\":[{\"marker\":{\"line\":{\"color\":\"#E5ECF6\",\"width\":0.5},\"pattern\":{\"fillmode\":\"overlay\",\"size\":10,\"solidity\":0.2}},\"type\":\"barpolar\"}],\"pie\":[{\"automargin\":true,\"type\":\"pie\"}]},\"layout\":{\"autotypenumbers\":\"strict\",\"colorway\":[\"#636efa\",\"#EF553B\",\"#00cc96\",\"#ab63fa\",\"#FFA15A\",\"#19d3f3\",\"#FF6692\",\"#B6E880\",\"#FF97FF\",\"#FECB52\"],\"font\":{\"color\":\"#2a3f5f\"},\"hovermode\":\"closest\",\"hoverlabel\":{\"align\":\"left\"},\"paper_bgcolor\":\"white\",\"plot_bgcolor\":\"#E5ECF6\",\"polar\":{\"bgcolor\":\"#E5ECF6\",\"angularaxis\":{\"gridcolor\":\"white\",\"linecolor\":\"white\",\"ticks\":\"\"},\"radialaxis\":{\"gridcolor\":\"white\",\"linecolor\":\"white\",\"ticks\":\"\"}},\"ternary\":{\"bgcolor\":\"#E5ECF6\",\"aaxis\":{\"gridcolor\":\"white\",\"linecolor\":\"white\",\"ticks\":\"\"},\"baxis\":{\"gridcolor\":\"white\",\"linecolor\":\"white\",\"ticks\":\"\"},\"caxis\":{\"gridcolor\":\"white\",\"linecolor\":\"white\",\"ticks\":\"\"}},\"coloraxis\":{\"colorbar\":{\"outlinewidth\":0,\"ticks\":\"\"}},\"colorscale\":{\"sequential\":[[0.0,\"#0d0887\"],[0.1111111111111111,\"#46039f\"],[0.2222222222222222,\"#7201a8\"],[0.3333333333333333,\"#9c179e\"],[0.4444444444444444,\"#bd3786\"],[0.5555555555555556,\"#d8576b\"],[0.6666666666666666,\"#ed7953\"],[0.7777777777777778,\"#fb9f3a\"],[0.8888888888888888,\"#fdca26\"],[1.0,\"#f0f921\"]],\"sequentialminus\":[[0.0,\"#0d0887\"],[0.1111111111111111,\"#46039f\"],[0.2222222222222222,\"#7201a8\"],[0.3333333333333333,\"#9c179e\"],[0.4444444444444444,\"#bd3786\"],[0.5555555555555556,\"#d8576b\"],[0.6666666666666666,\"#ed7953\"],[0.7777777777777778,\"#fb9f3a\"],[0.8888888888888888,\"#fdca26\"],[1.0,\"#f0f921\"]],\"diverging\":[[0,\"#8e0152\"],[0.1,\"#c51b7d\"],[0.2,\"#de77ae\"],[0.3,\"#f1b6da\"],[0.4,\"#fde0ef\"],[0.5,\"#f7f7f7\"],[0.6,\"#e6f5d0\"],[0.7,\"#b8e186\"],[0.8,\"#7fbc41\"],[0.9,\"#4d9221\"],[1,\"#276419\"]]},\"xaxis\":{\"gridcolor\":\"white\",\"linecolor\":\"white\",\"ticks\":\"\",\"title\":{\"standoff\":15},\"zerolinecolor\":\"white\",\"automargin\":true,\"zerolinewidth\":2},\"yaxis\":{\"gridcolor\":\"white\",\"linecolor\":\"white\",\"ticks\":\"\",\"title\":{\"standoff\":15},\"zerolinecolor\":\"white\",\"automargin\":true,\"zerolinewidth\":2},\"scene\":{\"xaxis\":{\"backgroundcolor\":\"#E5ECF6\",\"gridcolor\":\"white\",\"linecolor\":\"white\",\"showbackground\":true,\"ticks\":\"\",\"zerolinecolor\":\"white\",\"gridwidth\":2},\"yaxis\":{\"backgroundcolor\":\"#E5ECF6\",\"gridcolor\":\"white\",\"linecolor\":\"white\",\"showbackground\":true,\"ticks\":\"\",\"zerolinecolor\":\"white\",\"gridwidth\":2},\"zaxis\":{\"backgroundcolor\":\"#E5ECF6\",\"gridcolor\":\"white\",\"linecolor\":\"white\",\"showbackground\":true,\"ticks\":\"\",\"zerolinecolor\":\"white\",\"gridwidth\":2}},\"shapedefaults\":{\"line\":{\"color\":\"#2a3f5f\"}},\"annotationdefaults\":{\"arrowcolor\":\"#2a3f5f\",\"arrowhead\":0,\"arrowwidth\":1},\"geo\":{\"bgcolor\":\"white\",\"landcolor\":\"#E5ECF6\",\"subunitcolor\":\"white\",\"showland\":true,\"showlakes\":true,\"lakecolor\":\"white\"},\"title\":{\"x\":0.05},\"mapbox\":{\"style\":\"light\"}}},\"xaxis\":{\"anchor\":\"y\",\"domain\":[0.0,1.0],\"title\":{\"text\":\"VendorName\"},\"tickangle\":-45},\"yaxis\":{\"anchor\":\"x\",\"domain\":[0.0,1.0],\"title\":{\"text\":\"Profit ($)\"}},\"legend\":{\"tracegroupgap\":0},\"title\":{\"text\":\"Top 15 Vendors by Profit (After Freight)\"},\"barmode\":\"relative\"},                        {\"responsive\": true}                    ).then(function(){\n",
       "                            \n",
       "var gd = document.getElementById('fa991bfa-28da-4a4b-b294-a56961544411');\n",
       "var x = new MutationObserver(function (mutations, observer) {{\n",
       "        var display = window.getComputedStyle(gd).display;\n",
       "        if (!display || display === 'none') {{\n",
       "            console.log([gd, 'removed!']);\n",
       "            Plotly.purge(gd);\n",
       "            observer.disconnect();\n",
       "        }}\n",
       "}});\n",
       "\n",
       "// Listen for the removal of the full notebook cells\n",
       "var notebookContainer = gd.closest('#notebook-container');\n",
       "if (notebookContainer) {{\n",
       "    x.observe(notebookContainer, {childList: true});\n",
       "}}\n",
       "\n",
       "// Listen for the clearing of the current output cell\n",
       "var outputEl = gd.closest('.output');\n",
       "if (outputEl) {{\n",
       "    x.observe(outputEl, {childList: true});\n",
       "}}\n",
       "\n",
       "                        })                };            </script>        </div>"
      ]
     },
     "metadata": {},
     "output_type": "display_data"
    }
   ],
   "source": [
    "import plotly.express as px\n",
    "\n",
    "top_profit_vendors = (\n",
    "    vendor_summary.sort_values(\"Profit\", ascending=False)\n",
    "    .head(15)\n",
    "    .reset_index()\n",
    ")\n",
    "\n",
    "fig = px.bar(\n",
    "    top_profit_vendors,\n",
    "    x=\"VendorName\",\n",
    "    y=\"Profit\",\n",
    "    title=\"Top 15 Vendors by Profit (After Freight)\",\n",
    "    text=\"Profit\"\n",
    ")\n",
    "\n",
    "# format text labels to 2 decimals\n",
    "fig.update_traces(texttemplate=\"%{text:.2f}\", textposition=\"outside\")\n",
    "\n",
    "fig.update_layout(xaxis_tickangle=-45, yaxis_title=\"Profit ($)\")\n",
    "fig.show()"
   ]
  },
  {
   "cell_type": "code",
   "execution_count": null,
   "id": "738cb406",
   "metadata": {},
   "outputs": [],
   "source": []
  },
  {
   "cell_type": "code",
   "execution_count": null,
   "id": "f3f86043",
   "metadata": {},
   "outputs": [],
   "source": []
  },
  {
   "cell_type": "code",
   "execution_count": null,
   "id": "1b79bf43",
   "metadata": {},
   "outputs": [],
   "source": []
  }
 ],
 "metadata": {
  "kernelspec": {
   "display_name": "venv",
   "language": "python",
   "name": "python3"
  },
  "language_info": {
   "codemirror_mode": {
    "name": "ipython",
    "version": 3
   },
   "file_extension": ".py",
   "mimetype": "text/x-python",
   "name": "python",
   "nbconvert_exporter": "python",
   "pygments_lexer": "ipython3",
   "version": "3.13.5"
  }
 },
 "nbformat": 4,
 "nbformat_minor": 5
}
